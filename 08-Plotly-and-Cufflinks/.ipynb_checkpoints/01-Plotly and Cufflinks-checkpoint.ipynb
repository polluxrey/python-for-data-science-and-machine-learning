{
 "cells": [
  {
   "cell_type": "markdown",
   "metadata": {},
   "source": [
    "___\n",
    "\n",
    "<a href='http://www.pieriandata.com'> <img src='../Pierian_Data_Logo.png' /></a>\n",
    "___\n",
    "# Plotly and Cufflinks"
   ]
  },
  {
   "cell_type": "markdown",
   "metadata": {},
   "source": [
    "Plotly is a library that allows you to create interactive plots that you can use in dashboards or websites (you can save them as html files or static images).\n",
    "\n",
    "## Installation\n",
    "\n",
    "In order for this all to work, you'll need to install plotly and cufflinks to call plots directly off of a pandas dataframe. These libraries are not currently available through **conda** but are available through **pip**. Install the libraries at your command line/terminal using:\n",
    "\n",
    "    pip install plotly\n",
    "    pip install cufflinks\n",
    "\n",
    "** NOTE: Make sure you only have one installation of Python on your computer when you do this, otherwise the installation may not work. **\n",
    "\n",
    "## Imports and Set-up"
   ]
  },
  {
   "cell_type": "code",
   "execution_count": 1,
   "metadata": {},
   "outputs": [],
   "source": [
    "import pandas as pd\n",
    "import numpy as np\n",
    "%matplotlib inline"
   ]
  },
  {
   "cell_type": "code",
   "execution_count": 2,
   "metadata": {
    "collapsed": false,
    "jupyter": {
     "outputs_hidden": false
    }
   },
   "outputs": [
    {
     "name": "stdout",
     "output_type": "stream",
     "text": [
      "5.22.0\n"
     ]
    }
   ],
   "source": [
    "from plotly import __version__\n",
    "from plotly.offline import download_plotlyjs, init_notebook_mode, plot, iplot\n",
    "\n",
    "print(__version__) # requires version >= 1.9.0"
   ]
  },
  {
   "cell_type": "code",
   "execution_count": 3,
   "metadata": {},
   "outputs": [],
   "source": [
    "import cufflinks as cf"
   ]
  },
  {
   "cell_type": "code",
   "execution_count": 4,
   "metadata": {
    "collapsed": false,
    "jupyter": {
     "outputs_hidden": false
    }
   },
   "outputs": [
    {
     "data": {
      "text/html": [
       "        <script type=\"text/javascript\">\n",
       "        window.PlotlyConfig = {MathJaxConfig: 'local'};\n",
       "        if (window.MathJax && window.MathJax.Hub && window.MathJax.Hub.Config) {window.MathJax.Hub.Config({SVG: {font: \"STIX-Web\"}});}\n",
       "        if (typeof require !== 'undefined') {\n",
       "        require.undef(\"plotly\");\n",
       "        requirejs.config({\n",
       "            paths: {\n",
       "                'plotly': ['https://cdn.plot.ly/plotly-2.32.0.min']\n",
       "            }\n",
       "        });\n",
       "        require(['plotly'], function(Plotly) {\n",
       "            window._Plotly = Plotly;\n",
       "        });\n",
       "        }\n",
       "        </script>\n",
       "        "
      ]
     },
     "metadata": {},
     "output_type": "display_data"
    }
   ],
   "source": [
    "# For Notebooks\n",
    "init_notebook_mode(connected=True)"
   ]
  },
  {
   "cell_type": "code",
   "execution_count": 5,
   "metadata": {
    "collapsed": false,
    "jupyter": {
     "outputs_hidden": false
    }
   },
   "outputs": [
    {
     "data": {
      "text/html": [
       "        <script type=\"text/javascript\">\n",
       "        window.PlotlyConfig = {MathJaxConfig: 'local'};\n",
       "        if (window.MathJax && window.MathJax.Hub && window.MathJax.Hub.Config) {window.MathJax.Hub.Config({SVG: {font: \"STIX-Web\"}});}\n",
       "        if (typeof require !== 'undefined') {\n",
       "        require.undef(\"plotly\");\n",
       "        requirejs.config({\n",
       "            paths: {\n",
       "                'plotly': ['https://cdn.plot.ly/plotly-2.32.0.min']\n",
       "            }\n",
       "        });\n",
       "        require(['plotly'], function(Plotly) {\n",
       "            window._Plotly = Plotly;\n",
       "        });\n",
       "        }\n",
       "        </script>\n",
       "        "
      ]
     },
     "metadata": {},
     "output_type": "display_data"
    }
   ],
   "source": [
    "# For offline use\n",
    "cf.go_offline()"
   ]
  },
  {
   "cell_type": "markdown",
   "metadata": {},
   "source": [
    "### Fake Data"
   ]
  },
  {
   "cell_type": "code",
   "execution_count": 7,
   "metadata": {
    "collapsed": false,
    "jupyter": {
     "outputs_hidden": false
    }
   },
   "outputs": [],
   "source": [
    "df = pd.DataFrame(np.random.randn(100,4),columns='A B C D'.split())"
   ]
  },
  {
   "cell_type": "code",
   "execution_count": 8,
   "metadata": {
    "collapsed": false,
    "jupyter": {
     "outputs_hidden": false
    }
   },
   "outputs": [
    {
     "data": {
      "text/html": [
       "<div>\n",
       "<style scoped>\n",
       "    .dataframe tbody tr th:only-of-type {\n",
       "        vertical-align: middle;\n",
       "    }\n",
       "\n",
       "    .dataframe tbody tr th {\n",
       "        vertical-align: top;\n",
       "    }\n",
       "\n",
       "    .dataframe thead th {\n",
       "        text-align: right;\n",
       "    }\n",
       "</style>\n",
       "<table border=\"1\" class=\"dataframe\">\n",
       "  <thead>\n",
       "    <tr style=\"text-align: right;\">\n",
       "      <th></th>\n",
       "      <th>A</th>\n",
       "      <th>B</th>\n",
       "      <th>C</th>\n",
       "      <th>D</th>\n",
       "    </tr>\n",
       "  </thead>\n",
       "  <tbody>\n",
       "    <tr>\n",
       "      <th>0</th>\n",
       "      <td>0.035022</td>\n",
       "      <td>0.659720</td>\n",
       "      <td>-0.483425</td>\n",
       "      <td>-1.540710</td>\n",
       "    </tr>\n",
       "    <tr>\n",
       "      <th>1</th>\n",
       "      <td>-0.206996</td>\n",
       "      <td>-0.482299</td>\n",
       "      <td>-0.289171</td>\n",
       "      <td>2.235019</td>\n",
       "    </tr>\n",
       "    <tr>\n",
       "      <th>2</th>\n",
       "      <td>0.685433</td>\n",
       "      <td>0.537301</td>\n",
       "      <td>0.104728</td>\n",
       "      <td>-2.529609</td>\n",
       "    </tr>\n",
       "    <tr>\n",
       "      <th>3</th>\n",
       "      <td>-0.017635</td>\n",
       "      <td>-0.737319</td>\n",
       "      <td>-0.311704</td>\n",
       "      <td>-1.340696</td>\n",
       "    </tr>\n",
       "    <tr>\n",
       "      <th>4</th>\n",
       "      <td>1.232655</td>\n",
       "      <td>-0.271361</td>\n",
       "      <td>0.547499</td>\n",
       "      <td>0.746936</td>\n",
       "    </tr>\n",
       "  </tbody>\n",
       "</table>\n",
       "</div>"
      ],
      "text/plain": [
       "          A         B         C         D\n",
       "0  0.035022  0.659720 -0.483425 -1.540710\n",
       "1 -0.206996 -0.482299 -0.289171  2.235019\n",
       "2  0.685433  0.537301  0.104728 -2.529609\n",
       "3 -0.017635 -0.737319 -0.311704 -1.340696\n",
       "4  1.232655 -0.271361  0.547499  0.746936"
      ]
     },
     "execution_count": 8,
     "metadata": {},
     "output_type": "execute_result"
    }
   ],
   "source": [
    "df.head()"
   ]
  },
  {
   "cell_type": "code",
   "execution_count": 9,
   "metadata": {},
   "outputs": [],
   "source": [
    "df2 = pd.DataFrame({'Category':['A','B','C'],'Values':[32,43,50]})"
   ]
  },
  {
   "cell_type": "code",
   "execution_count": 10,
   "metadata": {
    "collapsed": false,
    "jupyter": {
     "outputs_hidden": false
    }
   },
   "outputs": [
    {
     "data": {
      "text/html": [
       "<div>\n",
       "<style scoped>\n",
       "    .dataframe tbody tr th:only-of-type {\n",
       "        vertical-align: middle;\n",
       "    }\n",
       "\n",
       "    .dataframe tbody tr th {\n",
       "        vertical-align: top;\n",
       "    }\n",
       "\n",
       "    .dataframe thead th {\n",
       "        text-align: right;\n",
       "    }\n",
       "</style>\n",
       "<table border=\"1\" class=\"dataframe\">\n",
       "  <thead>\n",
       "    <tr style=\"text-align: right;\">\n",
       "      <th></th>\n",
       "      <th>Category</th>\n",
       "      <th>Values</th>\n",
       "    </tr>\n",
       "  </thead>\n",
       "  <tbody>\n",
       "    <tr>\n",
       "      <th>0</th>\n",
       "      <td>A</td>\n",
       "      <td>32</td>\n",
       "    </tr>\n",
       "    <tr>\n",
       "      <th>1</th>\n",
       "      <td>B</td>\n",
       "      <td>43</td>\n",
       "    </tr>\n",
       "    <tr>\n",
       "      <th>2</th>\n",
       "      <td>C</td>\n",
       "      <td>50</td>\n",
       "    </tr>\n",
       "  </tbody>\n",
       "</table>\n",
       "</div>"
      ],
      "text/plain": [
       "  Category  Values\n",
       "0        A      32\n",
       "1        B      43\n",
       "2        C      50"
      ]
     },
     "execution_count": 10,
     "metadata": {},
     "output_type": "execute_result"
    }
   ],
   "source": [
    "df2.head()"
   ]
  },
  {
   "cell_type": "markdown",
   "metadata": {},
   "source": [
    "## Using Cufflinks and iplot()\n",
    "\n",
    "* scatter\n",
    "* bar\n",
    "* box\n",
    "* spread\n",
    "* ratio\n",
    "* heatmap\n",
    "* surface\n",
    "* histogram\n",
    "* bubble"
   ]
  },
  {
   "cell_type": "markdown",
   "metadata": {},
   "source": [
    "## Scatter"
   ]
  },
  {
   "cell_type": "code",
   "execution_count": 13,
   "metadata": {
    "collapsed": false,
    "jupyter": {
     "outputs_hidden": false
    }
   },
   "outputs": [
    {
     "data": {
      "application/vnd.plotly.v1+json": {
       "config": {
        "linkText": "Export to plot.ly",
        "plotlyServerURL": "https://plot.ly",
        "showLink": true
       },
       "data": [
        {
         "line": {
          "color": "rgba(255, 153, 51, 1.0)",
          "dash": "solid",
          "shape": "linear",
          "width": 1.3
         },
         "marker": {
          "size": 10,
          "symbol": "circle"
         },
         "mode": "markers",
         "name": "B",
         "text": "",
         "type": "scatter",
         "x": [
          0.035022181398114326,
          -0.20699578689422937,
          0.6854331888468773,
          -0.017634584585994605,
          1.2326548344267971,
          0.34065432474775714,
          0.7773002295902933,
          -0.06997872593786636,
          -0.47636906657201195,
          -1.3766477215822774,
          0.819752827345072,
          -1.5452321937779605,
          0.08818589711433107,
          0.9108942662658028,
          1.338696296014096,
          1.4457195985132714,
          -0.9406486554716124,
          -1.1786445618785613,
          0.760819500366671,
          0.14363089189865821,
          0.36352131731403725,
          1.939490850177335,
          1.2827221379295641,
          0.2659705924395352,
          2.1022861676675078,
          0.3357327758747543,
          0.10982642446818502,
          -0.6601533538796417,
          -1.1788917371594856,
          -0.19866505024475622,
          -0.33989181419760983,
          -0.07920301792622243,
          0.26684262905887757,
          1.0321015850695954,
          1.9229774515090154,
          -0.5763569673797575,
          -0.26358893321716054,
          -0.25618266335802486,
          -2.2919708180752716,
          1.104097148796708,
          -0.02600364194132311,
          -1.095101046141559,
          -0.029118539313768906,
          1.9280070485549,
          -1.5432922562388673,
          -0.08321371943117364,
          1.5187272566145855,
          0.4798744518687685,
          0.3562930677714046,
          1.8141615813198444,
          -1.2673503123924812,
          0.1379162585324516,
          1.5135108640588242,
          0.874412100586506,
          0.8081922553650184,
          1.7796032668681032,
          -0.024209348076993324,
          1.2800191682325985,
          0.946016955044502,
          -0.8220045581906293,
          -1.3196011962233833,
          -0.09368876377110245,
          -0.797199476653399,
          0.90490703106049,
          0.5672187408026297,
          -2.1931844232264788,
          -0.08774270252501609,
          0.8082328201397463,
          -0.37927777264635365,
          1.0189126266479482,
          1.0251439851490376,
          -0.16844947310708883,
          0.8678054803706199,
          -0.2676319793512391,
          -0.13010469422392154,
          -1.5230520612624383,
          -2.2661210188178496,
          0.5318445742803599,
          -1.252028495567799,
          0.887648346819725,
          -0.3608778691561237,
          0.940889785325926,
          -0.16611565265285455,
          1.051049195530483,
          -1.3686490280995647,
          0.14930843710924366,
          -0.6816859849019006,
          -1.5728723119928214,
          -0.3552986595227806,
          1.433894952092094,
          -0.36093139332641583,
          -1.8644568904312535,
          -1.67807506257055,
          0.9957812718371379,
          0.7779266748932111,
          -2.964210772731523,
          -1.0242512013728293,
          -0.46273126934655584,
          -0.31229657089361146,
          1.0530824316296037
         ],
         "y": [
          0.659720180163578,
          -0.48229899595694803,
          0.5373007059525975,
          -0.7373191864504871,
          -0.2713614321259175,
          -1.0148788854458133,
          -1.6506618535197757,
          -0.6017055467580952,
          -2.02601587123514,
          -1.3807102617749039,
          1.7399382317527918,
          -0.09874877348992062,
          -0.8792180646493626,
          1.2072080438550892,
          0.3159919111568729,
          -0.1015296721567684,
          0.4140762003008372,
          -0.6679384015837599,
          -0.025480348783363194,
          1.1216031104528963,
          1.7338834217736316,
          2.0686026898673036,
          1.829012230047314,
          -0.14480019582680498,
          -1.0819289156745375,
          0.4370574296560661,
          -1.184075056937153,
          0.9401983152312045,
          0.8786622501219662,
          0.6223109307311763,
          0.7961583442526416,
          1.18881108784417,
          1.524784553972861,
          -0.14870906176062323,
          1.1027756352574738,
          -0.49567095059648475,
          0.2145742478184529,
          0.15863895021588398,
          -0.04680656455633057,
          0.25593922654731066,
          1.0545293724285103,
          0.1297834275250637,
          -0.3591106342649614,
          -0.28269664103315273,
          -0.9250220431155934,
          0.026124160430505243,
          0.7059241472672645,
          -1.5048176230279364,
          -0.7811212335563891,
          0.6600351095260198,
          1.0034561121134895,
          -0.09210647222601136,
          -1.2459254518418386,
          2.530019222084229,
          -0.6538234465769,
          1.184039297184767,
          1.906305150020457,
          -1.2631028687188486,
          0.09305052314923473,
          0.6018184880401937,
          0.6697487197869597,
          0.7650827084196883,
          -0.7762011115441019,
          0.9028366593960605,
          0.09349415461588395,
          -1.1114686313755264,
          0.9460537444267767,
          1.3758654613623988,
          -0.9374840851237152,
          1.394740244115055,
          -0.01093652733112355,
          0.27858466678647564,
          -0.4110749068039371,
          0.5028160769673242,
          0.3397450960046779,
          -0.6425741877849417,
          -1.8408827842624031,
          -0.5824980898400304,
          -0.38541793441184724,
          -1.286637074652041,
          -0.05045795267498061,
          -0.586066314722846,
          -1.3701758166092917,
          -0.7895782892796999,
          0.27178130726156885,
          -1.136531698284585,
          0.45154585239758016,
          0.8716622522777244,
          -0.20945319517410885,
          -0.06376929242251737,
          0.43499390795135273,
          1.2977522751245083,
          -1.0981836076015816,
          -0.7763264270235338,
          1.140037465457631,
          -0.49249600266665744,
          -1.1225633257293033,
          0.7855823642974321,
          0.4449325396305709,
          1.338966475816106
         ]
        },
        {
         "line": {
          "color": "rgba(255, 153, 51, 0.6)",
          "dash": "dash",
          "shape": "linear",
          "width": 3
         },
         "mode": "lines",
         "name": "0.17*x+0.07",
         "type": "scatter",
         "x": [
          0.035022181398114326,
          -0.20699578689422937,
          0.6854331888468773,
          -0.017634584585994605,
          1.2326548344267971,
          0.34065432474775714,
          0.7773002295902933,
          -0.06997872593786636,
          -0.47636906657201195,
          -1.3766477215822774,
          0.819752827345072,
          -1.5452321937779605,
          0.08818589711433107,
          0.9108942662658028,
          1.338696296014096,
          1.4457195985132714,
          -0.9406486554716124,
          -1.1786445618785613,
          0.760819500366671,
          0.14363089189865821,
          0.36352131731403725,
          1.939490850177335,
          1.2827221379295641,
          0.2659705924395352,
          2.1022861676675078,
          0.3357327758747543,
          0.10982642446818502,
          -0.6601533538796417,
          -1.1788917371594856,
          -0.19866505024475622,
          -0.33989181419760983,
          -0.07920301792622243,
          0.26684262905887757,
          1.0321015850695954,
          1.9229774515090154,
          -0.5763569673797575,
          -0.26358893321716054,
          -0.25618266335802486,
          -2.2919708180752716,
          1.104097148796708,
          -0.02600364194132311,
          -1.095101046141559,
          -0.029118539313768906,
          1.9280070485549,
          -1.5432922562388673,
          -0.08321371943117364,
          1.5187272566145855,
          0.4798744518687685,
          0.3562930677714046,
          1.8141615813198444,
          -1.2673503123924812,
          0.1379162585324516,
          1.5135108640588242,
          0.874412100586506,
          0.8081922553650184,
          1.7796032668681032,
          -0.024209348076993324,
          1.2800191682325985,
          0.946016955044502,
          -0.8220045581906293,
          -1.3196011962233833,
          -0.09368876377110245,
          -0.797199476653399,
          0.90490703106049,
          0.5672187408026297,
          -2.1931844232264788,
          -0.08774270252501609,
          0.8082328201397463,
          -0.37927777264635365,
          1.0189126266479482,
          1.0251439851490376,
          -0.16844947310708883,
          0.8678054803706199,
          -0.2676319793512391,
          -0.13010469422392154,
          -1.5230520612624383,
          -2.2661210188178496,
          0.5318445742803599,
          -1.252028495567799,
          0.887648346819725,
          -0.3608778691561237,
          0.940889785325926,
          -0.16611565265285455,
          1.051049195530483,
          -1.3686490280995647,
          0.14930843710924366,
          -0.6816859849019006,
          -1.5728723119928214,
          -0.3552986595227806,
          1.433894952092094,
          -0.36093139332641583,
          -1.8644568904312535,
          -1.67807506257055,
          0.9957812718371379,
          0.7779266748932111,
          -2.964210772731523,
          -1.0242512013728293,
          -0.46273126934655584,
          -0.31229657089361146,
          1.0530824316296037
         ],
         "y": [
          0.07773824218478315,
          0.036938583000659386,
          0.1873852556720524,
          0.06886130581080827,
          0.27963649137727503,
          0.12926204999278865,
          0.20287230392318822,
          0.06003707204622159,
          -0.00847266510504939,
          -0.1602426454677932,
          0.2100290102293227,
          -0.188662803928965,
          0.08670064071034711,
          0.22539373571542654,
          0.29751307931277093,
          0.3155551870849147,
          -0.08674143633267743,
          -0.12686305183558433,
          0.20009396419835673,
          0.09604761980709556,
          0.13311699311892525,
          0.39879569573374835,
          0.2880768932763335,
          0.11667178305404174,
          0.426239912034032,
          0.12843236979138323,
          0.09034882496225119,
          -0.03945522536062025,
          -0.12690472092028748,
          0.03834298788203838,
          0.014534822407345382,
          0.058482030608615745,
          0.1168187919605138,
          0.24582700078540942,
          0.3960118485574711,
          -0.02532873700862072,
          0.027398047236208534,
          0.028646604474377627,
          -0.3145488345651273,
          0.2579640932647862,
          0.06745044078207069,
          -0.11277919271899244,
          0.06692532790683245,
          0.3968597436404415,
          -0.18833576709367567,
          0.057805902073012144,
          0.3278628995633806,
          0.15273193439098495,
          0.13189844674438098,
          0.377667547723662,
          -0.14181716625186647,
          0.09508424053675224,
          0.3269835142848934,
          0.21924353151151355,
          0.20808011610345356,
          0.37184166850668726,
          0.0677529248441317,
          0.2876212236283345,
          0.23131475778627542,
          -0.06674028200753691,
          -0.15062567855949371,
          0.05604000740815225,
          -0.06255861367979144,
          0.22438440092282602,
          0.16745653209472455,
          -0.2978953138769837,
          0.057042401048756686,
          0.20808695455844706,
          0.007895093577758125,
          0.24360359145595506,
          0.2446540808261965,
          0.04343676359615932,
          0.2181297801026037,
          0.026716466006930388,
          0.04990096921263669,
          -0.1849236524367135,
          -0.3101910465582184,
          0.16149311562521812,
          -0.13923419727258185,
          0.2214749126730154,
          0.010996969842231759,
          0.23045041379325265,
          0.04383020165285219,
          0.2490212101022315,
          -0.1588942167940232,
          0.0970047467147743,
          -0.0430852203285329,
          -0.19332240590369532,
          0.011937519228557542,
          0.3135617749950568,
          0.010987946677871521,
          -0.24247805954204038,
          -0.21105760300120557,
          0.23970408184761022,
          0.20297791077146016,
          -0.42787579633350076,
          -0.10083524682022964,
          -0.006173590029149745,
          0.019186859319522555,
          0.24936397531289045
         ]
        }
       ],
       "layout": {
        "autosize": true,
        "legend": {
         "bgcolor": "#F5F6F9",
         "font": {
          "color": "#4D5663"
         }
        },
        "paper_bgcolor": "#F5F6F9",
        "plot_bgcolor": "#F5F6F9",
        "template": {
         "data": {
          "bar": [
           {
            "error_x": {
             "color": "#2a3f5f"
            },
            "error_y": {
             "color": "#2a3f5f"
            },
            "marker": {
             "line": {
              "color": "#E5ECF6",
              "width": 0.5
             },
             "pattern": {
              "fillmode": "overlay",
              "size": 10,
              "solidity": 0.2
             }
            },
            "type": "bar"
           }
          ],
          "barpolar": [
           {
            "marker": {
             "line": {
              "color": "#E5ECF6",
              "width": 0.5
             },
             "pattern": {
              "fillmode": "overlay",
              "size": 10,
              "solidity": 0.2
             }
            },
            "type": "barpolar"
           }
          ],
          "carpet": [
           {
            "aaxis": {
             "endlinecolor": "#2a3f5f",
             "gridcolor": "white",
             "linecolor": "white",
             "minorgridcolor": "white",
             "startlinecolor": "#2a3f5f"
            },
            "baxis": {
             "endlinecolor": "#2a3f5f",
             "gridcolor": "white",
             "linecolor": "white",
             "minorgridcolor": "white",
             "startlinecolor": "#2a3f5f"
            },
            "type": "carpet"
           }
          ],
          "choropleth": [
           {
            "colorbar": {
             "outlinewidth": 0,
             "ticks": ""
            },
            "type": "choropleth"
           }
          ],
          "contour": [
           {
            "colorbar": {
             "outlinewidth": 0,
             "ticks": ""
            },
            "colorscale": [
             [
              0,
              "#0d0887"
             ],
             [
              0.1111111111111111,
              "#46039f"
             ],
             [
              0.2222222222222222,
              "#7201a8"
             ],
             [
              0.3333333333333333,
              "#9c179e"
             ],
             [
              0.4444444444444444,
              "#bd3786"
             ],
             [
              0.5555555555555556,
              "#d8576b"
             ],
             [
              0.6666666666666666,
              "#ed7953"
             ],
             [
              0.7777777777777778,
              "#fb9f3a"
             ],
             [
              0.8888888888888888,
              "#fdca26"
             ],
             [
              1,
              "#f0f921"
             ]
            ],
            "type": "contour"
           }
          ],
          "contourcarpet": [
           {
            "colorbar": {
             "outlinewidth": 0,
             "ticks": ""
            },
            "type": "contourcarpet"
           }
          ],
          "heatmap": [
           {
            "colorbar": {
             "outlinewidth": 0,
             "ticks": ""
            },
            "colorscale": [
             [
              0,
              "#0d0887"
             ],
             [
              0.1111111111111111,
              "#46039f"
             ],
             [
              0.2222222222222222,
              "#7201a8"
             ],
             [
              0.3333333333333333,
              "#9c179e"
             ],
             [
              0.4444444444444444,
              "#bd3786"
             ],
             [
              0.5555555555555556,
              "#d8576b"
             ],
             [
              0.6666666666666666,
              "#ed7953"
             ],
             [
              0.7777777777777778,
              "#fb9f3a"
             ],
             [
              0.8888888888888888,
              "#fdca26"
             ],
             [
              1,
              "#f0f921"
             ]
            ],
            "type": "heatmap"
           }
          ],
          "heatmapgl": [
           {
            "colorbar": {
             "outlinewidth": 0,
             "ticks": ""
            },
            "colorscale": [
             [
              0,
              "#0d0887"
             ],
             [
              0.1111111111111111,
              "#46039f"
             ],
             [
              0.2222222222222222,
              "#7201a8"
             ],
             [
              0.3333333333333333,
              "#9c179e"
             ],
             [
              0.4444444444444444,
              "#bd3786"
             ],
             [
              0.5555555555555556,
              "#d8576b"
             ],
             [
              0.6666666666666666,
              "#ed7953"
             ],
             [
              0.7777777777777778,
              "#fb9f3a"
             ],
             [
              0.8888888888888888,
              "#fdca26"
             ],
             [
              1,
              "#f0f921"
             ]
            ],
            "type": "heatmapgl"
           }
          ],
          "histogram": [
           {
            "marker": {
             "pattern": {
              "fillmode": "overlay",
              "size": 10,
              "solidity": 0.2
             }
            },
            "type": "histogram"
           }
          ],
          "histogram2d": [
           {
            "colorbar": {
             "outlinewidth": 0,
             "ticks": ""
            },
            "colorscale": [
             [
              0,
              "#0d0887"
             ],
             [
              0.1111111111111111,
              "#46039f"
             ],
             [
              0.2222222222222222,
              "#7201a8"
             ],
             [
              0.3333333333333333,
              "#9c179e"
             ],
             [
              0.4444444444444444,
              "#bd3786"
             ],
             [
              0.5555555555555556,
              "#d8576b"
             ],
             [
              0.6666666666666666,
              "#ed7953"
             ],
             [
              0.7777777777777778,
              "#fb9f3a"
             ],
             [
              0.8888888888888888,
              "#fdca26"
             ],
             [
              1,
              "#f0f921"
             ]
            ],
            "type": "histogram2d"
           }
          ],
          "histogram2dcontour": [
           {
            "colorbar": {
             "outlinewidth": 0,
             "ticks": ""
            },
            "colorscale": [
             [
              0,
              "#0d0887"
             ],
             [
              0.1111111111111111,
              "#46039f"
             ],
             [
              0.2222222222222222,
              "#7201a8"
             ],
             [
              0.3333333333333333,
              "#9c179e"
             ],
             [
              0.4444444444444444,
              "#bd3786"
             ],
             [
              0.5555555555555556,
              "#d8576b"
             ],
             [
              0.6666666666666666,
              "#ed7953"
             ],
             [
              0.7777777777777778,
              "#fb9f3a"
             ],
             [
              0.8888888888888888,
              "#fdca26"
             ],
             [
              1,
              "#f0f921"
             ]
            ],
            "type": "histogram2dcontour"
           }
          ],
          "mesh3d": [
           {
            "colorbar": {
             "outlinewidth": 0,
             "ticks": ""
            },
            "type": "mesh3d"
           }
          ],
          "parcoords": [
           {
            "line": {
             "colorbar": {
              "outlinewidth": 0,
              "ticks": ""
             }
            },
            "type": "parcoords"
           }
          ],
          "pie": [
           {
            "automargin": true,
            "type": "pie"
           }
          ],
          "scatter": [
           {
            "fillpattern": {
             "fillmode": "overlay",
             "size": 10,
             "solidity": 0.2
            },
            "type": "scatter"
           }
          ],
          "scatter3d": [
           {
            "line": {
             "colorbar": {
              "outlinewidth": 0,
              "ticks": ""
             }
            },
            "marker": {
             "colorbar": {
              "outlinewidth": 0,
              "ticks": ""
             }
            },
            "type": "scatter3d"
           }
          ],
          "scattercarpet": [
           {
            "marker": {
             "colorbar": {
              "outlinewidth": 0,
              "ticks": ""
             }
            },
            "type": "scattercarpet"
           }
          ],
          "scattergeo": [
           {
            "marker": {
             "colorbar": {
              "outlinewidth": 0,
              "ticks": ""
             }
            },
            "type": "scattergeo"
           }
          ],
          "scattergl": [
           {
            "marker": {
             "colorbar": {
              "outlinewidth": 0,
              "ticks": ""
             }
            },
            "type": "scattergl"
           }
          ],
          "scattermapbox": [
           {
            "marker": {
             "colorbar": {
              "outlinewidth": 0,
              "ticks": ""
             }
            },
            "type": "scattermapbox"
           }
          ],
          "scatterpolar": [
           {
            "marker": {
             "colorbar": {
              "outlinewidth": 0,
              "ticks": ""
             }
            },
            "type": "scatterpolar"
           }
          ],
          "scatterpolargl": [
           {
            "marker": {
             "colorbar": {
              "outlinewidth": 0,
              "ticks": ""
             }
            },
            "type": "scatterpolargl"
           }
          ],
          "scatterternary": [
           {
            "marker": {
             "colorbar": {
              "outlinewidth": 0,
              "ticks": ""
             }
            },
            "type": "scatterternary"
           }
          ],
          "surface": [
           {
            "colorbar": {
             "outlinewidth": 0,
             "ticks": ""
            },
            "colorscale": [
             [
              0,
              "#0d0887"
             ],
             [
              0.1111111111111111,
              "#46039f"
             ],
             [
              0.2222222222222222,
              "#7201a8"
             ],
             [
              0.3333333333333333,
              "#9c179e"
             ],
             [
              0.4444444444444444,
              "#bd3786"
             ],
             [
              0.5555555555555556,
              "#d8576b"
             ],
             [
              0.6666666666666666,
              "#ed7953"
             ],
             [
              0.7777777777777778,
              "#fb9f3a"
             ],
             [
              0.8888888888888888,
              "#fdca26"
             ],
             [
              1,
              "#f0f921"
             ]
            ],
            "type": "surface"
           }
          ],
          "table": [
           {
            "cells": {
             "fill": {
              "color": "#EBF0F8"
             },
             "line": {
              "color": "white"
             }
            },
            "header": {
             "fill": {
              "color": "#C8D4E3"
             },
             "line": {
              "color": "white"
             }
            },
            "type": "table"
           }
          ]
         },
         "layout": {
          "annotationdefaults": {
           "arrowcolor": "#2a3f5f",
           "arrowhead": 0,
           "arrowwidth": 1
          },
          "autotypenumbers": "strict",
          "coloraxis": {
           "colorbar": {
            "outlinewidth": 0,
            "ticks": ""
           }
          },
          "colorscale": {
           "diverging": [
            [
             0,
             "#8e0152"
            ],
            [
             0.1,
             "#c51b7d"
            ],
            [
             0.2,
             "#de77ae"
            ],
            [
             0.3,
             "#f1b6da"
            ],
            [
             0.4,
             "#fde0ef"
            ],
            [
             0.5,
             "#f7f7f7"
            ],
            [
             0.6,
             "#e6f5d0"
            ],
            [
             0.7,
             "#b8e186"
            ],
            [
             0.8,
             "#7fbc41"
            ],
            [
             0.9,
             "#4d9221"
            ],
            [
             1,
             "#276419"
            ]
           ],
           "sequential": [
            [
             0,
             "#0d0887"
            ],
            [
             0.1111111111111111,
             "#46039f"
            ],
            [
             0.2222222222222222,
             "#7201a8"
            ],
            [
             0.3333333333333333,
             "#9c179e"
            ],
            [
             0.4444444444444444,
             "#bd3786"
            ],
            [
             0.5555555555555556,
             "#d8576b"
            ],
            [
             0.6666666666666666,
             "#ed7953"
            ],
            [
             0.7777777777777778,
             "#fb9f3a"
            ],
            [
             0.8888888888888888,
             "#fdca26"
            ],
            [
             1,
             "#f0f921"
            ]
           ],
           "sequentialminus": [
            [
             0,
             "#0d0887"
            ],
            [
             0.1111111111111111,
             "#46039f"
            ],
            [
             0.2222222222222222,
             "#7201a8"
            ],
            [
             0.3333333333333333,
             "#9c179e"
            ],
            [
             0.4444444444444444,
             "#bd3786"
            ],
            [
             0.5555555555555556,
             "#d8576b"
            ],
            [
             0.6666666666666666,
             "#ed7953"
            ],
            [
             0.7777777777777778,
             "#fb9f3a"
            ],
            [
             0.8888888888888888,
             "#fdca26"
            ],
            [
             1,
             "#f0f921"
            ]
           ]
          },
          "colorway": [
           "#636efa",
           "#EF553B",
           "#00cc96",
           "#ab63fa",
           "#FFA15A",
           "#19d3f3",
           "#FF6692",
           "#B6E880",
           "#FF97FF",
           "#FECB52"
          ],
          "font": {
           "color": "#2a3f5f"
          },
          "geo": {
           "bgcolor": "white",
           "lakecolor": "white",
           "landcolor": "#E5ECF6",
           "showlakes": true,
           "showland": true,
           "subunitcolor": "white"
          },
          "hoverlabel": {
           "align": "left"
          },
          "hovermode": "closest",
          "mapbox": {
           "style": "light"
          },
          "paper_bgcolor": "white",
          "plot_bgcolor": "#E5ECF6",
          "polar": {
           "angularaxis": {
            "gridcolor": "white",
            "linecolor": "white",
            "ticks": ""
           },
           "bgcolor": "#E5ECF6",
           "radialaxis": {
            "gridcolor": "white",
            "linecolor": "white",
            "ticks": ""
           }
          },
          "scene": {
           "xaxis": {
            "backgroundcolor": "#E5ECF6",
            "gridcolor": "white",
            "gridwidth": 2,
            "linecolor": "white",
            "showbackground": true,
            "ticks": "",
            "zerolinecolor": "white"
           },
           "yaxis": {
            "backgroundcolor": "#E5ECF6",
            "gridcolor": "white",
            "gridwidth": 2,
            "linecolor": "white",
            "showbackground": true,
            "ticks": "",
            "zerolinecolor": "white"
           },
           "zaxis": {
            "backgroundcolor": "#E5ECF6",
            "gridcolor": "white",
            "gridwidth": 2,
            "linecolor": "white",
            "showbackground": true,
            "ticks": "",
            "zerolinecolor": "white"
           }
          },
          "shapedefaults": {
           "line": {
            "color": "#2a3f5f"
           }
          },
          "ternary": {
           "aaxis": {
            "gridcolor": "white",
            "linecolor": "white",
            "ticks": ""
           },
           "baxis": {
            "gridcolor": "white",
            "linecolor": "white",
            "ticks": ""
           },
           "bgcolor": "#E5ECF6",
           "caxis": {
            "gridcolor": "white",
            "linecolor": "white",
            "ticks": ""
           }
          },
          "title": {
           "x": 0.05
          },
          "xaxis": {
           "automargin": true,
           "gridcolor": "white",
           "linecolor": "white",
           "ticks": "",
           "title": {
            "standoff": 15
           },
           "zerolinecolor": "white",
           "zerolinewidth": 2
          },
          "yaxis": {
           "automargin": true,
           "gridcolor": "white",
           "linecolor": "white",
           "ticks": "",
           "title": {
            "standoff": 15
           },
           "zerolinecolor": "white",
           "zerolinewidth": 2
          }
         }
        },
        "title": {
         "font": {
          "color": "#4D5663"
         }
        },
        "xaxis": {
         "autorange": true,
         "gridcolor": "#E1E5ED",
         "range": [
          -3.291941050758912,
          2.430016445694897
         ],
         "showgrid": true,
         "tickfont": {
          "color": "#4D5663"
         },
         "title": {
          "font": {
           "color": "#4D5663"
          },
          "text": ""
         },
         "type": "linear",
         "zerolinecolor": "#E1E5ED"
        },
        "yaxis": {
         "autorange": true,
         "gridcolor": "#E1E5ED",
         "range": [
          -2.4907619259048417,
          2.9947652767539306
         ],
         "showgrid": true,
         "tickfont": {
          "color": "#4D5663"
         },
         "title": {
          "font": {
           "color": "#4D5663"
          },
          "text": ""
         },
         "type": "linear",
         "zerolinecolor": "#E1E5ED"
        }
       }
      },
      "image/png": "[encoded data removed]",
      "text/html": [
       "<div>                            <div id=\"c811c429-4d1a-43a1-8657-9a290a33bb20\" class=\"plotly-graph-div\" style=\"height:525px; width:100%;\"></div>            <script type=\"text/javascript\">                require([\"plotly\"], function(Plotly) {                    window.PLOTLYENV=window.PLOTLYENV || {};\n",
       "                    window.PLOTLYENV.BASE_URL='https://plot.ly';                                    if (document.getElementById(\"c811c429-4d1a-43a1-8657-9a290a33bb20\")) {                    Plotly.newPlot(                        \"c811c429-4d1a-43a1-8657-9a290a33bb20\",                        [{\"line\":{\"color\":\"rgba(255, 153, 51, 1.0)\",\"dash\":\"solid\",\"shape\":\"linear\",\"width\":1.3},\"marker\":{\"size\":10,\"symbol\":\"circle\"},\"mode\":\"markers\",\"name\":\"B\",\"text\":\"\",\"x\":[0.035022181398114326,-0.20699578689422937,0.6854331888468773,-0.017634584585994605,1.2326548344267971,0.34065432474775714,0.7773002295902933,-0.06997872593786636,-0.47636906657201195,-1.3766477215822774,0.819752827345072,-1.5452321937779605,0.08818589711433107,0.9108942662658028,1.338696296014096,1.4457195985132714,-0.9406486554716124,-1.1786445618785613,0.760819500366671,0.14363089189865821,0.36352131731403725,1.939490850177335,1.2827221379295641,0.2659705924395352,2.1022861676675078,0.3357327758747543,0.10982642446818502,-0.6601533538796417,-1.1788917371594856,-0.19866505024475622,-0.33989181419760983,-0.07920301792622243,0.26684262905887757,1.0321015850695954,1.9229774515090154,-0.5763569673797575,-0.26358893321716054,-0.25618266335802486,-2.2919708180752716,1.104097148796708,-0.02600364194132311,-1.095101046141559,-0.029118539313768906,1.9280070485549,-1.5432922562388673,-0.08321371943117364,1.5187272566145855,0.4798744518687685,0.3562930677714046,1.8141615813198444,-1.2673503123924812,0.1379162585324516,1.5135108640588242,0.874412100586506,0.8081922553650184,1.7796032668681032,-0.024209348076993324,1.2800191682325985,0.946016955044502,-0.8220045581906293,-1.3196011962233833,-0.09368876377110245,-0.797199476653399,0.90490703106049,0.5672187408026297,-2.1931844232264788,-0.08774270252501609,0.8082328201397463,-0.37927777264635365,1.0189126266479482,1.0251439851490376,-0.16844947310708883,0.8678054803706199,-0.2676319793512391,-0.13010469422392154,-1.5230520612624383,-2.2661210188178496,0.5318445742803599,-1.252028495567799,0.887648346819725,-0.3608778691561237,0.940889785325926,-0.16611565265285455,1.051049195530483,-1.3686490280995647,0.14930843710924366,-0.6816859849019006,-1.5728723119928214,-0.3552986595227806,1.433894952092094,-0.36093139332641583,-1.8644568904312535,-1.67807506257055,0.9957812718371379,0.7779266748932111,-2.964210772731523,-1.0242512013728293,-0.46273126934655584,-0.31229657089361146,1.0530824316296037],\"y\":[0.659720180163578,-0.48229899595694803,0.5373007059525975,-0.7373191864504871,-0.2713614321259175,-1.0148788854458133,-1.6506618535197757,-0.6017055467580952,-2.02601587123514,-1.3807102617749039,1.7399382317527918,-0.09874877348992062,-0.8792180646493626,1.2072080438550892,0.3159919111568729,-0.1015296721567684,0.4140762003008372,-0.6679384015837599,-0.025480348783363194,1.1216031104528963,1.7338834217736316,2.0686026898673036,1.829012230047314,-0.14480019582680498,-1.0819289156745375,0.4370574296560661,-1.184075056937153,0.9401983152312045,0.8786622501219662,0.6223109307311763,0.7961583442526416,1.18881108784417,1.524784553972861,-0.14870906176062323,1.1027756352574738,-0.49567095059648475,0.2145742478184529,0.15863895021588398,-0.04680656455633057,0.25593922654731066,1.0545293724285103,0.1297834275250637,-0.3591106342649614,-0.28269664103315273,-0.9250220431155934,0.026124160430505243,0.7059241472672645,-1.5048176230279364,-0.7811212335563891,0.6600351095260198,1.0034561121134895,-0.09210647222601136,-1.2459254518418386,2.530019222084229,-0.6538234465769,1.184039297184767,1.906305150020457,-1.2631028687188486,0.09305052314923473,0.6018184880401937,0.6697487197869597,0.7650827084196883,-0.7762011115441019,0.9028366593960605,0.09349415461588395,-1.1114686313755264,0.9460537444267767,1.3758654613623988,-0.9374840851237152,1.394740244115055,-0.01093652733112355,0.27858466678647564,-0.4110749068039371,0.5028160769673242,0.3397450960046779,-0.6425741877849417,-1.8408827842624031,-0.5824980898400304,-0.38541793441184724,-1.286637074652041,-0.05045795267498061,-0.586066314722846,-1.3701758166092917,-0.7895782892796999,0.27178130726156885,-1.136531698284585,0.45154585239758016,0.8716622522777244,-0.20945319517410885,-0.06376929242251737,0.43499390795135273,1.2977522751245083,-1.0981836076015816,-0.7763264270235338,1.140037465457631,-0.49249600266665744,-1.1225633257293033,0.7855823642974321,0.4449325396305709,1.338966475816106],\"type\":\"scatter\"},{\"line\":{\"color\":\"rgba(255, 153, 51, 0.6)\",\"dash\":\"dash\",\"shape\":\"linear\",\"width\":3},\"mode\":\"lines\",\"name\":\"0.17*x+0.07\",\"x\":[0.035022181398114326,-0.20699578689422937,0.6854331888468773,-0.017634584585994605,1.2326548344267971,0.34065432474775714,0.7773002295902933,-0.06997872593786636,-0.47636906657201195,-1.3766477215822774,0.819752827345072,-1.5452321937779605,0.08818589711433107,0.9108942662658028,1.338696296014096,1.4457195985132714,-0.9406486554716124,-1.1786445618785613,0.760819500366671,0.14363089189865821,0.36352131731403725,1.939490850177335,1.2827221379295641,0.2659705924395352,2.1022861676675078,0.3357327758747543,0.10982642446818502,-0.6601533538796417,-1.1788917371594856,-0.19866505024475622,-0.33989181419760983,-0.07920301792622243,0.26684262905887757,1.0321015850695954,1.9229774515090154,-0.5763569673797575,-0.26358893321716054,-0.25618266335802486,-2.2919708180752716,1.104097148796708,-0.02600364194132311,-1.095101046141559,-0.029118539313768906,1.9280070485549,-1.5432922562388673,-0.08321371943117364,1.5187272566145855,0.4798744518687685,0.3562930677714046,1.8141615813198444,-1.2673503123924812,0.1379162585324516,1.5135108640588242,0.874412100586506,0.8081922553650184,1.7796032668681032,-0.024209348076993324,1.2800191682325985,0.946016955044502,-0.8220045581906293,-1.3196011962233833,-0.09368876377110245,-0.797199476653399,0.90490703106049,0.5672187408026297,-2.1931844232264788,-0.08774270252501609,0.8082328201397463,-0.37927777264635365,1.0189126266479482,1.0251439851490376,-0.16844947310708883,0.8678054803706199,-0.2676319793512391,-0.13010469422392154,-1.5230520612624383,-2.2661210188178496,0.5318445742803599,-1.252028495567799,0.887648346819725,-0.3608778691561237,0.940889785325926,-0.16611565265285455,1.051049195530483,-1.3686490280995647,0.14930843710924366,-0.6816859849019006,-1.5728723119928214,-0.3552986595227806,1.433894952092094,-0.36093139332641583,-1.8644568904312535,-1.67807506257055,0.9957812718371379,0.7779266748932111,-2.964210772731523,-1.0242512013728293,-0.46273126934655584,-0.31229657089361146,1.0530824316296037],\"y\":[0.07773824218478315,0.036938583000659386,0.1873852556720524,0.06886130581080827,0.27963649137727503,0.12926204999278865,0.20287230392318822,0.06003707204622159,-0.00847266510504939,-0.1602426454677932,0.2100290102293227,-0.188662803928965,0.08670064071034711,0.22539373571542654,0.29751307931277093,0.3155551870849147,-0.08674143633267743,-0.12686305183558433,0.20009396419835673,0.09604761980709556,0.13311699311892525,0.39879569573374835,0.2880768932763335,0.11667178305404174,0.426239912034032,0.12843236979138323,0.09034882496225119,-0.03945522536062025,-0.12690472092028748,0.03834298788203838,0.014534822407345382,0.058482030608615745,0.1168187919605138,0.24582700078540942,0.3960118485574711,-0.02532873700862072,0.027398047236208534,0.028646604474377627,-0.3145488345651273,0.2579640932647862,0.06745044078207069,-0.11277919271899244,0.06692532790683245,0.3968597436404415,-0.18833576709367567,0.057805902073012144,0.3278628995633806,0.15273193439098495,0.13189844674438098,0.377667547723662,-0.14181716625186647,0.09508424053675224,0.3269835142848934,0.21924353151151355,0.20808011610345356,0.37184166850668726,0.0677529248441317,0.2876212236283345,0.23131475778627542,-0.06674028200753691,-0.15062567855949371,0.05604000740815225,-0.06255861367979144,0.22438440092282602,0.16745653209472455,-0.2978953138769837,0.057042401048756686,0.20808695455844706,0.007895093577758125,0.24360359145595506,0.2446540808261965,0.04343676359615932,0.2181297801026037,0.026716466006930388,0.04990096921263669,-0.1849236524367135,-0.3101910465582184,0.16149311562521812,-0.13923419727258185,0.2214749126730154,0.010996969842231759,0.23045041379325265,0.04383020165285219,0.2490212101022315,-0.1588942167940232,0.0970047467147743,-0.0430852203285329,-0.19332240590369532,0.011937519228557542,0.3135617749950568,0.010987946677871521,-0.24247805954204038,-0.21105760300120557,0.23970408184761022,0.20297791077146016,-0.42787579633350076,-0.10083524682022964,-0.006173590029149745,0.019186859319522555,0.24936397531289045],\"type\":\"scatter\"}],                        {\"legend\":{\"bgcolor\":\"#F5F6F9\",\"font\":{\"color\":\"#4D5663\"}},\"paper_bgcolor\":\"#F5F6F9\",\"plot_bgcolor\":\"#F5F6F9\",\"template\":{\"data\":{\"barpolar\":[{\"marker\":{\"line\":{\"color\":\"#E5ECF6\",\"width\":0.5},\"pattern\":{\"fillmode\":\"overlay\",\"size\":10,\"solidity\":0.2}},\"type\":\"barpolar\"}],\"bar\":[{\"error_x\":{\"color\":\"#2a3f5f\"},\"error_y\":{\"color\":\"#2a3f5f\"},\"marker\":{\"line\":{\"color\":\"#E5ECF6\",\"width\":0.5},\"pattern\":{\"fillmode\":\"overlay\",\"size\":10,\"solidity\":0.2}},\"type\":\"bar\"}],\"carpet\":[{\"aaxis\":{\"endlinecolor\":\"#2a3f5f\",\"gridcolor\":\"white\",\"linecolor\":\"white\",\"minorgridcolor\":\"white\",\"startlinecolor\":\"#2a3f5f\"},\"baxis\":{\"endlinecolor\":\"#2a3f5f\",\"gridcolor\":\"white\",\"linecolor\":\"white\",\"minorgridcolor\":\"white\",\"startlinecolor\":\"#2a3f5f\"},\"type\":\"carpet\"}],\"choropleth\":[{\"colorbar\":{\"outlinewidth\":0,\"ticks\":\"\"},\"type\":\"choropleth\"}],\"contourcarpet\":[{\"colorbar\":{\"outlinewidth\":0,\"ticks\":\"\"},\"type\":\"contourcarpet\"}],\"contour\":[{\"colorbar\":{\"outlinewidth\":0,\"ticks\":\"\"},\"colorscale\":[[0.0,\"#0d0887\"],[0.1111111111111111,\"#46039f\"],[0.2222222222222222,\"#7201a8\"],[0.3333333333333333,\"#9c179e\"],[0.4444444444444444,\"#bd3786\"],[0.5555555555555556,\"#d8576b\"],[0.6666666666666666,\"#ed7953\"],[0.7777777777777778,\"#fb9f3a\"],[0.8888888888888888,\"#fdca26\"],[1.0,\"#f0f921\"]],\"type\":\"contour\"}],\"heatmapgl\":[{\"colorbar\":{\"outlinewidth\":0,\"ticks\":\"\"},\"colorscale\":[[0.0,\"#0d0887\"],[0.1111111111111111,\"#46039f\"],[0.2222222222222222,\"#7201a8\"],[0.3333333333333333,\"#9c179e\"],[0.4444444444444444,\"#bd3786\"],[0.5555555555555556,\"#d8576b\"],[0.6666666666666666,\"#ed7953\"],[0.7777777777777778,\"#fb9f3a\"],[0.8888888888888888,\"#fdca26\"],[1.0,\"#f0f921\"]],\"type\":\"heatmapgl\"}],\"heatmap\":[{\"colorbar\":{\"outlinewidth\":0,\"ticks\":\"\"},\"colorscale\":[[0.0,\"#0d0887\"],[0.1111111111111111,\"#46039f\"],[0.2222222222222222,\"#7201a8\"],[0.3333333333333333,\"#9c179e\"],[0.4444444444444444,\"#bd3786\"],[0.5555555555555556,\"#d8576b\"],[0.6666666666666666,\"#ed7953\"],[0.7777777777777778,\"#fb9f3a\"],[0.8888888888888888,\"#fdca26\"],[1.0,\"#f0f921\"]],\"type\":\"heatmap\"}],\"histogram2dcontour\":[{\"colorbar\":{\"outlinewidth\":0,\"ticks\":\"\"},\"colorscale\":[[0.0,\"#0d0887\"],[0.1111111111111111,\"#46039f\"],[0.2222222222222222,\"#7201a8\"],[0.3333333333333333,\"#9c179e\"],[0.4444444444444444,\"#bd3786\"],[0.5555555555555556,\"#d8576b\"],[0.6666666666666666,\"#ed7953\"],[0.7777777777777778,\"#fb9f3a\"],[0.8888888888888888,\"#fdca26\"],[1.0,\"#f0f921\"]],\"type\":\"histogram2dcontour\"}],\"histogram2d\":[{\"colorbar\":{\"outlinewidth\":0,\"ticks\":\"\"},\"colorscale\":[[0.0,\"#0d0887\"],[0.1111111111111111,\"#46039f\"],[0.2222222222222222,\"#7201a8\"],[0.3333333333333333,\"#9c179e\"],[0.4444444444444444,\"#bd3786\"],[0.5555555555555556,\"#d8576b\"],[0.6666666666666666,\"#ed7953\"],[0.7777777777777778,\"#fb9f3a\"],[0.8888888888888888,\"#fdca26\"],[1.0,\"#f0f921\"]],\"type\":\"histogram2d\"}],\"histogram\":[{\"marker\":{\"pattern\":{\"fillmode\":\"overlay\",\"size\":10,\"solidity\":0.2}},\"type\":\"histogram\"}],\"mesh3d\":[{\"colorbar\":{\"outlinewidth\":0,\"ticks\":\"\"},\"type\":\"mesh3d\"}],\"parcoords\":[{\"line\":{\"colorbar\":{\"outlinewidth\":0,\"ticks\":\"\"}},\"type\":\"parcoords\"}],\"pie\":[{\"automargin\":true,\"type\":\"pie\"}],\"scatter3d\":[{\"line\":{\"colorbar\":{\"outlinewidth\":0,\"ticks\":\"\"}},\"marker\":{\"colorbar\":{\"outlinewidth\":0,\"ticks\":\"\"}},\"type\":\"scatter3d\"}],\"scattercarpet\":[{\"marker\":{\"colorbar\":{\"outlinewidth\":0,\"ticks\":\"\"}},\"type\":\"scattercarpet\"}],\"scattergeo\":[{\"marker\":{\"colorbar\":{\"outlinewidth\":0,\"ticks\":\"\"}},\"type\":\"scattergeo\"}],\"scattergl\":[{\"marker\":{\"colorbar\":{\"outlinewidth\":0,\"ticks\":\"\"}},\"type\":\"scattergl\"}],\"scattermapbox\":[{\"marker\":{\"colorbar\":{\"outlinewidth\":0,\"ticks\":\"\"}},\"type\":\"scattermapbox\"}],\"scatterpolargl\":[{\"marker\":{\"colorbar\":{\"outlinewidth\":0,\"ticks\":\"\"}},\"type\":\"scatterpolargl\"}],\"scatterpolar\":[{\"marker\":{\"colorbar\":{\"outlinewidth\":0,\"ticks\":\"\"}},\"type\":\"scatterpolar\"}],\"scatter\":[{\"fillpattern\":{\"fillmode\":\"overlay\",\"size\":10,\"solidity\":0.2},\"type\":\"scatter\"}],\"scatterternary\":[{\"marker\":{\"colorbar\":{\"outlinewidth\":0,\"ticks\":\"\"}},\"type\":\"scatterternary\"}],\"surface\":[{\"colorbar\":{\"outlinewidth\":0,\"ticks\":\"\"},\"colorscale\":[[0.0,\"#0d0887\"],[0.1111111111111111,\"#46039f\"],[0.2222222222222222,\"#7201a8\"],[0.3333333333333333,\"#9c179e\"],[0.4444444444444444,\"#bd3786\"],[0.5555555555555556,\"#d8576b\"],[0.6666666666666666,\"#ed7953\"],[0.7777777777777778,\"#fb9f3a\"],[0.8888888888888888,\"#fdca26\"],[1.0,\"#f0f921\"]],\"type\":\"surface\"}],\"table\":[{\"cells\":{\"fill\":{\"color\":\"#EBF0F8\"},\"line\":{\"color\":\"white\"}},\"header\":{\"fill\":{\"color\":\"#C8D4E3\"},\"line\":{\"color\":\"white\"}},\"type\":\"table\"}]},\"layout\":{\"annotationdefaults\":{\"arrowcolor\":\"#2a3f5f\",\"arrowhead\":0,\"arrowwidth\":1},\"autotypenumbers\":\"strict\",\"coloraxis\":{\"colorbar\":{\"outlinewidth\":0,\"ticks\":\"\"}},\"colorscale\":{\"diverging\":[[0,\"#8e0152\"],[0.1,\"#c51b7d\"],[0.2,\"#de77ae\"],[0.3,\"#f1b6da\"],[0.4,\"#fde0ef\"],[0.5,\"#f7f7f7\"],[0.6,\"#e6f5d0\"],[0.7,\"#b8e186\"],[0.8,\"#7fbc41\"],[0.9,\"#4d9221\"],[1,\"#276419\"]],\"sequential\":[[0.0,\"#0d0887\"],[0.1111111111111111,\"#46039f\"],[0.2222222222222222,\"#7201a8\"],[0.3333333333333333,\"#9c179e\"],[0.4444444444444444,\"#bd3786\"],[0.5555555555555556,\"#d8576b\"],[0.6666666666666666,\"#ed7953\"],[0.7777777777777778,\"#fb9f3a\"],[0.8888888888888888,\"#fdca26\"],[1.0,\"#f0f921\"]],\"sequentialminus\":[[0.0,\"#0d0887\"],[0.1111111111111111,\"#46039f\"],[0.2222222222222222,\"#7201a8\"],[0.3333333333333333,\"#9c179e\"],[0.4444444444444444,\"#bd3786\"],[0.5555555555555556,\"#d8576b\"],[0.6666666666666666,\"#ed7953\"],[0.7777777777777778,\"#fb9f3a\"],[0.8888888888888888,\"#fdca26\"],[1.0,\"#f0f921\"]]},\"colorway\":[\"#636efa\",\"#EF553B\",\"#00cc96\",\"#ab63fa\",\"#FFA15A\",\"#19d3f3\",\"#FF6692\",\"#B6E880\",\"#FF97FF\",\"#FECB52\"],\"font\":{\"color\":\"#2a3f5f\"},\"geo\":{\"bgcolor\":\"white\",\"lakecolor\":\"white\",\"landcolor\":\"#E5ECF6\",\"showlakes\":true,\"showland\":true,\"subunitcolor\":\"white\"},\"hoverlabel\":{\"align\":\"left\"},\"hovermode\":\"closest\",\"mapbox\":{\"style\":\"light\"},\"paper_bgcolor\":\"white\",\"plot_bgcolor\":\"#E5ECF6\",\"polar\":{\"angularaxis\":{\"gridcolor\":\"white\",\"linecolor\":\"white\",\"ticks\":\"\"},\"bgcolor\":\"#E5ECF6\",\"radialaxis\":{\"gridcolor\":\"white\",\"linecolor\":\"white\",\"ticks\":\"\"}},\"scene\":{\"xaxis\":{\"backgroundcolor\":\"#E5ECF6\",\"gridcolor\":\"white\",\"gridwidth\":2,\"linecolor\":\"white\",\"showbackground\":true,\"ticks\":\"\",\"zerolinecolor\":\"white\"},\"yaxis\":{\"backgroundcolor\":\"#E5ECF6\",\"gridcolor\":\"white\",\"gridwidth\":2,\"linecolor\":\"white\",\"showbackground\":true,\"ticks\":\"\",\"zerolinecolor\":\"white\"},\"zaxis\":{\"backgroundcolor\":\"#E5ECF6\",\"gridcolor\":\"white\",\"gridwidth\":2,\"linecolor\":\"white\",\"showbackground\":true,\"ticks\":\"\",\"zerolinecolor\":\"white\"}},\"shapedefaults\":{\"line\":{\"color\":\"#2a3f5f\"}},\"ternary\":{\"aaxis\":{\"gridcolor\":\"white\",\"linecolor\":\"white\",\"ticks\":\"\"},\"baxis\":{\"gridcolor\":\"white\",\"linecolor\":\"white\",\"ticks\":\"\"},\"bgcolor\":\"#E5ECF6\",\"caxis\":{\"gridcolor\":\"white\",\"linecolor\":\"white\",\"ticks\":\"\"}},\"title\":{\"x\":0.05},\"xaxis\":{\"automargin\":true,\"gridcolor\":\"white\",\"linecolor\":\"white\",\"ticks\":\"\",\"title\":{\"standoff\":15},\"zerolinecolor\":\"white\",\"zerolinewidth\":2},\"yaxis\":{\"automargin\":true,\"gridcolor\":\"white\",\"linecolor\":\"white\",\"ticks\":\"\",\"title\":{\"standoff\":15},\"zerolinecolor\":\"white\",\"zerolinewidth\":2}}},\"title\":{\"font\":{\"color\":\"#4D5663\"}},\"xaxis\":{\"gridcolor\":\"#E1E5ED\",\"showgrid\":true,\"tickfont\":{\"color\":\"#4D5663\"},\"title\":{\"font\":{\"color\":\"#4D5663\"},\"text\":\"\"},\"zerolinecolor\":\"#E1E5ED\"},\"yaxis\":{\"gridcolor\":\"#E1E5ED\",\"showgrid\":true,\"tickfont\":{\"color\":\"#4D5663\"},\"title\":{\"font\":{\"color\":\"#4D5663\"},\"text\":\"\"},\"zerolinecolor\":\"#E1E5ED\"}},                        {\"showLink\": true, \"linkText\": \"Export to plot.ly\", \"plotlyServerURL\": \"https://plot.ly\", \"responsive\": true}                    ).then(function(){\n",
       "                            \n",
       "var gd = document.getElementById('c811c429-4d1a-43a1-8657-9a290a33bb20');\n",
       "var x = new MutationObserver(function (mutations, observer) {{\n",
       "        var display = window.getComputedStyle(gd).display;\n",
       "        if (!display || display === 'none') {{\n",
       "            console.log([gd, 'removed!']);\n",
       "            Plotly.purge(gd);\n",
       "            observer.disconnect();\n",
       "        }}\n",
       "}});\n",
       "\n",
       "// Listen for the removal of the full notebook cells\n",
       "var notebookContainer = gd.closest('#notebook-container');\n",
       "if (notebookContainer) {{\n",
       "    x.observe(notebookContainer, {childList: true});\n",
       "}}\n",
       "\n",
       "// Listen for the clearing of the current output cell\n",
       "var outputEl = gd.closest('.output');\n",
       "if (outputEl) {{\n",
       "    x.observe(outputEl, {childList: true});\n",
       "}}\n",
       "\n",
       "                        })                };                });            </script>        </div>"
      ]
     },
     "metadata": {},
     "output_type": "display_data"
    }
   ],
   "source": [
    "df.iplot(kind='scatter',x='A',y='B',mode='markers',size=10,bestfit=True)"
   ]
  },
  {
   "cell_type": "markdown",
   "metadata": {},
   "source": [
    "## Bar Plots"
   ]
  },
  {
   "cell_type": "code",
   "execution_count": 14,
   "metadata": {
    "collapsed": false,
    "jupyter": {
     "outputs_hidden": false
    }
   },
   "outputs": [
    {
     "data": {
      "application/vnd.plotly.v1+json": {
       "config": {
        "linkText": "Export to plot.ly",
        "plotlyServerURL": "https://plot.ly",
        "showLink": true
       },
       "data": [
        {
         "marker": {
          "color": "rgba(255, 153, 51, 0.6)",
          "line": {
           "color": "rgba(255, 153, 51, 1.0)",
           "width": 1
          }
         },
         "name": "Values",
         "orientation": "v",
         "text": "",
         "type": "bar",
         "x": [
          "A",
          "B",
          "C"
         ],
         "y": [
          32,
          43,
          50
         ]
        }
       ],
       "layout": {
        "autosize": true,
        "legend": {
         "bgcolor": "#F5F6F9",
         "font": {
          "color": "#4D5663"
         }
        },
        "paper_bgcolor": "#F5F6F9",
        "plot_bgcolor": "#F5F6F9",
        "template": {
         "data": {
          "bar": [
           {
            "error_x": {
             "color": "#2a3f5f"
            },
            "error_y": {
             "color": "#2a3f5f"
            },
            "marker": {
             "line": {
              "color": "#E5ECF6",
              "width": 0.5
             },
             "pattern": {
              "fillmode": "overlay",
              "size": 10,
              "solidity": 0.2
             }
            },
            "type": "bar"
           }
          ],
          "barpolar": [
           {
            "marker": {
             "line": {
              "color": "#E5ECF6",
              "width": 0.5
             },
             "pattern": {
              "fillmode": "overlay",
              "size": 10,
              "solidity": 0.2
             }
            },
            "type": "barpolar"
           }
          ],
          "carpet": [
           {
            "aaxis": {
             "endlinecolor": "#2a3f5f",
             "gridcolor": "white",
             "linecolor": "white",
             "minorgridcolor": "white",
             "startlinecolor": "#2a3f5f"
            },
            "baxis": {
             "endlinecolor": "#2a3f5f",
             "gridcolor": "white",
             "linecolor": "white",
             "minorgridcolor": "white",
             "startlinecolor": "#2a3f5f"
            },
            "type": "carpet"
           }
          ],
          "choropleth": [
           {
            "colorbar": {
             "outlinewidth": 0,
             "ticks": ""
            },
            "type": "choropleth"
           }
          ],
          "contour": [
           {
            "colorbar": {
             "outlinewidth": 0,
             "ticks": ""
            },
            "colorscale": [
             [
              0,
              "#0d0887"
             ],
             [
              0.1111111111111111,
              "#46039f"
             ],
             [
              0.2222222222222222,
              "#7201a8"
             ],
             [
              0.3333333333333333,
              "#9c179e"
             ],
             [
              0.4444444444444444,
              "#bd3786"
             ],
             [
              0.5555555555555556,
              "#d8576b"
             ],
             [
              0.6666666666666666,
              "#ed7953"
             ],
             [
              0.7777777777777778,
              "#fb9f3a"
             ],
             [
              0.8888888888888888,
              "#fdca26"
             ],
             [
              1,
              "#f0f921"
             ]
            ],
            "type": "contour"
           }
          ],
          "contourcarpet": [
           {
            "colorbar": {
             "outlinewidth": 0,
             "ticks": ""
            },
            "type": "contourcarpet"
           }
          ],
          "heatmap": [
           {
            "colorbar": {
             "outlinewidth": 0,
             "ticks": ""
            },
            "colorscale": [
             [
              0,
              "#0d0887"
             ],
             [
              0.1111111111111111,
              "#46039f"
             ],
             [
              0.2222222222222222,
              "#7201a8"
             ],
             [
              0.3333333333333333,
              "#9c179e"
             ],
             [
              0.4444444444444444,
              "#bd3786"
             ],
             [
              0.5555555555555556,
              "#d8576b"
             ],
             [
              0.6666666666666666,
              "#ed7953"
             ],
             [
              0.7777777777777778,
              "#fb9f3a"
             ],
             [
              0.8888888888888888,
              "#fdca26"
             ],
             [
              1,
              "#f0f921"
             ]
            ],
            "type": "heatmap"
           }
          ],
          "heatmapgl": [
           {
            "colorbar": {
             "outlinewidth": 0,
             "ticks": ""
            },
            "colorscale": [
             [
              0,
              "#0d0887"
             ],
             [
              0.1111111111111111,
              "#46039f"
             ],
             [
              0.2222222222222222,
              "#7201a8"
             ],
             [
              0.3333333333333333,
              "#9c179e"
             ],
             [
              0.4444444444444444,
              "#bd3786"
             ],
             [
              0.5555555555555556,
              "#d8576b"
             ],
             [
              0.6666666666666666,
              "#ed7953"
             ],
             [
              0.7777777777777778,
              "#fb9f3a"
             ],
             [
              0.8888888888888888,
              "#fdca26"
             ],
             [
              1,
              "#f0f921"
             ]
            ],
            "type": "heatmapgl"
           }
          ],
          "histogram": [
           {
            "marker": {
             "pattern": {
              "fillmode": "overlay",
              "size": 10,
              "solidity": 0.2
             }
            },
            "type": "histogram"
           }
          ],
          "histogram2d": [
           {
            "colorbar": {
             "outlinewidth": 0,
             "ticks": ""
            },
            "colorscale": [
             [
              0,
              "#0d0887"
             ],
             [
              0.1111111111111111,
              "#46039f"
             ],
             [
              0.2222222222222222,
              "#7201a8"
             ],
             [
              0.3333333333333333,
              "#9c179e"
             ],
             [
              0.4444444444444444,
              "#bd3786"
             ],
             [
              0.5555555555555556,
              "#d8576b"
             ],
             [
              0.6666666666666666,
              "#ed7953"
             ],
             [
              0.7777777777777778,
              "#fb9f3a"
             ],
             [
              0.8888888888888888,
              "#fdca26"
             ],
             [
              1,
              "#f0f921"
             ]
            ],
            "type": "histogram2d"
           }
          ],
          "histogram2dcontour": [
           {
            "colorbar": {
             "outlinewidth": 0,
             "ticks": ""
            },
            "colorscale": [
             [
              0,
              "#0d0887"
             ],
             [
              0.1111111111111111,
              "#46039f"
             ],
             [
              0.2222222222222222,
              "#7201a8"
             ],
             [
              0.3333333333333333,
              "#9c179e"
             ],
             [
              0.4444444444444444,
              "#bd3786"
             ],
             [
              0.5555555555555556,
              "#d8576b"
             ],
             [
              0.6666666666666666,
              "#ed7953"
             ],
             [
              0.7777777777777778,
              "#fb9f3a"
             ],
             [
              0.8888888888888888,
              "#fdca26"
             ],
             [
              1,
              "#f0f921"
             ]
            ],
            "type": "histogram2dcontour"
           }
          ],
          "mesh3d": [
           {
            "colorbar": {
             "outlinewidth": 0,
             "ticks": ""
            },
            "type": "mesh3d"
           }
          ],
          "parcoords": [
           {
            "line": {
             "colorbar": {
              "outlinewidth": 0,
              "ticks": ""
             }
            },
            "type": "parcoords"
           }
          ],
          "pie": [
           {
            "automargin": true,
            "type": "pie"
           }
          ],
          "scatter": [
           {
            "fillpattern": {
             "fillmode": "overlay",
             "size": 10,
             "solidity": 0.2
            },
            "type": "scatter"
           }
          ],
          "scatter3d": [
           {
            "line": {
             "colorbar": {
              "outlinewidth": 0,
              "ticks": ""
             }
            },
            "marker": {
             "colorbar": {
              "outlinewidth": 0,
              "ticks": ""
             }
            },
            "type": "scatter3d"
           }
          ],
          "scattercarpet": [
           {
            "marker": {
             "colorbar": {
              "outlinewidth": 0,
              "ticks": ""
             }
            },
            "type": "scattercarpet"
           }
          ],
          "scattergeo": [
           {
            "marker": {
             "colorbar": {
              "outlinewidth": 0,
              "ticks": ""
             }
            },
            "type": "scattergeo"
           }
          ],
          "scattergl": [
           {
            "marker": {
             "colorbar": {
              "outlinewidth": 0,
              "ticks": ""
             }
            },
            "type": "scattergl"
           }
          ],
          "scattermapbox": [
           {
            "marker": {
             "colorbar": {
              "outlinewidth": 0,
              "ticks": ""
             }
            },
            "type": "scattermapbox"
           }
          ],
          "scatterpolar": [
           {
            "marker": {
             "colorbar": {
              "outlinewidth": 0,
              "ticks": ""
             }
            },
            "type": "scatterpolar"
           }
          ],
          "scatterpolargl": [
           {
            "marker": {
             "colorbar": {
              "outlinewidth": 0,
              "ticks": ""
             }
            },
            "type": "scatterpolargl"
           }
          ],
          "scatterternary": [
           {
            "marker": {
             "colorbar": {
              "outlinewidth": 0,
              "ticks": ""
             }
            },
            "type": "scatterternary"
           }
          ],
          "surface": [
           {
            "colorbar": {
             "outlinewidth": 0,
             "ticks": ""
            },
            "colorscale": [
             [
              0,
              "#0d0887"
             ],
             [
              0.1111111111111111,
              "#46039f"
             ],
             [
              0.2222222222222222,
              "#7201a8"
             ],
             [
              0.3333333333333333,
              "#9c179e"
             ],
             [
              0.4444444444444444,
              "#bd3786"
             ],
             [
              0.5555555555555556,
              "#d8576b"
             ],
             [
              0.6666666666666666,
              "#ed7953"
             ],
             [
              0.7777777777777778,
              "#fb9f3a"
             ],
             [
              0.8888888888888888,
              "#fdca26"
             ],
             [
              1,
              "#f0f921"
             ]
            ],
            "type": "surface"
           }
          ],
          "table": [
           {
            "cells": {
             "fill": {
              "color": "#EBF0F8"
             },
             "line": {
              "color": "white"
             }
            },
            "header": {
             "fill": {
              "color": "#C8D4E3"
             },
             "line": {
              "color": "white"
             }
            },
            "type": "table"
           }
          ]
         },
         "layout": {
          "annotationdefaults": {
           "arrowcolor": "#2a3f5f",
           "arrowhead": 0,
           "arrowwidth": 1
          },
          "autotypenumbers": "strict",
          "coloraxis": {
           "colorbar": {
            "outlinewidth": 0,
            "ticks": ""
           }
          },
          "colorscale": {
           "diverging": [
            [
             0,
             "#8e0152"
            ],
            [
             0.1,
             "#c51b7d"
            ],
            [
             0.2,
             "#de77ae"
            ],
            [
             0.3,
             "#f1b6da"
            ],
            [
             0.4,
             "#fde0ef"
            ],
            [
             0.5,
             "#f7f7f7"
            ],
            [
             0.6,
             "#e6f5d0"
            ],
            [
             0.7,
             "#b8e186"
            ],
            [
             0.8,
             "#7fbc41"
            ],
            [
             0.9,
             "#4d9221"
            ],
            [
             1,
             "#276419"
            ]
           ],
           "sequential": [
            [
             0,
             "#0d0887"
            ],
            [
             0.1111111111111111,
             "#46039f"
            ],
            [
             0.2222222222222222,
             "#7201a8"
            ],
            [
             0.3333333333333333,
             "#9c179e"
            ],
            [
             0.4444444444444444,
             "#bd3786"
            ],
            [
             0.5555555555555556,
             "#d8576b"
            ],
            [
             0.6666666666666666,
             "#ed7953"
            ],
            [
             0.7777777777777778,
             "#fb9f3a"
            ],
            [
             0.8888888888888888,
             "#fdca26"
            ],
            [
             1,
             "#f0f921"
            ]
           ],
           "sequentialminus": [
            [
             0,
             "#0d0887"
            ],
            [
             0.1111111111111111,
             "#46039f"
            ],
            [
             0.2222222222222222,
             "#7201a8"
            ],
            [
             0.3333333333333333,
             "#9c179e"
            ],
            [
             0.4444444444444444,
             "#bd3786"
            ],
            [
             0.5555555555555556,
             "#d8576b"
            ],
            [
             0.6666666666666666,
             "#ed7953"
            ],
            [
             0.7777777777777778,
             "#fb9f3a"
            ],
            [
             0.8888888888888888,
             "#fdca26"
            ],
            [
             1,
             "#f0f921"
            ]
           ]
          },
          "colorway": [
           "#636efa",
           "#EF553B",
           "#00cc96",
           "#ab63fa",
           "#FFA15A",
           "#19d3f3",
           "#FF6692",
           "#B6E880",
           "#FF97FF",
           "#FECB52"
          ],
          "font": {
           "color": "#2a3f5f"
          },
          "geo": {
           "bgcolor": "white",
           "lakecolor": "white",
           "landcolor": "#E5ECF6",
           "showlakes": true,
           "showland": true,
           "subunitcolor": "white"
          },
          "hoverlabel": {
           "align": "left"
          },
          "hovermode": "closest",
          "mapbox": {
           "style": "light"
          },
          "paper_bgcolor": "white",
          "plot_bgcolor": "#E5ECF6",
          "polar": {
           "angularaxis": {
            "gridcolor": "white",
            "linecolor": "white",
            "ticks": ""
           },
           "bgcolor": "#E5ECF6",
           "radialaxis": {
            "gridcolor": "white",
            "linecolor": "white",
            "ticks": ""
           }
          },
          "scene": {
           "xaxis": {
            "backgroundcolor": "#E5ECF6",
            "gridcolor": "white",
            "gridwidth": 2,
            "linecolor": "white",
            "showbackground": true,
            "ticks": "",
            "zerolinecolor": "white"
           },
           "yaxis": {
            "backgroundcolor": "#E5ECF6",
            "gridcolor": "white",
            "gridwidth": 2,
            "linecolor": "white",
            "showbackground": true,
            "ticks": "",
            "zerolinecolor": "white"
           },
           "zaxis": {
            "backgroundcolor": "#E5ECF6",
            "gridcolor": "white",
            "gridwidth": 2,
            "linecolor": "white",
            "showbackground": true,
            "ticks": "",
            "zerolinecolor": "white"
           }
          },
          "shapedefaults": {
           "line": {
            "color": "#2a3f5f"
           }
          },
          "ternary": {
           "aaxis": {
            "gridcolor": "white",
            "linecolor": "white",
            "ticks": ""
           },
           "baxis": {
            "gridcolor": "white",
            "linecolor": "white",
            "ticks": ""
           },
           "bgcolor": "#E5ECF6",
           "caxis": {
            "gridcolor": "white",
            "linecolor": "white",
            "ticks": ""
           }
          },
          "title": {
           "x": 0.05
          },
          "xaxis": {
           "automargin": true,
           "gridcolor": "white",
           "linecolor": "white",
           "ticks": "",
           "title": {
            "standoff": 15
           },
           "zerolinecolor": "white",
           "zerolinewidth": 2
          },
          "yaxis": {
           "automargin": true,
           "gridcolor": "white",
           "linecolor": "white",
           "ticks": "",
           "title": {
            "standoff": 15
           },
           "zerolinecolor": "white",
           "zerolinewidth": 2
          }
         }
        },
        "title": {
         "font": {
          "color": "#4D5663"
         }
        },
        "xaxis": {
         "autorange": true,
         "gridcolor": "#E1E5ED",
         "range": [
          -0.5,
          2.5
         ],
         "showgrid": true,
         "tickfont": {
          "color": "#4D5663"
         },
         "title": {
          "font": {
           "color": "#4D5663"
          },
          "text": ""
         },
         "type": "category",
         "zerolinecolor": "#E1E5ED"
        },
        "yaxis": {
         "autorange": true,
         "gridcolor": "#E1E5ED",
         "range": [
          0,
          52.63157894736842
         ],
         "showgrid": true,
         "tickfont": {
          "color": "#4D5663"
         },
         "title": {
          "font": {
           "color": "#4D5663"
          },
          "text": ""
         },
         "type": "linear",
         "zerolinecolor": "#E1E5ED"
        }
       }
      },
      "image/png": "[encoded data removed]",
      "text/html": [
       "<div>                            <div id=\"aff4cee5-45dc-48f8-99fd-baa98776bb2e\" class=\"plotly-graph-div\" style=\"height:525px; width:100%;\"></div>            <script type=\"text/javascript\">                require([\"plotly\"], function(Plotly) {                    window.PLOTLYENV=window.PLOTLYENV || {};\n",
       "                    window.PLOTLYENV.BASE_URL='https://plot.ly';                                    if (document.getElementById(\"aff4cee5-45dc-48f8-99fd-baa98776bb2e\")) {                    Plotly.newPlot(                        \"aff4cee5-45dc-48f8-99fd-baa98776bb2e\",                        [{\"marker\":{\"color\":\"rgba(255, 153, 51, 0.6)\",\"line\":{\"color\":\"rgba(255, 153, 51, 1.0)\",\"width\":1}},\"name\":\"Values\",\"orientation\":\"v\",\"text\":\"\",\"x\":[\"A\",\"B\",\"C\"],\"y\":[32,43,50],\"type\":\"bar\"}],                        {\"legend\":{\"bgcolor\":\"#F5F6F9\",\"font\":{\"color\":\"#4D5663\"}},\"paper_bgcolor\":\"#F5F6F9\",\"plot_bgcolor\":\"#F5F6F9\",\"template\":{\"data\":{\"barpolar\":[{\"marker\":{\"line\":{\"color\":\"#E5ECF6\",\"width\":0.5},\"pattern\":{\"fillmode\":\"overlay\",\"size\":10,\"solidity\":0.2}},\"type\":\"barpolar\"}],\"bar\":[{\"error_x\":{\"color\":\"#2a3f5f\"},\"error_y\":{\"color\":\"#2a3f5f\"},\"marker\":{\"line\":{\"color\":\"#E5ECF6\",\"width\":0.5},\"pattern\":{\"fillmode\":\"overlay\",\"size\":10,\"solidity\":0.2}},\"type\":\"bar\"}],\"carpet\":[{\"aaxis\":{\"endlinecolor\":\"#2a3f5f\",\"gridcolor\":\"white\",\"linecolor\":\"white\",\"minorgridcolor\":\"white\",\"startlinecolor\":\"#2a3f5f\"},\"baxis\":{\"endlinecolor\":\"#2a3f5f\",\"gridcolor\":\"white\",\"linecolor\":\"white\",\"minorgridcolor\":\"white\",\"startlinecolor\":\"#2a3f5f\"},\"type\":\"carpet\"}],\"choropleth\":[{\"colorbar\":{\"outlinewidth\":0,\"ticks\":\"\"},\"type\":\"choropleth\"}],\"contourcarpet\":[{\"colorbar\":{\"outlinewidth\":0,\"ticks\":\"\"},\"type\":\"contourcarpet\"}],\"contour\":[{\"colorbar\":{\"outlinewidth\":0,\"ticks\":\"\"},\"colorscale\":[[0.0,\"#0d0887\"],[0.1111111111111111,\"#46039f\"],[0.2222222222222222,\"#7201a8\"],[0.3333333333333333,\"#9c179e\"],[0.4444444444444444,\"#bd3786\"],[0.5555555555555556,\"#d8576b\"],[0.6666666666666666,\"#ed7953\"],[0.7777777777777778,\"#fb9f3a\"],[0.8888888888888888,\"#fdca26\"],[1.0,\"#f0f921\"]],\"type\":\"contour\"}],\"heatmapgl\":[{\"colorbar\":{\"outlinewidth\":0,\"ticks\":\"\"},\"colorscale\":[[0.0,\"#0d0887\"],[0.1111111111111111,\"#46039f\"],[0.2222222222222222,\"#7201a8\"],[0.3333333333333333,\"#9c179e\"],[0.4444444444444444,\"#bd3786\"],[0.5555555555555556,\"#d8576b\"],[0.6666666666666666,\"#ed7953\"],[0.7777777777777778,\"#fb9f3a\"],[0.8888888888888888,\"#fdca26\"],[1.0,\"#f0f921\"]],\"type\":\"heatmapgl\"}],\"heatmap\":[{\"colorbar\":{\"outlinewidth\":0,\"ticks\":\"\"},\"colorscale\":[[0.0,\"#0d0887\"],[0.1111111111111111,\"#46039f\"],[0.2222222222222222,\"#7201a8\"],[0.3333333333333333,\"#9c179e\"],[0.4444444444444444,\"#bd3786\"],[0.5555555555555556,\"#d8576b\"],[0.6666666666666666,\"#ed7953\"],[0.7777777777777778,\"#fb9f3a\"],[0.8888888888888888,\"#fdca26\"],[1.0,\"#f0f921\"]],\"type\":\"heatmap\"}],\"histogram2dcontour\":[{\"colorbar\":{\"outlinewidth\":0,\"ticks\":\"\"},\"colorscale\":[[0.0,\"#0d0887\"],[0.1111111111111111,\"#46039f\"],[0.2222222222222222,\"#7201a8\"],[0.3333333333333333,\"#9c179e\"],[0.4444444444444444,\"#bd3786\"],[0.5555555555555556,\"#d8576b\"],[0.6666666666666666,\"#ed7953\"],[0.7777777777777778,\"#fb9f3a\"],[0.8888888888888888,\"#fdca26\"],[1.0,\"#f0f921\"]],\"type\":\"histogram2dcontour\"}],\"histogram2d\":[{\"colorbar\":{\"outlinewidth\":0,\"ticks\":\"\"},\"colorscale\":[[0.0,\"#0d0887\"],[0.1111111111111111,\"#46039f\"],[0.2222222222222222,\"#7201a8\"],[0.3333333333333333,\"#9c179e\"],[0.4444444444444444,\"#bd3786\"],[0.5555555555555556,\"#d8576b\"],[0.6666666666666666,\"#ed7953\"],[0.7777777777777778,\"#fb9f3a\"],[0.8888888888888888,\"#fdca26\"],[1.0,\"#f0f921\"]],\"type\":\"histogram2d\"}],\"histogram\":[{\"marker\":{\"pattern\":{\"fillmode\":\"overlay\",\"size\":10,\"solidity\":0.2}},\"type\":\"histogram\"}],\"mesh3d\":[{\"colorbar\":{\"outlinewidth\":0,\"ticks\":\"\"},\"type\":\"mesh3d\"}],\"parcoords\":[{\"line\":{\"colorbar\":{\"outlinewidth\":0,\"ticks\":\"\"}},\"type\":\"parcoords\"}],\"pie\":[{\"automargin\":true,\"type\":\"pie\"}],\"scatter3d\":[{\"line\":{\"colorbar\":{\"outlinewidth\":0,\"ticks\":\"\"}},\"marker\":{\"colorbar\":{\"outlinewidth\":0,\"ticks\":\"\"}},\"type\":\"scatter3d\"}],\"scattercarpet\":[{\"marker\":{\"colorbar\":{\"outlinewidth\":0,\"ticks\":\"\"}},\"type\":\"scattercarpet\"}],\"scattergeo\":[{\"marker\":{\"colorbar\":{\"outlinewidth\":0,\"ticks\":\"\"}},\"type\":\"scattergeo\"}],\"scattergl\":[{\"marker\":{\"colorbar\":{\"outlinewidth\":0,\"ticks\":\"\"}},\"type\":\"scattergl\"}],\"scattermapbox\":[{\"marker\":{\"colorbar\":{\"outlinewidth\":0,\"ticks\":\"\"}},\"type\":\"scattermapbox\"}],\"scatterpolargl\":[{\"marker\":{\"colorbar\":{\"outlinewidth\":0,\"ticks\":\"\"}},\"type\":\"scatterpolargl\"}],\"scatterpolar\":[{\"marker\":{\"colorbar\":{\"outlinewidth\":0,\"ticks\":\"\"}},\"type\":\"scatterpolar\"}],\"scatter\":[{\"fillpattern\":{\"fillmode\":\"overlay\",\"size\":10,\"solidity\":0.2},\"type\":\"scatter\"}],\"scatterternary\":[{\"marker\":{\"colorbar\":{\"outlinewidth\":0,\"ticks\":\"\"}},\"type\":\"scatterternary\"}],\"surface\":[{\"colorbar\":{\"outlinewidth\":0,\"ticks\":\"\"},\"colorscale\":[[0.0,\"#0d0887\"],[0.1111111111111111,\"#46039f\"],[0.2222222222222222,\"#7201a8\"],[0.3333333333333333,\"#9c179e\"],[0.4444444444444444,\"#bd3786\"],[0.5555555555555556,\"#d8576b\"],[0.6666666666666666,\"#ed7953\"],[0.7777777777777778,\"#fb9f3a\"],[0.8888888888888888,\"#fdca26\"],[1.0,\"#f0f921\"]],\"type\":\"surface\"}],\"table\":[{\"cells\":{\"fill\":{\"color\":\"#EBF0F8\"},\"line\":{\"color\":\"white\"}},\"header\":{\"fill\":{\"color\":\"#C8D4E3\"},\"line\":{\"color\":\"white\"}},\"type\":\"table\"}]},\"layout\":{\"annotationdefaults\":{\"arrowcolor\":\"#2a3f5f\",\"arrowhead\":0,\"arrowwidth\":1},\"autotypenumbers\":\"strict\",\"coloraxis\":{\"colorbar\":{\"outlinewidth\":0,\"ticks\":\"\"}},\"colorscale\":{\"diverging\":[[0,\"#8e0152\"],[0.1,\"#c51b7d\"],[0.2,\"#de77ae\"],[0.3,\"#f1b6da\"],[0.4,\"#fde0ef\"],[0.5,\"#f7f7f7\"],[0.6,\"#e6f5d0\"],[0.7,\"#b8e186\"],[0.8,\"#7fbc41\"],[0.9,\"#4d9221\"],[1,\"#276419\"]],\"sequential\":[[0.0,\"#0d0887\"],[0.1111111111111111,\"#46039f\"],[0.2222222222222222,\"#7201a8\"],[0.3333333333333333,\"#9c179e\"],[0.4444444444444444,\"#bd3786\"],[0.5555555555555556,\"#d8576b\"],[0.6666666666666666,\"#ed7953\"],[0.7777777777777778,\"#fb9f3a\"],[0.8888888888888888,\"#fdca26\"],[1.0,\"#f0f921\"]],\"sequentialminus\":[[0.0,\"#0d0887\"],[0.1111111111111111,\"#46039f\"],[0.2222222222222222,\"#7201a8\"],[0.3333333333333333,\"#9c179e\"],[0.4444444444444444,\"#bd3786\"],[0.5555555555555556,\"#d8576b\"],[0.6666666666666666,\"#ed7953\"],[0.7777777777777778,\"#fb9f3a\"],[0.8888888888888888,\"#fdca26\"],[1.0,\"#f0f921\"]]},\"colorway\":[\"#636efa\",\"#EF553B\",\"#00cc96\",\"#ab63fa\",\"#FFA15A\",\"#19d3f3\",\"#FF6692\",\"#B6E880\",\"#FF97FF\",\"#FECB52\"],\"font\":{\"color\":\"#2a3f5f\"},\"geo\":{\"bgcolor\":\"white\",\"lakecolor\":\"white\",\"landcolor\":\"#E5ECF6\",\"showlakes\":true,\"showland\":true,\"subunitcolor\":\"white\"},\"hoverlabel\":{\"align\":\"left\"},\"hovermode\":\"closest\",\"mapbox\":{\"style\":\"light\"},\"paper_bgcolor\":\"white\",\"plot_bgcolor\":\"#E5ECF6\",\"polar\":{\"angularaxis\":{\"gridcolor\":\"white\",\"linecolor\":\"white\",\"ticks\":\"\"},\"bgcolor\":\"#E5ECF6\",\"radialaxis\":{\"gridcolor\":\"white\",\"linecolor\":\"white\",\"ticks\":\"\"}},\"scene\":{\"xaxis\":{\"backgroundcolor\":\"#E5ECF6\",\"gridcolor\":\"white\",\"gridwidth\":2,\"linecolor\":\"white\",\"showbackground\":true,\"ticks\":\"\",\"zerolinecolor\":\"white\"},\"yaxis\":{\"backgroundcolor\":\"#E5ECF6\",\"gridcolor\":\"white\",\"gridwidth\":2,\"linecolor\":\"white\",\"showbackground\":true,\"ticks\":\"\",\"zerolinecolor\":\"white\"},\"zaxis\":{\"backgroundcolor\":\"#E5ECF6\",\"gridcolor\":\"white\",\"gridwidth\":2,\"linecolor\":\"white\",\"showbackground\":true,\"ticks\":\"\",\"zerolinecolor\":\"white\"}},\"shapedefaults\":{\"line\":{\"color\":\"#2a3f5f\"}},\"ternary\":{\"aaxis\":{\"gridcolor\":\"white\",\"linecolor\":\"white\",\"ticks\":\"\"},\"baxis\":{\"gridcolor\":\"white\",\"linecolor\":\"white\",\"ticks\":\"\"},\"bgcolor\":\"#E5ECF6\",\"caxis\":{\"gridcolor\":\"white\",\"linecolor\":\"white\",\"ticks\":\"\"}},\"title\":{\"x\":0.05},\"xaxis\":{\"automargin\":true,\"gridcolor\":\"white\",\"linecolor\":\"white\",\"ticks\":\"\",\"title\":{\"standoff\":15},\"zerolinecolor\":\"white\",\"zerolinewidth\":2},\"yaxis\":{\"automargin\":true,\"gridcolor\":\"white\",\"linecolor\":\"white\",\"ticks\":\"\",\"title\":{\"standoff\":15},\"zerolinecolor\":\"white\",\"zerolinewidth\":2}}},\"title\":{\"font\":{\"color\":\"#4D5663\"}},\"xaxis\":{\"gridcolor\":\"#E1E5ED\",\"showgrid\":true,\"tickfont\":{\"color\":\"#4D5663\"},\"title\":{\"font\":{\"color\":\"#4D5663\"},\"text\":\"\"},\"zerolinecolor\":\"#E1E5ED\"},\"yaxis\":{\"gridcolor\":\"#E1E5ED\",\"showgrid\":true,\"tickfont\":{\"color\":\"#4D5663\"},\"title\":{\"font\":{\"color\":\"#4D5663\"},\"text\":\"\"},\"zerolinecolor\":\"#E1E5ED\"}},                        {\"showLink\": true, \"linkText\": \"Export to plot.ly\", \"plotlyServerURL\": \"https://plot.ly\", \"responsive\": true}                    ).then(function(){\n",
       "                            \n",
       "var gd = document.getElementById('aff4cee5-45dc-48f8-99fd-baa98776bb2e');\n",
       "var x = new MutationObserver(function (mutations, observer) {{\n",
       "        var display = window.getComputedStyle(gd).display;\n",
       "        if (!display || display === 'none') {{\n",
       "            console.log([gd, 'removed!']);\n",
       "            Plotly.purge(gd);\n",
       "            observer.disconnect();\n",
       "        }}\n",
       "}});\n",
       "\n",
       "// Listen for the removal of the full notebook cells\n",
       "var notebookContainer = gd.closest('#notebook-container');\n",
       "if (notebookContainer) {{\n",
       "    x.observe(notebookContainer, {childList: true});\n",
       "}}\n",
       "\n",
       "// Listen for the clearing of the current output cell\n",
       "var outputEl = gd.closest('.output');\n",
       "if (outputEl) {{\n",
       "    x.observe(outputEl, {childList: true});\n",
       "}}\n",
       "\n",
       "                        })                };                });            </script>        </div>"
      ]
     },
     "metadata": {},
     "output_type": "display_data"
    }
   ],
   "source": [
    "df2.iplot(kind='bar',x='Category',y='Values')"
   ]
  },
  {
   "cell_type": "code",
   "execution_count": 15,
   "metadata": {},
   "outputs": [
    {
     "data": {
      "text/plain": [
       "A    100\n",
       "B    100\n",
       "C    100\n",
       "D    100\n",
       "dtype: int64"
      ]
     },
     "execution_count": 15,
     "metadata": {},
     "output_type": "execute_result"
    }
   ],
   "source": [
    "df.count()"
   ]
  },
  {
   "cell_type": "code",
   "execution_count": 16,
   "metadata": {
    "collapsed": false,
    "jupyter": {
     "outputs_hidden": false
    }
   },
   "outputs": [
    {
     "data": {
      "application/vnd.plotly.v1+json": {
       "config": {
        "linkText": "Export to plot.ly",
        "plotlyServerURL": "https://plot.ly",
        "showLink": true
       },
       "data": [
        {
         "marker": {
          "color": "rgba(255, 153, 51, 0.6)",
          "line": {
           "color": "rgba(255, 153, 51, 1.0)",
           "width": 1
          }
         },
         "name": "None",
         "orientation": "v",
         "text": "",
         "type": "bar",
         "x": [
          "A",
          "B",
          "C",
          "D"
         ],
         "y": [
          100,
          100,
          100,
          100
         ]
        }
       ],
       "layout": {
        "autosize": true,
        "legend": {
         "bgcolor": "#F5F6F9",
         "font": {
          "color": "#4D5663"
         }
        },
        "paper_bgcolor": "#F5F6F9",
        "plot_bgcolor": "#F5F6F9",
        "template": {
         "data": {
          "bar": [
           {
            "error_x": {
             "color": "#2a3f5f"
            },
            "error_y": {
             "color": "#2a3f5f"
            },
            "marker": {
             "line": {
              "color": "#E5ECF6",
              "width": 0.5
             },
             "pattern": {
              "fillmode": "overlay",
              "size": 10,
              "solidity": 0.2
             }
            },
            "type": "bar"
           }
          ],
          "barpolar": [
           {
            "marker": {
             "line": {
              "color": "#E5ECF6",
              "width": 0.5
             },
             "pattern": {
              "fillmode": "overlay",
              "size": 10,
              "solidity": 0.2
             }
            },
            "type": "barpolar"
           }
          ],
          "carpet": [
           {
            "aaxis": {
             "endlinecolor": "#2a3f5f",
             "gridcolor": "white",
             "linecolor": "white",
             "minorgridcolor": "white",
             "startlinecolor": "#2a3f5f"
            },
            "baxis": {
             "endlinecolor": "#2a3f5f",
             "gridcolor": "white",
             "linecolor": "white",
             "minorgridcolor": "white",
             "startlinecolor": "#2a3f5f"
            },
            "type": "carpet"
           }
          ],
          "choropleth": [
           {
            "colorbar": {
             "outlinewidth": 0,
             "ticks": ""
            },
            "type": "choropleth"
           }
          ],
          "contour": [
           {
            "colorbar": {
             "outlinewidth": 0,
             "ticks": ""
            },
            "colorscale": [
             [
              0,
              "#0d0887"
             ],
             [
              0.1111111111111111,
              "#46039f"
             ],
             [
              0.2222222222222222,
              "#7201a8"
             ],
             [
              0.3333333333333333,
              "#9c179e"
             ],
             [
              0.4444444444444444,
              "#bd3786"
             ],
             [
              0.5555555555555556,
              "#d8576b"
             ],
             [
              0.6666666666666666,
              "#ed7953"
             ],
             [
              0.7777777777777778,
              "#fb9f3a"
             ],
             [
              0.8888888888888888,
              "#fdca26"
             ],
             [
              1,
              "#f0f921"
             ]
            ],
            "type": "contour"
           }
          ],
          "contourcarpet": [
           {
            "colorbar": {
             "outlinewidth": 0,
             "ticks": ""
            },
            "type": "contourcarpet"
           }
          ],
          "heatmap": [
           {
            "colorbar": {
             "outlinewidth": 0,
             "ticks": ""
            },
            "colorscale": [
             [
              0,
              "#0d0887"
             ],
             [
              0.1111111111111111,
              "#46039f"
             ],
             [
              0.2222222222222222,
              "#7201a8"
             ],
             [
              0.3333333333333333,
              "#9c179e"
             ],
             [
              0.4444444444444444,
              "#bd3786"
             ],
             [
              0.5555555555555556,
              "#d8576b"
             ],
             [
              0.6666666666666666,
              "#ed7953"
             ],
             [
              0.7777777777777778,
              "#fb9f3a"
             ],
             [
              0.8888888888888888,
              "#fdca26"
             ],
             [
              1,
              "#f0f921"
             ]
            ],
            "type": "heatmap"
           }
          ],
          "heatmapgl": [
           {
            "colorbar": {
             "outlinewidth": 0,
             "ticks": ""
            },
            "colorscale": [
             [
              0,
              "#0d0887"
             ],
             [
              0.1111111111111111,
              "#46039f"
             ],
             [
              0.2222222222222222,
              "#7201a8"
             ],
             [
              0.3333333333333333,
              "#9c179e"
             ],
             [
              0.4444444444444444,
              "#bd3786"
             ],
             [
              0.5555555555555556,
              "#d8576b"
             ],
             [
              0.6666666666666666,
              "#ed7953"
             ],
             [
              0.7777777777777778,
              "#fb9f3a"
             ],
             [
              0.8888888888888888,
              "#fdca26"
             ],
             [
              1,
              "#f0f921"
             ]
            ],
            "type": "heatmapgl"
           }
          ],
          "histogram": [
           {
            "marker": {
             "pattern": {
              "fillmode": "overlay",
              "size": 10,
              "solidity": 0.2
             }
            },
            "type": "histogram"
           }
          ],
          "histogram2d": [
           {
            "colorbar": {
             "outlinewidth": 0,
             "ticks": ""
            },
            "colorscale": [
             [
              0,
              "#0d0887"
             ],
             [
              0.1111111111111111,
              "#46039f"
             ],
             [
              0.2222222222222222,
              "#7201a8"
             ],
             [
              0.3333333333333333,
              "#9c179e"
             ],
             [
              0.4444444444444444,
              "#bd3786"
             ],
             [
              0.5555555555555556,
              "#d8576b"
             ],
             [
              0.6666666666666666,
              "#ed7953"
             ],
             [
              0.7777777777777778,
              "#fb9f3a"
             ],
             [
              0.8888888888888888,
              "#fdca26"
             ],
             [
              1,
              "#f0f921"
             ]
            ],
            "type": "histogram2d"
           }
          ],
          "histogram2dcontour": [
           {
            "colorbar": {
             "outlinewidth": 0,
             "ticks": ""
            },
            "colorscale": [
             [
              0,
              "#0d0887"
             ],
             [
              0.1111111111111111,
              "#46039f"
             ],
             [
              0.2222222222222222,
              "#7201a8"
             ],
             [
              0.3333333333333333,
              "#9c179e"
             ],
             [
              0.4444444444444444,
              "#bd3786"
             ],
             [
              0.5555555555555556,
              "#d8576b"
             ],
             [
              0.6666666666666666,
              "#ed7953"
             ],
             [
              0.7777777777777778,
              "#fb9f3a"
             ],
             [
              0.8888888888888888,
              "#fdca26"
             ],
             [
              1,
              "#f0f921"
             ]
            ],
            "type": "histogram2dcontour"
           }
          ],
          "mesh3d": [
           {
            "colorbar": {
             "outlinewidth": 0,
             "ticks": ""
            },
            "type": "mesh3d"
           }
          ],
          "parcoords": [
           {
            "line": {
             "colorbar": {
              "outlinewidth": 0,
              "ticks": ""
             }
            },
            "type": "parcoords"
           }
          ],
          "pie": [
           {
            "automargin": true,
            "type": "pie"
           }
          ],
          "scatter": [
           {
            "fillpattern": {
             "fillmode": "overlay",
             "size": 10,
             "solidity": 0.2
            },
            "type": "scatter"
           }
          ],
          "scatter3d": [
           {
            "line": {
             "colorbar": {
              "outlinewidth": 0,
              "ticks": ""
             }
            },
            "marker": {
             "colorbar": {
              "outlinewidth": 0,
              "ticks": ""
             }
            },
            "type": "scatter3d"
           }
          ],
          "scattercarpet": [
           {
            "marker": {
             "colorbar": {
              "outlinewidth": 0,
              "ticks": ""
             }
            },
            "type": "scattercarpet"
           }
          ],
          "scattergeo": [
           {
            "marker": {
             "colorbar": {
              "outlinewidth": 0,
              "ticks": ""
             }
            },
            "type": "scattergeo"
           }
          ],
          "scattergl": [
           {
            "marker": {
             "colorbar": {
              "outlinewidth": 0,
              "ticks": ""
             }
            },
            "type": "scattergl"
           }
          ],
          "scattermapbox": [
           {
            "marker": {
             "colorbar": {
              "outlinewidth": 0,
              "ticks": ""
             }
            },
            "type": "scattermapbox"
           }
          ],
          "scatterpolar": [
           {
            "marker": {
             "colorbar": {
              "outlinewidth": 0,
              "ticks": ""
             }
            },
            "type": "scatterpolar"
           }
          ],
          "scatterpolargl": [
           {
            "marker": {
             "colorbar": {
              "outlinewidth": 0,
              "ticks": ""
             }
            },
            "type": "scatterpolargl"
           }
          ],
          "scatterternary": [
           {
            "marker": {
             "colorbar": {
              "outlinewidth": 0,
              "ticks": ""
             }
            },
            "type": "scatterternary"
           }
          ],
          "surface": [
           {
            "colorbar": {
             "outlinewidth": 0,
             "ticks": ""
            },
            "colorscale": [
             [
              0,
              "#0d0887"
             ],
             [
              0.1111111111111111,
              "#46039f"
             ],
             [
              0.2222222222222222,
              "#7201a8"
             ],
             [
              0.3333333333333333,
              "#9c179e"
             ],
             [
              0.4444444444444444,
              "#bd3786"
             ],
             [
              0.5555555555555556,
              "#d8576b"
             ],
             [
              0.6666666666666666,
              "#ed7953"
             ],
             [
              0.7777777777777778,
              "#fb9f3a"
             ],
             [
              0.8888888888888888,
              "#fdca26"
             ],
             [
              1,
              "#f0f921"
             ]
            ],
            "type": "surface"
           }
          ],
          "table": [
           {
            "cells": {
             "fill": {
              "color": "#EBF0F8"
             },
             "line": {
              "color": "white"
             }
            },
            "header": {
             "fill": {
              "color": "#C8D4E3"
             },
             "line": {
              "color": "white"
             }
            },
            "type": "table"
           }
          ]
         },
         "layout": {
          "annotationdefaults": {
           "arrowcolor": "#2a3f5f",
           "arrowhead": 0,
           "arrowwidth": 1
          },
          "autotypenumbers": "strict",
          "coloraxis": {
           "colorbar": {
            "outlinewidth": 0,
            "ticks": ""
           }
          },
          "colorscale": {
           "diverging": [
            [
             0,
             "#8e0152"
            ],
            [
             0.1,
             "#c51b7d"
            ],
            [
             0.2,
             "#de77ae"
            ],
            [
             0.3,
             "#f1b6da"
            ],
            [
             0.4,
             "#fde0ef"
            ],
            [
             0.5,
             "#f7f7f7"
            ],
            [
             0.6,
             "#e6f5d0"
            ],
            [
             0.7,
             "#b8e186"
            ],
            [
             0.8,
             "#7fbc41"
            ],
            [
             0.9,
             "#4d9221"
            ],
            [
             1,
             "#276419"
            ]
           ],
           "sequential": [
            [
             0,
             "#0d0887"
            ],
            [
             0.1111111111111111,
             "#46039f"
            ],
            [
             0.2222222222222222,
             "#7201a8"
            ],
            [
             0.3333333333333333,
             "#9c179e"
            ],
            [
             0.4444444444444444,
             "#bd3786"
            ],
            [
             0.5555555555555556,
             "#d8576b"
            ],
            [
             0.6666666666666666,
             "#ed7953"
            ],
            [
             0.7777777777777778,
             "#fb9f3a"
            ],
            [
             0.8888888888888888,
             "#fdca26"
            ],
            [
             1,
             "#f0f921"
            ]
           ],
           "sequentialminus": [
            [
             0,
             "#0d0887"
            ],
            [
             0.1111111111111111,
             "#46039f"
            ],
            [
             0.2222222222222222,
             "#7201a8"
            ],
            [
             0.3333333333333333,
             "#9c179e"
            ],
            [
             0.4444444444444444,
             "#bd3786"
            ],
            [
             0.5555555555555556,
             "#d8576b"
            ],
            [
             0.6666666666666666,
             "#ed7953"
            ],
            [
             0.7777777777777778,
             "#fb9f3a"
            ],
            [
             0.8888888888888888,
             "#fdca26"
            ],
            [
             1,
             "#f0f921"
            ]
           ]
          },
          "colorway": [
           "#636efa",
           "#EF553B",
           "#00cc96",
           "#ab63fa",
           "#FFA15A",
           "#19d3f3",
           "#FF6692",
           "#B6E880",
           "#FF97FF",
           "#FECB52"
          ],
          "font": {
           "color": "#2a3f5f"
          },
          "geo": {
           "bgcolor": "white",
           "lakecolor": "white",
           "landcolor": "#E5ECF6",
           "showlakes": true,
           "showland": true,
           "subunitcolor": "white"
          },
          "hoverlabel": {
           "align": "left"
          },
          "hovermode": "closest",
          "mapbox": {
           "style": "light"
          },
          "paper_bgcolor": "white",
          "plot_bgcolor": "#E5ECF6",
          "polar": {
           "angularaxis": {
            "gridcolor": "white",
            "linecolor": "white",
            "ticks": ""
           },
           "bgcolor": "#E5ECF6",
           "radialaxis": {
            "gridcolor": "white",
            "linecolor": "white",
            "ticks": ""
           }
          },
          "scene": {
           "xaxis": {
            "backgroundcolor": "#E5ECF6",
            "gridcolor": "white",
            "gridwidth": 2,
            "linecolor": "white",
            "showbackground": true,
            "ticks": "",
            "zerolinecolor": "white"
           },
           "yaxis": {
            "backgroundcolor": "#E5ECF6",
            "gridcolor": "white",
            "gridwidth": 2,
            "linecolor": "white",
            "showbackground": true,
            "ticks": "",
            "zerolinecolor": "white"
           },
           "zaxis": {
            "backgroundcolor": "#E5ECF6",
            "gridcolor": "white",
            "gridwidth": 2,
            "linecolor": "white",
            "showbackground": true,
            "ticks": "",
            "zerolinecolor": "white"
           }
          },
          "shapedefaults": {
           "line": {
            "color": "#2a3f5f"
           }
          },
          "ternary": {
           "aaxis": {
            "gridcolor": "white",
            "linecolor": "white",
            "ticks": ""
           },
           "baxis": {
            "gridcolor": "white",
            "linecolor": "white",
            "ticks": ""
           },
           "bgcolor": "#E5ECF6",
           "caxis": {
            "gridcolor": "white",
            "linecolor": "white",
            "ticks": ""
           }
          },
          "title": {
           "x": 0.05
          },
          "xaxis": {
           "automargin": true,
           "gridcolor": "white",
           "linecolor": "white",
           "ticks": "",
           "title": {
            "standoff": 15
           },
           "zerolinecolor": "white",
           "zerolinewidth": 2
          },
          "yaxis": {
           "automargin": true,
           "gridcolor": "white",
           "linecolor": "white",
           "ticks": "",
           "title": {
            "standoff": 15
           },
           "zerolinecolor": "white",
           "zerolinewidth": 2
          }
         }
        },
        "title": {
         "font": {
          "color": "#4D5663"
         }
        },
        "xaxis": {
         "autorange": true,
         "gridcolor": "#E1E5ED",
         "range": [
          -0.5,
          3.5
         ],
         "showgrid": true,
         "tickfont": {
          "color": "#4D5663"
         },
         "title": {
          "font": {
           "color": "#4D5663"
          },
          "text": ""
         },
         "type": "category",
         "zerolinecolor": "#E1E5ED"
        },
        "yaxis": {
         "autorange": true,
         "gridcolor": "#E1E5ED",
         "range": [
          0,
          105.26315789473684
         ],
         "showgrid": true,
         "tickfont": {
          "color": "#4D5663"
         },
         "title": {
          "font": {
           "color": "#4D5663"
          },
          "text": ""
         },
         "type": "linear",
         "zerolinecolor": "#E1E5ED"
        }
       }
      },
      "image/png": "[encoded data removed]",
      "text/html": [
       "<div>                            <div id=\"7fff7250-ddd7-4f70-ad5c-05f594cc2b63\" class=\"plotly-graph-div\" style=\"height:525px; width:100%;\"></div>            <script type=\"text/javascript\">                require([\"plotly\"], function(Plotly) {                    window.PLOTLYENV=window.PLOTLYENV || {};\n",
       "                    window.PLOTLYENV.BASE_URL='https://plot.ly';                                    if (document.getElementById(\"7fff7250-ddd7-4f70-ad5c-05f594cc2b63\")) {                    Plotly.newPlot(                        \"7fff7250-ddd7-4f70-ad5c-05f594cc2b63\",                        [{\"marker\":{\"color\":\"rgba(255, 153, 51, 0.6)\",\"line\":{\"color\":\"rgba(255, 153, 51, 1.0)\",\"width\":1}},\"name\":\"None\",\"orientation\":\"v\",\"text\":\"\",\"x\":[\"A\",\"B\",\"C\",\"D\"],\"y\":[100,100,100,100],\"type\":\"bar\"}],                        {\"legend\":{\"bgcolor\":\"#F5F6F9\",\"font\":{\"color\":\"#4D5663\"}},\"paper_bgcolor\":\"#F5F6F9\",\"plot_bgcolor\":\"#F5F6F9\",\"template\":{\"data\":{\"barpolar\":[{\"marker\":{\"line\":{\"color\":\"#E5ECF6\",\"width\":0.5},\"pattern\":{\"fillmode\":\"overlay\",\"size\":10,\"solidity\":0.2}},\"type\":\"barpolar\"}],\"bar\":[{\"error_x\":{\"color\":\"#2a3f5f\"},\"error_y\":{\"color\":\"#2a3f5f\"},\"marker\":{\"line\":{\"color\":\"#E5ECF6\",\"width\":0.5},\"pattern\":{\"fillmode\":\"overlay\",\"size\":10,\"solidity\":0.2}},\"type\":\"bar\"}],\"carpet\":[{\"aaxis\":{\"endlinecolor\":\"#2a3f5f\",\"gridcolor\":\"white\",\"linecolor\":\"white\",\"minorgridcolor\":\"white\",\"startlinecolor\":\"#2a3f5f\"},\"baxis\":{\"endlinecolor\":\"#2a3f5f\",\"gridcolor\":\"white\",\"linecolor\":\"white\",\"minorgridcolor\":\"white\",\"startlinecolor\":\"#2a3f5f\"},\"type\":\"carpet\"}],\"choropleth\":[{\"colorbar\":{\"outlinewidth\":0,\"ticks\":\"\"},\"type\":\"choropleth\"}],\"contourcarpet\":[{\"colorbar\":{\"outlinewidth\":0,\"ticks\":\"\"},\"type\":\"contourcarpet\"}],\"contour\":[{\"colorbar\":{\"outlinewidth\":0,\"ticks\":\"\"},\"colorscale\":[[0.0,\"#0d0887\"],[0.1111111111111111,\"#46039f\"],[0.2222222222222222,\"#7201a8\"],[0.3333333333333333,\"#9c179e\"],[0.4444444444444444,\"#bd3786\"],[0.5555555555555556,\"#d8576b\"],[0.6666666666666666,\"#ed7953\"],[0.7777777777777778,\"#fb9f3a\"],[0.8888888888888888,\"#fdca26\"],[1.0,\"#f0f921\"]],\"type\":\"contour\"}],\"heatmapgl\":[{\"colorbar\":{\"outlinewidth\":0,\"ticks\":\"\"},\"colorscale\":[[0.0,\"#0d0887\"],[0.1111111111111111,\"#46039f\"],[0.2222222222222222,\"#7201a8\"],[0.3333333333333333,\"#9c179e\"],[0.4444444444444444,\"#bd3786\"],[0.5555555555555556,\"#d8576b\"],[0.6666666666666666,\"#ed7953\"],[0.7777777777777778,\"#fb9f3a\"],[0.8888888888888888,\"#fdca26\"],[1.0,\"#f0f921\"]],\"type\":\"heatmapgl\"}],\"heatmap\":[{\"colorbar\":{\"outlinewidth\":0,\"ticks\":\"\"},\"colorscale\":[[0.0,\"#0d0887\"],[0.1111111111111111,\"#46039f\"],[0.2222222222222222,\"#7201a8\"],[0.3333333333333333,\"#9c179e\"],[0.4444444444444444,\"#bd3786\"],[0.5555555555555556,\"#d8576b\"],[0.6666666666666666,\"#ed7953\"],[0.7777777777777778,\"#fb9f3a\"],[0.8888888888888888,\"#fdca26\"],[1.0,\"#f0f921\"]],\"type\":\"heatmap\"}],\"histogram2dcontour\":[{\"colorbar\":{\"outlinewidth\":0,\"ticks\":\"\"},\"colorscale\":[[0.0,\"#0d0887\"],[0.1111111111111111,\"#46039f\"],[0.2222222222222222,\"#7201a8\"],[0.3333333333333333,\"#9c179e\"],[0.4444444444444444,\"#bd3786\"],[0.5555555555555556,\"#d8576b\"],[0.6666666666666666,\"#ed7953\"],[0.7777777777777778,\"#fb9f3a\"],[0.8888888888888888,\"#fdca26\"],[1.0,\"#f0f921\"]],\"type\":\"histogram2dcontour\"}],\"histogram2d\":[{\"colorbar\":{\"outlinewidth\":0,\"ticks\":\"\"},\"colorscale\":[[0.0,\"#0d0887\"],[0.1111111111111111,\"#46039f\"],[0.2222222222222222,\"#7201a8\"],[0.3333333333333333,\"#9c179e\"],[0.4444444444444444,\"#bd3786\"],[0.5555555555555556,\"#d8576b\"],[0.6666666666666666,\"#ed7953\"],[0.7777777777777778,\"#fb9f3a\"],[0.8888888888888888,\"#fdca26\"],[1.0,\"#f0f921\"]],\"type\":\"histogram2d\"}],\"histogram\":[{\"marker\":{\"pattern\":{\"fillmode\":\"overlay\",\"size\":10,\"solidity\":0.2}},\"type\":\"histogram\"}],\"mesh3d\":[{\"colorbar\":{\"outlinewidth\":0,\"ticks\":\"\"},\"type\":\"mesh3d\"}],\"parcoords\":[{\"line\":{\"colorbar\":{\"outlinewidth\":0,\"ticks\":\"\"}},\"type\":\"parcoords\"}],\"pie\":[{\"automargin\":true,\"type\":\"pie\"}],\"scatter3d\":[{\"line\":{\"colorbar\":{\"outlinewidth\":0,\"ticks\":\"\"}},\"marker\":{\"colorbar\":{\"outlinewidth\":0,\"ticks\":\"\"}},\"type\":\"scatter3d\"}],\"scattercarpet\":[{\"marker\":{\"colorbar\":{\"outlinewidth\":0,\"ticks\":\"\"}},\"type\":\"scattercarpet\"}],\"scattergeo\":[{\"marker\":{\"colorbar\":{\"outlinewidth\":0,\"ticks\":\"\"}},\"type\":\"scattergeo\"}],\"scattergl\":[{\"marker\":{\"colorbar\":{\"outlinewidth\":0,\"ticks\":\"\"}},\"type\":\"scattergl\"}],\"scattermapbox\":[{\"marker\":{\"colorbar\":{\"outlinewidth\":0,\"ticks\":\"\"}},\"type\":\"scattermapbox\"}],\"scatterpolargl\":[{\"marker\":{\"colorbar\":{\"outlinewidth\":0,\"ticks\":\"\"}},\"type\":\"scatterpolargl\"}],\"scatterpolar\":[{\"marker\":{\"colorbar\":{\"outlinewidth\":0,\"ticks\":\"\"}},\"type\":\"scatterpolar\"}],\"scatter\":[{\"fillpattern\":{\"fillmode\":\"overlay\",\"size\":10,\"solidity\":0.2},\"type\":\"scatter\"}],\"scatterternary\":[{\"marker\":{\"colorbar\":{\"outlinewidth\":0,\"ticks\":\"\"}},\"type\":\"scatterternary\"}],\"surface\":[{\"colorbar\":{\"outlinewidth\":0,\"ticks\":\"\"},\"colorscale\":[[0.0,\"#0d0887\"],[0.1111111111111111,\"#46039f\"],[0.2222222222222222,\"#7201a8\"],[0.3333333333333333,\"#9c179e\"],[0.4444444444444444,\"#bd3786\"],[0.5555555555555556,\"#d8576b\"],[0.6666666666666666,\"#ed7953\"],[0.7777777777777778,\"#fb9f3a\"],[0.8888888888888888,\"#fdca26\"],[1.0,\"#f0f921\"]],\"type\":\"surface\"}],\"table\":[{\"cells\":{\"fill\":{\"color\":\"#EBF0F8\"},\"line\":{\"color\":\"white\"}},\"header\":{\"fill\":{\"color\":\"#C8D4E3\"},\"line\":{\"color\":\"white\"}},\"type\":\"table\"}]},\"layout\":{\"annotationdefaults\":{\"arrowcolor\":\"#2a3f5f\",\"arrowhead\":0,\"arrowwidth\":1},\"autotypenumbers\":\"strict\",\"coloraxis\":{\"colorbar\":{\"outlinewidth\":0,\"ticks\":\"\"}},\"colorscale\":{\"diverging\":[[0,\"#8e0152\"],[0.1,\"#c51b7d\"],[0.2,\"#de77ae\"],[0.3,\"#f1b6da\"],[0.4,\"#fde0ef\"],[0.5,\"#f7f7f7\"],[0.6,\"#e6f5d0\"],[0.7,\"#b8e186\"],[0.8,\"#7fbc41\"],[0.9,\"#4d9221\"],[1,\"#276419\"]],\"sequential\":[[0.0,\"#0d0887\"],[0.1111111111111111,\"#46039f\"],[0.2222222222222222,\"#7201a8\"],[0.3333333333333333,\"#9c179e\"],[0.4444444444444444,\"#bd3786\"],[0.5555555555555556,\"#d8576b\"],[0.6666666666666666,\"#ed7953\"],[0.7777777777777778,\"#fb9f3a\"],[0.8888888888888888,\"#fdca26\"],[1.0,\"#f0f921\"]],\"sequentialminus\":[[0.0,\"#0d0887\"],[0.1111111111111111,\"#46039f\"],[0.2222222222222222,\"#7201a8\"],[0.3333333333333333,\"#9c179e\"],[0.4444444444444444,\"#bd3786\"],[0.5555555555555556,\"#d8576b\"],[0.6666666666666666,\"#ed7953\"],[0.7777777777777778,\"#fb9f3a\"],[0.8888888888888888,\"#fdca26\"],[1.0,\"#f0f921\"]]},\"colorway\":[\"#636efa\",\"#EF553B\",\"#00cc96\",\"#ab63fa\",\"#FFA15A\",\"#19d3f3\",\"#FF6692\",\"#B6E880\",\"#FF97FF\",\"#FECB52\"],\"font\":{\"color\":\"#2a3f5f\"},\"geo\":{\"bgcolor\":\"white\",\"lakecolor\":\"white\",\"landcolor\":\"#E5ECF6\",\"showlakes\":true,\"showland\":true,\"subunitcolor\":\"white\"},\"hoverlabel\":{\"align\":\"left\"},\"hovermode\":\"closest\",\"mapbox\":{\"style\":\"light\"},\"paper_bgcolor\":\"white\",\"plot_bgcolor\":\"#E5ECF6\",\"polar\":{\"angularaxis\":{\"gridcolor\":\"white\",\"linecolor\":\"white\",\"ticks\":\"\"},\"bgcolor\":\"#E5ECF6\",\"radialaxis\":{\"gridcolor\":\"white\",\"linecolor\":\"white\",\"ticks\":\"\"}},\"scene\":{\"xaxis\":{\"backgroundcolor\":\"#E5ECF6\",\"gridcolor\":\"white\",\"gridwidth\":2,\"linecolor\":\"white\",\"showbackground\":true,\"ticks\":\"\",\"zerolinecolor\":\"white\"},\"yaxis\":{\"backgroundcolor\":\"#E5ECF6\",\"gridcolor\":\"white\",\"gridwidth\":2,\"linecolor\":\"white\",\"showbackground\":true,\"ticks\":\"\",\"zerolinecolor\":\"white\"},\"zaxis\":{\"backgroundcolor\":\"#E5ECF6\",\"gridcolor\":\"white\",\"gridwidth\":2,\"linecolor\":\"white\",\"showbackground\":true,\"ticks\":\"\",\"zerolinecolor\":\"white\"}},\"shapedefaults\":{\"line\":{\"color\":\"#2a3f5f\"}},\"ternary\":{\"aaxis\":{\"gridcolor\":\"white\",\"linecolor\":\"white\",\"ticks\":\"\"},\"baxis\":{\"gridcolor\":\"white\",\"linecolor\":\"white\",\"ticks\":\"\"},\"bgcolor\":\"#E5ECF6\",\"caxis\":{\"gridcolor\":\"white\",\"linecolor\":\"white\",\"ticks\":\"\"}},\"title\":{\"x\":0.05},\"xaxis\":{\"automargin\":true,\"gridcolor\":\"white\",\"linecolor\":\"white\",\"ticks\":\"\",\"title\":{\"standoff\":15},\"zerolinecolor\":\"white\",\"zerolinewidth\":2},\"yaxis\":{\"automargin\":true,\"gridcolor\":\"white\",\"linecolor\":\"white\",\"ticks\":\"\",\"title\":{\"standoff\":15},\"zerolinecolor\":\"white\",\"zerolinewidth\":2}}},\"title\":{\"font\":{\"color\":\"#4D5663\"}},\"xaxis\":{\"gridcolor\":\"#E1E5ED\",\"showgrid\":true,\"tickfont\":{\"color\":\"#4D5663\"},\"title\":{\"font\":{\"color\":\"#4D5663\"},\"text\":\"\"},\"zerolinecolor\":\"#E1E5ED\"},\"yaxis\":{\"gridcolor\":\"#E1E5ED\",\"showgrid\":true,\"tickfont\":{\"color\":\"#4D5663\"},\"title\":{\"font\":{\"color\":\"#4D5663\"},\"text\":\"\"},\"zerolinecolor\":\"#E1E5ED\"}},                        {\"showLink\": true, \"linkText\": \"Export to plot.ly\", \"plotlyServerURL\": \"https://plot.ly\", \"responsive\": true}                    ).then(function(){\n",
       "                            \n",
       "var gd = document.getElementById('7fff7250-ddd7-4f70-ad5c-05f594cc2b63');\n",
       "var x = new MutationObserver(function (mutations, observer) {{\n",
       "        var display = window.getComputedStyle(gd).display;\n",
       "        if (!display || display === 'none') {{\n",
       "            console.log([gd, 'removed!']);\n",
       "            Plotly.purge(gd);\n",
       "            observer.disconnect();\n",
       "        }}\n",
       "}});\n",
       "\n",
       "// Listen for the removal of the full notebook cells\n",
       "var notebookContainer = gd.closest('#notebook-container');\n",
       "if (notebookContainer) {{\n",
       "    x.observe(notebookContainer, {childList: true});\n",
       "}}\n",
       "\n",
       "// Listen for the clearing of the current output cell\n",
       "var outputEl = gd.closest('.output');\n",
       "if (outputEl) {{\n",
       "    x.observe(outputEl, {childList: true});\n",
       "}}\n",
       "\n",
       "                        })                };                });            </script>        </div>"
      ]
     },
     "metadata": {},
     "output_type": "display_data"
    }
   ],
   "source": [
    "df.count().iplot(kind='bar')"
   ]
  },
  {
   "cell_type": "markdown",
   "metadata": {},
   "source": [
    "## Boxplots"
   ]
  },
  {
   "cell_type": "code",
   "execution_count": 17,
   "metadata": {
    "collapsed": false,
    "jupyter": {
     "outputs_hidden": false
    }
   },
   "outputs": [
    {
     "data": {
      "application/vnd.plotly.v1+json": {
       "config": {
        "linkText": "Export to plot.ly",
        "plotlyServerURL": "https://plot.ly",
        "showLink": true
       },
       "data": [
        {
         "boxpoints": false,
         "line": {
          "width": 1.3
         },
         "marker": {
          "color": "rgba(255, 153, 51, 1.0)"
         },
         "name": "A",
         "orientation": "v",
         "type": "box",
         "y": [
          0.035022181398114326,
          -0.20699578689422937,
          0.6854331888468773,
          -0.017634584585994605,
          1.2326548344267971,
          0.34065432474775714,
          0.7773002295902933,
          -0.06997872593786636,
          -0.47636906657201195,
          -1.3766477215822774,
          0.819752827345072,
          -1.5452321937779605,
          0.08818589711433107,
          0.9108942662658028,
          1.338696296014096,
          1.4457195985132714,
          -0.9406486554716124,
          -1.1786445618785613,
          0.760819500366671,
          0.14363089189865821,
          0.36352131731403725,
          1.939490850177335,
          1.2827221379295641,
          0.2659705924395352,
          2.1022861676675078,
          0.3357327758747543,
          0.10982642446818502,
          -0.6601533538796417,
          -1.1788917371594856,
          -0.19866505024475622,
          -0.33989181419760983,
          -0.07920301792622243,
          0.26684262905887757,
          1.0321015850695954,
          1.9229774515090154,
          -0.5763569673797575,
          -0.26358893321716054,
          -0.25618266335802486,
          -2.2919708180752716,
          1.104097148796708,
          -0.02600364194132311,
          -1.095101046141559,
          -0.029118539313768906,
          1.9280070485549,
          -1.5432922562388673,
          -0.08321371943117364,
          1.5187272566145855,
          0.4798744518687685,
          0.3562930677714046,
          1.8141615813198444,
          -1.2673503123924812,
          0.1379162585324516,
          1.5135108640588242,
          0.874412100586506,
          0.8081922553650184,
          1.7796032668681032,
          -0.024209348076993324,
          1.2800191682325985,
          0.946016955044502,
          -0.8220045581906293,
          -1.3196011962233833,
          -0.09368876377110245,
          -0.797199476653399,
          0.90490703106049,
          0.5672187408026297,
          -2.1931844232264788,
          -0.08774270252501609,
          0.8082328201397463,
          -0.37927777264635365,
          1.0189126266479482,
          1.0251439851490376,
          -0.16844947310708883,
          0.8678054803706199,
          -0.2676319793512391,
          -0.13010469422392154,
          -1.5230520612624383,
          -2.2661210188178496,
          0.5318445742803599,
          -1.252028495567799,
          0.887648346819725,
          -0.3608778691561237,
          0.940889785325926,
          -0.16611565265285455,
          1.051049195530483,
          -1.3686490280995647,
          0.14930843710924366,
          -0.6816859849019006,
          -1.5728723119928214,
          -0.3552986595227806,
          1.433894952092094,
          -0.36093139332641583,
          -1.8644568904312535,
          -1.67807506257055,
          0.9957812718371379,
          0.7779266748932111,
          -2.964210772731523,
          -1.0242512013728293,
          -0.46273126934655584,
          -0.31229657089361146,
          1.0530824316296037
         ]
        },
        {
         "boxpoints": false,
         "line": {
          "width": 1.3
         },
         "marker": {
          "color": "rgba(55, 128, 191, 1.0)"
         },
         "name": "B",
         "orientation": "v",
         "type": "box",
         "y": [
          0.659720180163578,
          -0.48229899595694803,
          0.5373007059525975,
          -0.7373191864504871,
          -0.2713614321259175,
          -1.0148788854458133,
          -1.6506618535197757,
          -0.6017055467580952,
          -2.02601587123514,
          -1.3807102617749039,
          1.7399382317527918,
          -0.09874877348992062,
          -0.8792180646493626,
          1.2072080438550892,
          0.3159919111568729,
          -0.1015296721567684,
          0.4140762003008372,
          -0.6679384015837599,
          -0.025480348783363194,
          1.1216031104528963,
          1.7338834217736316,
          2.0686026898673036,
          1.829012230047314,
          -0.14480019582680498,
          -1.0819289156745375,
          0.4370574296560661,
          -1.184075056937153,
          0.9401983152312045,
          0.8786622501219662,
          0.6223109307311763,
          0.7961583442526416,
          1.18881108784417,
          1.524784553972861,
          -0.14870906176062323,
          1.1027756352574738,
          -0.49567095059648475,
          0.2145742478184529,
          0.15863895021588398,
          -0.04680656455633057,
          0.25593922654731066,
          1.0545293724285103,
          0.1297834275250637,
          -0.3591106342649614,
          -0.28269664103315273,
          -0.9250220431155934,
          0.026124160430505243,
          0.7059241472672645,
          -1.5048176230279364,
          -0.7811212335563891,
          0.6600351095260198,
          1.0034561121134895,
          -0.09210647222601136,
          -1.2459254518418386,
          2.530019222084229,
          -0.6538234465769,
          1.184039297184767,
          1.906305150020457,
          -1.2631028687188486,
          0.09305052314923473,
          0.6018184880401937,
          0.6697487197869597,
          0.7650827084196883,
          -0.7762011115441019,
          0.9028366593960605,
          0.09349415461588395,
          -1.1114686313755264,
          0.9460537444267767,
          1.3758654613623988,
          -0.9374840851237152,
          1.394740244115055,
          -0.01093652733112355,
          0.27858466678647564,
          -0.4110749068039371,
          0.5028160769673242,
          0.3397450960046779,
          -0.6425741877849417,
          -1.8408827842624031,
          -0.5824980898400304,
          -0.38541793441184724,
          -1.286637074652041,
          -0.05045795267498061,
          -0.586066314722846,
          -1.3701758166092917,
          -0.7895782892796999,
          0.27178130726156885,
          -1.136531698284585,
          0.45154585239758016,
          0.8716622522777244,
          -0.20945319517410885,
          -0.06376929242251737,
          0.43499390795135273,
          1.2977522751245083,
          -1.0981836076015816,
          -0.7763264270235338,
          1.140037465457631,
          -0.49249600266665744,
          -1.1225633257293033,
          0.7855823642974321,
          0.4449325396305709,
          1.338966475816106
         ]
        },
        {
         "boxpoints": false,
         "line": {
          "width": 1.3
         },
         "marker": {
          "color": "rgba(50, 171, 96, 1.0)"
         },
         "name": "C",
         "orientation": "v",
         "type": "box",
         "y": [
          -0.48342482847419954,
          -0.28917137909810087,
          0.10472817839319638,
          -0.3117041719124086,
          0.5474986505420716,
          0.36040555464410134,
          -2.3941833929601106,
          -0.5920466628675929,
          0.7030199564649418,
          -0.27907376596335065,
          -0.40355295361878935,
          -1.5788948840363446,
          2.4773161397200583,
          0.436574519139334,
          0.32532809517603817,
          0.5635250230272021,
          0.8442814716824333,
          -0.6794166582502248,
          -0.7666025757091693,
          1.0072984701608787,
          -0.5501928147375748,
          0.6877773474069846,
          -0.6505757792280401,
          0.7379231933386672,
          -1.781948344245377,
          -1.256089937990564,
          -0.48474996255921626,
          1.2714481931284987,
          0.40064144579818367,
          -0.6304491582154946,
          1.7891619378979553,
          0.7843308506814917,
          -0.5139382969616856,
          0.9588190681916949,
          -0.05846925797888498,
          -1.1573433562365338,
          -2.1931431037655726,
          0.18472195654751794,
          0.6723347397736454,
          -0.3552960384282929,
          1.8505722081067433,
          0.2120629040052719,
          0.7353646399453968,
          -0.8841948964965184,
          -1.0914681312767118,
          0.9839252399187555,
          1.679714369615582,
          0.030315933386810812,
          -0.7116682832700304,
          0.5314662077704951,
          -0.8196753783769472,
          0.22710804888544445,
          -0.9688296726515074,
          1.1700779277889357,
          0.705361600598505,
          -1.383011201696221,
          -0.8484094360452913,
          -0.20475815261979963,
          1.815935538182838,
          -0.3086927022715515,
          -2.39535730486845,
          0.21006405816980087,
          -0.6759974560899125,
          0.6523377749104889,
          -1.1468348471581247,
          1.1989541511995008,
          -0.0033747646544850843,
          -0.5868219951635674,
          -1.221537985575564,
          0.9554348986002157,
          1.7344192214628262,
          -0.9445639487491292,
          -0.8848465814729276,
          -0.3160547948940683,
          -1.1015428967704668,
          -0.5926167603968916,
          0.6004763358338866,
          1.592089400159695,
          1.3932834146377278,
          1.1170691058410587,
          1.0131043636743011,
          -1.5614706230061903,
          -0.5570242602914186,
          -1.9886321013304038,
          0.513519282261964,
          -0.6549909017480732,
          -1.3603950533383276,
          0.22474702826582948,
          1.1040396618089656,
          0.5755613052091758,
          0.07479005522211514,
          0.0822834649530619,
          0.8863534288849454,
          1.250181751081411,
          -0.8480531875440711,
          -0.5199890221203346,
          -1.2443328418151858,
          0.23300977083142083,
          1.4323843251265294,
          -0.5572666813934601
         ]
        },
        {
         "boxpoints": false,
         "line": {
          "width": 1.3
         },
         "marker": {
          "color": "rgba(128, 0, 128, 1.0)"
         },
         "name": "D",
         "orientation": "v",
         "type": "box",
         "y": [
          -1.5407101385873165,
          2.2350189816026877,
          -2.5296091387286146,
          -1.3406964354147048,
          0.7469359396070688,
          1.3204594331144752,
          0.7502229542329332,
          -0.8202597078777405,
          -1.124585586064663,
          -1.4189462849728556,
          -2.387182987455635,
          1.1639751805119178,
          -0.24915013621547472,
          -0.18598116239607645,
          1.0889099830652733,
          1.3105970403987126,
          0.1403319936872249,
          1.4057542022756464,
          -0.5603489188660344,
          1.3790739545637751,
          0.32799038986203666,
          -0.13731068069253702,
          0.3269549808631096,
          -0.27557383044476463,
          1.246132341717912,
          0.666583513866141,
          -0.7964542337965976,
          -0.01797760405488036,
          1.193777619869411,
          0.7875213141323713,
          0.8699406140382517,
          0.2552148575298687,
          0.6290599837360555,
          0.4896853885843202,
          0.4407983128765524,
          -0.02471269139903859,
          0.8476826198036227,
          1.118083553858438,
          0.7991197436806383,
          -0.48202834786195115,
          0.6426394676797172,
          1.0985779963823008,
          -0.4143744169064233,
          0.21384080939774647,
          0.10198382107133694,
          0.28820336875738867,
          0.3749150220519593,
          0.4559806297682848,
          0.6054664945717182,
          0.2081277443481054,
          -0.36821443223581374,
          1.5928874989105868,
          -0.35642450058245356,
          0.23867839838220622,
          -0.7962740928885006,
          1.3638862740579292,
          1.0333260200024355,
          1.0907066229078823,
          -0.20545170306848612,
          1.0503886821330373,
          0.9447368527245211,
          -1.0921844172647739,
          -0.4748574043391804,
          0.48158250570940736,
          -0.15752333713280076,
          1.1496699724275232,
          0.3856427000796223,
          -0.39626052766535075,
          -3.588592748924082e-05,
          0.33083026102500696,
          0.28371333317550784,
          -0.012444084240141666,
          -0.20044262234056112,
          1.8752376541320235,
          -0.8723124373701395,
          -1.0145800219442997,
          -0.3118308033387035,
          -0.2868715781532385,
          0.8195886692487346,
          -0.5761691492145123,
          0.9130136647866629,
          0.23737668905959847,
          0.7952455721990035,
          1.5851475909850774,
          -0.05022173896785526,
          0.5423471419904554,
          1.3594525704507507,
          1.5654454342340454,
          0.5028714381159953,
          -2.482547333925846,
          1.1799374335086863,
          -0.18410069959811573,
          0.13265646168646647,
          0.14056874951176104,
          -0.1316231315403834,
          -0.45813327330267084,
          -1.0327545584481983,
          -0.09184929865027391,
          0.9863631126172562,
          -0.15057351239305639
         ]
        }
       ],
       "layout": {
        "autosize": true,
        "legend": {
         "bgcolor": "#F5F6F9",
         "font": {
          "color": "#4D5663"
         }
        },
        "paper_bgcolor": "#F5F6F9",
        "plot_bgcolor": "#F5F6F9",
        "template": {
         "data": {
          "bar": [
           {
            "error_x": {
             "color": "#2a3f5f"
            },
            "error_y": {
             "color": "#2a3f5f"
            },
            "marker": {
             "line": {
              "color": "#E5ECF6",
              "width": 0.5
             },
             "pattern": {
              "fillmode": "overlay",
              "size": 10,
              "solidity": 0.2
             }
            },
            "type": "bar"
           }
          ],
          "barpolar": [
           {
            "marker": {
             "line": {
              "color": "#E5ECF6",
              "width": 0.5
             },
             "pattern": {
              "fillmode": "overlay",
              "size": 10,
              "solidity": 0.2
             }
            },
            "type": "barpolar"
           }
          ],
          "carpet": [
           {
            "aaxis": {
             "endlinecolor": "#2a3f5f",
             "gridcolor": "white",
             "linecolor": "white",
             "minorgridcolor": "white",
             "startlinecolor": "#2a3f5f"
            },
            "baxis": {
             "endlinecolor": "#2a3f5f",
             "gridcolor": "white",
             "linecolor": "white",
             "minorgridcolor": "white",
             "startlinecolor": "#2a3f5f"
            },
            "type": "carpet"
           }
          ],
          "choropleth": [
           {
            "colorbar": {
             "outlinewidth": 0,
             "ticks": ""
            },
            "type": "choropleth"
           }
          ],
          "contour": [
           {
            "colorbar": {
             "outlinewidth": 0,
             "ticks": ""
            },
            "colorscale": [
             [
              0,
              "#0d0887"
             ],
             [
              0.1111111111111111,
              "#46039f"
             ],
             [
              0.2222222222222222,
              "#7201a8"
             ],
             [
              0.3333333333333333,
              "#9c179e"
             ],
             [
              0.4444444444444444,
              "#bd3786"
             ],
             [
              0.5555555555555556,
              "#d8576b"
             ],
             [
              0.6666666666666666,
              "#ed7953"
             ],
             [
              0.7777777777777778,
              "#fb9f3a"
             ],
             [
              0.8888888888888888,
              "#fdca26"
             ],
             [
              1,
              "#f0f921"
             ]
            ],
            "type": "contour"
           }
          ],
          "contourcarpet": [
           {
            "colorbar": {
             "outlinewidth": 0,
             "ticks": ""
            },
            "type": "contourcarpet"
           }
          ],
          "heatmap": [
           {
            "colorbar": {
             "outlinewidth": 0,
             "ticks": ""
            },
            "colorscale": [
             [
              0,
              "#0d0887"
             ],
             [
              0.1111111111111111,
              "#46039f"
             ],
             [
              0.2222222222222222,
              "#7201a8"
             ],
             [
              0.3333333333333333,
              "#9c179e"
             ],
             [
              0.4444444444444444,
              "#bd3786"
             ],
             [
              0.5555555555555556,
              "#d8576b"
             ],
             [
              0.6666666666666666,
              "#ed7953"
             ],
             [
              0.7777777777777778,
              "#fb9f3a"
             ],
             [
              0.8888888888888888,
              "#fdca26"
             ],
             [
              1,
              "#f0f921"
             ]
            ],
            "type": "heatmap"
           }
          ],
          "heatmapgl": [
           {
            "colorbar": {
             "outlinewidth": 0,
             "ticks": ""
            },
            "colorscale": [
             [
              0,
              "#0d0887"
             ],
             [
              0.1111111111111111,
              "#46039f"
             ],
             [
              0.2222222222222222,
              "#7201a8"
             ],
             [
              0.3333333333333333,
              "#9c179e"
             ],
             [
              0.4444444444444444,
              "#bd3786"
             ],
             [
              0.5555555555555556,
              "#d8576b"
             ],
             [
              0.6666666666666666,
              "#ed7953"
             ],
             [
              0.7777777777777778,
              "#fb9f3a"
             ],
             [
              0.8888888888888888,
              "#fdca26"
             ],
             [
              1,
              "#f0f921"
             ]
            ],
            "type": "heatmapgl"
           }
          ],
          "histogram": [
           {
            "marker": {
             "pattern": {
              "fillmode": "overlay",
              "size": 10,
              "solidity": 0.2
             }
            },
            "type": "histogram"
           }
          ],
          "histogram2d": [
           {
            "colorbar": {
             "outlinewidth": 0,
             "ticks": ""
            },
            "colorscale": [
             [
              0,
              "#0d0887"
             ],
             [
              0.1111111111111111,
              "#46039f"
             ],
             [
              0.2222222222222222,
              "#7201a8"
             ],
             [
              0.3333333333333333,
              "#9c179e"
             ],
             [
              0.4444444444444444,
              "#bd3786"
             ],
             [
              0.5555555555555556,
              "#d8576b"
             ],
             [
              0.6666666666666666,
              "#ed7953"
             ],
             [
              0.7777777777777778,
              "#fb9f3a"
             ],
             [
              0.8888888888888888,
              "#fdca26"
             ],
             [
              1,
              "#f0f921"
             ]
            ],
            "type": "histogram2d"
           }
          ],
          "histogram2dcontour": [
           {
            "colorbar": {
             "outlinewidth": 0,
             "ticks": ""
            },
            "colorscale": [
             [
              0,
              "#0d0887"
             ],
             [
              0.1111111111111111,
              "#46039f"
             ],
             [
              0.2222222222222222,
              "#7201a8"
             ],
             [
              0.3333333333333333,
              "#9c179e"
             ],
             [
              0.4444444444444444,
              "#bd3786"
             ],
             [
              0.5555555555555556,
              "#d8576b"
             ],
             [
              0.6666666666666666,
              "#ed7953"
             ],
             [
              0.7777777777777778,
              "#fb9f3a"
             ],
             [
              0.8888888888888888,
              "#fdca26"
             ],
             [
              1,
              "#f0f921"
             ]
            ],
            "type": "histogram2dcontour"
           }
          ],
          "mesh3d": [
           {
            "colorbar": {
             "outlinewidth": 0,
             "ticks": ""
            },
            "type": "mesh3d"
           }
          ],
          "parcoords": [
           {
            "line": {
             "colorbar": {
              "outlinewidth": 0,
              "ticks": ""
             }
            },
            "type": "parcoords"
           }
          ],
          "pie": [
           {
            "automargin": true,
            "type": "pie"
           }
          ],
          "scatter": [
           {
            "fillpattern": {
             "fillmode": "overlay",
             "size": 10,
             "solidity": 0.2
            },
            "type": "scatter"
           }
          ],
          "scatter3d": [
           {
            "line": {
             "colorbar": {
              "outlinewidth": 0,
              "ticks": ""
             }
            },
            "marker": {
             "colorbar": {
              "outlinewidth": 0,
              "ticks": ""
             }
            },
            "type": "scatter3d"
           }
          ],
          "scattercarpet": [
           {
            "marker": {
             "colorbar": {
              "outlinewidth": 0,
              "ticks": ""
             }
            },
            "type": "scattercarpet"
           }
          ],
          "scattergeo": [
           {
            "marker": {
             "colorbar": {
              "outlinewidth": 0,
              "ticks": ""
             }
            },
            "type": "scattergeo"
           }
          ],
          "scattergl": [
           {
            "marker": {
             "colorbar": {
              "outlinewidth": 0,
              "ticks": ""
             }
            },
            "type": "scattergl"
           }
          ],
          "scattermapbox": [
           {
            "marker": {
             "colorbar": {
              "outlinewidth": 0,
              "ticks": ""
             }
            },
            "type": "scattermapbox"
           }
          ],
          "scatterpolar": [
           {
            "marker": {
             "colorbar": {
              "outlinewidth": 0,
              "ticks": ""
             }
            },
            "type": "scatterpolar"
           }
          ],
          "scatterpolargl": [
           {
            "marker": {
             "colorbar": {
              "outlinewidth": 0,
              "ticks": ""
             }
            },
            "type": "scatterpolargl"
           }
          ],
          "scatterternary": [
           {
            "marker": {
             "colorbar": {
              "outlinewidth": 0,
              "ticks": ""
             }
            },
            "type": "scatterternary"
           }
          ],
          "surface": [
           {
            "colorbar": {
             "outlinewidth": 0,
             "ticks": ""
            },
            "colorscale": [
             [
              0,
              "#0d0887"
             ],
             [
              0.1111111111111111,
              "#46039f"
             ],
             [
              0.2222222222222222,
              "#7201a8"
             ],
             [
              0.3333333333333333,
              "#9c179e"
             ],
             [
              0.4444444444444444,
              "#bd3786"
             ],
             [
              0.5555555555555556,
              "#d8576b"
             ],
             [
              0.6666666666666666,
              "#ed7953"
             ],
             [
              0.7777777777777778,
              "#fb9f3a"
             ],
             [
              0.8888888888888888,
              "#fdca26"
             ],
             [
              1,
              "#f0f921"
             ]
            ],
            "type": "surface"
           }
          ],
          "table": [
           {
            "cells": {
             "fill": {
              "color": "#EBF0F8"
             },
             "line": {
              "color": "white"
             }
            },
            "header": {
             "fill": {
              "color": "#C8D4E3"
             },
             "line": {
              "color": "white"
             }
            },
            "type": "table"
           }
          ]
         },
         "layout": {
          "annotationdefaults": {
           "arrowcolor": "#2a3f5f",
           "arrowhead": 0,
           "arrowwidth": 1
          },
          "autotypenumbers": "strict",
          "coloraxis": {
           "colorbar": {
            "outlinewidth": 0,
            "ticks": ""
           }
          },
          "colorscale": {
           "diverging": [
            [
             0,
             "#8e0152"
            ],
            [
             0.1,
             "#c51b7d"
            ],
            [
             0.2,
             "#de77ae"
            ],
            [
             0.3,
             "#f1b6da"
            ],
            [
             0.4,
             "#fde0ef"
            ],
            [
             0.5,
             "#f7f7f7"
            ],
            [
             0.6,
             "#e6f5d0"
            ],
            [
             0.7,
             "#b8e186"
            ],
            [
             0.8,
             "#7fbc41"
            ],
            [
             0.9,
             "#4d9221"
            ],
            [
             1,
             "#276419"
            ]
           ],
           "sequential": [
            [
             0,
             "#0d0887"
            ],
            [
             0.1111111111111111,
             "#46039f"
            ],
            [
             0.2222222222222222,
             "#7201a8"
            ],
            [
             0.3333333333333333,
             "#9c179e"
            ],
            [
             0.4444444444444444,
             "#bd3786"
            ],
            [
             0.5555555555555556,
             "#d8576b"
            ],
            [
             0.6666666666666666,
             "#ed7953"
            ],
            [
             0.7777777777777778,
             "#fb9f3a"
            ],
            [
             0.8888888888888888,
             "#fdca26"
            ],
            [
             1,
             "#f0f921"
            ]
           ],
           "sequentialminus": [
            [
             0,
             "#0d0887"
            ],
            [
             0.1111111111111111,
             "#46039f"
            ],
            [
             0.2222222222222222,
             "#7201a8"
            ],
            [
             0.3333333333333333,
             "#9c179e"
            ],
            [
             0.4444444444444444,
             "#bd3786"
            ],
            [
             0.5555555555555556,
             "#d8576b"
            ],
            [
             0.6666666666666666,
             "#ed7953"
            ],
            [
             0.7777777777777778,
             "#fb9f3a"
            ],
            [
             0.8888888888888888,
             "#fdca26"
            ],
            [
             1,
             "#f0f921"
            ]
           ]
          },
          "colorway": [
           "#636efa",
           "#EF553B",
           "#00cc96",
           "#ab63fa",
           "#FFA15A",
           "#19d3f3",
           "#FF6692",
           "#B6E880",
           "#FF97FF",
           "#FECB52"
          ],
          "font": {
           "color": "#2a3f5f"
          },
          "geo": {
           "bgcolor": "white",
           "lakecolor": "white",
           "landcolor": "#E5ECF6",
           "showlakes": true,
           "showland": true,
           "subunitcolor": "white"
          },
          "hoverlabel": {
           "align": "left"
          },
          "hovermode": "closest",
          "mapbox": {
           "style": "light"
          },
          "paper_bgcolor": "white",
          "plot_bgcolor": "#E5ECF6",
          "polar": {
           "angularaxis": {
            "gridcolor": "white",
            "linecolor": "white",
            "ticks": ""
           },
           "bgcolor": "#E5ECF6",
           "radialaxis": {
            "gridcolor": "white",
            "linecolor": "white",
            "ticks": ""
           }
          },
          "scene": {
           "xaxis": {
            "backgroundcolor": "#E5ECF6",
            "gridcolor": "white",
            "gridwidth": 2,
            "linecolor": "white",
            "showbackground": true,
            "ticks": "",
            "zerolinecolor": "white"
           },
           "yaxis": {
            "backgroundcolor": "#E5ECF6",
            "gridcolor": "white",
            "gridwidth": 2,
            "linecolor": "white",
            "showbackground": true,
            "ticks": "",
            "zerolinecolor": "white"
           },
           "zaxis": {
            "backgroundcolor": "#E5ECF6",
            "gridcolor": "white",
            "gridwidth": 2,
            "linecolor": "white",
            "showbackground": true,
            "ticks": "",
            "zerolinecolor": "white"
           }
          },
          "shapedefaults": {
           "line": {
            "color": "#2a3f5f"
           }
          },
          "ternary": {
           "aaxis": {
            "gridcolor": "white",
            "linecolor": "white",
            "ticks": ""
           },
           "baxis": {
            "gridcolor": "white",
            "linecolor": "white",
            "ticks": ""
           },
           "bgcolor": "#E5ECF6",
           "caxis": {
            "gridcolor": "white",
            "linecolor": "white",
            "ticks": ""
           }
          },
          "title": {
           "x": 0.05
          },
          "xaxis": {
           "automargin": true,
           "gridcolor": "white",
           "linecolor": "white",
           "ticks": "",
           "title": {
            "standoff": 15
           },
           "zerolinecolor": "white",
           "zerolinewidth": 2
          },
          "yaxis": {
           "automargin": true,
           "gridcolor": "white",
           "linecolor": "white",
           "ticks": "",
           "title": {
            "standoff": 15
           },
           "zerolinecolor": "white",
           "zerolinewidth": 2
          }
         }
        },
        "title": {
         "font": {
          "color": "#4D5663"
         }
        },
        "xaxis": {
         "autorange": true,
         "gridcolor": "#E1E5ED",
         "range": [
          -0.5,
          3.5
         ],
         "showgrid": true,
         "tickfont": {
          "color": "#4D5663"
         },
         "title": {
          "font": {
           "color": "#4D5663"
          },
          "text": ""
         },
         "type": "category",
         "zerolinecolor": "#E1E5ED"
        },
        "yaxis": {
         "autorange": true,
         "gridcolor": "#E1E5ED",
         "range": [
          -3.269445772443509,
          2.835254221796215
         ],
         "showgrid": true,
         "tickfont": {
          "color": "#4D5663"
         },
         "title": {
          "font": {
           "color": "#4D5663"
          },
          "text": ""
         },
         "type": "linear",
         "zerolinecolor": "#E1E5ED"
        }
       }
      },
      "image/png": "[encoded data removed]",
      "text/html": [
       "<div>                            <div id=\"975eeb0f-4faa-4a61-9ce6-37f7d8c7862b\" class=\"plotly-graph-div\" style=\"height:525px; width:100%;\"></div>            <script type=\"text/javascript\">                require([\"plotly\"], function(Plotly) {                    window.PLOTLYENV=window.PLOTLYENV || {};\n",
       "                    window.PLOTLYENV.BASE_URL='https://plot.ly';                                    if (document.getElementById(\"975eeb0f-4faa-4a61-9ce6-37f7d8c7862b\")) {                    Plotly.newPlot(                        \"975eeb0f-4faa-4a61-9ce6-37f7d8c7862b\",                        [{\"boxpoints\":false,\"line\":{\"width\":1.3},\"marker\":{\"color\":\"rgba(255, 153, 51, 1.0)\"},\"name\":\"A\",\"orientation\":\"v\",\"y\":[0.035022181398114326,-0.20699578689422937,0.6854331888468773,-0.017634584585994605,1.2326548344267971,0.34065432474775714,0.7773002295902933,-0.06997872593786636,-0.47636906657201195,-1.3766477215822774,0.819752827345072,-1.5452321937779605,0.08818589711433107,0.9108942662658028,1.338696296014096,1.4457195985132714,-0.9406486554716124,-1.1786445618785613,0.760819500366671,0.14363089189865821,0.36352131731403725,1.939490850177335,1.2827221379295641,0.2659705924395352,2.1022861676675078,0.3357327758747543,0.10982642446818502,-0.6601533538796417,-1.1788917371594856,-0.19866505024475622,-0.33989181419760983,-0.07920301792622243,0.26684262905887757,1.0321015850695954,1.9229774515090154,-0.5763569673797575,-0.26358893321716054,-0.25618266335802486,-2.2919708180752716,1.104097148796708,-0.02600364194132311,-1.095101046141559,-0.029118539313768906,1.9280070485549,-1.5432922562388673,-0.08321371943117364,1.5187272566145855,0.4798744518687685,0.3562930677714046,1.8141615813198444,-1.2673503123924812,0.1379162585324516,1.5135108640588242,0.874412100586506,0.8081922553650184,1.7796032668681032,-0.024209348076993324,1.2800191682325985,0.946016955044502,-0.8220045581906293,-1.3196011962233833,-0.09368876377110245,-0.797199476653399,0.90490703106049,0.5672187408026297,-2.1931844232264788,-0.08774270252501609,0.8082328201397463,-0.37927777264635365,1.0189126266479482,1.0251439851490376,-0.16844947310708883,0.8678054803706199,-0.2676319793512391,-0.13010469422392154,-1.5230520612624383,-2.2661210188178496,0.5318445742803599,-1.252028495567799,0.887648346819725,-0.3608778691561237,0.940889785325926,-0.16611565265285455,1.051049195530483,-1.3686490280995647,0.14930843710924366,-0.6816859849019006,-1.5728723119928214,-0.3552986595227806,1.433894952092094,-0.36093139332641583,-1.8644568904312535,-1.67807506257055,0.9957812718371379,0.7779266748932111,-2.964210772731523,-1.0242512013728293,-0.46273126934655584,-0.31229657089361146,1.0530824316296037],\"type\":\"box\"},{\"boxpoints\":false,\"line\":{\"width\":1.3},\"marker\":{\"color\":\"rgba(55, 128, 191, 1.0)\"},\"name\":\"B\",\"orientation\":\"v\",\"y\":[0.659720180163578,-0.48229899595694803,0.5373007059525975,-0.7373191864504871,-0.2713614321259175,-1.0148788854458133,-1.6506618535197757,-0.6017055467580952,-2.02601587123514,-1.3807102617749039,1.7399382317527918,-0.09874877348992062,-0.8792180646493626,1.2072080438550892,0.3159919111568729,-0.1015296721567684,0.4140762003008372,-0.6679384015837599,-0.025480348783363194,1.1216031104528963,1.7338834217736316,2.0686026898673036,1.829012230047314,-0.14480019582680498,-1.0819289156745375,0.4370574296560661,-1.184075056937153,0.9401983152312045,0.8786622501219662,0.6223109307311763,0.7961583442526416,1.18881108784417,1.524784553972861,-0.14870906176062323,1.1027756352574738,-0.49567095059648475,0.2145742478184529,0.15863895021588398,-0.04680656455633057,0.25593922654731066,1.0545293724285103,0.1297834275250637,-0.3591106342649614,-0.28269664103315273,-0.9250220431155934,0.026124160430505243,0.7059241472672645,-1.5048176230279364,-0.7811212335563891,0.6600351095260198,1.0034561121134895,-0.09210647222601136,-1.2459254518418386,2.530019222084229,-0.6538234465769,1.184039297184767,1.906305150020457,-1.2631028687188486,0.09305052314923473,0.6018184880401937,0.6697487197869597,0.7650827084196883,-0.7762011115441019,0.9028366593960605,0.09349415461588395,-1.1114686313755264,0.9460537444267767,1.3758654613623988,-0.9374840851237152,1.394740244115055,-0.01093652733112355,0.27858466678647564,-0.4110749068039371,0.5028160769673242,0.3397450960046779,-0.6425741877849417,-1.8408827842624031,-0.5824980898400304,-0.38541793441184724,-1.286637074652041,-0.05045795267498061,-0.586066314722846,-1.3701758166092917,-0.7895782892796999,0.27178130726156885,-1.136531698284585,0.45154585239758016,0.8716622522777244,-0.20945319517410885,-0.06376929242251737,0.43499390795135273,1.2977522751245083,-1.0981836076015816,-0.7763264270235338,1.140037465457631,-0.49249600266665744,-1.1225633257293033,0.7855823642974321,0.4449325396305709,1.338966475816106],\"type\":\"box\"},{\"boxpoints\":false,\"line\":{\"width\":1.3},\"marker\":{\"color\":\"rgba(50, 171, 96, 1.0)\"},\"name\":\"C\",\"orientation\":\"v\",\"y\":[-0.48342482847419954,-0.28917137909810087,0.10472817839319638,-0.3117041719124086,0.5474986505420716,0.36040555464410134,-2.3941833929601106,-0.5920466628675929,0.7030199564649418,-0.27907376596335065,-0.40355295361878935,-1.5788948840363446,2.4773161397200583,0.436574519139334,0.32532809517603817,0.5635250230272021,0.8442814716824333,-0.6794166582502248,-0.7666025757091693,1.0072984701608787,-0.5501928147375748,0.6877773474069846,-0.6505757792280401,0.7379231933386672,-1.781948344245377,-1.256089937990564,-0.48474996255921626,1.2714481931284987,0.40064144579818367,-0.6304491582154946,1.7891619378979553,0.7843308506814917,-0.5139382969616856,0.9588190681916949,-0.05846925797888498,-1.1573433562365338,-2.1931431037655726,0.18472195654751794,0.6723347397736454,-0.3552960384282929,1.8505722081067433,0.2120629040052719,0.7353646399453968,-0.8841948964965184,-1.0914681312767118,0.9839252399187555,1.679714369615582,0.030315933386810812,-0.7116682832700304,0.5314662077704951,-0.8196753783769472,0.22710804888544445,-0.9688296726515074,1.1700779277889357,0.705361600598505,-1.383011201696221,-0.8484094360452913,-0.20475815261979963,1.815935538182838,-0.3086927022715515,-2.39535730486845,0.21006405816980087,-0.6759974560899125,0.6523377749104889,-1.1468348471581247,1.1989541511995008,-0.0033747646544850843,-0.5868219951635674,-1.221537985575564,0.9554348986002157,1.7344192214628262,-0.9445639487491292,-0.8848465814729276,-0.3160547948940683,-1.1015428967704668,-0.5926167603968916,0.6004763358338866,1.592089400159695,1.3932834146377278,1.1170691058410587,1.0131043636743011,-1.5614706230061903,-0.5570242602914186,-1.9886321013304038,0.513519282261964,-0.6549909017480732,-1.3603950533383276,0.22474702826582948,1.1040396618089656,0.5755613052091758,0.07479005522211514,0.0822834649530619,0.8863534288849454,1.250181751081411,-0.8480531875440711,-0.5199890221203346,-1.2443328418151858,0.23300977083142083,1.4323843251265294,-0.5572666813934601],\"type\":\"box\"},{\"boxpoints\":false,\"line\":{\"width\":1.3},\"marker\":{\"color\":\"rgba(128, 0, 128, 1.0)\"},\"name\":\"D\",\"orientation\":\"v\",\"y\":[-1.5407101385873165,2.2350189816026877,-2.5296091387286146,-1.3406964354147048,0.7469359396070688,1.3204594331144752,0.7502229542329332,-0.8202597078777405,-1.124585586064663,-1.4189462849728556,-2.387182987455635,1.1639751805119178,-0.24915013621547472,-0.18598116239607645,1.0889099830652733,1.3105970403987126,0.1403319936872249,1.4057542022756464,-0.5603489188660344,1.3790739545637751,0.32799038986203666,-0.13731068069253702,0.3269549808631096,-0.27557383044476463,1.246132341717912,0.666583513866141,-0.7964542337965976,-0.01797760405488036,1.193777619869411,0.7875213141323713,0.8699406140382517,0.2552148575298687,0.6290599837360555,0.4896853885843202,0.4407983128765524,-0.02471269139903859,0.8476826198036227,1.118083553858438,0.7991197436806383,-0.48202834786195115,0.6426394676797172,1.0985779963823008,-0.4143744169064233,0.21384080939774647,0.10198382107133694,0.28820336875738867,0.3749150220519593,0.4559806297682848,0.6054664945717182,0.2081277443481054,-0.36821443223581374,1.5928874989105868,-0.35642450058245356,0.23867839838220622,-0.7962740928885006,1.3638862740579292,1.0333260200024355,1.0907066229078823,-0.20545170306848612,1.0503886821330373,0.9447368527245211,-1.0921844172647739,-0.4748574043391804,0.48158250570940736,-0.15752333713280076,1.1496699724275232,0.3856427000796223,-0.39626052766535075,-3.588592748924082e-05,0.33083026102500696,0.28371333317550784,-0.012444084240141666,-0.20044262234056112,1.8752376541320235,-0.8723124373701395,-1.0145800219442997,-0.3118308033387035,-0.2868715781532385,0.8195886692487346,-0.5761691492145123,0.9130136647866629,0.23737668905959847,0.7952455721990035,1.5851475909850774,-0.05022173896785526,0.5423471419904554,1.3594525704507507,1.5654454342340454,0.5028714381159953,-2.482547333925846,1.1799374335086863,-0.18410069959811573,0.13265646168646647,0.14056874951176104,-0.1316231315403834,-0.45813327330267084,-1.0327545584481983,-0.09184929865027391,0.9863631126172562,-0.15057351239305639],\"type\":\"box\"}],                        {\"legend\":{\"bgcolor\":\"#F5F6F9\",\"font\":{\"color\":\"#4D5663\"}},\"paper_bgcolor\":\"#F5F6F9\",\"plot_bgcolor\":\"#F5F6F9\",\"template\":{\"data\":{\"barpolar\":[{\"marker\":{\"line\":{\"color\":\"#E5ECF6\",\"width\":0.5},\"pattern\":{\"fillmode\":\"overlay\",\"size\":10,\"solidity\":0.2}},\"type\":\"barpolar\"}],\"bar\":[{\"error_x\":{\"color\":\"#2a3f5f\"},\"error_y\":{\"color\":\"#2a3f5f\"},\"marker\":{\"line\":{\"color\":\"#E5ECF6\",\"width\":0.5},\"pattern\":{\"fillmode\":\"overlay\",\"size\":10,\"solidity\":0.2}},\"type\":\"bar\"}],\"carpet\":[{\"aaxis\":{\"endlinecolor\":\"#2a3f5f\",\"gridcolor\":\"white\",\"linecolor\":\"white\",\"minorgridcolor\":\"white\",\"startlinecolor\":\"#2a3f5f\"},\"baxis\":{\"endlinecolor\":\"#2a3f5f\",\"gridcolor\":\"white\",\"linecolor\":\"white\",\"minorgridcolor\":\"white\",\"startlinecolor\":\"#2a3f5f\"},\"type\":\"carpet\"}],\"choropleth\":[{\"colorbar\":{\"outlinewidth\":0,\"ticks\":\"\"},\"type\":\"choropleth\"}],\"contourcarpet\":[{\"colorbar\":{\"outlinewidth\":0,\"ticks\":\"\"},\"type\":\"contourcarpet\"}],\"contour\":[{\"colorbar\":{\"outlinewidth\":0,\"ticks\":\"\"},\"colorscale\":[[0.0,\"#0d0887\"],[0.1111111111111111,\"#46039f\"],[0.2222222222222222,\"#7201a8\"],[0.3333333333333333,\"#9c179e\"],[0.4444444444444444,\"#bd3786\"],[0.5555555555555556,\"#d8576b\"],[0.6666666666666666,\"#ed7953\"],[0.7777777777777778,\"#fb9f3a\"],[0.8888888888888888,\"#fdca26\"],[1.0,\"#f0f921\"]],\"type\":\"contour\"}],\"heatmapgl\":[{\"colorbar\":{\"outlinewidth\":0,\"ticks\":\"\"},\"colorscale\":[[0.0,\"#0d0887\"],[0.1111111111111111,\"#46039f\"],[0.2222222222222222,\"#7201a8\"],[0.3333333333333333,\"#9c179e\"],[0.4444444444444444,\"#bd3786\"],[0.5555555555555556,\"#d8576b\"],[0.6666666666666666,\"#ed7953\"],[0.7777777777777778,\"#fb9f3a\"],[0.8888888888888888,\"#fdca26\"],[1.0,\"#f0f921\"]],\"type\":\"heatmapgl\"}],\"heatmap\":[{\"colorbar\":{\"outlinewidth\":0,\"ticks\":\"\"},\"colorscale\":[[0.0,\"#0d0887\"],[0.1111111111111111,\"#46039f\"],[0.2222222222222222,\"#7201a8\"],[0.3333333333333333,\"#9c179e\"],[0.4444444444444444,\"#bd3786\"],[0.5555555555555556,\"#d8576b\"],[0.6666666666666666,\"#ed7953\"],[0.7777777777777778,\"#fb9f3a\"],[0.8888888888888888,\"#fdca26\"],[1.0,\"#f0f921\"]],\"type\":\"heatmap\"}],\"histogram2dcontour\":[{\"colorbar\":{\"outlinewidth\":0,\"ticks\":\"\"},\"colorscale\":[[0.0,\"#0d0887\"],[0.1111111111111111,\"#46039f\"],[0.2222222222222222,\"#7201a8\"],[0.3333333333333333,\"#9c179e\"],[0.4444444444444444,\"#bd3786\"],[0.5555555555555556,\"#d8576b\"],[0.6666666666666666,\"#ed7953\"],[0.7777777777777778,\"#fb9f3a\"],[0.8888888888888888,\"#fdca26\"],[1.0,\"#f0f921\"]],\"type\":\"histogram2dcontour\"}],\"histogram2d\":[{\"colorbar\":{\"outlinewidth\":0,\"ticks\":\"\"},\"colorscale\":[[0.0,\"#0d0887\"],[0.1111111111111111,\"#46039f\"],[0.2222222222222222,\"#7201a8\"],[0.3333333333333333,\"#9c179e\"],[0.4444444444444444,\"#bd3786\"],[0.5555555555555556,\"#d8576b\"],[0.6666666666666666,\"#ed7953\"],[0.7777777777777778,\"#fb9f3a\"],[0.8888888888888888,\"#fdca26\"],[1.0,\"#f0f921\"]],\"type\":\"histogram2d\"}],\"histogram\":[{\"marker\":{\"pattern\":{\"fillmode\":\"overlay\",\"size\":10,\"solidity\":0.2}},\"type\":\"histogram\"}],\"mesh3d\":[{\"colorbar\":{\"outlinewidth\":0,\"ticks\":\"\"},\"type\":\"mesh3d\"}],\"parcoords\":[{\"line\":{\"colorbar\":{\"outlinewidth\":0,\"ticks\":\"\"}},\"type\":\"parcoords\"}],\"pie\":[{\"automargin\":true,\"type\":\"pie\"}],\"scatter3d\":[{\"line\":{\"colorbar\":{\"outlinewidth\":0,\"ticks\":\"\"}},\"marker\":{\"colorbar\":{\"outlinewidth\":0,\"ticks\":\"\"}},\"type\":\"scatter3d\"}],\"scattercarpet\":[{\"marker\":{\"colorbar\":{\"outlinewidth\":0,\"ticks\":\"\"}},\"type\":\"scattercarpet\"}],\"scattergeo\":[{\"marker\":{\"colorbar\":{\"outlinewidth\":0,\"ticks\":\"\"}},\"type\":\"scattergeo\"}],\"scattergl\":[{\"marker\":{\"colorbar\":{\"outlinewidth\":0,\"ticks\":\"\"}},\"type\":\"scattergl\"}],\"scattermapbox\":[{\"marker\":{\"colorbar\":{\"outlinewidth\":0,\"ticks\":\"\"}},\"type\":\"scattermapbox\"}],\"scatterpolargl\":[{\"marker\":{\"colorbar\":{\"outlinewidth\":0,\"ticks\":\"\"}},\"type\":\"scatterpolargl\"}],\"scatterpolar\":[{\"marker\":{\"colorbar\":{\"outlinewidth\":0,\"ticks\":\"\"}},\"type\":\"scatterpolar\"}],\"scatter\":[{\"fillpattern\":{\"fillmode\":\"overlay\",\"size\":10,\"solidity\":0.2},\"type\":\"scatter\"}],\"scatterternary\":[{\"marker\":{\"colorbar\":{\"outlinewidth\":0,\"ticks\":\"\"}},\"type\":\"scatterternary\"}],\"surface\":[{\"colorbar\":{\"outlinewidth\":0,\"ticks\":\"\"},\"colorscale\":[[0.0,\"#0d0887\"],[0.1111111111111111,\"#46039f\"],[0.2222222222222222,\"#7201a8\"],[0.3333333333333333,\"#9c179e\"],[0.4444444444444444,\"#bd3786\"],[0.5555555555555556,\"#d8576b\"],[0.6666666666666666,\"#ed7953\"],[0.7777777777777778,\"#fb9f3a\"],[0.8888888888888888,\"#fdca26\"],[1.0,\"#f0f921\"]],\"type\":\"surface\"}],\"table\":[{\"cells\":{\"fill\":{\"color\":\"#EBF0F8\"},\"line\":{\"color\":\"white\"}},\"header\":{\"fill\":{\"color\":\"#C8D4E3\"},\"line\":{\"color\":\"white\"}},\"type\":\"table\"}]},\"layout\":{\"annotationdefaults\":{\"arrowcolor\":\"#2a3f5f\",\"arrowhead\":0,\"arrowwidth\":1},\"autotypenumbers\":\"strict\",\"coloraxis\":{\"colorbar\":{\"outlinewidth\":0,\"ticks\":\"\"}},\"colorscale\":{\"diverging\":[[0,\"#8e0152\"],[0.1,\"#c51b7d\"],[0.2,\"#de77ae\"],[0.3,\"#f1b6da\"],[0.4,\"#fde0ef\"],[0.5,\"#f7f7f7\"],[0.6,\"#e6f5d0\"],[0.7,\"#b8e186\"],[0.8,\"#7fbc41\"],[0.9,\"#4d9221\"],[1,\"#276419\"]],\"sequential\":[[0.0,\"#0d0887\"],[0.1111111111111111,\"#46039f\"],[0.2222222222222222,\"#7201a8\"],[0.3333333333333333,\"#9c179e\"],[0.4444444444444444,\"#bd3786\"],[0.5555555555555556,\"#d8576b\"],[0.6666666666666666,\"#ed7953\"],[0.7777777777777778,\"#fb9f3a\"],[0.8888888888888888,\"#fdca26\"],[1.0,\"#f0f921\"]],\"sequentialminus\":[[0.0,\"#0d0887\"],[0.1111111111111111,\"#46039f\"],[0.2222222222222222,\"#7201a8\"],[0.3333333333333333,\"#9c179e\"],[0.4444444444444444,\"#bd3786\"],[0.5555555555555556,\"#d8576b\"],[0.6666666666666666,\"#ed7953\"],[0.7777777777777778,\"#fb9f3a\"],[0.8888888888888888,\"#fdca26\"],[1.0,\"#f0f921\"]]},\"colorway\":[\"#636efa\",\"#EF553B\",\"#00cc96\",\"#ab63fa\",\"#FFA15A\",\"#19d3f3\",\"#FF6692\",\"#B6E880\",\"#FF97FF\",\"#FECB52\"],\"font\":{\"color\":\"#2a3f5f\"},\"geo\":{\"bgcolor\":\"white\",\"lakecolor\":\"white\",\"landcolor\":\"#E5ECF6\",\"showlakes\":true,\"showland\":true,\"subunitcolor\":\"white\"},\"hoverlabel\":{\"align\":\"left\"},\"hovermode\":\"closest\",\"mapbox\":{\"style\":\"light\"},\"paper_bgcolor\":\"white\",\"plot_bgcolor\":\"#E5ECF6\",\"polar\":{\"angularaxis\":{\"gridcolor\":\"white\",\"linecolor\":\"white\",\"ticks\":\"\"},\"bgcolor\":\"#E5ECF6\",\"radialaxis\":{\"gridcolor\":\"white\",\"linecolor\":\"white\",\"ticks\":\"\"}},\"scene\":{\"xaxis\":{\"backgroundcolor\":\"#E5ECF6\",\"gridcolor\":\"white\",\"gridwidth\":2,\"linecolor\":\"white\",\"showbackground\":true,\"ticks\":\"\",\"zerolinecolor\":\"white\"},\"yaxis\":{\"backgroundcolor\":\"#E5ECF6\",\"gridcolor\":\"white\",\"gridwidth\":2,\"linecolor\":\"white\",\"showbackground\":true,\"ticks\":\"\",\"zerolinecolor\":\"white\"},\"zaxis\":{\"backgroundcolor\":\"#E5ECF6\",\"gridcolor\":\"white\",\"gridwidth\":2,\"linecolor\":\"white\",\"showbackground\":true,\"ticks\":\"\",\"zerolinecolor\":\"white\"}},\"shapedefaults\":{\"line\":{\"color\":\"#2a3f5f\"}},\"ternary\":{\"aaxis\":{\"gridcolor\":\"white\",\"linecolor\":\"white\",\"ticks\":\"\"},\"baxis\":{\"gridcolor\":\"white\",\"linecolor\":\"white\",\"ticks\":\"\"},\"bgcolor\":\"#E5ECF6\",\"caxis\":{\"gridcolor\":\"white\",\"linecolor\":\"white\",\"ticks\":\"\"}},\"title\":{\"x\":0.05},\"xaxis\":{\"automargin\":true,\"gridcolor\":\"white\",\"linecolor\":\"white\",\"ticks\":\"\",\"title\":{\"standoff\":15},\"zerolinecolor\":\"white\",\"zerolinewidth\":2},\"yaxis\":{\"automargin\":true,\"gridcolor\":\"white\",\"linecolor\":\"white\",\"ticks\":\"\",\"title\":{\"standoff\":15},\"zerolinecolor\":\"white\",\"zerolinewidth\":2}}},\"title\":{\"font\":{\"color\":\"#4D5663\"}},\"xaxis\":{\"gridcolor\":\"#E1E5ED\",\"showgrid\":true,\"tickfont\":{\"color\":\"#4D5663\"},\"title\":{\"font\":{\"color\":\"#4D5663\"},\"text\":\"\"},\"zerolinecolor\":\"#E1E5ED\"},\"yaxis\":{\"gridcolor\":\"#E1E5ED\",\"showgrid\":true,\"tickfont\":{\"color\":\"#4D5663\"},\"title\":{\"font\":{\"color\":\"#4D5663\"},\"text\":\"\"},\"zerolinecolor\":\"#E1E5ED\"}},                        {\"showLink\": true, \"linkText\": \"Export to plot.ly\", \"plotlyServerURL\": \"https://plot.ly\", \"responsive\": true}                    ).then(function(){\n",
       "                            \n",
       "var gd = document.getElementById('975eeb0f-4faa-4a61-9ce6-37f7d8c7862b');\n",
       "var x = new MutationObserver(function (mutations, observer) {{\n",
       "        var display = window.getComputedStyle(gd).display;\n",
       "        if (!display || display === 'none') {{\n",
       "            console.log([gd, 'removed!']);\n",
       "            Plotly.purge(gd);\n",
       "            observer.disconnect();\n",
       "        }}\n",
       "}});\n",
       "\n",
       "// Listen for the removal of the full notebook cells\n",
       "var notebookContainer = gd.closest('#notebook-container');\n",
       "if (notebookContainer) {{\n",
       "    x.observe(notebookContainer, {childList: true});\n",
       "}}\n",
       "\n",
       "// Listen for the clearing of the current output cell\n",
       "var outputEl = gd.closest('.output');\n",
       "if (outputEl) {{\n",
       "    x.observe(outputEl, {childList: true});\n",
       "}}\n",
       "\n",
       "                        })                };                });            </script>        </div>"
      ]
     },
     "metadata": {},
     "output_type": "display_data"
    }
   ],
   "source": [
    "df.iplot(kind='box')"
   ]
  },
  {
   "cell_type": "markdown",
   "metadata": {},
   "source": [
    "## 3d Surface"
   ]
  },
  {
   "cell_type": "code",
   "execution_count": 24,
   "metadata": {
    "collapsed": false,
    "jupyter": {
     "outputs_hidden": false
    }
   },
   "outputs": [
    {
     "data": {
      "application/vnd.plotly.v1+json": {
       "config": {
        "linkText": "Export to plot.ly",
        "plotlyServerURL": "https://plot.ly",
        "showLink": true
       },
       "data": [
        {
         "colorscale": [
          [
           0,
           "rgb(165,0,38)"
          ],
          [
           0.1,
           "rgb(215,48,39)"
          ],
          [
           0.2,
           "rgb(244,109,67)"
          ],
          [
           0.3,
           "rgb(253,174,97)"
          ],
          [
           0.4,
           "rgb(254,224,144)"
          ],
          [
           0.5,
           "rgb(255,255,191)"
          ],
          [
           0.6,
           "rgb(224,243,248)"
          ],
          [
           0.7,
           "rgb(171,217,233)"
          ],
          [
           0.8,
           "rgb(116,173,209)"
          ],
          [
           0.9,
           "rgb(69,117,180)"
          ],
          [
           1,
           "rgb(49,54,149)"
          ]
         ],
         "type": "surface",
         "x": [
          0,
          1,
          2,
          3,
          4
         ],
         "y": [
          "x",
          "y",
          "z"
         ],
         "z": [
          [
           1,
           2,
           3,
           4,
           5
          ],
          [
           2,
           2,
           2,
           2,
           2
          ],
          [
           5,
           4,
           3,
           2,
           1
          ]
         ]
        }
       ],
       "layout": {
        "autosize": true,
        "dragmode": "zoom",
        "legend": {
         "bgcolor": "#F5F6F9",
         "font": {
          "color": "#4D5663"
         }
        },
        "paper_bgcolor": "#F5F6F9",
        "plot_bgcolor": "#F5F6F9",
        "scene": {
         "aspectmode": "auto",
         "aspectratio": {
          "x": 1,
          "y": 1,
          "z": 1
         },
         "camera": {
          "center": {
           "x": 0,
           "y": 0,
           "z": 0
          },
          "eye": {
           "x": 2.489401206595042,
           "y": -0.3978447210888521,
           "z": 0.7851965058847944
          },
          "projection": {
           "type": "perspective"
          },
          "up": {
           "x": 0,
           "y": 0,
           "z": 1
          }
         },
         "dragmode": "turntable"
        },
        "template": {
         "data": {
          "bar": [
           {
            "error_x": {
             "color": "#2a3f5f"
            },
            "error_y": {
             "color": "#2a3f5f"
            },
            "marker": {
             "line": {
              "color": "#E5ECF6",
              "width": 0.5
             },
             "pattern": {
              "fillmode": "overlay",
              "size": 10,
              "solidity": 0.2
             }
            },
            "type": "bar"
           }
          ],
          "barpolar": [
           {
            "marker": {
             "line": {
              "color": "#E5ECF6",
              "width": 0.5
             },
             "pattern": {
              "fillmode": "overlay",
              "size": 10,
              "solidity": 0.2
             }
            },
            "type": "barpolar"
           }
          ],
          "carpet": [
           {
            "aaxis": {
             "endlinecolor": "#2a3f5f",
             "gridcolor": "white",
             "linecolor": "white",
             "minorgridcolor": "white",
             "startlinecolor": "#2a3f5f"
            },
            "baxis": {
             "endlinecolor": "#2a3f5f",
             "gridcolor": "white",
             "linecolor": "white",
             "minorgridcolor": "white",
             "startlinecolor": "#2a3f5f"
            },
            "type": "carpet"
           }
          ],
          "choropleth": [
           {
            "colorbar": {
             "outlinewidth": 0,
             "ticks": ""
            },
            "type": "choropleth"
           }
          ],
          "contour": [
           {
            "colorbar": {
             "outlinewidth": 0,
             "ticks": ""
            },
            "colorscale": [
             [
              0,
              "#0d0887"
             ],
             [
              0.1111111111111111,
              "#46039f"
             ],
             [
              0.2222222222222222,
              "#7201a8"
             ],
             [
              0.3333333333333333,
              "#9c179e"
             ],
             [
              0.4444444444444444,
              "#bd3786"
             ],
             [
              0.5555555555555556,
              "#d8576b"
             ],
             [
              0.6666666666666666,
              "#ed7953"
             ],
             [
              0.7777777777777778,
              "#fb9f3a"
             ],
             [
              0.8888888888888888,
              "#fdca26"
             ],
             [
              1,
              "#f0f921"
             ]
            ],
            "type": "contour"
           }
          ],
          "contourcarpet": [
           {
            "colorbar": {
             "outlinewidth": 0,
             "ticks": ""
            },
            "type": "contourcarpet"
           }
          ],
          "heatmap": [
           {
            "colorbar": {
             "outlinewidth": 0,
             "ticks": ""
            },
            "colorscale": [
             [
              0,
              "#0d0887"
             ],
             [
              0.1111111111111111,
              "#46039f"
             ],
             [
              0.2222222222222222,
              "#7201a8"
             ],
             [
              0.3333333333333333,
              "#9c179e"
             ],
             [
              0.4444444444444444,
              "#bd3786"
             ],
             [
              0.5555555555555556,
              "#d8576b"
             ],
             [
              0.6666666666666666,
              "#ed7953"
             ],
             [
              0.7777777777777778,
              "#fb9f3a"
             ],
             [
              0.8888888888888888,
              "#fdca26"
             ],
             [
              1,
              "#f0f921"
             ]
            ],
            "type": "heatmap"
           }
          ],
          "heatmapgl": [
           {
            "colorbar": {
             "outlinewidth": 0,
             "ticks": ""
            },
            "colorscale": [
             [
              0,
              "#0d0887"
             ],
             [
              0.1111111111111111,
              "#46039f"
             ],
             [
              0.2222222222222222,
              "#7201a8"
             ],
             [
              0.3333333333333333,
              "#9c179e"
             ],
             [
              0.4444444444444444,
              "#bd3786"
             ],
             [
              0.5555555555555556,
              "#d8576b"
             ],
             [
              0.6666666666666666,
              "#ed7953"
             ],
             [
              0.7777777777777778,
              "#fb9f3a"
             ],
             [
              0.8888888888888888,
              "#fdca26"
             ],
             [
              1,
              "#f0f921"
             ]
            ],
            "type": "heatmapgl"
           }
          ],
          "histogram": [
           {
            "marker": {
             "pattern": {
              "fillmode": "overlay",
              "size": 10,
              "solidity": 0.2
             }
            },
            "type": "histogram"
           }
          ],
          "histogram2d": [
           {
            "colorbar": {
             "outlinewidth": 0,
             "ticks": ""
            },
            "colorscale": [
             [
              0,
              "#0d0887"
             ],
             [
              0.1111111111111111,
              "#46039f"
             ],
             [
              0.2222222222222222,
              "#7201a8"
             ],
             [
              0.3333333333333333,
              "#9c179e"
             ],
             [
              0.4444444444444444,
              "#bd3786"
             ],
             [
              0.5555555555555556,
              "#d8576b"
             ],
             [
              0.6666666666666666,
              "#ed7953"
             ],
             [
              0.7777777777777778,
              "#fb9f3a"
             ],
             [
              0.8888888888888888,
              "#fdca26"
             ],
             [
              1,
              "#f0f921"
             ]
            ],
            "type": "histogram2d"
           }
          ],
          "histogram2dcontour": [
           {
            "colorbar": {
             "outlinewidth": 0,
             "ticks": ""
            },
            "colorscale": [
             [
              0,
              "#0d0887"
             ],
             [
              0.1111111111111111,
              "#46039f"
             ],
             [
              0.2222222222222222,
              "#7201a8"
             ],
             [
              0.3333333333333333,
              "#9c179e"
             ],
             [
              0.4444444444444444,
              "#bd3786"
             ],
             [
              0.5555555555555556,
              "#d8576b"
             ],
             [
              0.6666666666666666,
              "#ed7953"
             ],
             [
              0.7777777777777778,
              "#fb9f3a"
             ],
             [
              0.8888888888888888,
              "#fdca26"
             ],
             [
              1,
              "#f0f921"
             ]
            ],
            "type": "histogram2dcontour"
           }
          ],
          "mesh3d": [
           {
            "colorbar": {
             "outlinewidth": 0,
             "ticks": ""
            },
            "type": "mesh3d"
           }
          ],
          "parcoords": [
           {
            "line": {
             "colorbar": {
              "outlinewidth": 0,
              "ticks": ""
             }
            },
            "type": "parcoords"
           }
          ],
          "pie": [
           {
            "automargin": true,
            "type": "pie"
           }
          ],
          "scatter": [
           {
            "fillpattern": {
             "fillmode": "overlay",
             "size": 10,
             "solidity": 0.2
            },
            "type": "scatter"
           }
          ],
          "scatter3d": [
           {
            "line": {
             "colorbar": {
              "outlinewidth": 0,
              "ticks": ""
             }
            },
            "marker": {
             "colorbar": {
              "outlinewidth": 0,
              "ticks": ""
             }
            },
            "type": "scatter3d"
           }
          ],
          "scattercarpet": [
           {
            "marker": {
             "colorbar": {
              "outlinewidth": 0,
              "ticks": ""
             }
            },
            "type": "scattercarpet"
           }
          ],
          "scattergeo": [
           {
            "marker": {
             "colorbar": {
              "outlinewidth": 0,
              "ticks": ""
             }
            },
            "type": "scattergeo"
           }
          ],
          "scattergl": [
           {
            "marker": {
             "colorbar": {
              "outlinewidth": 0,
              "ticks": ""
             }
            },
            "type": "scattergl"
           }
          ],
          "scattermapbox": [
           {
            "marker": {
             "colorbar": {
              "outlinewidth": 0,
              "ticks": ""
             }
            },
            "type": "scattermapbox"
           }
          ],
          "scatterpolar": [
           {
            "marker": {
             "colorbar": {
              "outlinewidth": 0,
              "ticks": ""
             }
            },
            "type": "scatterpolar"
           }
          ],
          "scatterpolargl": [
           {
            "marker": {
             "colorbar": {
              "outlinewidth": 0,
              "ticks": ""
             }
            },
            "type": "scatterpolargl"
           }
          ],
          "scatterternary": [
           {
            "marker": {
             "colorbar": {
              "outlinewidth": 0,
              "ticks": ""
             }
            },
            "type": "scatterternary"
           }
          ],
          "surface": [
           {
            "colorbar": {
             "outlinewidth": 0,
             "ticks": ""
            },
            "colorscale": [
             [
              0,
              "#0d0887"
             ],
             [
              0.1111111111111111,
              "#46039f"
             ],
             [
              0.2222222222222222,
              "#7201a8"
             ],
             [
              0.3333333333333333,
              "#9c179e"
             ],
             [
              0.4444444444444444,
              "#bd3786"
             ],
             [
              0.5555555555555556,
              "#d8576b"
             ],
             [
              0.6666666666666666,
              "#ed7953"
             ],
             [
              0.7777777777777778,
              "#fb9f3a"
             ],
             [
              0.8888888888888888,
              "#fdca26"
             ],
             [
              1,
              "#f0f921"
             ]
            ],
            "type": "surface"
           }
          ],
          "table": [
           {
            "cells": {
             "fill": {
              "color": "#EBF0F8"
             },
             "line": {
              "color": "white"
             }
            },
            "header": {
             "fill": {
              "color": "#C8D4E3"
             },
             "line": {
              "color": "white"
             }
            },
            "type": "table"
           }
          ]
         },
         "layout": {
          "annotationdefaults": {
           "arrowcolor": "#2a3f5f",
           "arrowhead": 0,
           "arrowwidth": 1
          },
          "autotypenumbers": "strict",
          "coloraxis": {
           "colorbar": {
            "outlinewidth": 0,
            "ticks": ""
           }
          },
          "colorscale": {
           "diverging": [
            [
             0,
             "#8e0152"
            ],
            [
             0.1,
             "#c51b7d"
            ],
            [
             0.2,
             "#de77ae"
            ],
            [
             0.3,
             "#f1b6da"
            ],
            [
             0.4,
             "#fde0ef"
            ],
            [
             0.5,
             "#f7f7f7"
            ],
            [
             0.6,
             "#e6f5d0"
            ],
            [
             0.7,
             "#b8e186"
            ],
            [
             0.8,
             "#7fbc41"
            ],
            [
             0.9,
             "#4d9221"
            ],
            [
             1,
             "#276419"
            ]
           ],
           "sequential": [
            [
             0,
             "#0d0887"
            ],
            [
             0.1111111111111111,
             "#46039f"
            ],
            [
             0.2222222222222222,
             "#7201a8"
            ],
            [
             0.3333333333333333,
             "#9c179e"
            ],
            [
             0.4444444444444444,
             "#bd3786"
            ],
            [
             0.5555555555555556,
             "#d8576b"
            ],
            [
             0.6666666666666666,
             "#ed7953"
            ],
            [
             0.7777777777777778,
             "#fb9f3a"
            ],
            [
             0.8888888888888888,
             "#fdca26"
            ],
            [
             1,
             "#f0f921"
            ]
           ],
           "sequentialminus": [
            [
             0,
             "#0d0887"
            ],
            [
             0.1111111111111111,
             "#46039f"
            ],
            [
             0.2222222222222222,
             "#7201a8"
            ],
            [
             0.3333333333333333,
             "#9c179e"
            ],
            [
             0.4444444444444444,
             "#bd3786"
            ],
            [
             0.5555555555555556,
             "#d8576b"
            ],
            [
             0.6666666666666666,
             "#ed7953"
            ],
            [
             0.7777777777777778,
             "#fb9f3a"
            ],
            [
             0.8888888888888888,
             "#fdca26"
            ],
            [
             1,
             "#f0f921"
            ]
           ]
          },
          "colorway": [
           "#636efa",
           "#EF553B",
           "#00cc96",
           "#ab63fa",
           "#FFA15A",
           "#19d3f3",
           "#FF6692",
           "#B6E880",
           "#FF97FF",
           "#FECB52"
          ],
          "font": {
           "color": "#2a3f5f"
          },
          "geo": {
           "bgcolor": "white",
           "lakecolor": "white",
           "landcolor": "#E5ECF6",
           "showlakes": true,
           "showland": true,
           "subunitcolor": "white"
          },
          "hoverlabel": {
           "align": "left"
          },
          "hovermode": "closest",
          "mapbox": {
           "style": "light"
          },
          "paper_bgcolor": "white",
          "plot_bgcolor": "#E5ECF6",
          "polar": {
           "angularaxis": {
            "gridcolor": "white",
            "linecolor": "white",
            "ticks": ""
           },
           "bgcolor": "#E5ECF6",
           "radialaxis": {
            "gridcolor": "white",
            "linecolor": "white",
            "ticks": ""
           }
          },
          "scene": {
           "xaxis": {
            "backgroundcolor": "#E5ECF6",
            "gridcolor": "white",
            "gridwidth": 2,
            "linecolor": "white",
            "showbackground": true,
            "ticks": "",
            "zerolinecolor": "white"
           },
           "yaxis": {
            "backgroundcolor": "#E5ECF6",
            "gridcolor": "white",
            "gridwidth": 2,
            "linecolor": "white",
            "showbackground": true,
            "ticks": "",
            "zerolinecolor": "white"
           },
           "zaxis": {
            "backgroundcolor": "#E5ECF6",
            "gridcolor": "white",
            "gridwidth": 2,
            "linecolor": "white",
            "showbackground": true,
            "ticks": "",
            "zerolinecolor": "white"
           }
          },
          "shapedefaults": {
           "line": {
            "color": "#2a3f5f"
           }
          },
          "ternary": {
           "aaxis": {
            "gridcolor": "white",
            "linecolor": "white",
            "ticks": ""
           },
           "baxis": {
            "gridcolor": "white",
            "linecolor": "white",
            "ticks": ""
           },
           "bgcolor": "#E5ECF6",
           "caxis": {
            "gridcolor": "white",
            "linecolor": "white",
            "ticks": ""
           }
          },
          "title": {
           "x": 0.05
          },
          "xaxis": {
           "automargin": true,
           "gridcolor": "white",
           "linecolor": "white",
           "ticks": "",
           "title": {
            "standoff": 15
           },
           "zerolinecolor": "white",
           "zerolinewidth": 2
          },
          "yaxis": {
           "automargin": true,
           "gridcolor": "white",
           "linecolor": "white",
           "ticks": "",
           "title": {
            "standoff": 15
           },
           "zerolinecolor": "white",
           "zerolinewidth": 2
          }
         }
        },
        "title": {
         "font": {
          "color": "#4D5663"
         }
        },
        "xaxis": {
         "gridcolor": "#E1E5ED",
         "showgrid": true,
         "tickfont": {
          "color": "#4D5663"
         },
         "title": {
          "font": {
           "color": "#4D5663"
          },
          "text": ""
         },
         "zerolinecolor": "#E1E5ED"
        },
        "yaxis": {
         "gridcolor": "#E1E5ED",
         "showgrid": true,
         "tickfont": {
          "color": "#4D5663"
         },
         "title": {
          "font": {
           "color": "#4D5663"
          },
          "text": ""
         },
         "zerolinecolor": "#E1E5ED"
        }
       }
      },
      "image/png": "[encoded data removed]",
      "text/html": [
       "<div>                            <div id=\"369d5ccb-5f71-45ac-9a95-5e261d089540\" class=\"plotly-graph-div\" style=\"height:525px; width:100%;\"></div>            <script type=\"text/javascript\">                require([\"plotly\"], function(Plotly) {                    window.PLOTLYENV=window.PLOTLYENV || {};\n",
       "                    window.PLOTLYENV.BASE_URL='https://plot.ly';                                    if (document.getElementById(\"369d5ccb-5f71-45ac-9a95-5e261d089540\")) {                    Plotly.newPlot(                        \"369d5ccb-5f71-45ac-9a95-5e261d089540\",                        [{\"colorscale\":[[0.0,\"rgb(165,0,38)\"],[0.1,\"rgb(215,48,39)\"],[0.2,\"rgb(244,109,67)\"],[0.3,\"rgb(253,174,97)\"],[0.4,\"rgb(254,224,144)\"],[0.5,\"rgb(255,255,191)\"],[0.6,\"rgb(224,243,248)\"],[0.7,\"rgb(171,217,233)\"],[0.8,\"rgb(116,173,209)\"],[0.9,\"rgb(69,117,180)\"],[1.0,\"rgb(49,54,149)\"]],\"x\":[0,1,2,3,4],\"y\":[\"x\",\"y\",\"z\"],\"z\":[[1,2,3,4,5],[2,2,2,2,2],[5,4,3,2,1]],\"type\":\"surface\"}],                        {\"legend\":{\"bgcolor\":\"#F5F6F9\",\"font\":{\"color\":\"#4D5663\"}},\"paper_bgcolor\":\"#F5F6F9\",\"plot_bgcolor\":\"#F5F6F9\",\"template\":{\"data\":{\"barpolar\":[{\"marker\":{\"line\":{\"color\":\"#E5ECF6\",\"width\":0.5},\"pattern\":{\"fillmode\":\"overlay\",\"size\":10,\"solidity\":0.2}},\"type\":\"barpolar\"}],\"bar\":[{\"error_x\":{\"color\":\"#2a3f5f\"},\"error_y\":{\"color\":\"#2a3f5f\"},\"marker\":{\"line\":{\"color\":\"#E5ECF6\",\"width\":0.5},\"pattern\":{\"fillmode\":\"overlay\",\"size\":10,\"solidity\":0.2}},\"type\":\"bar\"}],\"carpet\":[{\"aaxis\":{\"endlinecolor\":\"#2a3f5f\",\"gridcolor\":\"white\",\"linecolor\":\"white\",\"minorgridcolor\":\"white\",\"startlinecolor\":\"#2a3f5f\"},\"baxis\":{\"endlinecolor\":\"#2a3f5f\",\"gridcolor\":\"white\",\"linecolor\":\"white\",\"minorgridcolor\":\"white\",\"startlinecolor\":\"#2a3f5f\"},\"type\":\"carpet\"}],\"choropleth\":[{\"colorbar\":{\"outlinewidth\":0,\"ticks\":\"\"},\"type\":\"choropleth\"}],\"contourcarpet\":[{\"colorbar\":{\"outlinewidth\":0,\"ticks\":\"\"},\"type\":\"contourcarpet\"}],\"contour\":[{\"colorbar\":{\"outlinewidth\":0,\"ticks\":\"\"},\"colorscale\":[[0.0,\"#0d0887\"],[0.1111111111111111,\"#46039f\"],[0.2222222222222222,\"#7201a8\"],[0.3333333333333333,\"#9c179e\"],[0.4444444444444444,\"#bd3786\"],[0.5555555555555556,\"#d8576b\"],[0.6666666666666666,\"#ed7953\"],[0.7777777777777778,\"#fb9f3a\"],[0.8888888888888888,\"#fdca26\"],[1.0,\"#f0f921\"]],\"type\":\"contour\"}],\"heatmapgl\":[{\"colorbar\":{\"outlinewidth\":0,\"ticks\":\"\"},\"colorscale\":[[0.0,\"#0d0887\"],[0.1111111111111111,\"#46039f\"],[0.2222222222222222,\"#7201a8\"],[0.3333333333333333,\"#9c179e\"],[0.4444444444444444,\"#bd3786\"],[0.5555555555555556,\"#d8576b\"],[0.6666666666666666,\"#ed7953\"],[0.7777777777777778,\"#fb9f3a\"],[0.8888888888888888,\"#fdca26\"],[1.0,\"#f0f921\"]],\"type\":\"heatmapgl\"}],\"heatmap\":[{\"colorbar\":{\"outlinewidth\":0,\"ticks\":\"\"},\"colorscale\":[[0.0,\"#0d0887\"],[0.1111111111111111,\"#46039f\"],[0.2222222222222222,\"#7201a8\"],[0.3333333333333333,\"#9c179e\"],[0.4444444444444444,\"#bd3786\"],[0.5555555555555556,\"#d8576b\"],[0.6666666666666666,\"#ed7953\"],[0.7777777777777778,\"#fb9f3a\"],[0.8888888888888888,\"#fdca26\"],[1.0,\"#f0f921\"]],\"type\":\"heatmap\"}],\"histogram2dcontour\":[{\"colorbar\":{\"outlinewidth\":0,\"ticks\":\"\"},\"colorscale\":[[0.0,\"#0d0887\"],[0.1111111111111111,\"#46039f\"],[0.2222222222222222,\"#7201a8\"],[0.3333333333333333,\"#9c179e\"],[0.4444444444444444,\"#bd3786\"],[0.5555555555555556,\"#d8576b\"],[0.6666666666666666,\"#ed7953\"],[0.7777777777777778,\"#fb9f3a\"],[0.8888888888888888,\"#fdca26\"],[1.0,\"#f0f921\"]],\"type\":\"histogram2dcontour\"}],\"histogram2d\":[{\"colorbar\":{\"outlinewidth\":0,\"ticks\":\"\"},\"colorscale\":[[0.0,\"#0d0887\"],[0.1111111111111111,\"#46039f\"],[0.2222222222222222,\"#7201a8\"],[0.3333333333333333,\"#9c179e\"],[0.4444444444444444,\"#bd3786\"],[0.5555555555555556,\"#d8576b\"],[0.6666666666666666,\"#ed7953\"],[0.7777777777777778,\"#fb9f3a\"],[0.8888888888888888,\"#fdca26\"],[1.0,\"#f0f921\"]],\"type\":\"histogram2d\"}],\"histogram\":[{\"marker\":{\"pattern\":{\"fillmode\":\"overlay\",\"size\":10,\"solidity\":0.2}},\"type\":\"histogram\"}],\"mesh3d\":[{\"colorbar\":{\"outlinewidth\":0,\"ticks\":\"\"},\"type\":\"mesh3d\"}],\"parcoords\":[{\"line\":{\"colorbar\":{\"outlinewidth\":0,\"ticks\":\"\"}},\"type\":\"parcoords\"}],\"pie\":[{\"automargin\":true,\"type\":\"pie\"}],\"scatter3d\":[{\"line\":{\"colorbar\":{\"outlinewidth\":0,\"ticks\":\"\"}},\"marker\":{\"colorbar\":{\"outlinewidth\":0,\"ticks\":\"\"}},\"type\":\"scatter3d\"}],\"scattercarpet\":[{\"marker\":{\"colorbar\":{\"outlinewidth\":0,\"ticks\":\"\"}},\"type\":\"scattercarpet\"}],\"scattergeo\":[{\"marker\":{\"colorbar\":{\"outlinewidth\":0,\"ticks\":\"\"}},\"type\":\"scattergeo\"}],\"scattergl\":[{\"marker\":{\"colorbar\":{\"outlinewidth\":0,\"ticks\":\"\"}},\"type\":\"scattergl\"}],\"scattermapbox\":[{\"marker\":{\"colorbar\":{\"outlinewidth\":0,\"ticks\":\"\"}},\"type\":\"scattermapbox\"}],\"scatterpolargl\":[{\"marker\":{\"colorbar\":{\"outlinewidth\":0,\"ticks\":\"\"}},\"type\":\"scatterpolargl\"}],\"scatterpolar\":[{\"marker\":{\"colorbar\":{\"outlinewidth\":0,\"ticks\":\"\"}},\"type\":\"scatterpolar\"}],\"scatter\":[{\"fillpattern\":{\"fillmode\":\"overlay\",\"size\":10,\"solidity\":0.2},\"type\":\"scatter\"}],\"scatterternary\":[{\"marker\":{\"colorbar\":{\"outlinewidth\":0,\"ticks\":\"\"}},\"type\":\"scatterternary\"}],\"surface\":[{\"colorbar\":{\"outlinewidth\":0,\"ticks\":\"\"},\"colorscale\":[[0.0,\"#0d0887\"],[0.1111111111111111,\"#46039f\"],[0.2222222222222222,\"#7201a8\"],[0.3333333333333333,\"#9c179e\"],[0.4444444444444444,\"#bd3786\"],[0.5555555555555556,\"#d8576b\"],[0.6666666666666666,\"#ed7953\"],[0.7777777777777778,\"#fb9f3a\"],[0.8888888888888888,\"#fdca26\"],[1.0,\"#f0f921\"]],\"type\":\"surface\"}],\"table\":[{\"cells\":{\"fill\":{\"color\":\"#EBF0F8\"},\"line\":{\"color\":\"white\"}},\"header\":{\"fill\":{\"color\":\"#C8D4E3\"},\"line\":{\"color\":\"white\"}},\"type\":\"table\"}]},\"layout\":{\"annotationdefaults\":{\"arrowcolor\":\"#2a3f5f\",\"arrowhead\":0,\"arrowwidth\":1},\"autotypenumbers\":\"strict\",\"coloraxis\":{\"colorbar\":{\"outlinewidth\":0,\"ticks\":\"\"}},\"colorscale\":{\"diverging\":[[0,\"#8e0152\"],[0.1,\"#c51b7d\"],[0.2,\"#de77ae\"],[0.3,\"#f1b6da\"],[0.4,\"#fde0ef\"],[0.5,\"#f7f7f7\"],[0.6,\"#e6f5d0\"],[0.7,\"#b8e186\"],[0.8,\"#7fbc41\"],[0.9,\"#4d9221\"],[1,\"#276419\"]],\"sequential\":[[0.0,\"#0d0887\"],[0.1111111111111111,\"#46039f\"],[0.2222222222222222,\"#7201a8\"],[0.3333333333333333,\"#9c179e\"],[0.4444444444444444,\"#bd3786\"],[0.5555555555555556,\"#d8576b\"],[0.6666666666666666,\"#ed7953\"],[0.7777777777777778,\"#fb9f3a\"],[0.8888888888888888,\"#fdca26\"],[1.0,\"#f0f921\"]],\"sequentialminus\":[[0.0,\"#0d0887\"],[0.1111111111111111,\"#46039f\"],[0.2222222222222222,\"#7201a8\"],[0.3333333333333333,\"#9c179e\"],[0.4444444444444444,\"#bd3786\"],[0.5555555555555556,\"#d8576b\"],[0.6666666666666666,\"#ed7953\"],[0.7777777777777778,\"#fb9f3a\"],[0.8888888888888888,\"#fdca26\"],[1.0,\"#f0f921\"]]},\"colorway\":[\"#636efa\",\"#EF553B\",\"#00cc96\",\"#ab63fa\",\"#FFA15A\",\"#19d3f3\",\"#FF6692\",\"#B6E880\",\"#FF97FF\",\"#FECB52\"],\"font\":{\"color\":\"#2a3f5f\"},\"geo\":{\"bgcolor\":\"white\",\"lakecolor\":\"white\",\"landcolor\":\"#E5ECF6\",\"showlakes\":true,\"showland\":true,\"subunitcolor\":\"white\"},\"hoverlabel\":{\"align\":\"left\"},\"hovermode\":\"closest\",\"mapbox\":{\"style\":\"light\"},\"paper_bgcolor\":\"white\",\"plot_bgcolor\":\"#E5ECF6\",\"polar\":{\"angularaxis\":{\"gridcolor\":\"white\",\"linecolor\":\"white\",\"ticks\":\"\"},\"bgcolor\":\"#E5ECF6\",\"radialaxis\":{\"gridcolor\":\"white\",\"linecolor\":\"white\",\"ticks\":\"\"}},\"scene\":{\"xaxis\":{\"backgroundcolor\":\"#E5ECF6\",\"gridcolor\":\"white\",\"gridwidth\":2,\"linecolor\":\"white\",\"showbackground\":true,\"ticks\":\"\",\"zerolinecolor\":\"white\"},\"yaxis\":{\"backgroundcolor\":\"#E5ECF6\",\"gridcolor\":\"white\",\"gridwidth\":2,\"linecolor\":\"white\",\"showbackground\":true,\"ticks\":\"\",\"zerolinecolor\":\"white\"},\"zaxis\":{\"backgroundcolor\":\"#E5ECF6\",\"gridcolor\":\"white\",\"gridwidth\":2,\"linecolor\":\"white\",\"showbackground\":true,\"ticks\":\"\",\"zerolinecolor\":\"white\"}},\"shapedefaults\":{\"line\":{\"color\":\"#2a3f5f\"}},\"ternary\":{\"aaxis\":{\"gridcolor\":\"white\",\"linecolor\":\"white\",\"ticks\":\"\"},\"baxis\":{\"gridcolor\":\"white\",\"linecolor\":\"white\",\"ticks\":\"\"},\"bgcolor\":\"#E5ECF6\",\"caxis\":{\"gridcolor\":\"white\",\"linecolor\":\"white\",\"ticks\":\"\"}},\"title\":{\"x\":0.05},\"xaxis\":{\"automargin\":true,\"gridcolor\":\"white\",\"linecolor\":\"white\",\"ticks\":\"\",\"title\":{\"standoff\":15},\"zerolinecolor\":\"white\",\"zerolinewidth\":2},\"yaxis\":{\"automargin\":true,\"gridcolor\":\"white\",\"linecolor\":\"white\",\"ticks\":\"\",\"title\":{\"standoff\":15},\"zerolinecolor\":\"white\",\"zerolinewidth\":2}}},\"title\":{\"font\":{\"color\":\"#4D5663\"}},\"xaxis\":{\"gridcolor\":\"#E1E5ED\",\"showgrid\":true,\"tickfont\":{\"color\":\"#4D5663\"},\"title\":{\"font\":{\"color\":\"#4D5663\"},\"text\":\"\"},\"zerolinecolor\":\"#E1E5ED\"},\"yaxis\":{\"gridcolor\":\"#E1E5ED\",\"showgrid\":true,\"tickfont\":{\"color\":\"#4D5663\"},\"title\":{\"font\":{\"color\":\"#4D5663\"},\"text\":\"\"},\"zerolinecolor\":\"#E1E5ED\"}},                        {\"showLink\": true, \"linkText\": \"Export to plot.ly\", \"plotlyServerURL\": \"https://plot.ly\", \"responsive\": true}                    ).then(function(){\n",
       "                            \n",
       "var gd = document.getElementById('369d5ccb-5f71-45ac-9a95-5e261d089540');\n",
       "var x = new MutationObserver(function (mutations, observer) {{\n",
       "        var display = window.getComputedStyle(gd).display;\n",
       "        if (!display || display === 'none') {{\n",
       "            console.log([gd, 'removed!']);\n",
       "            Plotly.purge(gd);\n",
       "            observer.disconnect();\n",
       "        }}\n",
       "}});\n",
       "\n",
       "// Listen for the removal of the full notebook cells\n",
       "var notebookContainer = gd.closest('#notebook-container');\n",
       "if (notebookContainer) {{\n",
       "    x.observe(notebookContainer, {childList: true});\n",
       "}}\n",
       "\n",
       "// Listen for the clearing of the current output cell\n",
       "var outputEl = gd.closest('.output');\n",
       "if (outputEl) {{\n",
       "    x.observe(outputEl, {childList: true});\n",
       "}}\n",
       "\n",
       "                        })                };                });            </script>        </div>"
      ]
     },
     "metadata": {},
     "output_type": "display_data"
    }
   ],
   "source": [
    "df3 = pd.DataFrame({'x':[1,2,3,4,5],'y':[2,2,2,2,2],'z':[5,4,3,2,1]})\n",
    "df3.iplot(kind='surface',colorscale='rdylbu')"
   ]
  },
  {
   "cell_type": "markdown",
   "metadata": {},
   "source": [
    "## Spread"
   ]
  },
  {
   "cell_type": "code",
   "execution_count": 27,
   "metadata": {
    "collapsed": false,
    "jupyter": {
     "outputs_hidden": false
    }
   },
   "outputs": [
    {
     "ename": "AttributeError",
     "evalue": "module 'pandas' has no attribute 'np'",
     "output_type": "error",
     "traceback": [
      "\u001b[1;31m---------------------------------------------------------------------------\u001b[0m",
      "\u001b[1;31mAttributeError\u001b[0m                            Traceback (most recent call last)",
      "Cell \u001b[1;32mIn[27], line 1\u001b[0m\n\u001b[1;32m----> 1\u001b[0m df\u001b[38;5;241m.\u001b[39miplot(kind\u001b[38;5;241m=\u001b[39m\u001b[38;5;124m'\u001b[39m\u001b[38;5;124mspread\u001b[39m\u001b[38;5;124m'\u001b[39m)\n",
      "File \u001b[1;32m~\\anaconda3\\Lib\\site-packages\\cufflinks\\plotlytools.py:849\u001b[0m, in \u001b[0;36m_iplot\u001b[1;34m(self, kind, data, layout, filename, sharing, title, xTitle, yTitle, zTitle, theme, colors, colorscale, fill, width, dash, mode, interpolation, symbol, size, barmode, sortbars, bargap, bargroupgap, bins, histnorm, histfunc, orientation, boxpoints, annotations, keys, bestfit, bestfit_colors, mean, mean_colors, categories, x, y, z, text, gridcolor, zerolinecolor, margin, labels, values, secondary_y, secondary_y_title, subplots, shape, error_x, error_y, error_type, locations, lon, lat, asFrame, asDates, asFigure, asImage, dimensions, asPlot, asUrl, online, **kwargs)\u001b[0m\n\u001b[0;32m    847\u001b[0m \u001b[38;5;28;01mif\u001b[39;00m kind\u001b[38;5;241m==\u001b[39m\u001b[38;5;124m'\u001b[39m\u001b[38;5;124mspread\u001b[39m\u001b[38;5;124m'\u001b[39m:\n\u001b[0;32m    848\u001b[0m \ttrace\u001b[38;5;241m=\u001b[39m\u001b[38;5;28mself\u001b[39m\u001b[38;5;241m.\u001b[39mapply(\u001b[38;5;28;01mlambda\u001b[39;00m x:x[\u001b[38;5;241m0\u001b[39m]\u001b[38;5;241m-\u001b[39mx[\u001b[38;5;241m1\u001b[39m],axis\u001b[38;5;241m=\u001b[39m\u001b[38;5;241m1\u001b[39m)\n\u001b[1;32m--> 849\u001b[0m \tpositive\u001b[38;5;241m=\u001b[39mtrace\u001b[38;5;241m.\u001b[39mapply(\u001b[38;5;28;01mlambda\u001b[39;00m x:x \u001b[38;5;28;01mif\u001b[39;00m x\u001b[38;5;241m>\u001b[39m\u001b[38;5;241m=\u001b[39m\u001b[38;5;241m0\u001b[39m \u001b[38;5;28;01melse\u001b[39;00m pd\u001b[38;5;241m.\u001b[39mnp\u001b[38;5;241m.\u001b[39mnan)\n\u001b[0;32m    850\u001b[0m \tnegative\u001b[38;5;241m=\u001b[39mtrace\u001b[38;5;241m.\u001b[39mapply(\u001b[38;5;28;01mlambda\u001b[39;00m x:x \u001b[38;5;28;01mif\u001b[39;00m x\u001b[38;5;241m<\u001b[39m\u001b[38;5;241m0\u001b[39m \u001b[38;5;28;01melse\u001b[39;00m pd\u001b[38;5;241m.\u001b[39mnp\u001b[38;5;241m.\u001b[39mnan)\n\u001b[0;32m    851\u001b[0m \ttrace\u001b[38;5;241m=\u001b[39mpd\u001b[38;5;241m.\u001b[39mDataFrame({\u001b[38;5;124m'\u001b[39m\u001b[38;5;124mpositive\u001b[39m\u001b[38;5;124m'\u001b[39m:positive,\u001b[38;5;124m'\u001b[39m\u001b[38;5;124mnegative\u001b[39m\u001b[38;5;124m'\u001b[39m:negative})\n",
      "File \u001b[1;32m~\\anaconda3\\Lib\\site-packages\\pandas\\core\\series.py:4764\u001b[0m, in \u001b[0;36mSeries.apply\u001b[1;34m(self, func, convert_dtype, args, by_row, **kwargs)\u001b[0m\n\u001b[0;32m   4629\u001b[0m \u001b[38;5;28;01mdef\u001b[39;00m \u001b[38;5;21mapply\u001b[39m(\n\u001b[0;32m   4630\u001b[0m     \u001b[38;5;28mself\u001b[39m,\n\u001b[0;32m   4631\u001b[0m     func: AggFuncType,\n\u001b[1;32m   (...)\u001b[0m\n\u001b[0;32m   4636\u001b[0m     \u001b[38;5;241m*\u001b[39m\u001b[38;5;241m*\u001b[39mkwargs,\n\u001b[0;32m   4637\u001b[0m ) \u001b[38;5;241m-\u001b[39m\u001b[38;5;241m>\u001b[39m DataFrame \u001b[38;5;241m|\u001b[39m Series:\n\u001b[0;32m   4638\u001b[0m \u001b[38;5;250m    \u001b[39m\u001b[38;5;124;03m\"\"\"\u001b[39;00m\n\u001b[0;32m   4639\u001b[0m \u001b[38;5;124;03m    Invoke function on values of Series.\u001b[39;00m\n\u001b[0;32m   4640\u001b[0m \n\u001b[1;32m   (...)\u001b[0m\n\u001b[0;32m   4755\u001b[0m \u001b[38;5;124;03m    dtype: float64\u001b[39;00m\n\u001b[0;32m   4756\u001b[0m \u001b[38;5;124;03m    \"\"\"\u001b[39;00m\n\u001b[0;32m   4757\u001b[0m     \u001b[38;5;28;01mreturn\u001b[39;00m SeriesApply(\n\u001b[0;32m   4758\u001b[0m         \u001b[38;5;28mself\u001b[39m,\n\u001b[0;32m   4759\u001b[0m         func,\n\u001b[0;32m   4760\u001b[0m         convert_dtype\u001b[38;5;241m=\u001b[39mconvert_dtype,\n\u001b[0;32m   4761\u001b[0m         by_row\u001b[38;5;241m=\u001b[39mby_row,\n\u001b[0;32m   4762\u001b[0m         args\u001b[38;5;241m=\u001b[39margs,\n\u001b[0;32m   4763\u001b[0m         kwargs\u001b[38;5;241m=\u001b[39mkwargs,\n\u001b[1;32m-> 4764\u001b[0m     )\u001b[38;5;241m.\u001b[39mapply()\n",
      "File \u001b[1;32m~\\anaconda3\\Lib\\site-packages\\pandas\\core\\apply.py:1209\u001b[0m, in \u001b[0;36mSeriesApply.apply\u001b[1;34m(self)\u001b[0m\n\u001b[0;32m   1206\u001b[0m     \u001b[38;5;28;01mreturn\u001b[39;00m \u001b[38;5;28mself\u001b[39m\u001b[38;5;241m.\u001b[39mapply_compat()\n\u001b[0;32m   1208\u001b[0m \u001b[38;5;66;03m# self.func is Callable\u001b[39;00m\n\u001b[1;32m-> 1209\u001b[0m \u001b[38;5;28;01mreturn\u001b[39;00m \u001b[38;5;28mself\u001b[39m\u001b[38;5;241m.\u001b[39mapply_standard()\n",
      "File \u001b[1;32m~\\anaconda3\\Lib\\site-packages\\pandas\\core\\apply.py:1289\u001b[0m, in \u001b[0;36mSeriesApply.apply_standard\u001b[1;34m(self)\u001b[0m\n\u001b[0;32m   1283\u001b[0m \u001b[38;5;66;03m# row-wise access\u001b[39;00m\n\u001b[0;32m   1284\u001b[0m \u001b[38;5;66;03m# apply doesn't have a `na_action` keyword and for backward compat reasons\u001b[39;00m\n\u001b[0;32m   1285\u001b[0m \u001b[38;5;66;03m# we need to give `na_action=\"ignore\"` for categorical data.\u001b[39;00m\n\u001b[0;32m   1286\u001b[0m \u001b[38;5;66;03m# TODO: remove the `na_action=\"ignore\"` when that default has been changed in\u001b[39;00m\n\u001b[0;32m   1287\u001b[0m \u001b[38;5;66;03m#  Categorical (GH51645).\u001b[39;00m\n\u001b[0;32m   1288\u001b[0m action \u001b[38;5;241m=\u001b[39m \u001b[38;5;124m\"\u001b[39m\u001b[38;5;124mignore\u001b[39m\u001b[38;5;124m\"\u001b[39m \u001b[38;5;28;01mif\u001b[39;00m \u001b[38;5;28misinstance\u001b[39m(obj\u001b[38;5;241m.\u001b[39mdtype, CategoricalDtype) \u001b[38;5;28;01melse\u001b[39;00m \u001b[38;5;28;01mNone\u001b[39;00m\n\u001b[1;32m-> 1289\u001b[0m mapped \u001b[38;5;241m=\u001b[39m obj\u001b[38;5;241m.\u001b[39m_map_values(\n\u001b[0;32m   1290\u001b[0m     mapper\u001b[38;5;241m=\u001b[39mcurried, na_action\u001b[38;5;241m=\u001b[39maction, convert\u001b[38;5;241m=\u001b[39m\u001b[38;5;28mself\u001b[39m\u001b[38;5;241m.\u001b[39mconvert_dtype\n\u001b[0;32m   1291\u001b[0m )\n\u001b[0;32m   1293\u001b[0m \u001b[38;5;28;01mif\u001b[39;00m \u001b[38;5;28mlen\u001b[39m(mapped) \u001b[38;5;129;01mand\u001b[39;00m \u001b[38;5;28misinstance\u001b[39m(mapped[\u001b[38;5;241m0\u001b[39m], ABCSeries):\n\u001b[0;32m   1294\u001b[0m     \u001b[38;5;66;03m# GH#43986 Need to do list(mapped) in order to get treated as nested\u001b[39;00m\n\u001b[0;32m   1295\u001b[0m     \u001b[38;5;66;03m#  See also GH#25959 regarding EA support\u001b[39;00m\n\u001b[0;32m   1296\u001b[0m     \u001b[38;5;28;01mreturn\u001b[39;00m obj\u001b[38;5;241m.\u001b[39m_constructor_expanddim(\u001b[38;5;28mlist\u001b[39m(mapped), index\u001b[38;5;241m=\u001b[39mobj\u001b[38;5;241m.\u001b[39mindex)\n",
      "File \u001b[1;32m~\\anaconda3\\Lib\\site-packages\\pandas\\core\\base.py:921\u001b[0m, in \u001b[0;36mIndexOpsMixin._map_values\u001b[1;34m(self, mapper, na_action, convert)\u001b[0m\n\u001b[0;32m    918\u001b[0m \u001b[38;5;28;01mif\u001b[39;00m \u001b[38;5;28misinstance\u001b[39m(arr, ExtensionArray):\n\u001b[0;32m    919\u001b[0m     \u001b[38;5;28;01mreturn\u001b[39;00m arr\u001b[38;5;241m.\u001b[39mmap(mapper, na_action\u001b[38;5;241m=\u001b[39mna_action)\n\u001b[1;32m--> 921\u001b[0m \u001b[38;5;28;01mreturn\u001b[39;00m algorithms\u001b[38;5;241m.\u001b[39mmap_array(arr, mapper, na_action\u001b[38;5;241m=\u001b[39mna_action, convert\u001b[38;5;241m=\u001b[39mconvert)\n",
      "File \u001b[1;32m~\\anaconda3\\Lib\\site-packages\\pandas\\core\\algorithms.py:1814\u001b[0m, in \u001b[0;36mmap_array\u001b[1;34m(arr, mapper, na_action, convert)\u001b[0m\n\u001b[0;32m   1812\u001b[0m values \u001b[38;5;241m=\u001b[39m arr\u001b[38;5;241m.\u001b[39mastype(\u001b[38;5;28mobject\u001b[39m, copy\u001b[38;5;241m=\u001b[39m\u001b[38;5;28;01mFalse\u001b[39;00m)\n\u001b[0;32m   1813\u001b[0m \u001b[38;5;28;01mif\u001b[39;00m na_action \u001b[38;5;129;01mis\u001b[39;00m \u001b[38;5;28;01mNone\u001b[39;00m:\n\u001b[1;32m-> 1814\u001b[0m     \u001b[38;5;28;01mreturn\u001b[39;00m lib\u001b[38;5;241m.\u001b[39mmap_infer(values, mapper, convert\u001b[38;5;241m=\u001b[39mconvert)\n\u001b[0;32m   1815\u001b[0m \u001b[38;5;28;01melse\u001b[39;00m:\n\u001b[0;32m   1816\u001b[0m     \u001b[38;5;28;01mreturn\u001b[39;00m lib\u001b[38;5;241m.\u001b[39mmap_infer_mask(\n\u001b[0;32m   1817\u001b[0m         values, mapper, mask\u001b[38;5;241m=\u001b[39misna(values)\u001b[38;5;241m.\u001b[39mview(np\u001b[38;5;241m.\u001b[39muint8), convert\u001b[38;5;241m=\u001b[39mconvert\n\u001b[0;32m   1818\u001b[0m     )\n",
      "File \u001b[1;32mlib.pyx:2926\u001b[0m, in \u001b[0;36mpandas._libs.lib.map_infer\u001b[1;34m()\u001b[0m\n",
      "File \u001b[1;32m~\\anaconda3\\Lib\\site-packages\\cufflinks\\plotlytools.py:849\u001b[0m, in \u001b[0;36m_iplot.<locals>.<lambda>\u001b[1;34m(x)\u001b[0m\n\u001b[0;32m    847\u001b[0m \u001b[38;5;28;01mif\u001b[39;00m kind\u001b[38;5;241m==\u001b[39m\u001b[38;5;124m'\u001b[39m\u001b[38;5;124mspread\u001b[39m\u001b[38;5;124m'\u001b[39m:\n\u001b[0;32m    848\u001b[0m \ttrace\u001b[38;5;241m=\u001b[39m\u001b[38;5;28mself\u001b[39m\u001b[38;5;241m.\u001b[39mapply(\u001b[38;5;28;01mlambda\u001b[39;00m x:x[\u001b[38;5;241m0\u001b[39m]\u001b[38;5;241m-\u001b[39mx[\u001b[38;5;241m1\u001b[39m],axis\u001b[38;5;241m=\u001b[39m\u001b[38;5;241m1\u001b[39m)\n\u001b[1;32m--> 849\u001b[0m \tpositive\u001b[38;5;241m=\u001b[39mtrace\u001b[38;5;241m.\u001b[39mapply(\u001b[38;5;28;01mlambda\u001b[39;00m x:x \u001b[38;5;28;01mif\u001b[39;00m x\u001b[38;5;241m>\u001b[39m\u001b[38;5;241m=\u001b[39m\u001b[38;5;241m0\u001b[39m \u001b[38;5;28;01melse\u001b[39;00m pd\u001b[38;5;241m.\u001b[39mnp\u001b[38;5;241m.\u001b[39mnan)\n\u001b[0;32m    850\u001b[0m \tnegative\u001b[38;5;241m=\u001b[39mtrace\u001b[38;5;241m.\u001b[39mapply(\u001b[38;5;28;01mlambda\u001b[39;00m x:x \u001b[38;5;28;01mif\u001b[39;00m x\u001b[38;5;241m<\u001b[39m\u001b[38;5;241m0\u001b[39m \u001b[38;5;28;01melse\u001b[39;00m pd\u001b[38;5;241m.\u001b[39mnp\u001b[38;5;241m.\u001b[39mnan)\n\u001b[0;32m    851\u001b[0m \ttrace\u001b[38;5;241m=\u001b[39mpd\u001b[38;5;241m.\u001b[39mDataFrame({\u001b[38;5;124m'\u001b[39m\u001b[38;5;124mpositive\u001b[39m\u001b[38;5;124m'\u001b[39m:positive,\u001b[38;5;124m'\u001b[39m\u001b[38;5;124mnegative\u001b[39m\u001b[38;5;124m'\u001b[39m:negative})\n",
      "\u001b[1;31mAttributeError\u001b[0m: module 'pandas' has no attribute 'np'"
     ]
    }
   ],
   "source": [
    "df.iplot(kind='spread')"
   ]
  },
  {
   "cell_type": "markdown",
   "metadata": {},
   "source": [
    "## histogram"
   ]
  },
  {
   "cell_type": "code",
   "execution_count": 25,
   "metadata": {
    "collapsed": false,
    "jupyter": {
     "outputs_hidden": false
    }
   },
   "outputs": [
    {
     "data": {
      "application/vnd.plotly.v1+json": {
       "config": {
        "linkText": "Export to plot.ly",
        "plotlyServerURL": "https://plot.ly",
        "showLink": true
       },
       "data": [
        {
         "histfunc": "count",
         "histnorm": "",
         "marker": {
          "color": "rgba(255, 153, 51, 1.0)",
          "line": {
           "color": "#4D5663",
           "width": 1.3
          }
         },
         "name": "A",
         "nbinsx": 25,
         "opacity": 0.8,
         "orientation": "v",
         "type": "histogram",
         "x": [
          0.035022181398114326,
          -0.20699578689422937,
          0.6854331888468773,
          -0.017634584585994605,
          1.2326548344267971,
          0.34065432474775714,
          0.7773002295902933,
          -0.06997872593786636,
          -0.47636906657201195,
          -1.3766477215822774,
          0.819752827345072,
          -1.5452321937779605,
          0.08818589711433107,
          0.9108942662658028,
          1.338696296014096,
          1.4457195985132714,
          -0.9406486554716124,
          -1.1786445618785613,
          0.760819500366671,
          0.14363089189865821,
          0.36352131731403725,
          1.939490850177335,
          1.2827221379295641,
          0.2659705924395352,
          2.1022861676675078,
          0.3357327758747543,
          0.10982642446818502,
          -0.6601533538796417,
          -1.1788917371594856,
          -0.19866505024475622,
          -0.33989181419760983,
          -0.07920301792622243,
          0.26684262905887757,
          1.0321015850695954,
          1.9229774515090154,
          -0.5763569673797575,
          -0.26358893321716054,
          -0.25618266335802486,
          -2.2919708180752716,
          1.104097148796708,
          -0.02600364194132311,
          -1.095101046141559,
          -0.029118539313768906,
          1.9280070485549,
          -1.5432922562388673,
          -0.08321371943117364,
          1.5187272566145855,
          0.4798744518687685,
          0.3562930677714046,
          1.8141615813198444,
          -1.2673503123924812,
          0.1379162585324516,
          1.5135108640588242,
          0.874412100586506,
          0.8081922553650184,
          1.7796032668681032,
          -0.024209348076993324,
          1.2800191682325985,
          0.946016955044502,
          -0.8220045581906293,
          -1.3196011962233833,
          -0.09368876377110245,
          -0.797199476653399,
          0.90490703106049,
          0.5672187408026297,
          -2.1931844232264788,
          -0.08774270252501609,
          0.8082328201397463,
          -0.37927777264635365,
          1.0189126266479482,
          1.0251439851490376,
          -0.16844947310708883,
          0.8678054803706199,
          -0.2676319793512391,
          -0.13010469422392154,
          -1.5230520612624383,
          -2.2661210188178496,
          0.5318445742803599,
          -1.252028495567799,
          0.887648346819725,
          -0.3608778691561237,
          0.940889785325926,
          -0.16611565265285455,
          1.051049195530483,
          -1.3686490280995647,
          0.14930843710924366,
          -0.6816859849019006,
          -1.5728723119928214,
          -0.3552986595227806,
          1.433894952092094,
          -0.36093139332641583,
          -1.8644568904312535,
          -1.67807506257055,
          0.9957812718371379,
          0.7779266748932111,
          -2.964210772731523,
          -1.0242512013728293,
          -0.46273126934655584,
          -0.31229657089361146,
          1.0530824316296037
         ]
        },
        {
         "histfunc": "count",
         "histnorm": "",
         "marker": {
          "color": "rgba(55, 128, 191, 1.0)",
          "line": {
           "color": "#4D5663",
           "width": 1.3
          }
         },
         "name": "B",
         "nbinsx": 25,
         "opacity": 0.8,
         "orientation": "v",
         "type": "histogram",
         "visible": true,
         "x": [
          0.659720180163578,
          -0.48229899595694803,
          0.5373007059525975,
          -0.7373191864504871,
          -0.2713614321259175,
          -1.0148788854458133,
          -1.6506618535197757,
          -0.6017055467580952,
          -2.02601587123514,
          -1.3807102617749039,
          1.7399382317527918,
          -0.09874877348992062,
          -0.8792180646493626,
          1.2072080438550892,
          0.3159919111568729,
          -0.1015296721567684,
          0.4140762003008372,
          -0.6679384015837599,
          -0.025480348783363194,
          1.1216031104528963,
          1.7338834217736316,
          2.0686026898673036,
          1.829012230047314,
          -0.14480019582680498,
          -1.0819289156745375,
          0.4370574296560661,
          -1.184075056937153,
          0.9401983152312045,
          0.8786622501219662,
          0.6223109307311763,
          0.7961583442526416,
          1.18881108784417,
          1.524784553972861,
          -0.14870906176062323,
          1.1027756352574738,
          -0.49567095059648475,
          0.2145742478184529,
          0.15863895021588398,
          -0.04680656455633057,
          0.25593922654731066,
          1.0545293724285103,
          0.1297834275250637,
          -0.3591106342649614,
          -0.28269664103315273,
          -0.9250220431155934,
          0.026124160430505243,
          0.7059241472672645,
          -1.5048176230279364,
          -0.7811212335563891,
          0.6600351095260198,
          1.0034561121134895,
          -0.09210647222601136,
          -1.2459254518418386,
          2.530019222084229,
          -0.6538234465769,
          1.184039297184767,
          1.906305150020457,
          -1.2631028687188486,
          0.09305052314923473,
          0.6018184880401937,
          0.6697487197869597,
          0.7650827084196883,
          -0.7762011115441019,
          0.9028366593960605,
          0.09349415461588395,
          -1.1114686313755264,
          0.9460537444267767,
          1.3758654613623988,
          -0.9374840851237152,
          1.394740244115055,
          -0.01093652733112355,
          0.27858466678647564,
          -0.4110749068039371,
          0.5028160769673242,
          0.3397450960046779,
          -0.6425741877849417,
          -1.8408827842624031,
          -0.5824980898400304,
          -0.38541793441184724,
          -1.286637074652041,
          -0.05045795267498061,
          -0.586066314722846,
          -1.3701758166092917,
          -0.7895782892796999,
          0.27178130726156885,
          -1.136531698284585,
          0.45154585239758016,
          0.8716622522777244,
          -0.20945319517410885,
          -0.06376929242251737,
          0.43499390795135273,
          1.2977522751245083,
          -1.0981836076015816,
          -0.7763264270235338,
          1.140037465457631,
          -0.49249600266665744,
          -1.1225633257293033,
          0.7855823642974321,
          0.4449325396305709,
          1.338966475816106
         ]
        }
       ],
       "layout": {
        "autosize": true,
        "barmode": "overlay",
        "legend": {
         "bgcolor": "#F5F6F9",
         "font": {
          "color": "#4D5663"
         }
        },
        "paper_bgcolor": "#F5F6F9",
        "plot_bgcolor": "#F5F6F9",
        "template": {
         "data": {
          "bar": [
           {
            "error_x": {
             "color": "#2a3f5f"
            },
            "error_y": {
             "color": "#2a3f5f"
            },
            "marker": {
             "line": {
              "color": "#E5ECF6",
              "width": 0.5
             },
             "pattern": {
              "fillmode": "overlay",
              "size": 10,
              "solidity": 0.2
             }
            },
            "type": "bar"
           }
          ],
          "barpolar": [
           {
            "marker": {
             "line": {
              "color": "#E5ECF6",
              "width": 0.5
             },
             "pattern": {
              "fillmode": "overlay",
              "size": 10,
              "solidity": 0.2
             }
            },
            "type": "barpolar"
           }
          ],
          "carpet": [
           {
            "aaxis": {
             "endlinecolor": "#2a3f5f",
             "gridcolor": "white",
             "linecolor": "white",
             "minorgridcolor": "white",
             "startlinecolor": "#2a3f5f"
            },
            "baxis": {
             "endlinecolor": "#2a3f5f",
             "gridcolor": "white",
             "linecolor": "white",
             "minorgridcolor": "white",
             "startlinecolor": "#2a3f5f"
            },
            "type": "carpet"
           }
          ],
          "choropleth": [
           {
            "colorbar": {
             "outlinewidth": 0,
             "ticks": ""
            },
            "type": "choropleth"
           }
          ],
          "contour": [
           {
            "colorbar": {
             "outlinewidth": 0,
             "ticks": ""
            },
            "colorscale": [
             [
              0,
              "#0d0887"
             ],
             [
              0.1111111111111111,
              "#46039f"
             ],
             [
              0.2222222222222222,
              "#7201a8"
             ],
             [
              0.3333333333333333,
              "#9c179e"
             ],
             [
              0.4444444444444444,
              "#bd3786"
             ],
             [
              0.5555555555555556,
              "#d8576b"
             ],
             [
              0.6666666666666666,
              "#ed7953"
             ],
             [
              0.7777777777777778,
              "#fb9f3a"
             ],
             [
              0.8888888888888888,
              "#fdca26"
             ],
             [
              1,
              "#f0f921"
             ]
            ],
            "type": "contour"
           }
          ],
          "contourcarpet": [
           {
            "colorbar": {
             "outlinewidth": 0,
             "ticks": ""
            },
            "type": "contourcarpet"
           }
          ],
          "heatmap": [
           {
            "colorbar": {
             "outlinewidth": 0,
             "ticks": ""
            },
            "colorscale": [
             [
              0,
              "#0d0887"
             ],
             [
              0.1111111111111111,
              "#46039f"
             ],
             [
              0.2222222222222222,
              "#7201a8"
             ],
             [
              0.3333333333333333,
              "#9c179e"
             ],
             [
              0.4444444444444444,
              "#bd3786"
             ],
             [
              0.5555555555555556,
              "#d8576b"
             ],
             [
              0.6666666666666666,
              "#ed7953"
             ],
             [
              0.7777777777777778,
              "#fb9f3a"
             ],
             [
              0.8888888888888888,
              "#fdca26"
             ],
             [
              1,
              "#f0f921"
             ]
            ],
            "type": "heatmap"
           }
          ],
          "heatmapgl": [
           {
            "colorbar": {
             "outlinewidth": 0,
             "ticks": ""
            },
            "colorscale": [
             [
              0,
              "#0d0887"
             ],
             [
              0.1111111111111111,
              "#46039f"
             ],
             [
              0.2222222222222222,
              "#7201a8"
             ],
             [
              0.3333333333333333,
              "#9c179e"
             ],
             [
              0.4444444444444444,
              "#bd3786"
             ],
             [
              0.5555555555555556,
              "#d8576b"
             ],
             [
              0.6666666666666666,
              "#ed7953"
             ],
             [
              0.7777777777777778,
              "#fb9f3a"
             ],
             [
              0.8888888888888888,
              "#fdca26"
             ],
             [
              1,
              "#f0f921"
             ]
            ],
            "type": "heatmapgl"
           }
          ],
          "histogram": [
           {
            "marker": {
             "pattern": {
              "fillmode": "overlay",
              "size": 10,
              "solidity": 0.2
             }
            },
            "type": "histogram"
           }
          ],
          "histogram2d": [
           {
            "colorbar": {
             "outlinewidth": 0,
             "ticks": ""
            },
            "colorscale": [
             [
              0,
              "#0d0887"
             ],
             [
              0.1111111111111111,
              "#46039f"
             ],
             [
              0.2222222222222222,
              "#7201a8"
             ],
             [
              0.3333333333333333,
              "#9c179e"
             ],
             [
              0.4444444444444444,
              "#bd3786"
             ],
             [
              0.5555555555555556,
              "#d8576b"
             ],
             [
              0.6666666666666666,
              "#ed7953"
             ],
             [
              0.7777777777777778,
              "#fb9f3a"
             ],
             [
              0.8888888888888888,
              "#fdca26"
             ],
             [
              1,
              "#f0f921"
             ]
            ],
            "type": "histogram2d"
           }
          ],
          "histogram2dcontour": [
           {
            "colorbar": {
             "outlinewidth": 0,
             "ticks": ""
            },
            "colorscale": [
             [
              0,
              "#0d0887"
             ],
             [
              0.1111111111111111,
              "#46039f"
             ],
             [
              0.2222222222222222,
              "#7201a8"
             ],
             [
              0.3333333333333333,
              "#9c179e"
             ],
             [
              0.4444444444444444,
              "#bd3786"
             ],
             [
              0.5555555555555556,
              "#d8576b"
             ],
             [
              0.6666666666666666,
              "#ed7953"
             ],
             [
              0.7777777777777778,
              "#fb9f3a"
             ],
             [
              0.8888888888888888,
              "#fdca26"
             ],
             [
              1,
              "#f0f921"
             ]
            ],
            "type": "histogram2dcontour"
           }
          ],
          "mesh3d": [
           {
            "colorbar": {
             "outlinewidth": 0,
             "ticks": ""
            },
            "type": "mesh3d"
           }
          ],
          "parcoords": [
           {
            "line": {
             "colorbar": {
              "outlinewidth": 0,
              "ticks": ""
             }
            },
            "type": "parcoords"
           }
          ],
          "pie": [
           {
            "automargin": true,
            "type": "pie"
           }
          ],
          "scatter": [
           {
            "fillpattern": {
             "fillmode": "overlay",
             "size": 10,
             "solidity": 0.2
            },
            "type": "scatter"
           }
          ],
          "scatter3d": [
           {
            "line": {
             "colorbar": {
              "outlinewidth": 0,
              "ticks": ""
             }
            },
            "marker": {
             "colorbar": {
              "outlinewidth": 0,
              "ticks": ""
             }
            },
            "type": "scatter3d"
           }
          ],
          "scattercarpet": [
           {
            "marker": {
             "colorbar": {
              "outlinewidth": 0,
              "ticks": ""
             }
            },
            "type": "scattercarpet"
           }
          ],
          "scattergeo": [
           {
            "marker": {
             "colorbar": {
              "outlinewidth": 0,
              "ticks": ""
             }
            },
            "type": "scattergeo"
           }
          ],
          "scattergl": [
           {
            "marker": {
             "colorbar": {
              "outlinewidth": 0,
              "ticks": ""
             }
            },
            "type": "scattergl"
           }
          ],
          "scattermapbox": [
           {
            "marker": {
             "colorbar": {
              "outlinewidth": 0,
              "ticks": ""
             }
            },
            "type": "scattermapbox"
           }
          ],
          "scatterpolar": [
           {
            "marker": {
             "colorbar": {
              "outlinewidth": 0,
              "ticks": ""
             }
            },
            "type": "scatterpolar"
           }
          ],
          "scatterpolargl": [
           {
            "marker": {
             "colorbar": {
              "outlinewidth": 0,
              "ticks": ""
             }
            },
            "type": "scatterpolargl"
           }
          ],
          "scatterternary": [
           {
            "marker": {
             "colorbar": {
              "outlinewidth": 0,
              "ticks": ""
             }
            },
            "type": "scatterternary"
           }
          ],
          "surface": [
           {
            "colorbar": {
             "outlinewidth": 0,
             "ticks": ""
            },
            "colorscale": [
             [
              0,
              "#0d0887"
             ],
             [
              0.1111111111111111,
              "#46039f"
             ],
             [
              0.2222222222222222,
              "#7201a8"
             ],
             [
              0.3333333333333333,
              "#9c179e"
             ],
             [
              0.4444444444444444,
              "#bd3786"
             ],
             [
              0.5555555555555556,
              "#d8576b"
             ],
             [
              0.6666666666666666,
              "#ed7953"
             ],
             [
              0.7777777777777778,
              "#fb9f3a"
             ],
             [
              0.8888888888888888,
              "#fdca26"
             ],
             [
              1,
              "#f0f921"
             ]
            ],
            "type": "surface"
           }
          ],
          "table": [
           {
            "cells": {
             "fill": {
              "color": "#EBF0F8"
             },
             "line": {
              "color": "white"
             }
            },
            "header": {
             "fill": {
              "color": "#C8D4E3"
             },
             "line": {
              "color": "white"
             }
            },
            "type": "table"
           }
          ]
         },
         "layout": {
          "annotationdefaults": {
           "arrowcolor": "#2a3f5f",
           "arrowhead": 0,
           "arrowwidth": 1
          },
          "autotypenumbers": "strict",
          "coloraxis": {
           "colorbar": {
            "outlinewidth": 0,
            "ticks": ""
           }
          },
          "colorscale": {
           "diverging": [
            [
             0,
             "#8e0152"
            ],
            [
             0.1,
             "#c51b7d"
            ],
            [
             0.2,
             "#de77ae"
            ],
            [
             0.3,
             "#f1b6da"
            ],
            [
             0.4,
             "#fde0ef"
            ],
            [
             0.5,
             "#f7f7f7"
            ],
            [
             0.6,
             "#e6f5d0"
            ],
            [
             0.7,
             "#b8e186"
            ],
            [
             0.8,
             "#7fbc41"
            ],
            [
             0.9,
             "#4d9221"
            ],
            [
             1,
             "#276419"
            ]
           ],
           "sequential": [
            [
             0,
             "#0d0887"
            ],
            [
             0.1111111111111111,
             "#46039f"
            ],
            [
             0.2222222222222222,
             "#7201a8"
            ],
            [
             0.3333333333333333,
             "#9c179e"
            ],
            [
             0.4444444444444444,
             "#bd3786"
            ],
            [
             0.5555555555555556,
             "#d8576b"
            ],
            [
             0.6666666666666666,
             "#ed7953"
            ],
            [
             0.7777777777777778,
             "#fb9f3a"
            ],
            [
             0.8888888888888888,
             "#fdca26"
            ],
            [
             1,
             "#f0f921"
            ]
           ],
           "sequentialminus": [
            [
             0,
             "#0d0887"
            ],
            [
             0.1111111111111111,
             "#46039f"
            ],
            [
             0.2222222222222222,
             "#7201a8"
            ],
            [
             0.3333333333333333,
             "#9c179e"
            ],
            [
             0.4444444444444444,
             "#bd3786"
            ],
            [
             0.5555555555555556,
             "#d8576b"
            ],
            [
             0.6666666666666666,
             "#ed7953"
            ],
            [
             0.7777777777777778,
             "#fb9f3a"
            ],
            [
             0.8888888888888888,
             "#fdca26"
            ],
            [
             1,
             "#f0f921"
            ]
           ]
          },
          "colorway": [
           "#636efa",
           "#EF553B",
           "#00cc96",
           "#ab63fa",
           "#FFA15A",
           "#19d3f3",
           "#FF6692",
           "#B6E880",
           "#FF97FF",
           "#FECB52"
          ],
          "font": {
           "color": "#2a3f5f"
          },
          "geo": {
           "bgcolor": "white",
           "lakecolor": "white",
           "landcolor": "#E5ECF6",
           "showlakes": true,
           "showland": true,
           "subunitcolor": "white"
          },
          "hoverlabel": {
           "align": "left"
          },
          "hovermode": "closest",
          "mapbox": {
           "style": "light"
          },
          "paper_bgcolor": "white",
          "plot_bgcolor": "#E5ECF6",
          "polar": {
           "angularaxis": {
            "gridcolor": "white",
            "linecolor": "white",
            "ticks": ""
           },
           "bgcolor": "#E5ECF6",
           "radialaxis": {
            "gridcolor": "white",
            "linecolor": "white",
            "ticks": ""
           }
          },
          "scene": {
           "xaxis": {
            "backgroundcolor": "#E5ECF6",
            "gridcolor": "white",
            "gridwidth": 2,
            "linecolor": "white",
            "showbackground": true,
            "ticks": "",
            "zerolinecolor": "white"
           },
           "yaxis": {
            "backgroundcolor": "#E5ECF6",
            "gridcolor": "white",
            "gridwidth": 2,
            "linecolor": "white",
            "showbackground": true,
            "ticks": "",
            "zerolinecolor": "white"
           },
           "zaxis": {
            "backgroundcolor": "#E5ECF6",
            "gridcolor": "white",
            "gridwidth": 2,
            "linecolor": "white",
            "showbackground": true,
            "ticks": "",
            "zerolinecolor": "white"
           }
          },
          "shapedefaults": {
           "line": {
            "color": "#2a3f5f"
           }
          },
          "ternary": {
           "aaxis": {
            "gridcolor": "white",
            "linecolor": "white",
            "ticks": ""
           },
           "baxis": {
            "gridcolor": "white",
            "linecolor": "white",
            "ticks": ""
           },
           "bgcolor": "#E5ECF6",
           "caxis": {
            "gridcolor": "white",
            "linecolor": "white",
            "ticks": ""
           }
          },
          "title": {
           "x": 0.05
          },
          "xaxis": {
           "automargin": true,
           "gridcolor": "white",
           "linecolor": "white",
           "ticks": "",
           "title": {
            "standoff": 15
           },
           "zerolinecolor": "white",
           "zerolinewidth": 2
          },
          "yaxis": {
           "automargin": true,
           "gridcolor": "white",
           "linecolor": "white",
           "ticks": "",
           "title": {
            "standoff": 15
           },
           "zerolinecolor": "white",
           "zerolinewidth": 2
          }
         }
        },
        "title": {
         "font": {
          "color": "#4D5663"
         }
        },
        "xaxis": {
         "autorange": true,
         "gridcolor": "#E1E5ED",
         "range": [
          -3,
          2.5999999999999996
         ],
         "showgrid": true,
         "tickfont": {
          "color": "#4D5663"
         },
         "title": {
          "font": {
           "color": "#4D5663"
          },
          "text": ""
         },
         "type": "linear",
         "zerolinecolor": "#E1E5ED"
        },
        "yaxis": {
         "autorange": true,
         "gridcolor": "#E1E5ED",
         "range": [
          0,
          26.31578947368421
         ],
         "showgrid": true,
         "tickfont": {
          "color": "#4D5663"
         },
         "title": {
          "font": {
           "color": "#4D5663"
          },
          "text": ""
         },
         "zerolinecolor": "#E1E5ED"
        }
       }
      },
      "image/png": "[encoded data removed]",
      "text/html": [
       "<div>                            <div id=\"a6e9295d-8802-4258-81b3-0b1550a3b382\" class=\"plotly-graph-div\" style=\"height:525px; width:100%;\"></div>            <script type=\"text/javascript\">                require([\"plotly\"], function(Plotly) {                    window.PLOTLYENV=window.PLOTLYENV || {};\n",
       "                    window.PLOTLYENV.BASE_URL='https://plot.ly';                                    if (document.getElementById(\"a6e9295d-8802-4258-81b3-0b1550a3b382\")) {                    Plotly.newPlot(                        \"a6e9295d-8802-4258-81b3-0b1550a3b382\",                        [{\"histfunc\":\"count\",\"histnorm\":\"\",\"marker\":{\"color\":\"rgba(255, 153, 51, 1.0)\",\"line\":{\"color\":\"#4D5663\",\"width\":1.3}},\"name\":\"A\",\"nbinsx\":25,\"opacity\":0.8,\"orientation\":\"v\",\"x\":[0.035022181398114326,-0.20699578689422937,0.6854331888468773,-0.017634584585994605,1.2326548344267971,0.34065432474775714,0.7773002295902933,-0.06997872593786636,-0.47636906657201195,-1.3766477215822774,0.819752827345072,-1.5452321937779605,0.08818589711433107,0.9108942662658028,1.338696296014096,1.4457195985132714,-0.9406486554716124,-1.1786445618785613,0.760819500366671,0.14363089189865821,0.36352131731403725,1.939490850177335,1.2827221379295641,0.2659705924395352,2.1022861676675078,0.3357327758747543,0.10982642446818502,-0.6601533538796417,-1.1788917371594856,-0.19866505024475622,-0.33989181419760983,-0.07920301792622243,0.26684262905887757,1.0321015850695954,1.9229774515090154,-0.5763569673797575,-0.26358893321716054,-0.25618266335802486,-2.2919708180752716,1.104097148796708,-0.02600364194132311,-1.095101046141559,-0.029118539313768906,1.9280070485549,-1.5432922562388673,-0.08321371943117364,1.5187272566145855,0.4798744518687685,0.3562930677714046,1.8141615813198444,-1.2673503123924812,0.1379162585324516,1.5135108640588242,0.874412100586506,0.8081922553650184,1.7796032668681032,-0.024209348076993324,1.2800191682325985,0.946016955044502,-0.8220045581906293,-1.3196011962233833,-0.09368876377110245,-0.797199476653399,0.90490703106049,0.5672187408026297,-2.1931844232264788,-0.08774270252501609,0.8082328201397463,-0.37927777264635365,1.0189126266479482,1.0251439851490376,-0.16844947310708883,0.8678054803706199,-0.2676319793512391,-0.13010469422392154,-1.5230520612624383,-2.2661210188178496,0.5318445742803599,-1.252028495567799,0.887648346819725,-0.3608778691561237,0.940889785325926,-0.16611565265285455,1.051049195530483,-1.3686490280995647,0.14930843710924366,-0.6816859849019006,-1.5728723119928214,-0.3552986595227806,1.433894952092094,-0.36093139332641583,-1.8644568904312535,-1.67807506257055,0.9957812718371379,0.7779266748932111,-2.964210772731523,-1.0242512013728293,-0.46273126934655584,-0.31229657089361146,1.0530824316296037],\"type\":\"histogram\"},{\"histfunc\":\"count\",\"histnorm\":\"\",\"marker\":{\"color\":\"rgba(55, 128, 191, 1.0)\",\"line\":{\"color\":\"#4D5663\",\"width\":1.3}},\"name\":\"B\",\"nbinsx\":25,\"opacity\":0.8,\"orientation\":\"v\",\"x\":[0.659720180163578,-0.48229899595694803,0.5373007059525975,-0.7373191864504871,-0.2713614321259175,-1.0148788854458133,-1.6506618535197757,-0.6017055467580952,-2.02601587123514,-1.3807102617749039,1.7399382317527918,-0.09874877348992062,-0.8792180646493626,1.2072080438550892,0.3159919111568729,-0.1015296721567684,0.4140762003008372,-0.6679384015837599,-0.025480348783363194,1.1216031104528963,1.7338834217736316,2.0686026898673036,1.829012230047314,-0.14480019582680498,-1.0819289156745375,0.4370574296560661,-1.184075056937153,0.9401983152312045,0.8786622501219662,0.6223109307311763,0.7961583442526416,1.18881108784417,1.524784553972861,-0.14870906176062323,1.1027756352574738,-0.49567095059648475,0.2145742478184529,0.15863895021588398,-0.04680656455633057,0.25593922654731066,1.0545293724285103,0.1297834275250637,-0.3591106342649614,-0.28269664103315273,-0.9250220431155934,0.026124160430505243,0.7059241472672645,-1.5048176230279364,-0.7811212335563891,0.6600351095260198,1.0034561121134895,-0.09210647222601136,-1.2459254518418386,2.530019222084229,-0.6538234465769,1.184039297184767,1.906305150020457,-1.2631028687188486,0.09305052314923473,0.6018184880401937,0.6697487197869597,0.7650827084196883,-0.7762011115441019,0.9028366593960605,0.09349415461588395,-1.1114686313755264,0.9460537444267767,1.3758654613623988,-0.9374840851237152,1.394740244115055,-0.01093652733112355,0.27858466678647564,-0.4110749068039371,0.5028160769673242,0.3397450960046779,-0.6425741877849417,-1.8408827842624031,-0.5824980898400304,-0.38541793441184724,-1.286637074652041,-0.05045795267498061,-0.586066314722846,-1.3701758166092917,-0.7895782892796999,0.27178130726156885,-1.136531698284585,0.45154585239758016,0.8716622522777244,-0.20945319517410885,-0.06376929242251737,0.43499390795135273,1.2977522751245083,-1.0981836076015816,-0.7763264270235338,1.140037465457631,-0.49249600266665744,-1.1225633257293033,0.7855823642974321,0.4449325396305709,1.338966475816106],\"type\":\"histogram\"}],                        {\"barmode\":\"overlay\",\"legend\":{\"bgcolor\":\"#F5F6F9\",\"font\":{\"color\":\"#4D5663\"}},\"paper_bgcolor\":\"#F5F6F9\",\"plot_bgcolor\":\"#F5F6F9\",\"template\":{\"data\":{\"barpolar\":[{\"marker\":{\"line\":{\"color\":\"#E5ECF6\",\"width\":0.5},\"pattern\":{\"fillmode\":\"overlay\",\"size\":10,\"solidity\":0.2}},\"type\":\"barpolar\"}],\"bar\":[{\"error_x\":{\"color\":\"#2a3f5f\"},\"error_y\":{\"color\":\"#2a3f5f\"},\"marker\":{\"line\":{\"color\":\"#E5ECF6\",\"width\":0.5},\"pattern\":{\"fillmode\":\"overlay\",\"size\":10,\"solidity\":0.2}},\"type\":\"bar\"}],\"carpet\":[{\"aaxis\":{\"endlinecolor\":\"#2a3f5f\",\"gridcolor\":\"white\",\"linecolor\":\"white\",\"minorgridcolor\":\"white\",\"startlinecolor\":\"#2a3f5f\"},\"baxis\":{\"endlinecolor\":\"#2a3f5f\",\"gridcolor\":\"white\",\"linecolor\":\"white\",\"minorgridcolor\":\"white\",\"startlinecolor\":\"#2a3f5f\"},\"type\":\"carpet\"}],\"choropleth\":[{\"colorbar\":{\"outlinewidth\":0,\"ticks\":\"\"},\"type\":\"choropleth\"}],\"contourcarpet\":[{\"colorbar\":{\"outlinewidth\":0,\"ticks\":\"\"},\"type\":\"contourcarpet\"}],\"contour\":[{\"colorbar\":{\"outlinewidth\":0,\"ticks\":\"\"},\"colorscale\":[[0.0,\"#0d0887\"],[0.1111111111111111,\"#46039f\"],[0.2222222222222222,\"#7201a8\"],[0.3333333333333333,\"#9c179e\"],[0.4444444444444444,\"#bd3786\"],[0.5555555555555556,\"#d8576b\"],[0.6666666666666666,\"#ed7953\"],[0.7777777777777778,\"#fb9f3a\"],[0.8888888888888888,\"#fdca26\"],[1.0,\"#f0f921\"]],\"type\":\"contour\"}],\"heatmapgl\":[{\"colorbar\":{\"outlinewidth\":0,\"ticks\":\"\"},\"colorscale\":[[0.0,\"#0d0887\"],[0.1111111111111111,\"#46039f\"],[0.2222222222222222,\"#7201a8\"],[0.3333333333333333,\"#9c179e\"],[0.4444444444444444,\"#bd3786\"],[0.5555555555555556,\"#d8576b\"],[0.6666666666666666,\"#ed7953\"],[0.7777777777777778,\"#fb9f3a\"],[0.8888888888888888,\"#fdca26\"],[1.0,\"#f0f921\"]],\"type\":\"heatmapgl\"}],\"heatmap\":[{\"colorbar\":{\"outlinewidth\":0,\"ticks\":\"\"},\"colorscale\":[[0.0,\"#0d0887\"],[0.1111111111111111,\"#46039f\"],[0.2222222222222222,\"#7201a8\"],[0.3333333333333333,\"#9c179e\"],[0.4444444444444444,\"#bd3786\"],[0.5555555555555556,\"#d8576b\"],[0.6666666666666666,\"#ed7953\"],[0.7777777777777778,\"#fb9f3a\"],[0.8888888888888888,\"#fdca26\"],[1.0,\"#f0f921\"]],\"type\":\"heatmap\"}],\"histogram2dcontour\":[{\"colorbar\":{\"outlinewidth\":0,\"ticks\":\"\"},\"colorscale\":[[0.0,\"#0d0887\"],[0.1111111111111111,\"#46039f\"],[0.2222222222222222,\"#7201a8\"],[0.3333333333333333,\"#9c179e\"],[0.4444444444444444,\"#bd3786\"],[0.5555555555555556,\"#d8576b\"],[0.6666666666666666,\"#ed7953\"],[0.7777777777777778,\"#fb9f3a\"],[0.8888888888888888,\"#fdca26\"],[1.0,\"#f0f921\"]],\"type\":\"histogram2dcontour\"}],\"histogram2d\":[{\"colorbar\":{\"outlinewidth\":0,\"ticks\":\"\"},\"colorscale\":[[0.0,\"#0d0887\"],[0.1111111111111111,\"#46039f\"],[0.2222222222222222,\"#7201a8\"],[0.3333333333333333,\"#9c179e\"],[0.4444444444444444,\"#bd3786\"],[0.5555555555555556,\"#d8576b\"],[0.6666666666666666,\"#ed7953\"],[0.7777777777777778,\"#fb9f3a\"],[0.8888888888888888,\"#fdca26\"],[1.0,\"#f0f921\"]],\"type\":\"histogram2d\"}],\"histogram\":[{\"marker\":{\"pattern\":{\"fillmode\":\"overlay\",\"size\":10,\"solidity\":0.2}},\"type\":\"histogram\"}],\"mesh3d\":[{\"colorbar\":{\"outlinewidth\":0,\"ticks\":\"\"},\"type\":\"mesh3d\"}],\"parcoords\":[{\"line\":{\"colorbar\":{\"outlinewidth\":0,\"ticks\":\"\"}},\"type\":\"parcoords\"}],\"pie\":[{\"automargin\":true,\"type\":\"pie\"}],\"scatter3d\":[{\"line\":{\"colorbar\":{\"outlinewidth\":0,\"ticks\":\"\"}},\"marker\":{\"colorbar\":{\"outlinewidth\":0,\"ticks\":\"\"}},\"type\":\"scatter3d\"}],\"scattercarpet\":[{\"marker\":{\"colorbar\":{\"outlinewidth\":0,\"ticks\":\"\"}},\"type\":\"scattercarpet\"}],\"scattergeo\":[{\"marker\":{\"colorbar\":{\"outlinewidth\":0,\"ticks\":\"\"}},\"type\":\"scattergeo\"}],\"scattergl\":[{\"marker\":{\"colorbar\":{\"outlinewidth\":0,\"ticks\":\"\"}},\"type\":\"scattergl\"}],\"scattermapbox\":[{\"marker\":{\"colorbar\":{\"outlinewidth\":0,\"ticks\":\"\"}},\"type\":\"scattermapbox\"}],\"scatterpolargl\":[{\"marker\":{\"colorbar\":{\"outlinewidth\":0,\"ticks\":\"\"}},\"type\":\"scatterpolargl\"}],\"scatterpolar\":[{\"marker\":{\"colorbar\":{\"outlinewidth\":0,\"ticks\":\"\"}},\"type\":\"scatterpolar\"}],\"scatter\":[{\"fillpattern\":{\"fillmode\":\"overlay\",\"size\":10,\"solidity\":0.2},\"type\":\"scatter\"}],\"scatterternary\":[{\"marker\":{\"colorbar\":{\"outlinewidth\":0,\"ticks\":\"\"}},\"type\":\"scatterternary\"}],\"surface\":[{\"colorbar\":{\"outlinewidth\":0,\"ticks\":\"\"},\"colorscale\":[[0.0,\"#0d0887\"],[0.1111111111111111,\"#46039f\"],[0.2222222222222222,\"#7201a8\"],[0.3333333333333333,\"#9c179e\"],[0.4444444444444444,\"#bd3786\"],[0.5555555555555556,\"#d8576b\"],[0.6666666666666666,\"#ed7953\"],[0.7777777777777778,\"#fb9f3a\"],[0.8888888888888888,\"#fdca26\"],[1.0,\"#f0f921\"]],\"type\":\"surface\"}],\"table\":[{\"cells\":{\"fill\":{\"color\":\"#EBF0F8\"},\"line\":{\"color\":\"white\"}},\"header\":{\"fill\":{\"color\":\"#C8D4E3\"},\"line\":{\"color\":\"white\"}},\"type\":\"table\"}]},\"layout\":{\"annotationdefaults\":{\"arrowcolor\":\"#2a3f5f\",\"arrowhead\":0,\"arrowwidth\":1},\"autotypenumbers\":\"strict\",\"coloraxis\":{\"colorbar\":{\"outlinewidth\":0,\"ticks\":\"\"}},\"colorscale\":{\"diverging\":[[0,\"#8e0152\"],[0.1,\"#c51b7d\"],[0.2,\"#de77ae\"],[0.3,\"#f1b6da\"],[0.4,\"#fde0ef\"],[0.5,\"#f7f7f7\"],[0.6,\"#e6f5d0\"],[0.7,\"#b8e186\"],[0.8,\"#7fbc41\"],[0.9,\"#4d9221\"],[1,\"#276419\"]],\"sequential\":[[0.0,\"#0d0887\"],[0.1111111111111111,\"#46039f\"],[0.2222222222222222,\"#7201a8\"],[0.3333333333333333,\"#9c179e\"],[0.4444444444444444,\"#bd3786\"],[0.5555555555555556,\"#d8576b\"],[0.6666666666666666,\"#ed7953\"],[0.7777777777777778,\"#fb9f3a\"],[0.8888888888888888,\"#fdca26\"],[1.0,\"#f0f921\"]],\"sequentialminus\":[[0.0,\"#0d0887\"],[0.1111111111111111,\"#46039f\"],[0.2222222222222222,\"#7201a8\"],[0.3333333333333333,\"#9c179e\"],[0.4444444444444444,\"#bd3786\"],[0.5555555555555556,\"#d8576b\"],[0.6666666666666666,\"#ed7953\"],[0.7777777777777778,\"#fb9f3a\"],[0.8888888888888888,\"#fdca26\"],[1.0,\"#f0f921\"]]},\"colorway\":[\"#636efa\",\"#EF553B\",\"#00cc96\",\"#ab63fa\",\"#FFA15A\",\"#19d3f3\",\"#FF6692\",\"#B6E880\",\"#FF97FF\",\"#FECB52\"],\"font\":{\"color\":\"#2a3f5f\"},\"geo\":{\"bgcolor\":\"white\",\"lakecolor\":\"white\",\"landcolor\":\"#E5ECF6\",\"showlakes\":true,\"showland\":true,\"subunitcolor\":\"white\"},\"hoverlabel\":{\"align\":\"left\"},\"hovermode\":\"closest\",\"mapbox\":{\"style\":\"light\"},\"paper_bgcolor\":\"white\",\"plot_bgcolor\":\"#E5ECF6\",\"polar\":{\"angularaxis\":{\"gridcolor\":\"white\",\"linecolor\":\"white\",\"ticks\":\"\"},\"bgcolor\":\"#E5ECF6\",\"radialaxis\":{\"gridcolor\":\"white\",\"linecolor\":\"white\",\"ticks\":\"\"}},\"scene\":{\"xaxis\":{\"backgroundcolor\":\"#E5ECF6\",\"gridcolor\":\"white\",\"gridwidth\":2,\"linecolor\":\"white\",\"showbackground\":true,\"ticks\":\"\",\"zerolinecolor\":\"white\"},\"yaxis\":{\"backgroundcolor\":\"#E5ECF6\",\"gridcolor\":\"white\",\"gridwidth\":2,\"linecolor\":\"white\",\"showbackground\":true,\"ticks\":\"\",\"zerolinecolor\":\"white\"},\"zaxis\":{\"backgroundcolor\":\"#E5ECF6\",\"gridcolor\":\"white\",\"gridwidth\":2,\"linecolor\":\"white\",\"showbackground\":true,\"ticks\":\"\",\"zerolinecolor\":\"white\"}},\"shapedefaults\":{\"line\":{\"color\":\"#2a3f5f\"}},\"ternary\":{\"aaxis\":{\"gridcolor\":\"white\",\"linecolor\":\"white\",\"ticks\":\"\"},\"baxis\":{\"gridcolor\":\"white\",\"linecolor\":\"white\",\"ticks\":\"\"},\"bgcolor\":\"#E5ECF6\",\"caxis\":{\"gridcolor\":\"white\",\"linecolor\":\"white\",\"ticks\":\"\"}},\"title\":{\"x\":0.05},\"xaxis\":{\"automargin\":true,\"gridcolor\":\"white\",\"linecolor\":\"white\",\"ticks\":\"\",\"title\":{\"standoff\":15},\"zerolinecolor\":\"white\",\"zerolinewidth\":2},\"yaxis\":{\"automargin\":true,\"gridcolor\":\"white\",\"linecolor\":\"white\",\"ticks\":\"\",\"title\":{\"standoff\":15},\"zerolinecolor\":\"white\",\"zerolinewidth\":2}}},\"title\":{\"font\":{\"color\":\"#4D5663\"}},\"xaxis\":{\"gridcolor\":\"#E1E5ED\",\"showgrid\":true,\"tickfont\":{\"color\":\"#4D5663\"},\"title\":{\"font\":{\"color\":\"#4D5663\"},\"text\":\"\"},\"zerolinecolor\":\"#E1E5ED\"},\"yaxis\":{\"gridcolor\":\"#E1E5ED\",\"showgrid\":true,\"tickfont\":{\"color\":\"#4D5663\"},\"title\":{\"font\":{\"color\":\"#4D5663\"},\"text\":\"\"},\"zerolinecolor\":\"#E1E5ED\"}},                        {\"showLink\": true, \"linkText\": \"Export to plot.ly\", \"plotlyServerURL\": \"https://plot.ly\", \"responsive\": true}                    ).then(function(){\n",
       "                            \n",
       "var gd = document.getElementById('a6e9295d-8802-4258-81b3-0b1550a3b382');\n",
       "var x = new MutationObserver(function (mutations, observer) {{\n",
       "        var display = window.getComputedStyle(gd).display;\n",
       "        if (!display || display === 'none') {{\n",
       "            console.log([gd, 'removed!']);\n",
       "            Plotly.purge(gd);\n",
       "            observer.disconnect();\n",
       "        }}\n",
       "}});\n",
       "\n",
       "// Listen for the removal of the full notebook cells\n",
       "var notebookContainer = gd.closest('#notebook-container');\n",
       "if (notebookContainer) {{\n",
       "    x.observe(notebookContainer, {childList: true});\n",
       "}}\n",
       "\n",
       "// Listen for the clearing of the current output cell\n",
       "var outputEl = gd.closest('.output');\n",
       "if (outputEl) {{\n",
       "    x.observe(outputEl, {childList: true});\n",
       "}}\n",
       "\n",
       "                        })                };                });            </script>        </div>"
      ]
     },
     "metadata": {},
     "output_type": "display_data"
    }
   ],
   "source": [
    "df[['A','B']].iplot(kind='hist',bins=25)"
   ]
  },
  {
   "cell_type": "code",
   "execution_count": 21,
   "metadata": {
    "collapsed": false,
    "jupyter": {
     "outputs_hidden": false
    }
   },
   "outputs": [
    {
     "data": {
      "application/vnd.plotly.v1+json": {
       "config": {
        "linkText": "Export to plot.ly",
        "plotlyServerURL": "https://plot.ly",
        "showLink": true
       },
       "data": [
        {
         "marker": {
          "color": [
           "rgb(255, 153, 51)",
           "rgb(55, 128, 191)",
           "rgb(50, 171, 96)",
           "rgb(128, 0, 128)",
           "rgb(219, 64, 82)",
           "rgb(0, 128, 128)",
           "rgb(255, 255, 51)",
           "rgb(128, 128, 0)",
           "rgb(251, 128, 114)",
           "rgb(128, 177, 211)"
          ],
          "line": {
           "width": 1.3
          },
          "size": [
           51,
           55,
           63,
           54,
           72,
           68,
           12,
           49,
           75,
           55,
           52,
           28,
           112,
           70,
           67,
           72,
           78,
           47,
           45,
           81,
           49,
           75,
           47,
           76,
           24,
           35,
           51,
           87,
           69,
           48,
           97,
           77,
           50,
           80,
           59,
           37,
           16,
           64,
           74,
           53,
           99,
           65,
           76,
           43,
           38,
           81,
           95,
           61,
           46,
           72,
           44,
           65,
           41,
           85,
           75,
           32,
           43,
           56,
           98,
           54,
           12,
           65,
           47,
           74,
           37,
           85,
           61,
           49,
           36,
           80,
           96,
           41,
           42,
           54,
           38,
           48,
           73,
           93,
           89,
           84,
           81,
           29,
           49,
           20,
           71,
           47,
           33,
           65,
           83,
           72,
           62,
           62,
           79,
           86,
           43,
           50,
           35,
           65,
           90,
           49
          ],
          "symbol": "circle"
         },
         "mode": "markers",
         "text": "",
         "type": "scatter",
         "x": [
          0.035022181398114326,
          -0.20699578689422937,
          0.6854331888468773,
          -0.017634584585994605,
          1.2326548344267971,
          0.34065432474775714,
          0.7773002295902933,
          -0.06997872593786636,
          -0.47636906657201195,
          -1.3766477215822774,
          0.819752827345072,
          -1.5452321937779605,
          0.08818589711433107,
          0.9108942662658028,
          1.338696296014096,
          1.4457195985132714,
          -0.9406486554716124,
          -1.1786445618785613,
          0.760819500366671,
          0.14363089189865821,
          0.36352131731403725,
          1.939490850177335,
          1.2827221379295641,
          0.2659705924395352,
          2.1022861676675078,
          0.3357327758747543,
          0.10982642446818502,
          -0.6601533538796417,
          -1.1788917371594856,
          -0.19866505024475622,
          -0.33989181419760983,
          -0.07920301792622243,
          0.26684262905887757,
          1.0321015850695954,
          1.9229774515090154,
          -0.5763569673797575,
          -0.26358893321716054,
          -0.25618266335802486,
          -2.2919708180752716,
          1.104097148796708,
          -0.02600364194132311,
          -1.095101046141559,
          -0.029118539313768906,
          1.9280070485549,
          -1.5432922562388673,
          -0.08321371943117364,
          1.5187272566145855,
          0.4798744518687685,
          0.3562930677714046,
          1.8141615813198444,
          -1.2673503123924812,
          0.1379162585324516,
          1.5135108640588242,
          0.874412100586506,
          0.8081922553650184,
          1.7796032668681032,
          -0.024209348076993324,
          1.2800191682325985,
          0.946016955044502,
          -0.8220045581906293,
          -1.3196011962233833,
          -0.09368876377110245,
          -0.797199476653399,
          0.90490703106049,
          0.5672187408026297,
          -2.1931844232264788,
          -0.08774270252501609,
          0.8082328201397463,
          -0.37927777264635365,
          1.0189126266479482,
          1.0251439851490376,
          -0.16844947310708883,
          0.8678054803706199,
          -0.2676319793512391,
          -0.13010469422392154,
          -1.5230520612624383,
          -2.2661210188178496,
          0.5318445742803599,
          -1.252028495567799,
          0.887648346819725,
          -0.3608778691561237,
          0.940889785325926,
          -0.16611565265285455,
          1.051049195530483,
          -1.3686490280995647,
          0.14930843710924366,
          -0.6816859849019006,
          -1.5728723119928214,
          -0.3552986595227806,
          1.433894952092094,
          -0.36093139332641583,
          -1.8644568904312535,
          -1.67807506257055,
          0.9957812718371379,
          0.7779266748932111,
          -2.964210772731523,
          -1.0242512013728293,
          -0.46273126934655584,
          -0.31229657089361146,
          1.0530824316296037
         ],
         "y": [
          0.659720180163578,
          -0.48229899595694803,
          0.5373007059525975,
          -0.7373191864504871,
          -0.2713614321259175,
          -1.0148788854458133,
          -1.6506618535197757,
          -0.6017055467580952,
          -2.02601587123514,
          -1.3807102617749039,
          1.7399382317527918,
          -0.09874877348992062,
          -0.8792180646493626,
          1.2072080438550892,
          0.3159919111568729,
          -0.1015296721567684,
          0.4140762003008372,
          -0.6679384015837599,
          -0.025480348783363194,
          1.1216031104528963,
          1.7338834217736316,
          2.0686026898673036,
          1.829012230047314,
          -0.14480019582680498,
          -1.0819289156745375,
          0.4370574296560661,
          -1.184075056937153,
          0.9401983152312045,
          0.8786622501219662,
          0.6223109307311763,
          0.7961583442526416,
          1.18881108784417,
          1.524784553972861,
          -0.14870906176062323,
          1.1027756352574738,
          -0.49567095059648475,
          0.2145742478184529,
          0.15863895021588398,
          -0.04680656455633057,
          0.25593922654731066,
          1.0545293724285103,
          0.1297834275250637,
          -0.3591106342649614,
          -0.28269664103315273,
          -0.9250220431155934,
          0.026124160430505243,
          0.7059241472672645,
          -1.5048176230279364,
          -0.7811212335563891,
          0.6600351095260198,
          1.0034561121134895,
          -0.09210647222601136,
          -1.2459254518418386,
          2.530019222084229,
          -0.6538234465769,
          1.184039297184767,
          1.906305150020457,
          -1.2631028687188486,
          0.09305052314923473,
          0.6018184880401937,
          0.6697487197869597,
          0.7650827084196883,
          -0.7762011115441019,
          0.9028366593960605,
          0.09349415461588395,
          -1.1114686313755264,
          0.9460537444267767,
          1.3758654613623988,
          -0.9374840851237152,
          1.394740244115055,
          -0.01093652733112355,
          0.27858466678647564,
          -0.4110749068039371,
          0.5028160769673242,
          0.3397450960046779,
          -0.6425741877849417,
          -1.8408827842624031,
          -0.5824980898400304,
          -0.38541793441184724,
          -1.286637074652041,
          -0.05045795267498061,
          -0.586066314722846,
          -1.3701758166092917,
          -0.7895782892796999,
          0.27178130726156885,
          -1.136531698284585,
          0.45154585239758016,
          0.8716622522777244,
          -0.20945319517410885,
          -0.06376929242251737,
          0.43499390795135273,
          1.2977522751245083,
          -1.0981836076015816,
          -0.7763264270235338,
          1.140037465457631,
          -0.49249600266665744,
          -1.1225633257293033,
          0.7855823642974321,
          0.4449325396305709,
          1.338966475816106
         ]
        }
       ],
       "layout": {
        "autosize": true,
        "legend": {
         "bgcolor": "#F5F6F9",
         "font": {
          "color": "#4D5663"
         }
        },
        "paper_bgcolor": "#F5F6F9",
        "plot_bgcolor": "#F5F6F9",
        "template": {
         "data": {
          "bar": [
           {
            "error_x": {
             "color": "#2a3f5f"
            },
            "error_y": {
             "color": "#2a3f5f"
            },
            "marker": {
             "line": {
              "color": "#E5ECF6",
              "width": 0.5
             },
             "pattern": {
              "fillmode": "overlay",
              "size": 10,
              "solidity": 0.2
             }
            },
            "type": "bar"
           }
          ],
          "barpolar": [
           {
            "marker": {
             "line": {
              "color": "#E5ECF6",
              "width": 0.5
             },
             "pattern": {
              "fillmode": "overlay",
              "size": 10,
              "solidity": 0.2
             }
            },
            "type": "barpolar"
           }
          ],
          "carpet": [
           {
            "aaxis": {
             "endlinecolor": "#2a3f5f",
             "gridcolor": "white",
             "linecolor": "white",
             "minorgridcolor": "white",
             "startlinecolor": "#2a3f5f"
            },
            "baxis": {
             "endlinecolor": "#2a3f5f",
             "gridcolor": "white",
             "linecolor": "white",
             "minorgridcolor": "white",
             "startlinecolor": "#2a3f5f"
            },
            "type": "carpet"
           }
          ],
          "choropleth": [
           {
            "colorbar": {
             "outlinewidth": 0,
             "ticks": ""
            },
            "type": "choropleth"
           }
          ],
          "contour": [
           {
            "colorbar": {
             "outlinewidth": 0,
             "ticks": ""
            },
            "colorscale": [
             [
              0,
              "#0d0887"
             ],
             [
              0.1111111111111111,
              "#46039f"
             ],
             [
              0.2222222222222222,
              "#7201a8"
             ],
             [
              0.3333333333333333,
              "#9c179e"
             ],
             [
              0.4444444444444444,
              "#bd3786"
             ],
             [
              0.5555555555555556,
              "#d8576b"
             ],
             [
              0.6666666666666666,
              "#ed7953"
             ],
             [
              0.7777777777777778,
              "#fb9f3a"
             ],
             [
              0.8888888888888888,
              "#fdca26"
             ],
             [
              1,
              "#f0f921"
             ]
            ],
            "type": "contour"
           }
          ],
          "contourcarpet": [
           {
            "colorbar": {
             "outlinewidth": 0,
             "ticks": ""
            },
            "type": "contourcarpet"
           }
          ],
          "heatmap": [
           {
            "colorbar": {
             "outlinewidth": 0,
             "ticks": ""
            },
            "colorscale": [
             [
              0,
              "#0d0887"
             ],
             [
              0.1111111111111111,
              "#46039f"
             ],
             [
              0.2222222222222222,
              "#7201a8"
             ],
             [
              0.3333333333333333,
              "#9c179e"
             ],
             [
              0.4444444444444444,
              "#bd3786"
             ],
             [
              0.5555555555555556,
              "#d8576b"
             ],
             [
              0.6666666666666666,
              "#ed7953"
             ],
             [
              0.7777777777777778,
              "#fb9f3a"
             ],
             [
              0.8888888888888888,
              "#fdca26"
             ],
             [
              1,
              "#f0f921"
             ]
            ],
            "type": "heatmap"
           }
          ],
          "heatmapgl": [
           {
            "colorbar": {
             "outlinewidth": 0,
             "ticks": ""
            },
            "colorscale": [
             [
              0,
              "#0d0887"
             ],
             [
              0.1111111111111111,
              "#46039f"
             ],
             [
              0.2222222222222222,
              "#7201a8"
             ],
             [
              0.3333333333333333,
              "#9c179e"
             ],
             [
              0.4444444444444444,
              "#bd3786"
             ],
             [
              0.5555555555555556,
              "#d8576b"
             ],
             [
              0.6666666666666666,
              "#ed7953"
             ],
             [
              0.7777777777777778,
              "#fb9f3a"
             ],
             [
              0.8888888888888888,
              "#fdca26"
             ],
             [
              1,
              "#f0f921"
             ]
            ],
            "type": "heatmapgl"
           }
          ],
          "histogram": [
           {
            "marker": {
             "pattern": {
              "fillmode": "overlay",
              "size": 10,
              "solidity": 0.2
             }
            },
            "type": "histogram"
           }
          ],
          "histogram2d": [
           {
            "colorbar": {
             "outlinewidth": 0,
             "ticks": ""
            },
            "colorscale": [
             [
              0,
              "#0d0887"
             ],
             [
              0.1111111111111111,
              "#46039f"
             ],
             [
              0.2222222222222222,
              "#7201a8"
             ],
             [
              0.3333333333333333,
              "#9c179e"
             ],
             [
              0.4444444444444444,
              "#bd3786"
             ],
             [
              0.5555555555555556,
              "#d8576b"
             ],
             [
              0.6666666666666666,
              "#ed7953"
             ],
             [
              0.7777777777777778,
              "#fb9f3a"
             ],
             [
              0.8888888888888888,
              "#fdca26"
             ],
             [
              1,
              "#f0f921"
             ]
            ],
            "type": "histogram2d"
           }
          ],
          "histogram2dcontour": [
           {
            "colorbar": {
             "outlinewidth": 0,
             "ticks": ""
            },
            "colorscale": [
             [
              0,
              "#0d0887"
             ],
             [
              0.1111111111111111,
              "#46039f"
             ],
             [
              0.2222222222222222,
              "#7201a8"
             ],
             [
              0.3333333333333333,
              "#9c179e"
             ],
             [
              0.4444444444444444,
              "#bd3786"
             ],
             [
              0.5555555555555556,
              "#d8576b"
             ],
             [
              0.6666666666666666,
              "#ed7953"
             ],
             [
              0.7777777777777778,
              "#fb9f3a"
             ],
             [
              0.8888888888888888,
              "#fdca26"
             ],
             [
              1,
              "#f0f921"
             ]
            ],
            "type": "histogram2dcontour"
           }
          ],
          "mesh3d": [
           {
            "colorbar": {
             "outlinewidth": 0,
             "ticks": ""
            },
            "type": "mesh3d"
           }
          ],
          "parcoords": [
           {
            "line": {
             "colorbar": {
              "outlinewidth": 0,
              "ticks": ""
             }
            },
            "type": "parcoords"
           }
          ],
          "pie": [
           {
            "automargin": true,
            "type": "pie"
           }
          ],
          "scatter": [
           {
            "fillpattern": {
             "fillmode": "overlay",
             "size": 10,
             "solidity": 0.2
            },
            "type": "scatter"
           }
          ],
          "scatter3d": [
           {
            "line": {
             "colorbar": {
              "outlinewidth": 0,
              "ticks": ""
             }
            },
            "marker": {
             "colorbar": {
              "outlinewidth": 0,
              "ticks": ""
             }
            },
            "type": "scatter3d"
           }
          ],
          "scattercarpet": [
           {
            "marker": {
             "colorbar": {
              "outlinewidth": 0,
              "ticks": ""
             }
            },
            "type": "scattercarpet"
           }
          ],
          "scattergeo": [
           {
            "marker": {
             "colorbar": {
              "outlinewidth": 0,
              "ticks": ""
             }
            },
            "type": "scattergeo"
           }
          ],
          "scattergl": [
           {
            "marker": {
             "colorbar": {
              "outlinewidth": 0,
              "ticks": ""
             }
            },
            "type": "scattergl"
           }
          ],
          "scattermapbox": [
           {
            "marker": {
             "colorbar": {
              "outlinewidth": 0,
              "ticks": ""
             }
            },
            "type": "scattermapbox"
           }
          ],
          "scatterpolar": [
           {
            "marker": {
             "colorbar": {
              "outlinewidth": 0,
              "ticks": ""
             }
            },
            "type": "scatterpolar"
           }
          ],
          "scatterpolargl": [
           {
            "marker": {
             "colorbar": {
              "outlinewidth": 0,
              "ticks": ""
             }
            },
            "type": "scatterpolargl"
           }
          ],
          "scatterternary": [
           {
            "marker": {
             "colorbar": {
              "outlinewidth": 0,
              "ticks": ""
             }
            },
            "type": "scatterternary"
           }
          ],
          "surface": [
           {
            "colorbar": {
             "outlinewidth": 0,
             "ticks": ""
            },
            "colorscale": [
             [
              0,
              "#0d0887"
             ],
             [
              0.1111111111111111,
              "#46039f"
             ],
             [
              0.2222222222222222,
              "#7201a8"
             ],
             [
              0.3333333333333333,
              "#9c179e"
             ],
             [
              0.4444444444444444,
              "#bd3786"
             ],
             [
              0.5555555555555556,
              "#d8576b"
             ],
             [
              0.6666666666666666,
              "#ed7953"
             ],
             [
              0.7777777777777778,
              "#fb9f3a"
             ],
             [
              0.8888888888888888,
              "#fdca26"
             ],
             [
              1,
              "#f0f921"
             ]
            ],
            "type": "surface"
           }
          ],
          "table": [
           {
            "cells": {
             "fill": {
              "color": "#EBF0F8"
             },
             "line": {
              "color": "white"
             }
            },
            "header": {
             "fill": {
              "color": "#C8D4E3"
             },
             "line": {
              "color": "white"
             }
            },
            "type": "table"
           }
          ]
         },
         "layout": {
          "annotationdefaults": {
           "arrowcolor": "#2a3f5f",
           "arrowhead": 0,
           "arrowwidth": 1
          },
          "autotypenumbers": "strict",
          "coloraxis": {
           "colorbar": {
            "outlinewidth": 0,
            "ticks": ""
           }
          },
          "colorscale": {
           "diverging": [
            [
             0,
             "#8e0152"
            ],
            [
             0.1,
             "#c51b7d"
            ],
            [
             0.2,
             "#de77ae"
            ],
            [
             0.3,
             "#f1b6da"
            ],
            [
             0.4,
             "#fde0ef"
            ],
            [
             0.5,
             "#f7f7f7"
            ],
            [
             0.6,
             "#e6f5d0"
            ],
            [
             0.7,
             "#b8e186"
            ],
            [
             0.8,
             "#7fbc41"
            ],
            [
             0.9,
             "#4d9221"
            ],
            [
             1,
             "#276419"
            ]
           ],
           "sequential": [
            [
             0,
             "#0d0887"
            ],
            [
             0.1111111111111111,
             "#46039f"
            ],
            [
             0.2222222222222222,
             "#7201a8"
            ],
            [
             0.3333333333333333,
             "#9c179e"
            ],
            [
             0.4444444444444444,
             "#bd3786"
            ],
            [
             0.5555555555555556,
             "#d8576b"
            ],
            [
             0.6666666666666666,
             "#ed7953"
            ],
            [
             0.7777777777777778,
             "#fb9f3a"
            ],
            [
             0.8888888888888888,
             "#fdca26"
            ],
            [
             1,
             "#f0f921"
            ]
           ],
           "sequentialminus": [
            [
             0,
             "#0d0887"
            ],
            [
             0.1111111111111111,
             "#46039f"
            ],
            [
             0.2222222222222222,
             "#7201a8"
            ],
            [
             0.3333333333333333,
             "#9c179e"
            ],
            [
             0.4444444444444444,
             "#bd3786"
            ],
            [
             0.5555555555555556,
             "#d8576b"
            ],
            [
             0.6666666666666666,
             "#ed7953"
            ],
            [
             0.7777777777777778,
             "#fb9f3a"
            ],
            [
             0.8888888888888888,
             "#fdca26"
            ],
            [
             1,
             "#f0f921"
            ]
           ]
          },
          "colorway": [
           "#636efa",
           "#EF553B",
           "#00cc96",
           "#ab63fa",
           "#FFA15A",
           "#19d3f3",
           "#FF6692",
           "#B6E880",
           "#FF97FF",
           "#FECB52"
          ],
          "font": {
           "color": "#2a3f5f"
          },
          "geo": {
           "bgcolor": "white",
           "lakecolor": "white",
           "landcolor": "#E5ECF6",
           "showlakes": true,
           "showland": true,
           "subunitcolor": "white"
          },
          "hoverlabel": {
           "align": "left"
          },
          "hovermode": "closest",
          "mapbox": {
           "style": "light"
          },
          "paper_bgcolor": "white",
          "plot_bgcolor": "#E5ECF6",
          "polar": {
           "angularaxis": {
            "gridcolor": "white",
            "linecolor": "white",
            "ticks": ""
           },
           "bgcolor": "#E5ECF6",
           "radialaxis": {
            "gridcolor": "white",
            "linecolor": "white",
            "ticks": ""
           }
          },
          "scene": {
           "xaxis": {
            "backgroundcolor": "#E5ECF6",
            "gridcolor": "white",
            "gridwidth": 2,
            "linecolor": "white",
            "showbackground": true,
            "ticks": "",
            "zerolinecolor": "white"
           },
           "yaxis": {
            "backgroundcolor": "#E5ECF6",
            "gridcolor": "white",
            "gridwidth": 2,
            "linecolor": "white",
            "showbackground": true,
            "ticks": "",
            "zerolinecolor": "white"
           },
           "zaxis": {
            "backgroundcolor": "#E5ECF6",
            "gridcolor": "white",
            "gridwidth": 2,
            "linecolor": "white",
            "showbackground": true,
            "ticks": "",
            "zerolinecolor": "white"
           }
          },
          "shapedefaults": {
           "line": {
            "color": "#2a3f5f"
           }
          },
          "ternary": {
           "aaxis": {
            "gridcolor": "white",
            "linecolor": "white",
            "ticks": ""
           },
           "baxis": {
            "gridcolor": "white",
            "linecolor": "white",
            "ticks": ""
           },
           "bgcolor": "#E5ECF6",
           "caxis": {
            "gridcolor": "white",
            "linecolor": "white",
            "ticks": ""
           }
          },
          "title": {
           "x": 0.05
          },
          "xaxis": {
           "automargin": true,
           "gridcolor": "white",
           "linecolor": "white",
           "ticks": "",
           "title": {
            "standoff": 15
           },
           "zerolinecolor": "white",
           "zerolinewidth": 2
          },
          "yaxis": {
           "automargin": true,
           "gridcolor": "white",
           "linecolor": "white",
           "ticks": "",
           "title": {
            "standoff": 15
           },
           "zerolinecolor": "white",
           "zerolinewidth": 2
          }
         }
        },
        "title": {
         "font": {
          "color": "#4D5663"
         }
        },
        "xaxis": {
         "autorange": true,
         "gridcolor": "#E1E5ED",
         "range": [
          -3.463654481324757,
          2.5386000497893337
         ],
         "showgrid": true,
         "tickfont": {
          "color": "#4D5663"
         },
         "title": {
          "font": {
           "color": "#4D5663"
          },
          "text": ""
         },
         "type": "linear",
         "zerolinecolor": "#E1E5ED"
        },
        "yaxis": {
         "autorange": true,
         "gridcolor": "#E1E5ED",
         "range": [
          -7.8073144158250205,
          7.978221574195468
         ],
         "showgrid": true,
         "tickfont": {
          "color": "#4D5663"
         },
         "title": {
          "font": {
           "color": "#4D5663"
          },
          "text": ""
         },
         "type": "linear",
         "zerolinecolor": "#E1E5ED"
        }
       }
      },
      "image/png": "[encoded data removed]",
      "text/html": [
       "<div>                            <div id=\"7349ef61-a6dd-41b9-a358-246ce277c9cc\" class=\"plotly-graph-div\" style=\"height:525px; width:100%;\"></div>            <script type=\"text/javascript\">                require([\"plotly\"], function(Plotly) {                    window.PLOTLYENV=window.PLOTLYENV || {};\n",
       "                    window.PLOTLYENV.BASE_URL='https://plot.ly';                                    if (document.getElementById(\"7349ef61-a6dd-41b9-a358-246ce277c9cc\")) {                    Plotly.newPlot(                        \"7349ef61-a6dd-41b9-a358-246ce277c9cc\",                        [{\"marker\":{\"color\":[\"rgb(255, 153, 51)\",\"rgb(55, 128, 191)\",\"rgb(50, 171, 96)\",\"rgb(128, 0, 128)\",\"rgb(219, 64, 82)\",\"rgb(0, 128, 128)\",\"rgb(255, 255, 51)\",\"rgb(128, 128, 0)\",\"rgb(251, 128, 114)\",\"rgb(128, 177, 211)\"],\"line\":{\"width\":1.3},\"size\":[51,55,63,54,72,68,12,49,75,55,52,28,112,70,67,72,78,47,45,81,49,75,47,76,24,35,51,87,69,48,97,77,50,80,59,37,16,64,74,53,99,65,76,43,38,81,95,61,46,72,44,65,41,85,75,32,43,56,98,54,12,65,47,74,37,85,61,49,36,80,96,41,42,54,38,48,73,93,89,84,81,29,49,20,71,47,33,65,83,72,62,62,79,86,43,50,35,65,90,49],\"symbol\":\"circle\"},\"mode\":\"markers\",\"text\":\"\",\"x\":[0.035022181398114326,-0.20699578689422937,0.6854331888468773,-0.017634584585994605,1.2326548344267971,0.34065432474775714,0.7773002295902933,-0.06997872593786636,-0.47636906657201195,-1.3766477215822774,0.819752827345072,-1.5452321937779605,0.08818589711433107,0.9108942662658028,1.338696296014096,1.4457195985132714,-0.9406486554716124,-1.1786445618785613,0.760819500366671,0.14363089189865821,0.36352131731403725,1.939490850177335,1.2827221379295641,0.2659705924395352,2.1022861676675078,0.3357327758747543,0.10982642446818502,-0.6601533538796417,-1.1788917371594856,-0.19866505024475622,-0.33989181419760983,-0.07920301792622243,0.26684262905887757,1.0321015850695954,1.9229774515090154,-0.5763569673797575,-0.26358893321716054,-0.25618266335802486,-2.2919708180752716,1.104097148796708,-0.02600364194132311,-1.095101046141559,-0.029118539313768906,1.9280070485549,-1.5432922562388673,-0.08321371943117364,1.5187272566145855,0.4798744518687685,0.3562930677714046,1.8141615813198444,-1.2673503123924812,0.1379162585324516,1.5135108640588242,0.874412100586506,0.8081922553650184,1.7796032668681032,-0.024209348076993324,1.2800191682325985,0.946016955044502,-0.8220045581906293,-1.3196011962233833,-0.09368876377110245,-0.797199476653399,0.90490703106049,0.5672187408026297,-2.1931844232264788,-0.08774270252501609,0.8082328201397463,-0.37927777264635365,1.0189126266479482,1.0251439851490376,-0.16844947310708883,0.8678054803706199,-0.2676319793512391,-0.13010469422392154,-1.5230520612624383,-2.2661210188178496,0.5318445742803599,-1.252028495567799,0.887648346819725,-0.3608778691561237,0.940889785325926,-0.16611565265285455,1.051049195530483,-1.3686490280995647,0.14930843710924366,-0.6816859849019006,-1.5728723119928214,-0.3552986595227806,1.433894952092094,-0.36093139332641583,-1.8644568904312535,-1.67807506257055,0.9957812718371379,0.7779266748932111,-2.964210772731523,-1.0242512013728293,-0.46273126934655584,-0.31229657089361146,1.0530824316296037],\"y\":[0.659720180163578,-0.48229899595694803,0.5373007059525975,-0.7373191864504871,-0.2713614321259175,-1.0148788854458133,-1.6506618535197757,-0.6017055467580952,-2.02601587123514,-1.3807102617749039,1.7399382317527918,-0.09874877348992062,-0.8792180646493626,1.2072080438550892,0.3159919111568729,-0.1015296721567684,0.4140762003008372,-0.6679384015837599,-0.025480348783363194,1.1216031104528963,1.7338834217736316,2.0686026898673036,1.829012230047314,-0.14480019582680498,-1.0819289156745375,0.4370574296560661,-1.184075056937153,0.9401983152312045,0.8786622501219662,0.6223109307311763,0.7961583442526416,1.18881108784417,1.524784553972861,-0.14870906176062323,1.1027756352574738,-0.49567095059648475,0.2145742478184529,0.15863895021588398,-0.04680656455633057,0.25593922654731066,1.0545293724285103,0.1297834275250637,-0.3591106342649614,-0.28269664103315273,-0.9250220431155934,0.026124160430505243,0.7059241472672645,-1.5048176230279364,-0.7811212335563891,0.6600351095260198,1.0034561121134895,-0.09210647222601136,-1.2459254518418386,2.530019222084229,-0.6538234465769,1.184039297184767,1.906305150020457,-1.2631028687188486,0.09305052314923473,0.6018184880401937,0.6697487197869597,0.7650827084196883,-0.7762011115441019,0.9028366593960605,0.09349415461588395,-1.1114686313755264,0.9460537444267767,1.3758654613623988,-0.9374840851237152,1.394740244115055,-0.01093652733112355,0.27858466678647564,-0.4110749068039371,0.5028160769673242,0.3397450960046779,-0.6425741877849417,-1.8408827842624031,-0.5824980898400304,-0.38541793441184724,-1.286637074652041,-0.05045795267498061,-0.586066314722846,-1.3701758166092917,-0.7895782892796999,0.27178130726156885,-1.136531698284585,0.45154585239758016,0.8716622522777244,-0.20945319517410885,-0.06376929242251737,0.43499390795135273,1.2977522751245083,-1.0981836076015816,-0.7763264270235338,1.140037465457631,-0.49249600266665744,-1.1225633257293033,0.7855823642974321,0.4449325396305709,1.338966475816106],\"type\":\"scatter\"}],                        {\"legend\":{\"bgcolor\":\"#F5F6F9\",\"font\":{\"color\":\"#4D5663\"}},\"paper_bgcolor\":\"#F5F6F9\",\"plot_bgcolor\":\"#F5F6F9\",\"template\":{\"data\":{\"barpolar\":[{\"marker\":{\"line\":{\"color\":\"#E5ECF6\",\"width\":0.5},\"pattern\":{\"fillmode\":\"overlay\",\"size\":10,\"solidity\":0.2}},\"type\":\"barpolar\"}],\"bar\":[{\"error_x\":{\"color\":\"#2a3f5f\"},\"error_y\":{\"color\":\"#2a3f5f\"},\"marker\":{\"line\":{\"color\":\"#E5ECF6\",\"width\":0.5},\"pattern\":{\"fillmode\":\"overlay\",\"size\":10,\"solidity\":0.2}},\"type\":\"bar\"}],\"carpet\":[{\"aaxis\":{\"endlinecolor\":\"#2a3f5f\",\"gridcolor\":\"white\",\"linecolor\":\"white\",\"minorgridcolor\":\"white\",\"startlinecolor\":\"#2a3f5f\"},\"baxis\":{\"endlinecolor\":\"#2a3f5f\",\"gridcolor\":\"white\",\"linecolor\":\"white\",\"minorgridcolor\":\"white\",\"startlinecolor\":\"#2a3f5f\"},\"type\":\"carpet\"}],\"choropleth\":[{\"colorbar\":{\"outlinewidth\":0,\"ticks\":\"\"},\"type\":\"choropleth\"}],\"contourcarpet\":[{\"colorbar\":{\"outlinewidth\":0,\"ticks\":\"\"},\"type\":\"contourcarpet\"}],\"contour\":[{\"colorbar\":{\"outlinewidth\":0,\"ticks\":\"\"},\"colorscale\":[[0.0,\"#0d0887\"],[0.1111111111111111,\"#46039f\"],[0.2222222222222222,\"#7201a8\"],[0.3333333333333333,\"#9c179e\"],[0.4444444444444444,\"#bd3786\"],[0.5555555555555556,\"#d8576b\"],[0.6666666666666666,\"#ed7953\"],[0.7777777777777778,\"#fb9f3a\"],[0.8888888888888888,\"#fdca26\"],[1.0,\"#f0f921\"]],\"type\":\"contour\"}],\"heatmapgl\":[{\"colorbar\":{\"outlinewidth\":0,\"ticks\":\"\"},\"colorscale\":[[0.0,\"#0d0887\"],[0.1111111111111111,\"#46039f\"],[0.2222222222222222,\"#7201a8\"],[0.3333333333333333,\"#9c179e\"],[0.4444444444444444,\"#bd3786\"],[0.5555555555555556,\"#d8576b\"],[0.6666666666666666,\"#ed7953\"],[0.7777777777777778,\"#fb9f3a\"],[0.8888888888888888,\"#fdca26\"],[1.0,\"#f0f921\"]],\"type\":\"heatmapgl\"}],\"heatmap\":[{\"colorbar\":{\"outlinewidth\":0,\"ticks\":\"\"},\"colorscale\":[[0.0,\"#0d0887\"],[0.1111111111111111,\"#46039f\"],[0.2222222222222222,\"#7201a8\"],[0.3333333333333333,\"#9c179e\"],[0.4444444444444444,\"#bd3786\"],[0.5555555555555556,\"#d8576b\"],[0.6666666666666666,\"#ed7953\"],[0.7777777777777778,\"#fb9f3a\"],[0.8888888888888888,\"#fdca26\"],[1.0,\"#f0f921\"]],\"type\":\"heatmap\"}],\"histogram2dcontour\":[{\"colorbar\":{\"outlinewidth\":0,\"ticks\":\"\"},\"colorscale\":[[0.0,\"#0d0887\"],[0.1111111111111111,\"#46039f\"],[0.2222222222222222,\"#7201a8\"],[0.3333333333333333,\"#9c179e\"],[0.4444444444444444,\"#bd3786\"],[0.5555555555555556,\"#d8576b\"],[0.6666666666666666,\"#ed7953\"],[0.7777777777777778,\"#fb9f3a\"],[0.8888888888888888,\"#fdca26\"],[1.0,\"#f0f921\"]],\"type\":\"histogram2dcontour\"}],\"histogram2d\":[{\"colorbar\":{\"outlinewidth\":0,\"ticks\":\"\"},\"colorscale\":[[0.0,\"#0d0887\"],[0.1111111111111111,\"#46039f\"],[0.2222222222222222,\"#7201a8\"],[0.3333333333333333,\"#9c179e\"],[0.4444444444444444,\"#bd3786\"],[0.5555555555555556,\"#d8576b\"],[0.6666666666666666,\"#ed7953\"],[0.7777777777777778,\"#fb9f3a\"],[0.8888888888888888,\"#fdca26\"],[1.0,\"#f0f921\"]],\"type\":\"histogram2d\"}],\"histogram\":[{\"marker\":{\"pattern\":{\"fillmode\":\"overlay\",\"size\":10,\"solidity\":0.2}},\"type\":\"histogram\"}],\"mesh3d\":[{\"colorbar\":{\"outlinewidth\":0,\"ticks\":\"\"},\"type\":\"mesh3d\"}],\"parcoords\":[{\"line\":{\"colorbar\":{\"outlinewidth\":0,\"ticks\":\"\"}},\"type\":\"parcoords\"}],\"pie\":[{\"automargin\":true,\"type\":\"pie\"}],\"scatter3d\":[{\"line\":{\"colorbar\":{\"outlinewidth\":0,\"ticks\":\"\"}},\"marker\":{\"colorbar\":{\"outlinewidth\":0,\"ticks\":\"\"}},\"type\":\"scatter3d\"}],\"scattercarpet\":[{\"marker\":{\"colorbar\":{\"outlinewidth\":0,\"ticks\":\"\"}},\"type\":\"scattercarpet\"}],\"scattergeo\":[{\"marker\":{\"colorbar\":{\"outlinewidth\":0,\"ticks\":\"\"}},\"type\":\"scattergeo\"}],\"scattergl\":[{\"marker\":{\"colorbar\":{\"outlinewidth\":0,\"ticks\":\"\"}},\"type\":\"scattergl\"}],\"scattermapbox\":[{\"marker\":{\"colorbar\":{\"outlinewidth\":0,\"ticks\":\"\"}},\"type\":\"scattermapbox\"}],\"scatterpolargl\":[{\"marker\":{\"colorbar\":{\"outlinewidth\":0,\"ticks\":\"\"}},\"type\":\"scatterpolargl\"}],\"scatterpolar\":[{\"marker\":{\"colorbar\":{\"outlinewidth\":0,\"ticks\":\"\"}},\"type\":\"scatterpolar\"}],\"scatter\":[{\"fillpattern\":{\"fillmode\":\"overlay\",\"size\":10,\"solidity\":0.2},\"type\":\"scatter\"}],\"scatterternary\":[{\"marker\":{\"colorbar\":{\"outlinewidth\":0,\"ticks\":\"\"}},\"type\":\"scatterternary\"}],\"surface\":[{\"colorbar\":{\"outlinewidth\":0,\"ticks\":\"\"},\"colorscale\":[[0.0,\"#0d0887\"],[0.1111111111111111,\"#46039f\"],[0.2222222222222222,\"#7201a8\"],[0.3333333333333333,\"#9c179e\"],[0.4444444444444444,\"#bd3786\"],[0.5555555555555556,\"#d8576b\"],[0.6666666666666666,\"#ed7953\"],[0.7777777777777778,\"#fb9f3a\"],[0.8888888888888888,\"#fdca26\"],[1.0,\"#f0f921\"]],\"type\":\"surface\"}],\"table\":[{\"cells\":{\"fill\":{\"color\":\"#EBF0F8\"},\"line\":{\"color\":\"white\"}},\"header\":{\"fill\":{\"color\":\"#C8D4E3\"},\"line\":{\"color\":\"white\"}},\"type\":\"table\"}]},\"layout\":{\"annotationdefaults\":{\"arrowcolor\":\"#2a3f5f\",\"arrowhead\":0,\"arrowwidth\":1},\"autotypenumbers\":\"strict\",\"coloraxis\":{\"colorbar\":{\"outlinewidth\":0,\"ticks\":\"\"}},\"colorscale\":{\"diverging\":[[0,\"#8e0152\"],[0.1,\"#c51b7d\"],[0.2,\"#de77ae\"],[0.3,\"#f1b6da\"],[0.4,\"#fde0ef\"],[0.5,\"#f7f7f7\"],[0.6,\"#e6f5d0\"],[0.7,\"#b8e186\"],[0.8,\"#7fbc41\"],[0.9,\"#4d9221\"],[1,\"#276419\"]],\"sequential\":[[0.0,\"#0d0887\"],[0.1111111111111111,\"#46039f\"],[0.2222222222222222,\"#7201a8\"],[0.3333333333333333,\"#9c179e\"],[0.4444444444444444,\"#bd3786\"],[0.5555555555555556,\"#d8576b\"],[0.6666666666666666,\"#ed7953\"],[0.7777777777777778,\"#fb9f3a\"],[0.8888888888888888,\"#fdca26\"],[1.0,\"#f0f921\"]],\"sequentialminus\":[[0.0,\"#0d0887\"],[0.1111111111111111,\"#46039f\"],[0.2222222222222222,\"#7201a8\"],[0.3333333333333333,\"#9c179e\"],[0.4444444444444444,\"#bd3786\"],[0.5555555555555556,\"#d8576b\"],[0.6666666666666666,\"#ed7953\"],[0.7777777777777778,\"#fb9f3a\"],[0.8888888888888888,\"#fdca26\"],[1.0,\"#f0f921\"]]},\"colorway\":[\"#636efa\",\"#EF553B\",\"#00cc96\",\"#ab63fa\",\"#FFA15A\",\"#19d3f3\",\"#FF6692\",\"#B6E880\",\"#FF97FF\",\"#FECB52\"],\"font\":{\"color\":\"#2a3f5f\"},\"geo\":{\"bgcolor\":\"white\",\"lakecolor\":\"white\",\"landcolor\":\"#E5ECF6\",\"showlakes\":true,\"showland\":true,\"subunitcolor\":\"white\"},\"hoverlabel\":{\"align\":\"left\"},\"hovermode\":\"closest\",\"mapbox\":{\"style\":\"light\"},\"paper_bgcolor\":\"white\",\"plot_bgcolor\":\"#E5ECF6\",\"polar\":{\"angularaxis\":{\"gridcolor\":\"white\",\"linecolor\":\"white\",\"ticks\":\"\"},\"bgcolor\":\"#E5ECF6\",\"radialaxis\":{\"gridcolor\":\"white\",\"linecolor\":\"white\",\"ticks\":\"\"}},\"scene\":{\"xaxis\":{\"backgroundcolor\":\"#E5ECF6\",\"gridcolor\":\"white\",\"gridwidth\":2,\"linecolor\":\"white\",\"showbackground\":true,\"ticks\":\"\",\"zerolinecolor\":\"white\"},\"yaxis\":{\"backgroundcolor\":\"#E5ECF6\",\"gridcolor\":\"white\",\"gridwidth\":2,\"linecolor\":\"white\",\"showbackground\":true,\"ticks\":\"\",\"zerolinecolor\":\"white\"},\"zaxis\":{\"backgroundcolor\":\"#E5ECF6\",\"gridcolor\":\"white\",\"gridwidth\":2,\"linecolor\":\"white\",\"showbackground\":true,\"ticks\":\"\",\"zerolinecolor\":\"white\"}},\"shapedefaults\":{\"line\":{\"color\":\"#2a3f5f\"}},\"ternary\":{\"aaxis\":{\"gridcolor\":\"white\",\"linecolor\":\"white\",\"ticks\":\"\"},\"baxis\":{\"gridcolor\":\"white\",\"linecolor\":\"white\",\"ticks\":\"\"},\"bgcolor\":\"#E5ECF6\",\"caxis\":{\"gridcolor\":\"white\",\"linecolor\":\"white\",\"ticks\":\"\"}},\"title\":{\"x\":0.05},\"xaxis\":{\"automargin\":true,\"gridcolor\":\"white\",\"linecolor\":\"white\",\"ticks\":\"\",\"title\":{\"standoff\":15},\"zerolinecolor\":\"white\",\"zerolinewidth\":2},\"yaxis\":{\"automargin\":true,\"gridcolor\":\"white\",\"linecolor\":\"white\",\"ticks\":\"\",\"title\":{\"standoff\":15},\"zerolinecolor\":\"white\",\"zerolinewidth\":2}}},\"title\":{\"font\":{\"color\":\"#4D5663\"}},\"xaxis\":{\"gridcolor\":\"#E1E5ED\",\"showgrid\":true,\"tickfont\":{\"color\":\"#4D5663\"},\"title\":{\"font\":{\"color\":\"#4D5663\"},\"text\":\"\"},\"zerolinecolor\":\"#E1E5ED\"},\"yaxis\":{\"gridcolor\":\"#E1E5ED\",\"showgrid\":true,\"tickfont\":{\"color\":\"#4D5663\"},\"title\":{\"font\":{\"color\":\"#4D5663\"},\"text\":\"\"},\"zerolinecolor\":\"#E1E5ED\"}},                        {\"showLink\": true, \"linkText\": \"Export to plot.ly\", \"plotlyServerURL\": \"https://plot.ly\", \"responsive\": true}                    ).then(function(){\n",
       "                            \n",
       "var gd = document.getElementById('7349ef61-a6dd-41b9-a358-246ce277c9cc');\n",
       "var x = new MutationObserver(function (mutations, observer) {{\n",
       "        var display = window.getComputedStyle(gd).display;\n",
       "        if (!display || display === 'none') {{\n",
       "            console.log([gd, 'removed!']);\n",
       "            Plotly.purge(gd);\n",
       "            observer.disconnect();\n",
       "        }}\n",
       "}});\n",
       "\n",
       "// Listen for the removal of the full notebook cells\n",
       "var notebookContainer = gd.closest('#notebook-container');\n",
       "if (notebookContainer) {{\n",
       "    x.observe(notebookContainer, {childList: true});\n",
       "}}\n",
       "\n",
       "// Listen for the clearing of the current output cell\n",
       "var outputEl = gd.closest('.output');\n",
       "if (outputEl) {{\n",
       "    x.observe(outputEl, {childList: true});\n",
       "}}\n",
       "\n",
       "                        })                };                });            </script>        </div>"
      ]
     },
     "metadata": {},
     "output_type": "display_data"
    }
   ],
   "source": [
    "df.iplot(kind='bubble',x='A',y='B',size='C')"
   ]
  },
  {
   "cell_type": "markdown",
   "metadata": {},
   "source": [
    "## scatter_matrix()\n",
    "\n",
    "Similar to sns.pairplot()"
   ]
  },
  {
   "cell_type": "code",
   "execution_count": 22,
   "metadata": {
    "collapsed": false,
    "jupyter": {
     "outputs_hidden": false
    }
   },
   "outputs": [
    {
     "data": {
      "application/vnd.plotly.v1+json": {
       "config": {
        "linkText": "Export to plot.ly",
        "plotlyServerURL": "https://plot.ly",
        "showLink": true
       },
       "data": [
        {
         "histfunc": "count",
         "histnorm": "",
         "marker": {
          "color": "rgba(255, 153, 51, 1.0)",
          "line": {
           "color": "#4D5663",
           "width": 1.3
          }
         },
         "name": "A",
         "nbinsx": 10,
         "opacity": 0.8,
         "orientation": "v",
         "type": "histogram",
         "x": [
          0.035022181398114326,
          -0.20699578689422937,
          0.6854331888468773,
          -0.017634584585994605,
          1.2326548344267971,
          0.34065432474775714,
          0.7773002295902933,
          -0.06997872593786636,
          -0.47636906657201195,
          -1.3766477215822774,
          0.819752827345072,
          -1.5452321937779605,
          0.08818589711433107,
          0.9108942662658028,
          1.338696296014096,
          1.4457195985132714,
          -0.9406486554716124,
          -1.1786445618785613,
          0.760819500366671,
          0.14363089189865821,
          0.36352131731403725,
          1.939490850177335,
          1.2827221379295641,
          0.2659705924395352,
          2.1022861676675078,
          0.3357327758747543,
          0.10982642446818502,
          -0.6601533538796417,
          -1.1788917371594856,
          -0.19866505024475622,
          -0.33989181419760983,
          -0.07920301792622243,
          0.26684262905887757,
          1.0321015850695954,
          1.9229774515090154,
          -0.5763569673797575,
          -0.26358893321716054,
          -0.25618266335802486,
          -2.2919708180752716,
          1.104097148796708,
          -0.02600364194132311,
          -1.095101046141559,
          -0.029118539313768906,
          1.9280070485549,
          -1.5432922562388673,
          -0.08321371943117364,
          1.5187272566145855,
          0.4798744518687685,
          0.3562930677714046,
          1.8141615813198444,
          -1.2673503123924812,
          0.1379162585324516,
          1.5135108640588242,
          0.874412100586506,
          0.8081922553650184,
          1.7796032668681032,
          -0.024209348076993324,
          1.2800191682325985,
          0.946016955044502,
          -0.8220045581906293,
          -1.3196011962233833,
          -0.09368876377110245,
          -0.797199476653399,
          0.90490703106049,
          0.5672187408026297,
          -2.1931844232264788,
          -0.08774270252501609,
          0.8082328201397463,
          -0.37927777264635365,
          1.0189126266479482,
          1.0251439851490376,
          -0.16844947310708883,
          0.8678054803706199,
          -0.2676319793512391,
          -0.13010469422392154,
          -1.5230520612624383,
          -2.2661210188178496,
          0.5318445742803599,
          -1.252028495567799,
          0.887648346819725,
          -0.3608778691561237,
          0.940889785325926,
          -0.16611565265285455,
          1.051049195530483,
          -1.3686490280995647,
          0.14930843710924366,
          -0.6816859849019006,
          -1.5728723119928214,
          -0.3552986595227806,
          1.433894952092094,
          -0.36093139332641583,
          -1.8644568904312535,
          -1.67807506257055,
          0.9957812718371379,
          0.7779266748932111,
          -2.964210772731523,
          -1.0242512013728293,
          -0.46273126934655584,
          -0.31229657089361146,
          1.0530824316296037
         ],
         "xaxis": "x",
         "yaxis": "y"
        },
        {
         "line": {
          "color": "rgba(128, 128, 128, 1.0)",
          "dash": "solid",
          "shape": "linear",
          "width": 1.3
         },
         "marker": {
          "size": 2,
          "symbol": "circle"
         },
         "mode": "markers",
         "name": "A",
         "text": "",
         "type": "scatter",
         "x": [
          0.659720180163578,
          -0.48229899595694803,
          0.5373007059525975,
          -0.7373191864504871,
          -0.2713614321259175,
          -1.0148788854458133,
          -1.6506618535197757,
          -0.6017055467580952,
          -2.02601587123514,
          -1.3807102617749039,
          1.7399382317527918,
          -0.09874877348992062,
          -0.8792180646493626,
          1.2072080438550892,
          0.3159919111568729,
          -0.1015296721567684,
          0.4140762003008372,
          -0.6679384015837599,
          -0.025480348783363194,
          1.1216031104528963,
          1.7338834217736316,
          2.0686026898673036,
          1.829012230047314,
          -0.14480019582680498,
          -1.0819289156745375,
          0.4370574296560661,
          -1.184075056937153,
          0.9401983152312045,
          0.8786622501219662,
          0.6223109307311763,
          0.7961583442526416,
          1.18881108784417,
          1.524784553972861,
          -0.14870906176062323,
          1.1027756352574738,
          -0.49567095059648475,
          0.2145742478184529,
          0.15863895021588398,
          -0.04680656455633057,
          0.25593922654731066,
          1.0545293724285103,
          0.1297834275250637,
          -0.3591106342649614,
          -0.28269664103315273,
          -0.9250220431155934,
          0.026124160430505243,
          0.7059241472672645,
          -1.5048176230279364,
          -0.7811212335563891,
          0.6600351095260198,
          1.0034561121134895,
          -0.09210647222601136,
          -1.2459254518418386,
          2.530019222084229,
          -0.6538234465769,
          1.184039297184767,
          1.906305150020457,
          -1.2631028687188486,
          0.09305052314923473,
          0.6018184880401937,
          0.6697487197869597,
          0.7650827084196883,
          -0.7762011115441019,
          0.9028366593960605,
          0.09349415461588395,
          -1.1114686313755264,
          0.9460537444267767,
          1.3758654613623988,
          -0.9374840851237152,
          1.394740244115055,
          -0.01093652733112355,
          0.27858466678647564,
          -0.4110749068039371,
          0.5028160769673242,
          0.3397450960046779,
          -0.6425741877849417,
          -1.8408827842624031,
          -0.5824980898400304,
          -0.38541793441184724,
          -1.286637074652041,
          -0.05045795267498061,
          -0.586066314722846,
          -1.3701758166092917,
          -0.7895782892796999,
          0.27178130726156885,
          -1.136531698284585,
          0.45154585239758016,
          0.8716622522777244,
          -0.20945319517410885,
          -0.06376929242251737,
          0.43499390795135273,
          1.2977522751245083,
          -1.0981836076015816,
          -0.7763264270235338,
          1.140037465457631,
          -0.49249600266665744,
          -1.1225633257293033,
          0.7855823642974321,
          0.4449325396305709,
          1.338966475816106
         ],
         "xaxis": "x2",
         "y": [
          0.035022181398114326,
          -0.20699578689422937,
          0.6854331888468773,
          -0.017634584585994605,
          1.2326548344267971,
          0.34065432474775714,
          0.7773002295902933,
          -0.06997872593786636,
          -0.47636906657201195,
          -1.3766477215822774,
          0.819752827345072,
          -1.5452321937779605,
          0.08818589711433107,
          0.9108942662658028,
          1.338696296014096,
          1.4457195985132714,
          -0.9406486554716124,
          -1.1786445618785613,
          0.760819500366671,
          0.14363089189865821,
          0.36352131731403725,
          1.939490850177335,
          1.2827221379295641,
          0.2659705924395352,
          2.1022861676675078,
          0.3357327758747543,
          0.10982642446818502,
          -0.6601533538796417,
          -1.1788917371594856,
          -0.19866505024475622,
          -0.33989181419760983,
          -0.07920301792622243,
          0.26684262905887757,
          1.0321015850695954,
          1.9229774515090154,
          -0.5763569673797575,
          -0.26358893321716054,
          -0.25618266335802486,
          -2.2919708180752716,
          1.104097148796708,
          -0.02600364194132311,
          -1.095101046141559,
          -0.029118539313768906,
          1.9280070485549,
          -1.5432922562388673,
          -0.08321371943117364,
          1.5187272566145855,
          0.4798744518687685,
          0.3562930677714046,
          1.8141615813198444,
          -1.2673503123924812,
          0.1379162585324516,
          1.5135108640588242,
          0.874412100586506,
          0.8081922553650184,
          1.7796032668681032,
          -0.024209348076993324,
          1.2800191682325985,
          0.946016955044502,
          -0.8220045581906293,
          -1.3196011962233833,
          -0.09368876377110245,
          -0.797199476653399,
          0.90490703106049,
          0.5672187408026297,
          -2.1931844232264788,
          -0.08774270252501609,
          0.8082328201397463,
          -0.37927777264635365,
          1.0189126266479482,
          1.0251439851490376,
          -0.16844947310708883,
          0.8678054803706199,
          -0.2676319793512391,
          -0.13010469422392154,
          -1.5230520612624383,
          -2.2661210188178496,
          0.5318445742803599,
          -1.252028495567799,
          0.887648346819725,
          -0.3608778691561237,
          0.940889785325926,
          -0.16611565265285455,
          1.051049195530483,
          -1.3686490280995647,
          0.14930843710924366,
          -0.6816859849019006,
          -1.5728723119928214,
          -0.3552986595227806,
          1.433894952092094,
          -0.36093139332641583,
          -1.8644568904312535,
          -1.67807506257055,
          0.9957812718371379,
          0.7779266748932111,
          -2.964210772731523,
          -1.0242512013728293,
          -0.46273126934655584,
          -0.31229657089361146,
          1.0530824316296037
         ],
         "yaxis": "y2"
        },
        {
         "line": {
          "color": "rgba(128, 128, 128, 1.0)",
          "dash": "solid",
          "shape": "linear",
          "width": 1.3
         },
         "marker": {
          "size": 2,
          "symbol": "circle"
         },
         "mode": "markers",
         "name": "A",
         "text": "",
         "type": "scatter",
         "x": [
          -0.48342482847419954,
          -0.28917137909810087,
          0.10472817839319638,
          -0.3117041719124086,
          0.5474986505420716,
          0.36040555464410134,
          -2.3941833929601106,
          -0.5920466628675929,
          0.7030199564649418,
          -0.27907376596335065,
          -0.40355295361878935,
          -1.5788948840363446,
          2.4773161397200583,
          0.436574519139334,
          0.32532809517603817,
          0.5635250230272021,
          0.8442814716824333,
          -0.6794166582502248,
          -0.7666025757091693,
          1.0072984701608787,
          -0.5501928147375748,
          0.6877773474069846,
          -0.6505757792280401,
          0.7379231933386672,
          -1.781948344245377,
          -1.256089937990564,
          -0.48474996255921626,
          1.2714481931284987,
          0.40064144579818367,
          -0.6304491582154946,
          1.7891619378979553,
          0.7843308506814917,
          -0.5139382969616856,
          0.9588190681916949,
          -0.05846925797888498,
          -1.1573433562365338,
          -2.1931431037655726,
          0.18472195654751794,
          0.6723347397736454,
          -0.3552960384282929,
          1.8505722081067433,
          0.2120629040052719,
          0.7353646399453968,
          -0.8841948964965184,
          -1.0914681312767118,
          0.9839252399187555,
          1.679714369615582,
          0.030315933386810812,
          -0.7116682832700304,
          0.5314662077704951,
          -0.8196753783769472,
          0.22710804888544445,
          -0.9688296726515074,
          1.1700779277889357,
          0.705361600598505,
          -1.383011201696221,
          -0.8484094360452913,
          -0.20475815261979963,
          1.815935538182838,
          -0.3086927022715515,
          -2.39535730486845,
          0.21006405816980087,
          -0.6759974560899125,
          0.6523377749104889,
          -1.1468348471581247,
          1.1989541511995008,
          -0.0033747646544850843,
          -0.5868219951635674,
          -1.221537985575564,
          0.9554348986002157,
          1.7344192214628262,
          -0.9445639487491292,
          -0.8848465814729276,
          -0.3160547948940683,
          -1.1015428967704668,
          -0.5926167603968916,
          0.6004763358338866,
          1.592089400159695,
          1.3932834146377278,
          1.1170691058410587,
          1.0131043636743011,
          -1.5614706230061903,
          -0.5570242602914186,
          -1.9886321013304038,
          0.513519282261964,
          -0.6549909017480732,
          -1.3603950533383276,
          0.22474702826582948,
          1.1040396618089656,
          0.5755613052091758,
          0.07479005522211514,
          0.0822834649530619,
          0.8863534288849454,
          1.250181751081411,
          -0.8480531875440711,
          -0.5199890221203346,
          -1.2443328418151858,
          0.23300977083142083,
          1.4323843251265294,
          -0.5572666813934601
         ],
         "xaxis": "x3",
         "y": [
          0.035022181398114326,
          -0.20699578689422937,
          0.6854331888468773,
          -0.017634584585994605,
          1.2326548344267971,
          0.34065432474775714,
          0.7773002295902933,
          -0.06997872593786636,
          -0.47636906657201195,
          -1.3766477215822774,
          0.819752827345072,
          -1.5452321937779605,
          0.08818589711433107,
          0.9108942662658028,
          1.338696296014096,
          1.4457195985132714,
          -0.9406486554716124,
          -1.1786445618785613,
          0.760819500366671,
          0.14363089189865821,
          0.36352131731403725,
          1.939490850177335,
          1.2827221379295641,
          0.2659705924395352,
          2.1022861676675078,
          0.3357327758747543,
          0.10982642446818502,
          -0.6601533538796417,
          -1.1788917371594856,
          -0.19866505024475622,
          -0.33989181419760983,
          -0.07920301792622243,
          0.26684262905887757,
          1.0321015850695954,
          1.9229774515090154,
          -0.5763569673797575,
          -0.26358893321716054,
          -0.25618266335802486,
          -2.2919708180752716,
          1.104097148796708,
          -0.02600364194132311,
          -1.095101046141559,
          -0.029118539313768906,
          1.9280070485549,
          -1.5432922562388673,
          -0.08321371943117364,
          1.5187272566145855,
          0.4798744518687685,
          0.3562930677714046,
          1.8141615813198444,
          -1.2673503123924812,
          0.1379162585324516,
          1.5135108640588242,
          0.874412100586506,
          0.8081922553650184,
          1.7796032668681032,
          -0.024209348076993324,
          1.2800191682325985,
          0.946016955044502,
          -0.8220045581906293,
          -1.3196011962233833,
          -0.09368876377110245,
          -0.797199476653399,
          0.90490703106049,
          0.5672187408026297,
          -2.1931844232264788,
          -0.08774270252501609,
          0.8082328201397463,
          -0.37927777264635365,
          1.0189126266479482,
          1.0251439851490376,
          -0.16844947310708883,
          0.8678054803706199,
          -0.2676319793512391,
          -0.13010469422392154,
          -1.5230520612624383,
          -2.2661210188178496,
          0.5318445742803599,
          -1.252028495567799,
          0.887648346819725,
          -0.3608778691561237,
          0.940889785325926,
          -0.16611565265285455,
          1.051049195530483,
          -1.3686490280995647,
          0.14930843710924366,
          -0.6816859849019006,
          -1.5728723119928214,
          -0.3552986595227806,
          1.433894952092094,
          -0.36093139332641583,
          -1.8644568904312535,
          -1.67807506257055,
          0.9957812718371379,
          0.7779266748932111,
          -2.964210772731523,
          -1.0242512013728293,
          -0.46273126934655584,
          -0.31229657089361146,
          1.0530824316296037
         ],
         "yaxis": "y3"
        },
        {
         "line": {
          "color": "rgba(128, 128, 128, 1.0)",
          "dash": "solid",
          "shape": "linear",
          "width": 1.3
         },
         "marker": {
          "size": 2,
          "symbol": "circle"
         },
         "mode": "markers",
         "name": "A",
         "text": "",
         "type": "scatter",
         "x": [
          -1.5407101385873165,
          2.2350189816026877,
          -2.5296091387286146,
          -1.3406964354147048,
          0.7469359396070688,
          1.3204594331144752,
          0.7502229542329332,
          -0.8202597078777405,
          -1.124585586064663,
          -1.4189462849728556,
          -2.387182987455635,
          1.1639751805119178,
          -0.24915013621547472,
          -0.18598116239607645,
          1.0889099830652733,
          1.3105970403987126,
          0.1403319936872249,
          1.4057542022756464,
          -0.5603489188660344,
          1.3790739545637751,
          0.32799038986203666,
          -0.13731068069253702,
          0.3269549808631096,
          -0.27557383044476463,
          1.246132341717912,
          0.666583513866141,
          -0.7964542337965976,
          -0.01797760405488036,
          1.193777619869411,
          0.7875213141323713,
          0.8699406140382517,
          0.2552148575298687,
          0.6290599837360555,
          0.4896853885843202,
          0.4407983128765524,
          -0.02471269139903859,
          0.8476826198036227,
          1.118083553858438,
          0.7991197436806383,
          -0.48202834786195115,
          0.6426394676797172,
          1.0985779963823008,
          -0.4143744169064233,
          0.21384080939774647,
          0.10198382107133694,
          0.28820336875738867,
          0.3749150220519593,
          0.4559806297682848,
          0.6054664945717182,
          0.2081277443481054,
          -0.36821443223581374,
          1.5928874989105868,
          -0.35642450058245356,
          0.23867839838220622,
          -0.7962740928885006,
          1.3638862740579292,
          1.0333260200024355,
          1.0907066229078823,
          -0.20545170306848612,
          1.0503886821330373,
          0.9447368527245211,
          -1.0921844172647739,
          -0.4748574043391804,
          0.48158250570940736,
          -0.15752333713280076,
          1.1496699724275232,
          0.3856427000796223,
          -0.39626052766535075,
          -3.588592748924082e-05,
          0.33083026102500696,
          0.28371333317550784,
          -0.012444084240141666,
          -0.20044262234056112,
          1.8752376541320235,
          -0.8723124373701395,
          -1.0145800219442997,
          -0.3118308033387035,
          -0.2868715781532385,
          0.8195886692487346,
          -0.5761691492145123,
          0.9130136647866629,
          0.23737668905959847,
          0.7952455721990035,
          1.5851475909850774,
          -0.05022173896785526,
          0.5423471419904554,
          1.3594525704507507,
          1.5654454342340454,
          0.5028714381159953,
          -2.482547333925846,
          1.1799374335086863,
          -0.18410069959811573,
          0.13265646168646647,
          0.14056874951176104,
          -0.1316231315403834,
          -0.45813327330267084,
          -1.0327545584481983,
          -0.09184929865027391,
          0.9863631126172562,
          -0.15057351239305639
         ],
         "xaxis": "x4",
         "y": [
          0.035022181398114326,
          -0.20699578689422937,
          0.6854331888468773,
          -0.017634584585994605,
          1.2326548344267971,
          0.34065432474775714,
          0.7773002295902933,
          -0.06997872593786636,
          -0.47636906657201195,
          -1.3766477215822774,
          0.819752827345072,
          -1.5452321937779605,
          0.08818589711433107,
          0.9108942662658028,
          1.338696296014096,
          1.4457195985132714,
          -0.9406486554716124,
          -1.1786445618785613,
          0.760819500366671,
          0.14363089189865821,
          0.36352131731403725,
          1.939490850177335,
          1.2827221379295641,
          0.2659705924395352,
          2.1022861676675078,
          0.3357327758747543,
          0.10982642446818502,
          -0.6601533538796417,
          -1.1788917371594856,
          -0.19866505024475622,
          -0.33989181419760983,
          -0.07920301792622243,
          0.26684262905887757,
          1.0321015850695954,
          1.9229774515090154,
          -0.5763569673797575,
          -0.26358893321716054,
          -0.25618266335802486,
          -2.2919708180752716,
          1.104097148796708,
          -0.02600364194132311,
          -1.095101046141559,
          -0.029118539313768906,
          1.9280070485549,
          -1.5432922562388673,
          -0.08321371943117364,
          1.5187272566145855,
          0.4798744518687685,
          0.3562930677714046,
          1.8141615813198444,
          -1.2673503123924812,
          0.1379162585324516,
          1.5135108640588242,
          0.874412100586506,
          0.8081922553650184,
          1.7796032668681032,
          -0.024209348076993324,
          1.2800191682325985,
          0.946016955044502,
          -0.8220045581906293,
          -1.3196011962233833,
          -0.09368876377110245,
          -0.797199476653399,
          0.90490703106049,
          0.5672187408026297,
          -2.1931844232264788,
          -0.08774270252501609,
          0.8082328201397463,
          -0.37927777264635365,
          1.0189126266479482,
          1.0251439851490376,
          -0.16844947310708883,
          0.8678054803706199,
          -0.2676319793512391,
          -0.13010469422392154,
          -1.5230520612624383,
          -2.2661210188178496,
          0.5318445742803599,
          -1.252028495567799,
          0.887648346819725,
          -0.3608778691561237,
          0.940889785325926,
          -0.16611565265285455,
          1.051049195530483,
          -1.3686490280995647,
          0.14930843710924366,
          -0.6816859849019006,
          -1.5728723119928214,
          -0.3552986595227806,
          1.433894952092094,
          -0.36093139332641583,
          -1.8644568904312535,
          -1.67807506257055,
          0.9957812718371379,
          0.7779266748932111,
          -2.964210772731523,
          -1.0242512013728293,
          -0.46273126934655584,
          -0.31229657089361146,
          1.0530824316296037
         ],
         "yaxis": "y4"
        },
        {
         "line": {
          "color": "rgba(128, 128, 128, 1.0)",
          "dash": "solid",
          "shape": "linear",
          "width": 1.3
         },
         "marker": {
          "size": 2,
          "symbol": "circle"
         },
         "mode": "markers",
         "name": "B",
         "text": "",
         "type": "scatter",
         "x": [
          0.035022181398114326,
          -0.20699578689422937,
          0.6854331888468773,
          -0.017634584585994605,
          1.2326548344267971,
          0.34065432474775714,
          0.7773002295902933,
          -0.06997872593786636,
          -0.47636906657201195,
          -1.3766477215822774,
          0.819752827345072,
          -1.5452321937779605,
          0.08818589711433107,
          0.9108942662658028,
          1.338696296014096,
          1.4457195985132714,
          -0.9406486554716124,
          -1.1786445618785613,
          0.760819500366671,
          0.14363089189865821,
          0.36352131731403725,
          1.939490850177335,
          1.2827221379295641,
          0.2659705924395352,
          2.1022861676675078,
          0.3357327758747543,
          0.10982642446818502,
          -0.6601533538796417,
          -1.1788917371594856,
          -0.19866505024475622,
          -0.33989181419760983,
          -0.07920301792622243,
          0.26684262905887757,
          1.0321015850695954,
          1.9229774515090154,
          -0.5763569673797575,
          -0.26358893321716054,
          -0.25618266335802486,
          -2.2919708180752716,
          1.104097148796708,
          -0.02600364194132311,
          -1.095101046141559,
          -0.029118539313768906,
          1.9280070485549,
          -1.5432922562388673,
          -0.08321371943117364,
          1.5187272566145855,
          0.4798744518687685,
          0.3562930677714046,
          1.8141615813198444,
          -1.2673503123924812,
          0.1379162585324516,
          1.5135108640588242,
          0.874412100586506,
          0.8081922553650184,
          1.7796032668681032,
          -0.024209348076993324,
          1.2800191682325985,
          0.946016955044502,
          -0.8220045581906293,
          -1.3196011962233833,
          -0.09368876377110245,
          -0.797199476653399,
          0.90490703106049,
          0.5672187408026297,
          -2.1931844232264788,
          -0.08774270252501609,
          0.8082328201397463,
          -0.37927777264635365,
          1.0189126266479482,
          1.0251439851490376,
          -0.16844947310708883,
          0.8678054803706199,
          -0.2676319793512391,
          -0.13010469422392154,
          -1.5230520612624383,
          -2.2661210188178496,
          0.5318445742803599,
          -1.252028495567799,
          0.887648346819725,
          -0.3608778691561237,
          0.940889785325926,
          -0.16611565265285455,
          1.051049195530483,
          -1.3686490280995647,
          0.14930843710924366,
          -0.6816859849019006,
          -1.5728723119928214,
          -0.3552986595227806,
          1.433894952092094,
          -0.36093139332641583,
          -1.8644568904312535,
          -1.67807506257055,
          0.9957812718371379,
          0.7779266748932111,
          -2.964210772731523,
          -1.0242512013728293,
          -0.46273126934655584,
          -0.31229657089361146,
          1.0530824316296037
         ],
         "xaxis": "x5",
         "y": [
          0.659720180163578,
          -0.48229899595694803,
          0.5373007059525975,
          -0.7373191864504871,
          -0.2713614321259175,
          -1.0148788854458133,
          -1.6506618535197757,
          -0.6017055467580952,
          -2.02601587123514,
          -1.3807102617749039,
          1.7399382317527918,
          -0.09874877348992062,
          -0.8792180646493626,
          1.2072080438550892,
          0.3159919111568729,
          -0.1015296721567684,
          0.4140762003008372,
          -0.6679384015837599,
          -0.025480348783363194,
          1.1216031104528963,
          1.7338834217736316,
          2.0686026898673036,
          1.829012230047314,
          -0.14480019582680498,
          -1.0819289156745375,
          0.4370574296560661,
          -1.184075056937153,
          0.9401983152312045,
          0.8786622501219662,
          0.6223109307311763,
          0.7961583442526416,
          1.18881108784417,
          1.524784553972861,
          -0.14870906176062323,
          1.1027756352574738,
          -0.49567095059648475,
          0.2145742478184529,
          0.15863895021588398,
          -0.04680656455633057,
          0.25593922654731066,
          1.0545293724285103,
          0.1297834275250637,
          -0.3591106342649614,
          -0.28269664103315273,
          -0.9250220431155934,
          0.026124160430505243,
          0.7059241472672645,
          -1.5048176230279364,
          -0.7811212335563891,
          0.6600351095260198,
          1.0034561121134895,
          -0.09210647222601136,
          -1.2459254518418386,
          2.530019222084229,
          -0.6538234465769,
          1.184039297184767,
          1.906305150020457,
          -1.2631028687188486,
          0.09305052314923473,
          0.6018184880401937,
          0.6697487197869597,
          0.7650827084196883,
          -0.7762011115441019,
          0.9028366593960605,
          0.09349415461588395,
          -1.1114686313755264,
          0.9460537444267767,
          1.3758654613623988,
          -0.9374840851237152,
          1.394740244115055,
          -0.01093652733112355,
          0.27858466678647564,
          -0.4110749068039371,
          0.5028160769673242,
          0.3397450960046779,
          -0.6425741877849417,
          -1.8408827842624031,
          -0.5824980898400304,
          -0.38541793441184724,
          -1.286637074652041,
          -0.05045795267498061,
          -0.586066314722846,
          -1.3701758166092917,
          -0.7895782892796999,
          0.27178130726156885,
          -1.136531698284585,
          0.45154585239758016,
          0.8716622522777244,
          -0.20945319517410885,
          -0.06376929242251737,
          0.43499390795135273,
          1.2977522751245083,
          -1.0981836076015816,
          -0.7763264270235338,
          1.140037465457631,
          -0.49249600266665744,
          -1.1225633257293033,
          0.7855823642974321,
          0.4449325396305709,
          1.338966475816106
         ],
         "yaxis": "y5"
        },
        {
         "histfunc": "count",
         "histnorm": "",
         "marker": {
          "color": "rgba(55, 128, 191, 1.0)",
          "line": {
           "color": "#4D5663",
           "width": 1.3
          }
         },
         "name": "B",
         "nbinsx": 10,
         "opacity": 0.8,
         "orientation": "v",
         "type": "histogram",
         "x": [
          0.659720180163578,
          -0.48229899595694803,
          0.5373007059525975,
          -0.7373191864504871,
          -0.2713614321259175,
          -1.0148788854458133,
          -1.6506618535197757,
          -0.6017055467580952,
          -2.02601587123514,
          -1.3807102617749039,
          1.7399382317527918,
          -0.09874877348992062,
          -0.8792180646493626,
          1.2072080438550892,
          0.3159919111568729,
          -0.1015296721567684,
          0.4140762003008372,
          -0.6679384015837599,
          -0.025480348783363194,
          1.1216031104528963,
          1.7338834217736316,
          2.0686026898673036,
          1.829012230047314,
          -0.14480019582680498,
          -1.0819289156745375,
          0.4370574296560661,
          -1.184075056937153,
          0.9401983152312045,
          0.8786622501219662,
          0.6223109307311763,
          0.7961583442526416,
          1.18881108784417,
          1.524784553972861,
          -0.14870906176062323,
          1.1027756352574738,
          -0.49567095059648475,
          0.2145742478184529,
          0.15863895021588398,
          -0.04680656455633057,
          0.25593922654731066,
          1.0545293724285103,
          0.1297834275250637,
          -0.3591106342649614,
          -0.28269664103315273,
          -0.9250220431155934,
          0.026124160430505243,
          0.7059241472672645,
          -1.5048176230279364,
          -0.7811212335563891,
          0.6600351095260198,
          1.0034561121134895,
          -0.09210647222601136,
          -1.2459254518418386,
          2.530019222084229,
          -0.6538234465769,
          1.184039297184767,
          1.906305150020457,
          -1.2631028687188486,
          0.09305052314923473,
          0.6018184880401937,
          0.6697487197869597,
          0.7650827084196883,
          -0.7762011115441019,
          0.9028366593960605,
          0.09349415461588395,
          -1.1114686313755264,
          0.9460537444267767,
          1.3758654613623988,
          -0.9374840851237152,
          1.394740244115055,
          -0.01093652733112355,
          0.27858466678647564,
          -0.4110749068039371,
          0.5028160769673242,
          0.3397450960046779,
          -0.6425741877849417,
          -1.8408827842624031,
          -0.5824980898400304,
          -0.38541793441184724,
          -1.286637074652041,
          -0.05045795267498061,
          -0.586066314722846,
          -1.3701758166092917,
          -0.7895782892796999,
          0.27178130726156885,
          -1.136531698284585,
          0.45154585239758016,
          0.8716622522777244,
          -0.20945319517410885,
          -0.06376929242251737,
          0.43499390795135273,
          1.2977522751245083,
          -1.0981836076015816,
          -0.7763264270235338,
          1.140037465457631,
          -0.49249600266665744,
          -1.1225633257293033,
          0.7855823642974321,
          0.4449325396305709,
          1.338966475816106
         ],
         "xaxis": "x6",
         "yaxis": "y6"
        },
        {
         "line": {
          "color": "rgba(128, 128, 128, 1.0)",
          "dash": "solid",
          "shape": "linear",
          "width": 1.3
         },
         "marker": {
          "size": 2,
          "symbol": "circle"
         },
         "mode": "markers",
         "name": "B",
         "text": "",
         "type": "scatter",
         "x": [
          -0.48342482847419954,
          -0.28917137909810087,
          0.10472817839319638,
          -0.3117041719124086,
          0.5474986505420716,
          0.36040555464410134,
          -2.3941833929601106,
          -0.5920466628675929,
          0.7030199564649418,
          -0.27907376596335065,
          -0.40355295361878935,
          -1.5788948840363446,
          2.4773161397200583,
          0.436574519139334,
          0.32532809517603817,
          0.5635250230272021,
          0.8442814716824333,
          -0.6794166582502248,
          -0.7666025757091693,
          1.0072984701608787,
          -0.5501928147375748,
          0.6877773474069846,
          -0.6505757792280401,
          0.7379231933386672,
          -1.781948344245377,
          -1.256089937990564,
          -0.48474996255921626,
          1.2714481931284987,
          0.40064144579818367,
          -0.6304491582154946,
          1.7891619378979553,
          0.7843308506814917,
          -0.5139382969616856,
          0.9588190681916949,
          -0.05846925797888498,
          -1.1573433562365338,
          -2.1931431037655726,
          0.18472195654751794,
          0.6723347397736454,
          -0.3552960384282929,
          1.8505722081067433,
          0.2120629040052719,
          0.7353646399453968,
          -0.8841948964965184,
          -1.0914681312767118,
          0.9839252399187555,
          1.679714369615582,
          0.030315933386810812,
          -0.7116682832700304,
          0.5314662077704951,
          -0.8196753783769472,
          0.22710804888544445,
          -0.9688296726515074,
          1.1700779277889357,
          0.705361600598505,
          -1.383011201696221,
          -0.8484094360452913,
          -0.20475815261979963,
          1.815935538182838,
          -0.3086927022715515,
          -2.39535730486845,
          0.21006405816980087,
          -0.6759974560899125,
          0.6523377749104889,
          -1.1468348471581247,
          1.1989541511995008,
          -0.0033747646544850843,
          -0.5868219951635674,
          -1.221537985575564,
          0.9554348986002157,
          1.7344192214628262,
          -0.9445639487491292,
          -0.8848465814729276,
          -0.3160547948940683,
          -1.1015428967704668,
          -0.5926167603968916,
          0.6004763358338866,
          1.592089400159695,
          1.3932834146377278,
          1.1170691058410587,
          1.0131043636743011,
          -1.5614706230061903,
          -0.5570242602914186,
          -1.9886321013304038,
          0.513519282261964,
          -0.6549909017480732,
          -1.3603950533383276,
          0.22474702826582948,
          1.1040396618089656,
          0.5755613052091758,
          0.07479005522211514,
          0.0822834649530619,
          0.8863534288849454,
          1.250181751081411,
          -0.8480531875440711,
          -0.5199890221203346,
          -1.2443328418151858,
          0.23300977083142083,
          1.4323843251265294,
          -0.5572666813934601
         ],
         "xaxis": "x7",
         "y": [
          0.659720180163578,
          -0.48229899595694803,
          0.5373007059525975,
          -0.7373191864504871,
          -0.2713614321259175,
          -1.0148788854458133,
          -1.6506618535197757,
          -0.6017055467580952,
          -2.02601587123514,
          -1.3807102617749039,
          1.7399382317527918,
          -0.09874877348992062,
          -0.8792180646493626,
          1.2072080438550892,
          0.3159919111568729,
          -0.1015296721567684,
          0.4140762003008372,
          -0.6679384015837599,
          -0.025480348783363194,
          1.1216031104528963,
          1.7338834217736316,
          2.0686026898673036,
          1.829012230047314,
          -0.14480019582680498,
          -1.0819289156745375,
          0.4370574296560661,
          -1.184075056937153,
          0.9401983152312045,
          0.8786622501219662,
          0.6223109307311763,
          0.7961583442526416,
          1.18881108784417,
          1.524784553972861,
          -0.14870906176062323,
          1.1027756352574738,
          -0.49567095059648475,
          0.2145742478184529,
          0.15863895021588398,
          -0.04680656455633057,
          0.25593922654731066,
          1.0545293724285103,
          0.1297834275250637,
          -0.3591106342649614,
          -0.28269664103315273,
          -0.9250220431155934,
          0.026124160430505243,
          0.7059241472672645,
          -1.5048176230279364,
          -0.7811212335563891,
          0.6600351095260198,
          1.0034561121134895,
          -0.09210647222601136,
          -1.2459254518418386,
          2.530019222084229,
          -0.6538234465769,
          1.184039297184767,
          1.906305150020457,
          -1.2631028687188486,
          0.09305052314923473,
          0.6018184880401937,
          0.6697487197869597,
          0.7650827084196883,
          -0.7762011115441019,
          0.9028366593960605,
          0.09349415461588395,
          -1.1114686313755264,
          0.9460537444267767,
          1.3758654613623988,
          -0.9374840851237152,
          1.394740244115055,
          -0.01093652733112355,
          0.27858466678647564,
          -0.4110749068039371,
          0.5028160769673242,
          0.3397450960046779,
          -0.6425741877849417,
          -1.8408827842624031,
          -0.5824980898400304,
          -0.38541793441184724,
          -1.286637074652041,
          -0.05045795267498061,
          -0.586066314722846,
          -1.3701758166092917,
          -0.7895782892796999,
          0.27178130726156885,
          -1.136531698284585,
          0.45154585239758016,
          0.8716622522777244,
          -0.20945319517410885,
          -0.06376929242251737,
          0.43499390795135273,
          1.2977522751245083,
          -1.0981836076015816,
          -0.7763264270235338,
          1.140037465457631,
          -0.49249600266665744,
          -1.1225633257293033,
          0.7855823642974321,
          0.4449325396305709,
          1.338966475816106
         ],
         "yaxis": "y7"
        },
        {
         "line": {
          "color": "rgba(128, 128, 128, 1.0)",
          "dash": "solid",
          "shape": "linear",
          "width": 1.3
         },
         "marker": {
          "size": 2,
          "symbol": "circle"
         },
         "mode": "markers",
         "name": "B",
         "text": "",
         "type": "scatter",
         "x": [
          -1.5407101385873165,
          2.2350189816026877,
          -2.5296091387286146,
          -1.3406964354147048,
          0.7469359396070688,
          1.3204594331144752,
          0.7502229542329332,
          -0.8202597078777405,
          -1.124585586064663,
          -1.4189462849728556,
          -2.387182987455635,
          1.1639751805119178,
          -0.24915013621547472,
          -0.18598116239607645,
          1.0889099830652733,
          1.3105970403987126,
          0.1403319936872249,
          1.4057542022756464,
          -0.5603489188660344,
          1.3790739545637751,
          0.32799038986203666,
          -0.13731068069253702,
          0.3269549808631096,
          -0.27557383044476463,
          1.246132341717912,
          0.666583513866141,
          -0.7964542337965976,
          -0.01797760405488036,
          1.193777619869411,
          0.7875213141323713,
          0.8699406140382517,
          0.2552148575298687,
          0.6290599837360555,
          0.4896853885843202,
          0.4407983128765524,
          -0.02471269139903859,
          0.8476826198036227,
          1.118083553858438,
          0.7991197436806383,
          -0.48202834786195115,
          0.6426394676797172,
          1.0985779963823008,
          -0.4143744169064233,
          0.21384080939774647,
          0.10198382107133694,
          0.28820336875738867,
          0.3749150220519593,
          0.4559806297682848,
          0.6054664945717182,
          0.2081277443481054,
          -0.36821443223581374,
          1.5928874989105868,
          -0.35642450058245356,
          0.23867839838220622,
          -0.7962740928885006,
          1.3638862740579292,
          1.0333260200024355,
          1.0907066229078823,
          -0.20545170306848612,
          1.0503886821330373,
          0.9447368527245211,
          -1.0921844172647739,
          -0.4748574043391804,
          0.48158250570940736,
          -0.15752333713280076,
          1.1496699724275232,
          0.3856427000796223,
          -0.39626052766535075,
          -3.588592748924082e-05,
          0.33083026102500696,
          0.28371333317550784,
          -0.012444084240141666,
          -0.20044262234056112,
          1.8752376541320235,
          -0.8723124373701395,
          -1.0145800219442997,
          -0.3118308033387035,
          -0.2868715781532385,
          0.8195886692487346,
          -0.5761691492145123,
          0.9130136647866629,
          0.23737668905959847,
          0.7952455721990035,
          1.5851475909850774,
          -0.05022173896785526,
          0.5423471419904554,
          1.3594525704507507,
          1.5654454342340454,
          0.5028714381159953,
          -2.482547333925846,
          1.1799374335086863,
          -0.18410069959811573,
          0.13265646168646647,
          0.14056874951176104,
          -0.1316231315403834,
          -0.45813327330267084,
          -1.0327545584481983,
          -0.09184929865027391,
          0.9863631126172562,
          -0.15057351239305639
         ],
         "xaxis": "x8",
         "y": [
          0.659720180163578,
          -0.48229899595694803,
          0.5373007059525975,
          -0.7373191864504871,
          -0.2713614321259175,
          -1.0148788854458133,
          -1.6506618535197757,
          -0.6017055467580952,
          -2.02601587123514,
          -1.3807102617749039,
          1.7399382317527918,
          -0.09874877348992062,
          -0.8792180646493626,
          1.2072080438550892,
          0.3159919111568729,
          -0.1015296721567684,
          0.4140762003008372,
          -0.6679384015837599,
          -0.025480348783363194,
          1.1216031104528963,
          1.7338834217736316,
          2.0686026898673036,
          1.829012230047314,
          -0.14480019582680498,
          -1.0819289156745375,
          0.4370574296560661,
          -1.184075056937153,
          0.9401983152312045,
          0.8786622501219662,
          0.6223109307311763,
          0.7961583442526416,
          1.18881108784417,
          1.524784553972861,
          -0.14870906176062323,
          1.1027756352574738,
          -0.49567095059648475,
          0.2145742478184529,
          0.15863895021588398,
          -0.04680656455633057,
          0.25593922654731066,
          1.0545293724285103,
          0.1297834275250637,
          -0.3591106342649614,
          -0.28269664103315273,
          -0.9250220431155934,
          0.026124160430505243,
          0.7059241472672645,
          -1.5048176230279364,
          -0.7811212335563891,
          0.6600351095260198,
          1.0034561121134895,
          -0.09210647222601136,
          -1.2459254518418386,
          2.530019222084229,
          -0.6538234465769,
          1.184039297184767,
          1.906305150020457,
          -1.2631028687188486,
          0.09305052314923473,
          0.6018184880401937,
          0.6697487197869597,
          0.7650827084196883,
          -0.7762011115441019,
          0.9028366593960605,
          0.09349415461588395,
          -1.1114686313755264,
          0.9460537444267767,
          1.3758654613623988,
          -0.9374840851237152,
          1.394740244115055,
          -0.01093652733112355,
          0.27858466678647564,
          -0.4110749068039371,
          0.5028160769673242,
          0.3397450960046779,
          -0.6425741877849417,
          -1.8408827842624031,
          -0.5824980898400304,
          -0.38541793441184724,
          -1.286637074652041,
          -0.05045795267498061,
          -0.586066314722846,
          -1.3701758166092917,
          -0.7895782892796999,
          0.27178130726156885,
          -1.136531698284585,
          0.45154585239758016,
          0.8716622522777244,
          -0.20945319517410885,
          -0.06376929242251737,
          0.43499390795135273,
          1.2977522751245083,
          -1.0981836076015816,
          -0.7763264270235338,
          1.140037465457631,
          -0.49249600266665744,
          -1.1225633257293033,
          0.7855823642974321,
          0.4449325396305709,
          1.338966475816106
         ],
         "yaxis": "y8"
        },
        {
         "line": {
          "color": "rgba(128, 128, 128, 1.0)",
          "dash": "solid",
          "shape": "linear",
          "width": 1.3
         },
         "marker": {
          "size": 2,
          "symbol": "circle"
         },
         "mode": "markers",
         "name": "C",
         "text": "",
         "type": "scatter",
         "x": [
          0.035022181398114326,
          -0.20699578689422937,
          0.6854331888468773,
          -0.017634584585994605,
          1.2326548344267971,
          0.34065432474775714,
          0.7773002295902933,
          -0.06997872593786636,
          -0.47636906657201195,
          -1.3766477215822774,
          0.819752827345072,
          -1.5452321937779605,
          0.08818589711433107,
          0.9108942662658028,
          1.338696296014096,
          1.4457195985132714,
          -0.9406486554716124,
          -1.1786445618785613,
          0.760819500366671,
          0.14363089189865821,
          0.36352131731403725,
          1.939490850177335,
          1.2827221379295641,
          0.2659705924395352,
          2.1022861676675078,
          0.3357327758747543,
          0.10982642446818502,
          -0.6601533538796417,
          -1.1788917371594856,
          -0.19866505024475622,
          -0.33989181419760983,
          -0.07920301792622243,
          0.26684262905887757,
          1.0321015850695954,
          1.9229774515090154,
          -0.5763569673797575,
          -0.26358893321716054,
          -0.25618266335802486,
          -2.2919708180752716,
          1.104097148796708,
          -0.02600364194132311,
          -1.095101046141559,
          -0.029118539313768906,
          1.9280070485549,
          -1.5432922562388673,
          -0.08321371943117364,
          1.5187272566145855,
          0.4798744518687685,
          0.3562930677714046,
          1.8141615813198444,
          -1.2673503123924812,
          0.1379162585324516,
          1.5135108640588242,
          0.874412100586506,
          0.8081922553650184,
          1.7796032668681032,
          -0.024209348076993324,
          1.2800191682325985,
          0.946016955044502,
          -0.8220045581906293,
          -1.3196011962233833,
          -0.09368876377110245,
          -0.797199476653399,
          0.90490703106049,
          0.5672187408026297,
          -2.1931844232264788,
          -0.08774270252501609,
          0.8082328201397463,
          -0.37927777264635365,
          1.0189126266479482,
          1.0251439851490376,
          -0.16844947310708883,
          0.8678054803706199,
          -0.2676319793512391,
          -0.13010469422392154,
          -1.5230520612624383,
          -2.2661210188178496,
          0.5318445742803599,
          -1.252028495567799,
          0.887648346819725,
          -0.3608778691561237,
          0.940889785325926,
          -0.16611565265285455,
          1.051049195530483,
          -1.3686490280995647,
          0.14930843710924366,
          -0.6816859849019006,
          -1.5728723119928214,
          -0.3552986595227806,
          1.433894952092094,
          -0.36093139332641583,
          -1.8644568904312535,
          -1.67807506257055,
          0.9957812718371379,
          0.7779266748932111,
          -2.964210772731523,
          -1.0242512013728293,
          -0.46273126934655584,
          -0.31229657089361146,
          1.0530824316296037
         ],
         "xaxis": "x9",
         "y": [
          -0.48342482847419954,
          -0.28917137909810087,
          0.10472817839319638,
          -0.3117041719124086,
          0.5474986505420716,
          0.36040555464410134,
          -2.3941833929601106,
          -0.5920466628675929,
          0.7030199564649418,
          -0.27907376596335065,
          -0.40355295361878935,
          -1.5788948840363446,
          2.4773161397200583,
          0.436574519139334,
          0.32532809517603817,
          0.5635250230272021,
          0.8442814716824333,
          -0.6794166582502248,
          -0.7666025757091693,
          1.0072984701608787,
          -0.5501928147375748,
          0.6877773474069846,
          -0.6505757792280401,
          0.7379231933386672,
          -1.781948344245377,
          -1.256089937990564,
          -0.48474996255921626,
          1.2714481931284987,
          0.40064144579818367,
          -0.6304491582154946,
          1.7891619378979553,
          0.7843308506814917,
          -0.5139382969616856,
          0.9588190681916949,
          -0.05846925797888498,
          -1.1573433562365338,
          -2.1931431037655726,
          0.18472195654751794,
          0.6723347397736454,
          -0.3552960384282929,
          1.8505722081067433,
          0.2120629040052719,
          0.7353646399453968,
          -0.8841948964965184,
          -1.0914681312767118,
          0.9839252399187555,
          1.679714369615582,
          0.030315933386810812,
          -0.7116682832700304,
          0.5314662077704951,
          -0.8196753783769472,
          0.22710804888544445,
          -0.9688296726515074,
          1.1700779277889357,
          0.705361600598505,
          -1.383011201696221,
          -0.8484094360452913,
          -0.20475815261979963,
          1.815935538182838,
          -0.3086927022715515,
          -2.39535730486845,
          0.21006405816980087,
          -0.6759974560899125,
          0.6523377749104889,
          -1.1468348471581247,
          1.1989541511995008,
          -0.0033747646544850843,
          -0.5868219951635674,
          -1.221537985575564,
          0.9554348986002157,
          1.7344192214628262,
          -0.9445639487491292,
          -0.8848465814729276,
          -0.3160547948940683,
          -1.1015428967704668,
          -0.5926167603968916,
          0.6004763358338866,
          1.592089400159695,
          1.3932834146377278,
          1.1170691058410587,
          1.0131043636743011,
          -1.5614706230061903,
          -0.5570242602914186,
          -1.9886321013304038,
          0.513519282261964,
          -0.6549909017480732,
          -1.3603950533383276,
          0.22474702826582948,
          1.1040396618089656,
          0.5755613052091758,
          0.07479005522211514,
          0.0822834649530619,
          0.8863534288849454,
          1.250181751081411,
          -0.8480531875440711,
          -0.5199890221203346,
          -1.2443328418151858,
          0.23300977083142083,
          1.4323843251265294,
          -0.5572666813934601
         ],
         "yaxis": "y9"
        },
        {
         "line": {
          "color": "rgba(128, 128, 128, 1.0)",
          "dash": "solid",
          "shape": "linear",
          "width": 1.3
         },
         "marker": {
          "size": 2,
          "symbol": "circle"
         },
         "mode": "markers",
         "name": "C",
         "text": "",
         "type": "scatter",
         "x": [
          0.659720180163578,
          -0.48229899595694803,
          0.5373007059525975,
          -0.7373191864504871,
          -0.2713614321259175,
          -1.0148788854458133,
          -1.6506618535197757,
          -0.6017055467580952,
          -2.02601587123514,
          -1.3807102617749039,
          1.7399382317527918,
          -0.09874877348992062,
          -0.8792180646493626,
          1.2072080438550892,
          0.3159919111568729,
          -0.1015296721567684,
          0.4140762003008372,
          -0.6679384015837599,
          -0.025480348783363194,
          1.1216031104528963,
          1.7338834217736316,
          2.0686026898673036,
          1.829012230047314,
          -0.14480019582680498,
          -1.0819289156745375,
          0.4370574296560661,
          -1.184075056937153,
          0.9401983152312045,
          0.8786622501219662,
          0.6223109307311763,
          0.7961583442526416,
          1.18881108784417,
          1.524784553972861,
          -0.14870906176062323,
          1.1027756352574738,
          -0.49567095059648475,
          0.2145742478184529,
          0.15863895021588398,
          -0.04680656455633057,
          0.25593922654731066,
          1.0545293724285103,
          0.1297834275250637,
          -0.3591106342649614,
          -0.28269664103315273,
          -0.9250220431155934,
          0.026124160430505243,
          0.7059241472672645,
          -1.5048176230279364,
          -0.7811212335563891,
          0.6600351095260198,
          1.0034561121134895,
          -0.09210647222601136,
          -1.2459254518418386,
          2.530019222084229,
          -0.6538234465769,
          1.184039297184767,
          1.906305150020457,
          -1.2631028687188486,
          0.09305052314923473,
          0.6018184880401937,
          0.6697487197869597,
          0.7650827084196883,
          -0.7762011115441019,
          0.9028366593960605,
          0.09349415461588395,
          -1.1114686313755264,
          0.9460537444267767,
          1.3758654613623988,
          -0.9374840851237152,
          1.394740244115055,
          -0.01093652733112355,
          0.27858466678647564,
          -0.4110749068039371,
          0.5028160769673242,
          0.3397450960046779,
          -0.6425741877849417,
          -1.8408827842624031,
          -0.5824980898400304,
          -0.38541793441184724,
          -1.286637074652041,
          -0.05045795267498061,
          -0.586066314722846,
          -1.3701758166092917,
          -0.7895782892796999,
          0.27178130726156885,
          -1.136531698284585,
          0.45154585239758016,
          0.8716622522777244,
          -0.20945319517410885,
          -0.06376929242251737,
          0.43499390795135273,
          1.2977522751245083,
          -1.0981836076015816,
          -0.7763264270235338,
          1.140037465457631,
          -0.49249600266665744,
          -1.1225633257293033,
          0.7855823642974321,
          0.4449325396305709,
          1.338966475816106
         ],
         "xaxis": "x10",
         "y": [
          -0.48342482847419954,
          -0.28917137909810087,
          0.10472817839319638,
          -0.3117041719124086,
          0.5474986505420716,
          0.36040555464410134,
          -2.3941833929601106,
          -0.5920466628675929,
          0.7030199564649418,
          -0.27907376596335065,
          -0.40355295361878935,
          -1.5788948840363446,
          2.4773161397200583,
          0.436574519139334,
          0.32532809517603817,
          0.5635250230272021,
          0.8442814716824333,
          -0.6794166582502248,
          -0.7666025757091693,
          1.0072984701608787,
          -0.5501928147375748,
          0.6877773474069846,
          -0.6505757792280401,
          0.7379231933386672,
          -1.781948344245377,
          -1.256089937990564,
          -0.48474996255921626,
          1.2714481931284987,
          0.40064144579818367,
          -0.6304491582154946,
          1.7891619378979553,
          0.7843308506814917,
          -0.5139382969616856,
          0.9588190681916949,
          -0.05846925797888498,
          -1.1573433562365338,
          -2.1931431037655726,
          0.18472195654751794,
          0.6723347397736454,
          -0.3552960384282929,
          1.8505722081067433,
          0.2120629040052719,
          0.7353646399453968,
          -0.8841948964965184,
          -1.0914681312767118,
          0.9839252399187555,
          1.679714369615582,
          0.030315933386810812,
          -0.7116682832700304,
          0.5314662077704951,
          -0.8196753783769472,
          0.22710804888544445,
          -0.9688296726515074,
          1.1700779277889357,
          0.705361600598505,
          -1.383011201696221,
          -0.8484094360452913,
          -0.20475815261979963,
          1.815935538182838,
          -0.3086927022715515,
          -2.39535730486845,
          0.21006405816980087,
          -0.6759974560899125,
          0.6523377749104889,
          -1.1468348471581247,
          1.1989541511995008,
          -0.0033747646544850843,
          -0.5868219951635674,
          -1.221537985575564,
          0.9554348986002157,
          1.7344192214628262,
          -0.9445639487491292,
          -0.8848465814729276,
          -0.3160547948940683,
          -1.1015428967704668,
          -0.5926167603968916,
          0.6004763358338866,
          1.592089400159695,
          1.3932834146377278,
          1.1170691058410587,
          1.0131043636743011,
          -1.5614706230061903,
          -0.5570242602914186,
          -1.9886321013304038,
          0.513519282261964,
          -0.6549909017480732,
          -1.3603950533383276,
          0.22474702826582948,
          1.1040396618089656,
          0.5755613052091758,
          0.07479005522211514,
          0.0822834649530619,
          0.8863534288849454,
          1.250181751081411,
          -0.8480531875440711,
          -0.5199890221203346,
          -1.2443328418151858,
          0.23300977083142083,
          1.4323843251265294,
          -0.5572666813934601
         ],
         "yaxis": "y10"
        },
        {
         "histfunc": "count",
         "histnorm": "",
         "marker": {
          "color": "rgba(50, 171, 96, 1.0)",
          "line": {
           "color": "#4D5663",
           "width": 1.3
          }
         },
         "name": "C",
         "nbinsx": 10,
         "opacity": 0.8,
         "orientation": "v",
         "type": "histogram",
         "x": [
          -0.48342482847419954,
          -0.28917137909810087,
          0.10472817839319638,
          -0.3117041719124086,
          0.5474986505420716,
          0.36040555464410134,
          -2.3941833929601106,
          -0.5920466628675929,
          0.7030199564649418,
          -0.27907376596335065,
          -0.40355295361878935,
          -1.5788948840363446,
          2.4773161397200583,
          0.436574519139334,
          0.32532809517603817,
          0.5635250230272021,
          0.8442814716824333,
          -0.6794166582502248,
          -0.7666025757091693,
          1.0072984701608787,
          -0.5501928147375748,
          0.6877773474069846,
          -0.6505757792280401,
          0.7379231933386672,
          -1.781948344245377,
          -1.256089937990564,
          -0.48474996255921626,
          1.2714481931284987,
          0.40064144579818367,
          -0.6304491582154946,
          1.7891619378979553,
          0.7843308506814917,
          -0.5139382969616856,
          0.9588190681916949,
          -0.05846925797888498,
          -1.1573433562365338,
          -2.1931431037655726,
          0.18472195654751794,
          0.6723347397736454,
          -0.3552960384282929,
          1.8505722081067433,
          0.2120629040052719,
          0.7353646399453968,
          -0.8841948964965184,
          -1.0914681312767118,
          0.9839252399187555,
          1.679714369615582,
          0.030315933386810812,
          -0.7116682832700304,
          0.5314662077704951,
          -0.8196753783769472,
          0.22710804888544445,
          -0.9688296726515074,
          1.1700779277889357,
          0.705361600598505,
          -1.383011201696221,
          -0.8484094360452913,
          -0.20475815261979963,
          1.815935538182838,
          -0.3086927022715515,
          -2.39535730486845,
          0.21006405816980087,
          -0.6759974560899125,
          0.6523377749104889,
          -1.1468348471581247,
          1.1989541511995008,
          -0.0033747646544850843,
          -0.5868219951635674,
          -1.221537985575564,
          0.9554348986002157,
          1.7344192214628262,
          -0.9445639487491292,
          -0.8848465814729276,
          -0.3160547948940683,
          -1.1015428967704668,
          -0.5926167603968916,
          0.6004763358338866,
          1.592089400159695,
          1.3932834146377278,
          1.1170691058410587,
          1.0131043636743011,
          -1.5614706230061903,
          -0.5570242602914186,
          -1.9886321013304038,
          0.513519282261964,
          -0.6549909017480732,
          -1.3603950533383276,
          0.22474702826582948,
          1.1040396618089656,
          0.5755613052091758,
          0.07479005522211514,
          0.0822834649530619,
          0.8863534288849454,
          1.250181751081411,
          -0.8480531875440711,
          -0.5199890221203346,
          -1.2443328418151858,
          0.23300977083142083,
          1.4323843251265294,
          -0.5572666813934601
         ],
         "xaxis": "x11",
         "yaxis": "y11"
        },
        {
         "line": {
          "color": "rgba(128, 128, 128, 1.0)",
          "dash": "solid",
          "shape": "linear",
          "width": 1.3
         },
         "marker": {
          "size": 2,
          "symbol": "circle"
         },
         "mode": "markers",
         "name": "C",
         "text": "",
         "type": "scatter",
         "x": [
          -1.5407101385873165,
          2.2350189816026877,
          -2.5296091387286146,
          -1.3406964354147048,
          0.7469359396070688,
          1.3204594331144752,
          0.7502229542329332,
          -0.8202597078777405,
          -1.124585586064663,
          -1.4189462849728556,
          -2.387182987455635,
          1.1639751805119178,
          -0.24915013621547472,
          -0.18598116239607645,
          1.0889099830652733,
          1.3105970403987126,
          0.1403319936872249,
          1.4057542022756464,
          -0.5603489188660344,
          1.3790739545637751,
          0.32799038986203666,
          -0.13731068069253702,
          0.3269549808631096,
          -0.27557383044476463,
          1.246132341717912,
          0.666583513866141,
          -0.7964542337965976,
          -0.01797760405488036,
          1.193777619869411,
          0.7875213141323713,
          0.8699406140382517,
          0.2552148575298687,
          0.6290599837360555,
          0.4896853885843202,
          0.4407983128765524,
          -0.02471269139903859,
          0.8476826198036227,
          1.118083553858438,
          0.7991197436806383,
          -0.48202834786195115,
          0.6426394676797172,
          1.0985779963823008,
          -0.4143744169064233,
          0.21384080939774647,
          0.10198382107133694,
          0.28820336875738867,
          0.3749150220519593,
          0.4559806297682848,
          0.6054664945717182,
          0.2081277443481054,
          -0.36821443223581374,
          1.5928874989105868,
          -0.35642450058245356,
          0.23867839838220622,
          -0.7962740928885006,
          1.3638862740579292,
          1.0333260200024355,
          1.0907066229078823,
          -0.20545170306848612,
          1.0503886821330373,
          0.9447368527245211,
          -1.0921844172647739,
          -0.4748574043391804,
          0.48158250570940736,
          -0.15752333713280076,
          1.1496699724275232,
          0.3856427000796223,
          -0.39626052766535075,
          -3.588592748924082e-05,
          0.33083026102500696,
          0.28371333317550784,
          -0.012444084240141666,
          -0.20044262234056112,
          1.8752376541320235,
          -0.8723124373701395,
          -1.0145800219442997,
          -0.3118308033387035,
          -0.2868715781532385,
          0.8195886692487346,
          -0.5761691492145123,
          0.9130136647866629,
          0.23737668905959847,
          0.7952455721990035,
          1.5851475909850774,
          -0.05022173896785526,
          0.5423471419904554,
          1.3594525704507507,
          1.5654454342340454,
          0.5028714381159953,
          -2.482547333925846,
          1.1799374335086863,
          -0.18410069959811573,
          0.13265646168646647,
          0.14056874951176104,
          -0.1316231315403834,
          -0.45813327330267084,
          -1.0327545584481983,
          -0.09184929865027391,
          0.9863631126172562,
          -0.15057351239305639
         ],
         "xaxis": "x12",
         "y": [
          -0.48342482847419954,
          -0.28917137909810087,
          0.10472817839319638,
          -0.3117041719124086,
          0.5474986505420716,
          0.36040555464410134,
          -2.3941833929601106,
          -0.5920466628675929,
          0.7030199564649418,
          -0.27907376596335065,
          -0.40355295361878935,
          -1.5788948840363446,
          2.4773161397200583,
          0.436574519139334,
          0.32532809517603817,
          0.5635250230272021,
          0.8442814716824333,
          -0.6794166582502248,
          -0.7666025757091693,
          1.0072984701608787,
          -0.5501928147375748,
          0.6877773474069846,
          -0.6505757792280401,
          0.7379231933386672,
          -1.781948344245377,
          -1.256089937990564,
          -0.48474996255921626,
          1.2714481931284987,
          0.40064144579818367,
          -0.6304491582154946,
          1.7891619378979553,
          0.7843308506814917,
          -0.5139382969616856,
          0.9588190681916949,
          -0.05846925797888498,
          -1.1573433562365338,
          -2.1931431037655726,
          0.18472195654751794,
          0.6723347397736454,
          -0.3552960384282929,
          1.8505722081067433,
          0.2120629040052719,
          0.7353646399453968,
          -0.8841948964965184,
          -1.0914681312767118,
          0.9839252399187555,
          1.679714369615582,
          0.030315933386810812,
          -0.7116682832700304,
          0.5314662077704951,
          -0.8196753783769472,
          0.22710804888544445,
          -0.9688296726515074,
          1.1700779277889357,
          0.705361600598505,
          -1.383011201696221,
          -0.8484094360452913,
          -0.20475815261979963,
          1.815935538182838,
          -0.3086927022715515,
          -2.39535730486845,
          0.21006405816980087,
          -0.6759974560899125,
          0.6523377749104889,
          -1.1468348471581247,
          1.1989541511995008,
          -0.0033747646544850843,
          -0.5868219951635674,
          -1.221537985575564,
          0.9554348986002157,
          1.7344192214628262,
          -0.9445639487491292,
          -0.8848465814729276,
          -0.3160547948940683,
          -1.1015428967704668,
          -0.5926167603968916,
          0.6004763358338866,
          1.592089400159695,
          1.3932834146377278,
          1.1170691058410587,
          1.0131043636743011,
          -1.5614706230061903,
          -0.5570242602914186,
          -1.9886321013304038,
          0.513519282261964,
          -0.6549909017480732,
          -1.3603950533383276,
          0.22474702826582948,
          1.1040396618089656,
          0.5755613052091758,
          0.07479005522211514,
          0.0822834649530619,
          0.8863534288849454,
          1.250181751081411,
          -0.8480531875440711,
          -0.5199890221203346,
          -1.2443328418151858,
          0.23300977083142083,
          1.4323843251265294,
          -0.5572666813934601
         ],
         "yaxis": "y12"
        },
        {
         "line": {
          "color": "rgba(128, 128, 128, 1.0)",
          "dash": "solid",
          "shape": "linear",
          "width": 1.3
         },
         "marker": {
          "size": 2,
          "symbol": "circle"
         },
         "mode": "markers",
         "name": "D",
         "text": "",
         "type": "scatter",
         "x": [
          0.035022181398114326,
          -0.20699578689422937,
          0.6854331888468773,
          -0.017634584585994605,
          1.2326548344267971,
          0.34065432474775714,
          0.7773002295902933,
          -0.06997872593786636,
          -0.47636906657201195,
          -1.3766477215822774,
          0.819752827345072,
          -1.5452321937779605,
          0.08818589711433107,
          0.9108942662658028,
          1.338696296014096,
          1.4457195985132714,
          -0.9406486554716124,
          -1.1786445618785613,
          0.760819500366671,
          0.14363089189865821,
          0.36352131731403725,
          1.939490850177335,
          1.2827221379295641,
          0.2659705924395352,
          2.1022861676675078,
          0.3357327758747543,
          0.10982642446818502,
          -0.6601533538796417,
          -1.1788917371594856,
          -0.19866505024475622,
          -0.33989181419760983,
          -0.07920301792622243,
          0.26684262905887757,
          1.0321015850695954,
          1.9229774515090154,
          -0.5763569673797575,
          -0.26358893321716054,
          -0.25618266335802486,
          -2.2919708180752716,
          1.104097148796708,
          -0.02600364194132311,
          -1.095101046141559,
          -0.029118539313768906,
          1.9280070485549,
          -1.5432922562388673,
          -0.08321371943117364,
          1.5187272566145855,
          0.4798744518687685,
          0.3562930677714046,
          1.8141615813198444,
          -1.2673503123924812,
          0.1379162585324516,
          1.5135108640588242,
          0.874412100586506,
          0.8081922553650184,
          1.7796032668681032,
          -0.024209348076993324,
          1.2800191682325985,
          0.946016955044502,
          -0.8220045581906293,
          -1.3196011962233833,
          -0.09368876377110245,
          -0.797199476653399,
          0.90490703106049,
          0.5672187408026297,
          -2.1931844232264788,
          -0.08774270252501609,
          0.8082328201397463,
          -0.37927777264635365,
          1.0189126266479482,
          1.0251439851490376,
          -0.16844947310708883,
          0.8678054803706199,
          -0.2676319793512391,
          -0.13010469422392154,
          -1.5230520612624383,
          -2.2661210188178496,
          0.5318445742803599,
          -1.252028495567799,
          0.887648346819725,
          -0.3608778691561237,
          0.940889785325926,
          -0.16611565265285455,
          1.051049195530483,
          -1.3686490280995647,
          0.14930843710924366,
          -0.6816859849019006,
          -1.5728723119928214,
          -0.3552986595227806,
          1.433894952092094,
          -0.36093139332641583,
          -1.8644568904312535,
          -1.67807506257055,
          0.9957812718371379,
          0.7779266748932111,
          -2.964210772731523,
          -1.0242512013728293,
          -0.46273126934655584,
          -0.31229657089361146,
          1.0530824316296037
         ],
         "xaxis": "x13",
         "y": [
          -1.5407101385873165,
          2.2350189816026877,
          -2.5296091387286146,
          -1.3406964354147048,
          0.7469359396070688,
          1.3204594331144752,
          0.7502229542329332,
          -0.8202597078777405,
          -1.124585586064663,
          -1.4189462849728556,
          -2.387182987455635,
          1.1639751805119178,
          -0.24915013621547472,
          -0.18598116239607645,
          1.0889099830652733,
          1.3105970403987126,
          0.1403319936872249,
          1.4057542022756464,
          -0.5603489188660344,
          1.3790739545637751,
          0.32799038986203666,
          -0.13731068069253702,
          0.3269549808631096,
          -0.27557383044476463,
          1.246132341717912,
          0.666583513866141,
          -0.7964542337965976,
          -0.01797760405488036,
          1.193777619869411,
          0.7875213141323713,
          0.8699406140382517,
          0.2552148575298687,
          0.6290599837360555,
          0.4896853885843202,
          0.4407983128765524,
          -0.02471269139903859,
          0.8476826198036227,
          1.118083553858438,
          0.7991197436806383,
          -0.48202834786195115,
          0.6426394676797172,
          1.0985779963823008,
          -0.4143744169064233,
          0.21384080939774647,
          0.10198382107133694,
          0.28820336875738867,
          0.3749150220519593,
          0.4559806297682848,
          0.6054664945717182,
          0.2081277443481054,
          -0.36821443223581374,
          1.5928874989105868,
          -0.35642450058245356,
          0.23867839838220622,
          -0.7962740928885006,
          1.3638862740579292,
          1.0333260200024355,
          1.0907066229078823,
          -0.20545170306848612,
          1.0503886821330373,
          0.9447368527245211,
          -1.0921844172647739,
          -0.4748574043391804,
          0.48158250570940736,
          -0.15752333713280076,
          1.1496699724275232,
          0.3856427000796223,
          -0.39626052766535075,
          -3.588592748924082e-05,
          0.33083026102500696,
          0.28371333317550784,
          -0.012444084240141666,
          -0.20044262234056112,
          1.8752376541320235,
          -0.8723124373701395,
          -1.0145800219442997,
          -0.3118308033387035,
          -0.2868715781532385,
          0.8195886692487346,
          -0.5761691492145123,
          0.9130136647866629,
          0.23737668905959847,
          0.7952455721990035,
          1.5851475909850774,
          -0.05022173896785526,
          0.5423471419904554,
          1.3594525704507507,
          1.5654454342340454,
          0.5028714381159953,
          -2.482547333925846,
          1.1799374335086863,
          -0.18410069959811573,
          0.13265646168646647,
          0.14056874951176104,
          -0.1316231315403834,
          -0.45813327330267084,
          -1.0327545584481983,
          -0.09184929865027391,
          0.9863631126172562,
          -0.15057351239305639
         ],
         "yaxis": "y13"
        },
        {
         "line": {
          "color": "rgba(128, 128, 128, 1.0)",
          "dash": "solid",
          "shape": "linear",
          "width": 1.3
         },
         "marker": {
          "size": 2,
          "symbol": "circle"
         },
         "mode": "markers",
         "name": "D",
         "text": "",
         "type": "scatter",
         "x": [
          0.659720180163578,
          -0.48229899595694803,
          0.5373007059525975,
          -0.7373191864504871,
          -0.2713614321259175,
          -1.0148788854458133,
          -1.6506618535197757,
          -0.6017055467580952,
          -2.02601587123514,
          -1.3807102617749039,
          1.7399382317527918,
          -0.09874877348992062,
          -0.8792180646493626,
          1.2072080438550892,
          0.3159919111568729,
          -0.1015296721567684,
          0.4140762003008372,
          -0.6679384015837599,
          -0.025480348783363194,
          1.1216031104528963,
          1.7338834217736316,
          2.0686026898673036,
          1.829012230047314,
          -0.14480019582680498,
          -1.0819289156745375,
          0.4370574296560661,
          -1.184075056937153,
          0.9401983152312045,
          0.8786622501219662,
          0.6223109307311763,
          0.7961583442526416,
          1.18881108784417,
          1.524784553972861,
          -0.14870906176062323,
          1.1027756352574738,
          -0.49567095059648475,
          0.2145742478184529,
          0.15863895021588398,
          -0.04680656455633057,
          0.25593922654731066,
          1.0545293724285103,
          0.1297834275250637,
          -0.3591106342649614,
          -0.28269664103315273,
          -0.9250220431155934,
          0.026124160430505243,
          0.7059241472672645,
          -1.5048176230279364,
          -0.7811212335563891,
          0.6600351095260198,
          1.0034561121134895,
          -0.09210647222601136,
          -1.2459254518418386,
          2.530019222084229,
          -0.6538234465769,
          1.184039297184767,
          1.906305150020457,
          -1.2631028687188486,
          0.09305052314923473,
          0.6018184880401937,
          0.6697487197869597,
          0.7650827084196883,
          -0.7762011115441019,
          0.9028366593960605,
          0.09349415461588395,
          -1.1114686313755264,
          0.9460537444267767,
          1.3758654613623988,
          -0.9374840851237152,
          1.394740244115055,
          -0.01093652733112355,
          0.27858466678647564,
          -0.4110749068039371,
          0.5028160769673242,
          0.3397450960046779,
          -0.6425741877849417,
          -1.8408827842624031,
          -0.5824980898400304,
          -0.38541793441184724,
          -1.286637074652041,
          -0.05045795267498061,
          -0.586066314722846,
          -1.3701758166092917,
          -0.7895782892796999,
          0.27178130726156885,
          -1.136531698284585,
          0.45154585239758016,
          0.8716622522777244,
          -0.20945319517410885,
          -0.06376929242251737,
          0.43499390795135273,
          1.2977522751245083,
          -1.0981836076015816,
          -0.7763264270235338,
          1.140037465457631,
          -0.49249600266665744,
          -1.1225633257293033,
          0.7855823642974321,
          0.4449325396305709,
          1.338966475816106
         ],
         "xaxis": "x14",
         "y": [
          -1.5407101385873165,
          2.2350189816026877,
          -2.5296091387286146,
          -1.3406964354147048,
          0.7469359396070688,
          1.3204594331144752,
          0.7502229542329332,
          -0.8202597078777405,
          -1.124585586064663,
          -1.4189462849728556,
          -2.387182987455635,
          1.1639751805119178,
          -0.24915013621547472,
          -0.18598116239607645,
          1.0889099830652733,
          1.3105970403987126,
          0.1403319936872249,
          1.4057542022756464,
          -0.5603489188660344,
          1.3790739545637751,
          0.32799038986203666,
          -0.13731068069253702,
          0.3269549808631096,
          -0.27557383044476463,
          1.246132341717912,
          0.666583513866141,
          -0.7964542337965976,
          -0.01797760405488036,
          1.193777619869411,
          0.7875213141323713,
          0.8699406140382517,
          0.2552148575298687,
          0.6290599837360555,
          0.4896853885843202,
          0.4407983128765524,
          -0.02471269139903859,
          0.8476826198036227,
          1.118083553858438,
          0.7991197436806383,
          -0.48202834786195115,
          0.6426394676797172,
          1.0985779963823008,
          -0.4143744169064233,
          0.21384080939774647,
          0.10198382107133694,
          0.28820336875738867,
          0.3749150220519593,
          0.4559806297682848,
          0.6054664945717182,
          0.2081277443481054,
          -0.36821443223581374,
          1.5928874989105868,
          -0.35642450058245356,
          0.23867839838220622,
          -0.7962740928885006,
          1.3638862740579292,
          1.0333260200024355,
          1.0907066229078823,
          -0.20545170306848612,
          1.0503886821330373,
          0.9447368527245211,
          -1.0921844172647739,
          -0.4748574043391804,
          0.48158250570940736,
          -0.15752333713280076,
          1.1496699724275232,
          0.3856427000796223,
          -0.39626052766535075,
          -3.588592748924082e-05,
          0.33083026102500696,
          0.28371333317550784,
          -0.012444084240141666,
          -0.20044262234056112,
          1.8752376541320235,
          -0.8723124373701395,
          -1.0145800219442997,
          -0.3118308033387035,
          -0.2868715781532385,
          0.8195886692487346,
          -0.5761691492145123,
          0.9130136647866629,
          0.23737668905959847,
          0.7952455721990035,
          1.5851475909850774,
          -0.05022173896785526,
          0.5423471419904554,
          1.3594525704507507,
          1.5654454342340454,
          0.5028714381159953,
          -2.482547333925846,
          1.1799374335086863,
          -0.18410069959811573,
          0.13265646168646647,
          0.14056874951176104,
          -0.1316231315403834,
          -0.45813327330267084,
          -1.0327545584481983,
          -0.09184929865027391,
          0.9863631126172562,
          -0.15057351239305639
         ],
         "yaxis": "y14"
        },
        {
         "line": {
          "color": "rgba(128, 128, 128, 1.0)",
          "dash": "solid",
          "shape": "linear",
          "width": 1.3
         },
         "marker": {
          "size": 2,
          "symbol": "circle"
         },
         "mode": "markers",
         "name": "D",
         "text": "",
         "type": "scatter",
         "x": [
          -0.48342482847419954,
          -0.28917137909810087,
          0.10472817839319638,
          -0.3117041719124086,
          0.5474986505420716,
          0.36040555464410134,
          -2.3941833929601106,
          -0.5920466628675929,
          0.7030199564649418,
          -0.27907376596335065,
          -0.40355295361878935,
          -1.5788948840363446,
          2.4773161397200583,
          0.436574519139334,
          0.32532809517603817,
          0.5635250230272021,
          0.8442814716824333,
          -0.6794166582502248,
          -0.7666025757091693,
          1.0072984701608787,
          -0.5501928147375748,
          0.6877773474069846,
          -0.6505757792280401,
          0.7379231933386672,
          -1.781948344245377,
          -1.256089937990564,
          -0.48474996255921626,
          1.2714481931284987,
          0.40064144579818367,
          -0.6304491582154946,
          1.7891619378979553,
          0.7843308506814917,
          -0.5139382969616856,
          0.9588190681916949,
          -0.05846925797888498,
          -1.1573433562365338,
          -2.1931431037655726,
          0.18472195654751794,
          0.6723347397736454,
          -0.3552960384282929,
          1.8505722081067433,
          0.2120629040052719,
          0.7353646399453968,
          -0.8841948964965184,
          -1.0914681312767118,
          0.9839252399187555,
          1.679714369615582,
          0.030315933386810812,
          -0.7116682832700304,
          0.5314662077704951,
          -0.8196753783769472,
          0.22710804888544445,
          -0.9688296726515074,
          1.1700779277889357,
          0.705361600598505,
          -1.383011201696221,
          -0.8484094360452913,
          -0.20475815261979963,
          1.815935538182838,
          -0.3086927022715515,
          -2.39535730486845,
          0.21006405816980087,
          -0.6759974560899125,
          0.6523377749104889,
          -1.1468348471581247,
          1.1989541511995008,
          -0.0033747646544850843,
          -0.5868219951635674,
          -1.221537985575564,
          0.9554348986002157,
          1.7344192214628262,
          -0.9445639487491292,
          -0.8848465814729276,
          -0.3160547948940683,
          -1.1015428967704668,
          -0.5926167603968916,
          0.6004763358338866,
          1.592089400159695,
          1.3932834146377278,
          1.1170691058410587,
          1.0131043636743011,
          -1.5614706230061903,
          -0.5570242602914186,
          -1.9886321013304038,
          0.513519282261964,
          -0.6549909017480732,
          -1.3603950533383276,
          0.22474702826582948,
          1.1040396618089656,
          0.5755613052091758,
          0.07479005522211514,
          0.0822834649530619,
          0.8863534288849454,
          1.250181751081411,
          -0.8480531875440711,
          -0.5199890221203346,
          -1.2443328418151858,
          0.23300977083142083,
          1.4323843251265294,
          -0.5572666813934601
         ],
         "xaxis": "x15",
         "y": [
          -1.5407101385873165,
          2.2350189816026877,
          -2.5296091387286146,
          -1.3406964354147048,
          0.7469359396070688,
          1.3204594331144752,
          0.7502229542329332,
          -0.8202597078777405,
          -1.124585586064663,
          -1.4189462849728556,
          -2.387182987455635,
          1.1639751805119178,
          -0.24915013621547472,
          -0.18598116239607645,
          1.0889099830652733,
          1.3105970403987126,
          0.1403319936872249,
          1.4057542022756464,
          -0.5603489188660344,
          1.3790739545637751,
          0.32799038986203666,
          -0.13731068069253702,
          0.3269549808631096,
          -0.27557383044476463,
          1.246132341717912,
          0.666583513866141,
          -0.7964542337965976,
          -0.01797760405488036,
          1.193777619869411,
          0.7875213141323713,
          0.8699406140382517,
          0.2552148575298687,
          0.6290599837360555,
          0.4896853885843202,
          0.4407983128765524,
          -0.02471269139903859,
          0.8476826198036227,
          1.118083553858438,
          0.7991197436806383,
          -0.48202834786195115,
          0.6426394676797172,
          1.0985779963823008,
          -0.4143744169064233,
          0.21384080939774647,
          0.10198382107133694,
          0.28820336875738867,
          0.3749150220519593,
          0.4559806297682848,
          0.6054664945717182,
          0.2081277443481054,
          -0.36821443223581374,
          1.5928874989105868,
          -0.35642450058245356,
          0.23867839838220622,
          -0.7962740928885006,
          1.3638862740579292,
          1.0333260200024355,
          1.0907066229078823,
          -0.20545170306848612,
          1.0503886821330373,
          0.9447368527245211,
          -1.0921844172647739,
          -0.4748574043391804,
          0.48158250570940736,
          -0.15752333713280076,
          1.1496699724275232,
          0.3856427000796223,
          -0.39626052766535075,
          -3.588592748924082e-05,
          0.33083026102500696,
          0.28371333317550784,
          -0.012444084240141666,
          -0.20044262234056112,
          1.8752376541320235,
          -0.8723124373701395,
          -1.0145800219442997,
          -0.3118308033387035,
          -0.2868715781532385,
          0.8195886692487346,
          -0.5761691492145123,
          0.9130136647866629,
          0.23737668905959847,
          0.7952455721990035,
          1.5851475909850774,
          -0.05022173896785526,
          0.5423471419904554,
          1.3594525704507507,
          1.5654454342340454,
          0.5028714381159953,
          -2.482547333925846,
          1.1799374335086863,
          -0.18410069959811573,
          0.13265646168646647,
          0.14056874951176104,
          -0.1316231315403834,
          -0.45813327330267084,
          -1.0327545584481983,
          -0.09184929865027391,
          0.9863631126172562,
          -0.15057351239305639
         ],
         "yaxis": "y15"
        },
        {
         "histfunc": "count",
         "histnorm": "",
         "marker": {
          "color": "rgba(128, 0, 128, 1.0)",
          "line": {
           "color": "#4D5663",
           "width": 1.3
          }
         },
         "name": "D",
         "nbinsx": 10,
         "opacity": 0.8,
         "orientation": "v",
         "type": "histogram",
         "x": [
          -1.5407101385873165,
          2.2350189816026877,
          -2.5296091387286146,
          -1.3406964354147048,
          0.7469359396070688,
          1.3204594331144752,
          0.7502229542329332,
          -0.8202597078777405,
          -1.124585586064663,
          -1.4189462849728556,
          -2.387182987455635,
          1.1639751805119178,
          -0.24915013621547472,
          -0.18598116239607645,
          1.0889099830652733,
          1.3105970403987126,
          0.1403319936872249,
          1.4057542022756464,
          -0.5603489188660344,
          1.3790739545637751,
          0.32799038986203666,
          -0.13731068069253702,
          0.3269549808631096,
          -0.27557383044476463,
          1.246132341717912,
          0.666583513866141,
          -0.7964542337965976,
          -0.01797760405488036,
          1.193777619869411,
          0.7875213141323713,
          0.8699406140382517,
          0.2552148575298687,
          0.6290599837360555,
          0.4896853885843202,
          0.4407983128765524,
          -0.02471269139903859,
          0.8476826198036227,
          1.118083553858438,
          0.7991197436806383,
          -0.48202834786195115,
          0.6426394676797172,
          1.0985779963823008,
          -0.4143744169064233,
          0.21384080939774647,
          0.10198382107133694,
          0.28820336875738867,
          0.3749150220519593,
          0.4559806297682848,
          0.6054664945717182,
          0.2081277443481054,
          -0.36821443223581374,
          1.5928874989105868,
          -0.35642450058245356,
          0.23867839838220622,
          -0.7962740928885006,
          1.3638862740579292,
          1.0333260200024355,
          1.0907066229078823,
          -0.20545170306848612,
          1.0503886821330373,
          0.9447368527245211,
          -1.0921844172647739,
          -0.4748574043391804,
          0.48158250570940736,
          -0.15752333713280076,
          1.1496699724275232,
          0.3856427000796223,
          -0.39626052766535075,
          -3.588592748924082e-05,
          0.33083026102500696,
          0.28371333317550784,
          -0.012444084240141666,
          -0.20044262234056112,
          1.8752376541320235,
          -0.8723124373701395,
          -1.0145800219442997,
          -0.3118308033387035,
          -0.2868715781532385,
          0.8195886692487346,
          -0.5761691492145123,
          0.9130136647866629,
          0.23737668905959847,
          0.7952455721990035,
          1.5851475909850774,
          -0.05022173896785526,
          0.5423471419904554,
          1.3594525704507507,
          1.5654454342340454,
          0.5028714381159953,
          -2.482547333925846,
          1.1799374335086863,
          -0.18410069959811573,
          0.13265646168646647,
          0.14056874951176104,
          -0.1316231315403834,
          -0.45813327330267084,
          -1.0327545584481983,
          -0.09184929865027391,
          0.9863631126172562,
          -0.15057351239305639
         ],
         "xaxis": "x16",
         "yaxis": "y16"
        }
       ],
       "layout": {
        "autosize": true,
        "bargap": 0.02,
        "legend": {
         "bgcolor": "#F5F6F9",
         "font": {
          "color": "#4D5663"
         }
        },
        "paper_bgcolor": "#F5F6F9",
        "plot_bgcolor": "#F5F6F9",
        "showlegend": false,
        "template": {
         "data": {
          "bar": [
           {
            "error_x": {
             "color": "#2a3f5f"
            },
            "error_y": {
             "color": "#2a3f5f"
            },
            "marker": {
             "line": {
              "color": "#E5ECF6",
              "width": 0.5
             },
             "pattern": {
              "fillmode": "overlay",
              "size": 10,
              "solidity": 0.2
             }
            },
            "type": "bar"
           }
          ],
          "barpolar": [
           {
            "marker": {
             "line": {
              "color": "#E5ECF6",
              "width": 0.5
             },
             "pattern": {
              "fillmode": "overlay",
              "size": 10,
              "solidity": 0.2
             }
            },
            "type": "barpolar"
           }
          ],
          "carpet": [
           {
            "aaxis": {
             "endlinecolor": "#2a3f5f",
             "gridcolor": "white",
             "linecolor": "white",
             "minorgridcolor": "white",
             "startlinecolor": "#2a3f5f"
            },
            "baxis": {
             "endlinecolor": "#2a3f5f",
             "gridcolor": "white",
             "linecolor": "white",
             "minorgridcolor": "white",
             "startlinecolor": "#2a3f5f"
            },
            "type": "carpet"
           }
          ],
          "choropleth": [
           {
            "colorbar": {
             "outlinewidth": 0,
             "ticks": ""
            },
            "type": "choropleth"
           }
          ],
          "contour": [
           {
            "colorbar": {
             "outlinewidth": 0,
             "ticks": ""
            },
            "colorscale": [
             [
              0,
              "#0d0887"
             ],
             [
              0.1111111111111111,
              "#46039f"
             ],
             [
              0.2222222222222222,
              "#7201a8"
             ],
             [
              0.3333333333333333,
              "#9c179e"
             ],
             [
              0.4444444444444444,
              "#bd3786"
             ],
             [
              0.5555555555555556,
              "#d8576b"
             ],
             [
              0.6666666666666666,
              "#ed7953"
             ],
             [
              0.7777777777777778,
              "#fb9f3a"
             ],
             [
              0.8888888888888888,
              "#fdca26"
             ],
             [
              1,
              "#f0f921"
             ]
            ],
            "type": "contour"
           }
          ],
          "contourcarpet": [
           {
            "colorbar": {
             "outlinewidth": 0,
             "ticks": ""
            },
            "type": "contourcarpet"
           }
          ],
          "heatmap": [
           {
            "colorbar": {
             "outlinewidth": 0,
             "ticks": ""
            },
            "colorscale": [
             [
              0,
              "#0d0887"
             ],
             [
              0.1111111111111111,
              "#46039f"
             ],
             [
              0.2222222222222222,
              "#7201a8"
             ],
             [
              0.3333333333333333,
              "#9c179e"
             ],
             [
              0.4444444444444444,
              "#bd3786"
             ],
             [
              0.5555555555555556,
              "#d8576b"
             ],
             [
              0.6666666666666666,
              "#ed7953"
             ],
             [
              0.7777777777777778,
              "#fb9f3a"
             ],
             [
              0.8888888888888888,
              "#fdca26"
             ],
             [
              1,
              "#f0f921"
             ]
            ],
            "type": "heatmap"
           }
          ],
          "heatmapgl": [
           {
            "colorbar": {
             "outlinewidth": 0,
             "ticks": ""
            },
            "colorscale": [
             [
              0,
              "#0d0887"
             ],
             [
              0.1111111111111111,
              "#46039f"
             ],
             [
              0.2222222222222222,
              "#7201a8"
             ],
             [
              0.3333333333333333,
              "#9c179e"
             ],
             [
              0.4444444444444444,
              "#bd3786"
             ],
             [
              0.5555555555555556,
              "#d8576b"
             ],
             [
              0.6666666666666666,
              "#ed7953"
             ],
             [
              0.7777777777777778,
              "#fb9f3a"
             ],
             [
              0.8888888888888888,
              "#fdca26"
             ],
             [
              1,
              "#f0f921"
             ]
            ],
            "type": "heatmapgl"
           }
          ],
          "histogram": [
           {
            "marker": {
             "pattern": {
              "fillmode": "overlay",
              "size": 10,
              "solidity": 0.2
             }
            },
            "type": "histogram"
           }
          ],
          "histogram2d": [
           {
            "colorbar": {
             "outlinewidth": 0,
             "ticks": ""
            },
            "colorscale": [
             [
              0,
              "#0d0887"
             ],
             [
              0.1111111111111111,
              "#46039f"
             ],
             [
              0.2222222222222222,
              "#7201a8"
             ],
             [
              0.3333333333333333,
              "#9c179e"
             ],
             [
              0.4444444444444444,
              "#bd3786"
             ],
             [
              0.5555555555555556,
              "#d8576b"
             ],
             [
              0.6666666666666666,
              "#ed7953"
             ],
             [
              0.7777777777777778,
              "#fb9f3a"
             ],
             [
              0.8888888888888888,
              "#fdca26"
             ],
             [
              1,
              "#f0f921"
             ]
            ],
            "type": "histogram2d"
           }
          ],
          "histogram2dcontour": [
           {
            "colorbar": {
             "outlinewidth": 0,
             "ticks": ""
            },
            "colorscale": [
             [
              0,
              "#0d0887"
             ],
             [
              0.1111111111111111,
              "#46039f"
             ],
             [
              0.2222222222222222,
              "#7201a8"
             ],
             [
              0.3333333333333333,
              "#9c179e"
             ],
             [
              0.4444444444444444,
              "#bd3786"
             ],
             [
              0.5555555555555556,
              "#d8576b"
             ],
             [
              0.6666666666666666,
              "#ed7953"
             ],
             [
              0.7777777777777778,
              "#fb9f3a"
             ],
             [
              0.8888888888888888,
              "#fdca26"
             ],
             [
              1,
              "#f0f921"
             ]
            ],
            "type": "histogram2dcontour"
           }
          ],
          "mesh3d": [
           {
            "colorbar": {
             "outlinewidth": 0,
             "ticks": ""
            },
            "type": "mesh3d"
           }
          ],
          "parcoords": [
           {
            "line": {
             "colorbar": {
              "outlinewidth": 0,
              "ticks": ""
             }
            },
            "type": "parcoords"
           }
          ],
          "pie": [
           {
            "automargin": true,
            "type": "pie"
           }
          ],
          "scatter": [
           {
            "fillpattern": {
             "fillmode": "overlay",
             "size": 10,
             "solidity": 0.2
            },
            "type": "scatter"
           }
          ],
          "scatter3d": [
           {
            "line": {
             "colorbar": {
              "outlinewidth": 0,
              "ticks": ""
             }
            },
            "marker": {
             "colorbar": {
              "outlinewidth": 0,
              "ticks": ""
             }
            },
            "type": "scatter3d"
           }
          ],
          "scattercarpet": [
           {
            "marker": {
             "colorbar": {
              "outlinewidth": 0,
              "ticks": ""
             }
            },
            "type": "scattercarpet"
           }
          ],
          "scattergeo": [
           {
            "marker": {
             "colorbar": {
              "outlinewidth": 0,
              "ticks": ""
             }
            },
            "type": "scattergeo"
           }
          ],
          "scattergl": [
           {
            "marker": {
             "colorbar": {
              "outlinewidth": 0,
              "ticks": ""
             }
            },
            "type": "scattergl"
           }
          ],
          "scattermapbox": [
           {
            "marker": {
             "colorbar": {
              "outlinewidth": 0,
              "ticks": ""
             }
            },
            "type": "scattermapbox"
           }
          ],
          "scatterpolar": [
           {
            "marker": {
             "colorbar": {
              "outlinewidth": 0,
              "ticks": ""
             }
            },
            "type": "scatterpolar"
           }
          ],
          "scatterpolargl": [
           {
            "marker": {
             "colorbar": {
              "outlinewidth": 0,
              "ticks": ""
             }
            },
            "type": "scatterpolargl"
           }
          ],
          "scatterternary": [
           {
            "marker": {
             "colorbar": {
              "outlinewidth": 0,
              "ticks": ""
             }
            },
            "type": "scatterternary"
           }
          ],
          "surface": [
           {
            "colorbar": {
             "outlinewidth": 0,
             "ticks": ""
            },
            "colorscale": [
             [
              0,
              "#0d0887"
             ],
             [
              0.1111111111111111,
              "#46039f"
             ],
             [
              0.2222222222222222,
              "#7201a8"
             ],
             [
              0.3333333333333333,
              "#9c179e"
             ],
             [
              0.4444444444444444,
              "#bd3786"
             ],
             [
              0.5555555555555556,
              "#d8576b"
             ],
             [
              0.6666666666666666,
              "#ed7953"
             ],
             [
              0.7777777777777778,
              "#fb9f3a"
             ],
             [
              0.8888888888888888,
              "#fdca26"
             ],
             [
              1,
              "#f0f921"
             ]
            ],
            "type": "surface"
           }
          ],
          "table": [
           {
            "cells": {
             "fill": {
              "color": "#EBF0F8"
             },
             "line": {
              "color": "white"
             }
            },
            "header": {
             "fill": {
              "color": "#C8D4E3"
             },
             "line": {
              "color": "white"
             }
            },
            "type": "table"
           }
          ]
         },
         "layout": {
          "annotationdefaults": {
           "arrowcolor": "#2a3f5f",
           "arrowhead": 0,
           "arrowwidth": 1
          },
          "autotypenumbers": "strict",
          "coloraxis": {
           "colorbar": {
            "outlinewidth": 0,
            "ticks": ""
           }
          },
          "colorscale": {
           "diverging": [
            [
             0,
             "#8e0152"
            ],
            [
             0.1,
             "#c51b7d"
            ],
            [
             0.2,
             "#de77ae"
            ],
            [
             0.3,
             "#f1b6da"
            ],
            [
             0.4,
             "#fde0ef"
            ],
            [
             0.5,
             "#f7f7f7"
            ],
            [
             0.6,
             "#e6f5d0"
            ],
            [
             0.7,
             "#b8e186"
            ],
            [
             0.8,
             "#7fbc41"
            ],
            [
             0.9,
             "#4d9221"
            ],
            [
             1,
             "#276419"
            ]
           ],
           "sequential": [
            [
             0,
             "#0d0887"
            ],
            [
             0.1111111111111111,
             "#46039f"
            ],
            [
             0.2222222222222222,
             "#7201a8"
            ],
            [
             0.3333333333333333,
             "#9c179e"
            ],
            [
             0.4444444444444444,
             "#bd3786"
            ],
            [
             0.5555555555555556,
             "#d8576b"
            ],
            [
             0.6666666666666666,
             "#ed7953"
            ],
            [
             0.7777777777777778,
             "#fb9f3a"
            ],
            [
             0.8888888888888888,
             "#fdca26"
            ],
            [
             1,
             "#f0f921"
            ]
           ],
           "sequentialminus": [
            [
             0,
             "#0d0887"
            ],
            [
             0.1111111111111111,
             "#46039f"
            ],
            [
             0.2222222222222222,
             "#7201a8"
            ],
            [
             0.3333333333333333,
             "#9c179e"
            ],
            [
             0.4444444444444444,
             "#bd3786"
            ],
            [
             0.5555555555555556,
             "#d8576b"
            ],
            [
             0.6666666666666666,
             "#ed7953"
            ],
            [
             0.7777777777777778,
             "#fb9f3a"
            ],
            [
             0.8888888888888888,
             "#fdca26"
            ],
            [
             1,
             "#f0f921"
            ]
           ]
          },
          "colorway": [
           "#636efa",
           "#EF553B",
           "#00cc96",
           "#ab63fa",
           "#FFA15A",
           "#19d3f3",
           "#FF6692",
           "#B6E880",
           "#FF97FF",
           "#FECB52"
          ],
          "font": {
           "color": "#2a3f5f"
          },
          "geo": {
           "bgcolor": "white",
           "lakecolor": "white",
           "landcolor": "#E5ECF6",
           "showlakes": true,
           "showland": true,
           "subunitcolor": "white"
          },
          "hoverlabel": {
           "align": "left"
          },
          "hovermode": "closest",
          "mapbox": {
           "style": "light"
          },
          "paper_bgcolor": "white",
          "plot_bgcolor": "#E5ECF6",
          "polar": {
           "angularaxis": {
            "gridcolor": "white",
            "linecolor": "white",
            "ticks": ""
           },
           "bgcolor": "#E5ECF6",
           "radialaxis": {
            "gridcolor": "white",
            "linecolor": "white",
            "ticks": ""
           }
          },
          "scene": {
           "xaxis": {
            "backgroundcolor": "#E5ECF6",
            "gridcolor": "white",
            "gridwidth": 2,
            "linecolor": "white",
            "showbackground": true,
            "ticks": "",
            "zerolinecolor": "white"
           },
           "yaxis": {
            "backgroundcolor": "#E5ECF6",
            "gridcolor": "white",
            "gridwidth": 2,
            "linecolor": "white",
            "showbackground": true,
            "ticks": "",
            "zerolinecolor": "white"
           },
           "zaxis": {
            "backgroundcolor": "#E5ECF6",
            "gridcolor": "white",
            "gridwidth": 2,
            "linecolor": "white",
            "showbackground": true,
            "ticks": "",
            "zerolinecolor": "white"
           }
          },
          "shapedefaults": {
           "line": {
            "color": "#2a3f5f"
           }
          },
          "ternary": {
           "aaxis": {
            "gridcolor": "white",
            "linecolor": "white",
            "ticks": ""
           },
           "baxis": {
            "gridcolor": "white",
            "linecolor": "white",
            "ticks": ""
           },
           "bgcolor": "#E5ECF6",
           "caxis": {
            "gridcolor": "white",
            "linecolor": "white",
            "ticks": ""
           }
          },
          "title": {
           "x": 0.05
          },
          "xaxis": {
           "automargin": true,
           "gridcolor": "white",
           "linecolor": "white",
           "ticks": "",
           "title": {
            "standoff": 15
           },
           "zerolinecolor": "white",
           "zerolinewidth": 2
          },
          "yaxis": {
           "automargin": true,
           "gridcolor": "white",
           "linecolor": "white",
           "ticks": "",
           "title": {
            "standoff": 15
           },
           "zerolinecolor": "white",
           "zerolinewidth": 2
          }
         }
        },
        "title": {
         "font": {
          "color": "#4D5663"
         }
        },
        "xaxis": {
         "anchor": "y",
         "autorange": true,
         "domain": [
          0,
          0.2125
         ],
         "gridcolor": "#E1E5ED",
         "range": [
          -3,
          3
         ],
         "showgrid": false,
         "tickfont": {
          "color": "#4D5663"
         },
         "title": {
          "font": {
           "color": "#4D5663"
          },
          "text": ""
         },
         "type": "linear",
         "zerolinecolor": "#E1E5ED"
        },
        "xaxis10": {
         "anchor": "y10",
         "autorange": true,
         "domain": [
          0.2625,
          0.475
         ],
         "gridcolor": "#E1E5ED",
         "range": [
          -2.3664262304131523,
          2.870429581262241
         ],
         "showgrid": false,
         "tickfont": {
          "color": "#4D5663"
         },
         "title": {
          "font": {
           "color": "#4D5663"
          },
          "text": ""
         },
         "type": "linear",
         "zerolinecolor": "#E1E5ED"
        },
        "xaxis11": {
         "anchor": "y11",
         "autorange": true,
         "domain": [
          0.525,
          0.7375
         ],
         "gridcolor": "#E1E5ED",
         "range": [
          -2.5,
          2.5
         ],
         "showgrid": false,
         "tickfont": {
          "color": "#4D5663"
         },
         "title": {
          "font": {
           "color": "#4D5663"
          },
          "text": ""
         },
         "type": "linear",
         "zerolinecolor": "#E1E5ED"
        },
        "xaxis12": {
         "anchor": "y12",
         "autorange": true,
         "domain": [
          0.7875,
          1
         ],
         "gridcolor": "#E1E5ED",
         "range": [
          -2.8856048096508844,
          2.5910146525249576
         ],
         "showgrid": false,
         "tickfont": {
          "color": "#4D5663"
         },
         "title": {
          "font": {
           "color": "#4D5663"
          },
          "text": ""
         },
         "type": "linear",
         "zerolinecolor": "#E1E5ED"
        },
        "xaxis13": {
         "anchor": "y13",
         "autorange": true,
         "domain": [
          0,
          0.2125
         ],
         "gridcolor": "#E1E5ED",
         "range": [
          -3.3427609831512113,
          2.4808363780871963
         ],
         "showgrid": false,
         "tickfont": {
          "color": "#4D5663"
         },
         "title": {
          "font": {
           "color": "#4D5663"
          },
          "text": ""
         },
         "type": "linear",
         "zerolinecolor": "#E1E5ED"
        },
        "xaxis14": {
         "anchor": "y14",
         "autorange": true,
         "domain": [
          0.2625,
          0.475
         ],
         "gridcolor": "#E1E5ED",
         "range": [
          -2.3664262304131523,
          2.870429581262241
         ],
         "showgrid": false,
         "tickfont": {
          "color": "#4D5663"
         },
         "title": {
          "font": {
           "color": "#4D5663"
          },
          "text": ""
         },
         "type": "linear",
         "zerolinecolor": "#E1E5ED"
        },
        "xaxis15": {
         "anchor": "y15",
         "autorange": true,
         "domain": [
          0.525,
          0.7375
         ],
         "gridcolor": "#E1E5ED",
         "range": [
          -2.7594257291573108,
          2.8413845640089193
         ],
         "showgrid": false,
         "tickfont": {
          "color": "#4D5663"
         },
         "title": {
          "font": {
           "color": "#4D5663"
          },
          "text": ""
         },
         "type": "linear",
         "zerolinecolor": "#E1E5ED"
        },
        "xaxis16": {
         "anchor": "y16",
         "autorange": true,
         "domain": [
          0.7875,
          1
         ],
         "gridcolor": "#E1E5ED",
         "range": [
          -3,
          2.5
         ],
         "showgrid": false,
         "tickfont": {
          "color": "#4D5663"
         },
         "title": {
          "font": {
           "color": "#4D5663"
          },
          "text": ""
         },
         "type": "linear",
         "zerolinecolor": "#E1E5ED"
        },
        "xaxis2": {
         "anchor": "y2",
         "autorange": true,
         "domain": [
          0.2625,
          0.475
         ],
         "gridcolor": "#E1E5ED",
         "range": [
          -2.3664262304131523,
          2.870429581262241
         ],
         "showgrid": false,
         "tickfont": {
          "color": "#4D5663"
         },
         "title": {
          "font": {
           "color": "#4D5663"
          },
          "text": ""
         },
         "type": "linear",
         "zerolinecolor": "#E1E5ED"
        },
        "xaxis3": {
         "anchor": "y3",
         "autorange": true,
         "domain": [
          0.525,
          0.7375
         ],
         "gridcolor": "#E1E5ED",
         "range": [
          -2.7594257291573108,
          2.8413845640089193
         ],
         "showgrid": false,
         "tickfont": {
          "color": "#4D5663"
         },
         "title": {
          "font": {
           "color": "#4D5663"
          },
          "text": ""
         },
         "type": "linear",
         "zerolinecolor": "#E1E5ED"
        },
        "xaxis4": {
         "anchor": "y4",
         "autorange": true,
         "domain": [
          0.7875,
          1
         ],
         "gridcolor": "#E1E5ED",
         "range": [
          -2.8856048096508844,
          2.5910146525249576
         ],
         "showgrid": false,
         "tickfont": {
          "color": "#4D5663"
         },
         "title": {
          "font": {
           "color": "#4D5663"
          },
          "text": ""
         },
         "type": "linear",
         "zerolinecolor": "#E1E5ED"
        },
        "xaxis5": {
         "anchor": "y5",
         "autorange": true,
         "domain": [
          0,
          0.2125
         ],
         "gridcolor": "#E1E5ED",
         "range": [
          -3.3427609831512113,
          2.4808363780871963
         ],
         "showgrid": false,
         "tickfont": {
          "color": "#4D5663"
         },
         "title": {
          "font": {
           "color": "#4D5663"
          },
          "text": ""
         },
         "type": "linear",
         "zerolinecolor": "#E1E5ED"
        },
        "xaxis6": {
         "anchor": "y6",
         "autorange": true,
         "domain": [
          0.2625,
          0.475
         ],
         "gridcolor": "#E1E5ED",
         "range": [
          -2.5,
          3
         ],
         "showgrid": false,
         "tickfont": {
          "color": "#4D5663"
         },
         "title": {
          "font": {
           "color": "#4D5663"
          },
          "text": ""
         },
         "type": "linear",
         "zerolinecolor": "#E1E5ED"
        },
        "xaxis7": {
         "anchor": "y7",
         "autorange": true,
         "domain": [
          0.525,
          0.7375
         ],
         "gridcolor": "#E1E5ED",
         "range": [
          -2.7594257291573108,
          2.8413845640089193
         ],
         "showgrid": false,
         "tickfont": {
          "color": "#4D5663"
         },
         "title": {
          "font": {
           "color": "#4D5663"
          },
          "text": ""
         },
         "type": "linear",
         "zerolinecolor": "#E1E5ED"
        },
        "xaxis8": {
         "anchor": "y8",
         "autorange": true,
         "domain": [
          0.7875,
          1
         ],
         "gridcolor": "#E1E5ED",
         "range": [
          -2.8856048096508844,
          2.5910146525249576
         ],
         "showgrid": false,
         "tickfont": {
          "color": "#4D5663"
         },
         "title": {
          "font": {
           "color": "#4D5663"
          },
          "text": ""
         },
         "type": "linear",
         "zerolinecolor": "#E1E5ED"
        },
        "xaxis9": {
         "anchor": "y9",
         "autorange": true,
         "domain": [
          0,
          0.2125
         ],
         "gridcolor": "#E1E5ED",
         "range": [
          -3.3427609831512113,
          2.4808363780871963
         ],
         "showgrid": false,
         "tickfont": {
          "color": "#4D5663"
         },
         "title": {
          "font": {
           "color": "#4D5663"
          },
          "text": ""
         },
         "type": "linear",
         "zerolinecolor": "#E1E5ED"
        },
        "yaxis": {
         "anchor": "x",
         "autorange": true,
         "domain": [
          0.8025,
          1
         ],
         "gridcolor": "#E1E5ED",
         "range": [
          0,
          32.631578947368425
         ],
         "showgrid": false,
         "tickfont": {
          "color": "#4D5663"
         },
         "title": {
          "font": {
           "color": "#4D5663"
          },
          "text": ""
         },
         "zerolinecolor": "#E1E5ED"
        },
        "yaxis10": {
         "anchor": "x10",
         "autorange": true,
         "domain": [
          0.2675,
          0.465
         ],
         "gridcolor": "#E1E5ED",
         "range": [
          -3.2908832668427372,
          3.3728421016943457
         ],
         "showgrid": false,
         "tickfont": {
          "color": "#4D5663"
         },
         "title": {
          "font": {
           "color": "#4D5663"
          },
          "text": ""
         },
         "type": "linear",
         "zerolinecolor": "#E1E5ED"
        },
        "yaxis11": {
         "anchor": "x11",
         "autorange": true,
         "domain": [
          0.2675,
          0.465
         ],
         "gridcolor": "#E1E5ED",
         "range": [
          0,
          23.157894736842106
         ],
         "showgrid": false,
         "tickfont": {
          "color": "#4D5663"
         },
         "title": {
          "font": {
           "color": "#4D5663"
          },
          "text": ""
         },
         "zerolinecolor": "#E1E5ED"
        },
        "yaxis12": {
         "anchor": "x12",
         "autorange": true,
         "domain": [
          0.2675,
          0.465
         ],
         "gridcolor": "#E1E5ED",
         "range": [
          -3.2908832668427372,
          3.3728421016943457
         ],
         "showgrid": false,
         "tickfont": {
          "color": "#4D5663"
         },
         "title": {
          "font": {
           "color": "#4D5663"
          },
          "text": ""
         },
         "type": "linear",
         "zerolinecolor": "#E1E5ED"
        },
        "yaxis13": {
         "anchor": "x13",
         "autorange": true,
         "domain": [
          0,
          0.1975
         ],
         "gridcolor": "#E1E5ED",
         "range": [
          -3.405277953688522,
          3.110687796562595
         ],
         "showgrid": false,
         "tickfont": {
          "color": "#4D5663"
         },
         "title": {
          "font": {
           "color": "#4D5663"
          },
          "text": ""
         },
         "type": "linear",
         "zerolinecolor": "#E1E5ED"
        },
        "yaxis14": {
         "anchor": "x14",
         "autorange": true,
         "domain": [
          0,
          0.1975
         ],
         "gridcolor": "#E1E5ED",
         "range": [
          -3.405277953688522,
          3.110687796562595
         ],
         "showgrid": false,
         "tickfont": {
          "color": "#4D5663"
         },
         "title": {
          "font": {
           "color": "#4D5663"
          },
          "text": ""
         },
         "type": "linear",
         "zerolinecolor": "#E1E5ED"
        },
        "yaxis15": {
         "anchor": "x15",
         "autorange": true,
         "domain": [
          0,
          0.1975
         ],
         "gridcolor": "#E1E5ED",
         "range": [
          -3.405277953688522,
          3.110687796562595
         ],
         "showgrid": false,
         "tickfont": {
          "color": "#4D5663"
         },
         "title": {
          "font": {
           "color": "#4D5663"
          },
          "text": ""
         },
         "type": "linear",
         "zerolinecolor": "#E1E5ED"
        },
        "yaxis16": {
         "anchor": "x16",
         "autorange": true,
         "domain": [
          0,
          0.1975
         ],
         "gridcolor": "#E1E5ED",
         "range": [
          0,
          26.315789473684212
         ],
         "showgrid": false,
         "tickfont": {
          "color": "#4D5663"
         },
         "title": {
          "font": {
           "color": "#4D5663"
          },
          "text": ""
         },
         "zerolinecolor": "#E1E5ED"
        },
        "yaxis2": {
         "anchor": "x2",
         "autorange": true,
         "domain": [
          0.8025,
          1
         ],
         "gridcolor": "#E1E5ED",
         "range": [
          -3.8953586524297865,
          3.0334340473657715
         ],
         "showgrid": false,
         "tickfont": {
          "color": "#4D5663"
         },
         "title": {
          "font": {
           "color": "#4D5663"
          },
          "text": ""
         },
         "type": "linear",
         "zerolinecolor": "#E1E5ED"
        },
        "yaxis3": {
         "anchor": "x3",
         "autorange": true,
         "domain": [
          0.8025,
          1
         ],
         "gridcolor": "#E1E5ED",
         "range": [
          -3.8953586524297865,
          3.0334340473657715
         ],
         "showgrid": false,
         "tickfont": {
          "color": "#4D5663"
         },
         "title": {
          "font": {
           "color": "#4D5663"
          },
          "text": ""
         },
         "type": "linear",
         "zerolinecolor": "#E1E5ED"
        },
        "yaxis4": {
         "anchor": "x4",
         "autorange": true,
         "domain": [
          0.8025,
          1
         ],
         "gridcolor": "#E1E5ED",
         "range": [
          -3.8953586524297865,
          3.0334340473657715
         ],
         "showgrid": false,
         "tickfont": {
          "color": "#4D5663"
         },
         "title": {
          "font": {
           "color": "#4D5663"
          },
          "text": ""
         },
         "type": "linear",
         "zerolinecolor": "#E1E5ED"
        },
        "yaxis5": {
         "anchor": "x5",
         "autorange": true,
         "domain": [
          0.535,
          0.7325
         ],
         "gridcolor": "#E1E5ED",
         "range": [
          -2.863348345108319,
          3.367351695957408
         ],
         "showgrid": false,
         "tickfont": {
          "color": "#4D5663"
         },
         "title": {
          "font": {
           "color": "#4D5663"
          },
          "text": ""
         },
         "type": "linear",
         "zerolinecolor": "#E1E5ED"
        },
        "yaxis6": {
         "anchor": "x6",
         "autorange": true,
         "domain": [
          0.535,
          0.7325
         ],
         "gridcolor": "#E1E5ED",
         "range": [
          0,
          20
         ],
         "showgrid": false,
         "tickfont": {
          "color": "#4D5663"
         },
         "title": {
          "font": {
           "color": "#4D5663"
          },
          "text": ""
         },
         "zerolinecolor": "#E1E5ED"
        },
        "yaxis7": {
         "anchor": "x7",
         "autorange": true,
         "domain": [
          0.535,
          0.7325
         ],
         "gridcolor": "#E1E5ED",
         "range": [
          -2.863348345108319,
          3.367351695957408
         ],
         "showgrid": false,
         "tickfont": {
          "color": "#4D5663"
         },
         "title": {
          "font": {
           "color": "#4D5663"
          },
          "text": ""
         },
         "type": "linear",
         "zerolinecolor": "#E1E5ED"
        },
        "yaxis8": {
         "anchor": "x8",
         "autorange": true,
         "domain": [
          0.535,
          0.7325
         ],
         "gridcolor": "#E1E5ED",
         "range": [
          -2.863348345108319,
          3.367351695957408
         ],
         "showgrid": false,
         "tickfont": {
          "color": "#4D5663"
         },
         "title": {
          "font": {
           "color": "#4D5663"
          },
          "text": ""
         },
         "type": "linear",
         "zerolinecolor": "#E1E5ED"
        },
        "yaxis9": {
         "anchor": "x9",
         "autorange": true,
         "domain": [
          0.2675,
          0.465
         ],
         "gridcolor": "#E1E5ED",
         "range": [
          -3.2908832668427372,
          3.3728421016943457
         ],
         "showgrid": false,
         "tickfont": {
          "color": "#4D5663"
         },
         "title": {
          "font": {
           "color": "#4D5663"
          },
          "text": ""
         },
         "type": "linear",
         "zerolinecolor": "#E1E5ED"
        }
       }
      },
      "image/png": "[encoded data removed]",
      "text/html": [
       "<div>                            <div id=\"7b99c650-d49d-40dd-b57f-02b941ded5af\" class=\"plotly-graph-div\" style=\"height:525px; width:100%;\"></div>            <script type=\"text/javascript\">                require([\"plotly\"], function(Plotly) {                    window.PLOTLYENV=window.PLOTLYENV || {};\n",
       "                    window.PLOTLYENV.BASE_URL='https://plot.ly';                                    if (document.getElementById(\"7b99c650-d49d-40dd-b57f-02b941ded5af\")) {                    Plotly.newPlot(                        \"7b99c650-d49d-40dd-b57f-02b941ded5af\",                        [{\"histfunc\":\"count\",\"histnorm\":\"\",\"marker\":{\"color\":\"rgba(255, 153, 51, 1.0)\",\"line\":{\"color\":\"#4D5663\",\"width\":1.3}},\"name\":\"A\",\"nbinsx\":10,\"opacity\":0.8,\"orientation\":\"v\",\"x\":[0.035022181398114326,-0.20699578689422937,0.6854331888468773,-0.017634584585994605,1.2326548344267971,0.34065432474775714,0.7773002295902933,-0.06997872593786636,-0.47636906657201195,-1.3766477215822774,0.819752827345072,-1.5452321937779605,0.08818589711433107,0.9108942662658028,1.338696296014096,1.4457195985132714,-0.9406486554716124,-1.1786445618785613,0.760819500366671,0.14363089189865821,0.36352131731403725,1.939490850177335,1.2827221379295641,0.2659705924395352,2.1022861676675078,0.3357327758747543,0.10982642446818502,-0.6601533538796417,-1.1788917371594856,-0.19866505024475622,-0.33989181419760983,-0.07920301792622243,0.26684262905887757,1.0321015850695954,1.9229774515090154,-0.5763569673797575,-0.26358893321716054,-0.25618266335802486,-2.2919708180752716,1.104097148796708,-0.02600364194132311,-1.095101046141559,-0.029118539313768906,1.9280070485549,-1.5432922562388673,-0.08321371943117364,1.5187272566145855,0.4798744518687685,0.3562930677714046,1.8141615813198444,-1.2673503123924812,0.1379162585324516,1.5135108640588242,0.874412100586506,0.8081922553650184,1.7796032668681032,-0.024209348076993324,1.2800191682325985,0.946016955044502,-0.8220045581906293,-1.3196011962233833,-0.09368876377110245,-0.797199476653399,0.90490703106049,0.5672187408026297,-2.1931844232264788,-0.08774270252501609,0.8082328201397463,-0.37927777264635365,1.0189126266479482,1.0251439851490376,-0.16844947310708883,0.8678054803706199,-0.2676319793512391,-0.13010469422392154,-1.5230520612624383,-2.2661210188178496,0.5318445742803599,-1.252028495567799,0.887648346819725,-0.3608778691561237,0.940889785325926,-0.16611565265285455,1.051049195530483,-1.3686490280995647,0.14930843710924366,-0.6816859849019006,-1.5728723119928214,-0.3552986595227806,1.433894952092094,-0.36093139332641583,-1.8644568904312535,-1.67807506257055,0.9957812718371379,0.7779266748932111,-2.964210772731523,-1.0242512013728293,-0.46273126934655584,-0.31229657089361146,1.0530824316296037],\"xaxis\":\"x\",\"yaxis\":\"y\",\"type\":\"histogram\"},{\"line\":{\"color\":\"rgba(128, 128, 128, 1.0)\",\"dash\":\"solid\",\"shape\":\"linear\",\"width\":1.3},\"marker\":{\"size\":2,\"symbol\":\"circle\"},\"mode\":\"markers\",\"name\":\"A\",\"text\":\"\",\"x\":[0.659720180163578,-0.48229899595694803,0.5373007059525975,-0.7373191864504871,-0.2713614321259175,-1.0148788854458133,-1.6506618535197757,-0.6017055467580952,-2.02601587123514,-1.3807102617749039,1.7399382317527918,-0.09874877348992062,-0.8792180646493626,1.2072080438550892,0.3159919111568729,-0.1015296721567684,0.4140762003008372,-0.6679384015837599,-0.025480348783363194,1.1216031104528963,1.7338834217736316,2.0686026898673036,1.829012230047314,-0.14480019582680498,-1.0819289156745375,0.4370574296560661,-1.184075056937153,0.9401983152312045,0.8786622501219662,0.6223109307311763,0.7961583442526416,1.18881108784417,1.524784553972861,-0.14870906176062323,1.1027756352574738,-0.49567095059648475,0.2145742478184529,0.15863895021588398,-0.04680656455633057,0.25593922654731066,1.0545293724285103,0.1297834275250637,-0.3591106342649614,-0.28269664103315273,-0.9250220431155934,0.026124160430505243,0.7059241472672645,-1.5048176230279364,-0.7811212335563891,0.6600351095260198,1.0034561121134895,-0.09210647222601136,-1.2459254518418386,2.530019222084229,-0.6538234465769,1.184039297184767,1.906305150020457,-1.2631028687188486,0.09305052314923473,0.6018184880401937,0.6697487197869597,0.7650827084196883,-0.7762011115441019,0.9028366593960605,0.09349415461588395,-1.1114686313755264,0.9460537444267767,1.3758654613623988,-0.9374840851237152,1.394740244115055,-0.01093652733112355,0.27858466678647564,-0.4110749068039371,0.5028160769673242,0.3397450960046779,-0.6425741877849417,-1.8408827842624031,-0.5824980898400304,-0.38541793441184724,-1.286637074652041,-0.05045795267498061,-0.586066314722846,-1.3701758166092917,-0.7895782892796999,0.27178130726156885,-1.136531698284585,0.45154585239758016,0.8716622522777244,-0.20945319517410885,-0.06376929242251737,0.43499390795135273,1.2977522751245083,-1.0981836076015816,-0.7763264270235338,1.140037465457631,-0.49249600266665744,-1.1225633257293033,0.7855823642974321,0.4449325396305709,1.338966475816106],\"xaxis\":\"x2\",\"y\":[0.035022181398114326,-0.20699578689422937,0.6854331888468773,-0.017634584585994605,1.2326548344267971,0.34065432474775714,0.7773002295902933,-0.06997872593786636,-0.47636906657201195,-1.3766477215822774,0.819752827345072,-1.5452321937779605,0.08818589711433107,0.9108942662658028,1.338696296014096,1.4457195985132714,-0.9406486554716124,-1.1786445618785613,0.760819500366671,0.14363089189865821,0.36352131731403725,1.939490850177335,1.2827221379295641,0.2659705924395352,2.1022861676675078,0.3357327758747543,0.10982642446818502,-0.6601533538796417,-1.1788917371594856,-0.19866505024475622,-0.33989181419760983,-0.07920301792622243,0.26684262905887757,1.0321015850695954,1.9229774515090154,-0.5763569673797575,-0.26358893321716054,-0.25618266335802486,-2.2919708180752716,1.104097148796708,-0.02600364194132311,-1.095101046141559,-0.029118539313768906,1.9280070485549,-1.5432922562388673,-0.08321371943117364,1.5187272566145855,0.4798744518687685,0.3562930677714046,1.8141615813198444,-1.2673503123924812,0.1379162585324516,1.5135108640588242,0.874412100586506,0.8081922553650184,1.7796032668681032,-0.024209348076993324,1.2800191682325985,0.946016955044502,-0.8220045581906293,-1.3196011962233833,-0.09368876377110245,-0.797199476653399,0.90490703106049,0.5672187408026297,-2.1931844232264788,-0.08774270252501609,0.8082328201397463,-0.37927777264635365,1.0189126266479482,1.0251439851490376,-0.16844947310708883,0.8678054803706199,-0.2676319793512391,-0.13010469422392154,-1.5230520612624383,-2.2661210188178496,0.5318445742803599,-1.252028495567799,0.887648346819725,-0.3608778691561237,0.940889785325926,-0.16611565265285455,1.051049195530483,-1.3686490280995647,0.14930843710924366,-0.6816859849019006,-1.5728723119928214,-0.3552986595227806,1.433894952092094,-0.36093139332641583,-1.8644568904312535,-1.67807506257055,0.9957812718371379,0.7779266748932111,-2.964210772731523,-1.0242512013728293,-0.46273126934655584,-0.31229657089361146,1.0530824316296037],\"yaxis\":\"y2\",\"type\":\"scatter\"},{\"line\":{\"color\":\"rgba(128, 128, 128, 1.0)\",\"dash\":\"solid\",\"shape\":\"linear\",\"width\":1.3},\"marker\":{\"size\":2,\"symbol\":\"circle\"},\"mode\":\"markers\",\"name\":\"A\",\"text\":\"\",\"x\":[-0.48342482847419954,-0.28917137909810087,0.10472817839319638,-0.3117041719124086,0.5474986505420716,0.36040555464410134,-2.3941833929601106,-0.5920466628675929,0.7030199564649418,-0.27907376596335065,-0.40355295361878935,-1.5788948840363446,2.4773161397200583,0.436574519139334,0.32532809517603817,0.5635250230272021,0.8442814716824333,-0.6794166582502248,-0.7666025757091693,1.0072984701608787,-0.5501928147375748,0.6877773474069846,-0.6505757792280401,0.7379231933386672,-1.781948344245377,-1.256089937990564,-0.48474996255921626,1.2714481931284987,0.40064144579818367,-0.6304491582154946,1.7891619378979553,0.7843308506814917,-0.5139382969616856,0.9588190681916949,-0.05846925797888498,-1.1573433562365338,-2.1931431037655726,0.18472195654751794,0.6723347397736454,-0.3552960384282929,1.8505722081067433,0.2120629040052719,0.7353646399453968,-0.8841948964965184,-1.0914681312767118,0.9839252399187555,1.679714369615582,0.030315933386810812,-0.7116682832700304,0.5314662077704951,-0.8196753783769472,0.22710804888544445,-0.9688296726515074,1.1700779277889357,0.705361600598505,-1.383011201696221,-0.8484094360452913,-0.20475815261979963,1.815935538182838,-0.3086927022715515,-2.39535730486845,0.21006405816980087,-0.6759974560899125,0.6523377749104889,-1.1468348471581247,1.1989541511995008,-0.0033747646544850843,-0.5868219951635674,-1.221537985575564,0.9554348986002157,1.7344192214628262,-0.9445639487491292,-0.8848465814729276,-0.3160547948940683,-1.1015428967704668,-0.5926167603968916,0.6004763358338866,1.592089400159695,1.3932834146377278,1.1170691058410587,1.0131043636743011,-1.5614706230061903,-0.5570242602914186,-1.9886321013304038,0.513519282261964,-0.6549909017480732,-1.3603950533383276,0.22474702826582948,1.1040396618089656,0.5755613052091758,0.07479005522211514,0.0822834649530619,0.8863534288849454,1.250181751081411,-0.8480531875440711,-0.5199890221203346,-1.2443328418151858,0.23300977083142083,1.4323843251265294,-0.5572666813934601],\"xaxis\":\"x3\",\"y\":[0.035022181398114326,-0.20699578689422937,0.6854331888468773,-0.017634584585994605,1.2326548344267971,0.34065432474775714,0.7773002295902933,-0.06997872593786636,-0.47636906657201195,-1.3766477215822774,0.819752827345072,-1.5452321937779605,0.08818589711433107,0.9108942662658028,1.338696296014096,1.4457195985132714,-0.9406486554716124,-1.1786445618785613,0.760819500366671,0.14363089189865821,0.36352131731403725,1.939490850177335,1.2827221379295641,0.2659705924395352,2.1022861676675078,0.3357327758747543,0.10982642446818502,-0.6601533538796417,-1.1788917371594856,-0.19866505024475622,-0.33989181419760983,-0.07920301792622243,0.26684262905887757,1.0321015850695954,1.9229774515090154,-0.5763569673797575,-0.26358893321716054,-0.25618266335802486,-2.2919708180752716,1.104097148796708,-0.02600364194132311,-1.095101046141559,-0.029118539313768906,1.9280070485549,-1.5432922562388673,-0.08321371943117364,1.5187272566145855,0.4798744518687685,0.3562930677714046,1.8141615813198444,-1.2673503123924812,0.1379162585324516,1.5135108640588242,0.874412100586506,0.8081922553650184,1.7796032668681032,-0.024209348076993324,1.2800191682325985,0.946016955044502,-0.8220045581906293,-1.3196011962233833,-0.09368876377110245,-0.797199476653399,0.90490703106049,0.5672187408026297,-2.1931844232264788,-0.08774270252501609,0.8082328201397463,-0.37927777264635365,1.0189126266479482,1.0251439851490376,-0.16844947310708883,0.8678054803706199,-0.2676319793512391,-0.13010469422392154,-1.5230520612624383,-2.2661210188178496,0.5318445742803599,-1.252028495567799,0.887648346819725,-0.3608778691561237,0.940889785325926,-0.16611565265285455,1.051049195530483,-1.3686490280995647,0.14930843710924366,-0.6816859849019006,-1.5728723119928214,-0.3552986595227806,1.433894952092094,-0.36093139332641583,-1.8644568904312535,-1.67807506257055,0.9957812718371379,0.7779266748932111,-2.964210772731523,-1.0242512013728293,-0.46273126934655584,-0.31229657089361146,1.0530824316296037],\"yaxis\":\"y3\",\"type\":\"scatter\"},{\"line\":{\"color\":\"rgba(128, 128, 128, 1.0)\",\"dash\":\"solid\",\"shape\":\"linear\",\"width\":1.3},\"marker\":{\"size\":2,\"symbol\":\"circle\"},\"mode\":\"markers\",\"name\":\"A\",\"text\":\"\",\"x\":[-1.5407101385873165,2.2350189816026877,-2.5296091387286146,-1.3406964354147048,0.7469359396070688,1.3204594331144752,0.7502229542329332,-0.8202597078777405,-1.124585586064663,-1.4189462849728556,-2.387182987455635,1.1639751805119178,-0.24915013621547472,-0.18598116239607645,1.0889099830652733,1.3105970403987126,0.1403319936872249,1.4057542022756464,-0.5603489188660344,1.3790739545637751,0.32799038986203666,-0.13731068069253702,0.3269549808631096,-0.27557383044476463,1.246132341717912,0.666583513866141,-0.7964542337965976,-0.01797760405488036,1.193777619869411,0.7875213141323713,0.8699406140382517,0.2552148575298687,0.6290599837360555,0.4896853885843202,0.4407983128765524,-0.02471269139903859,0.8476826198036227,1.118083553858438,0.7991197436806383,-0.48202834786195115,0.6426394676797172,1.0985779963823008,-0.4143744169064233,0.21384080939774647,0.10198382107133694,0.28820336875738867,0.3749150220519593,0.4559806297682848,0.6054664945717182,0.2081277443481054,-0.36821443223581374,1.5928874989105868,-0.35642450058245356,0.23867839838220622,-0.7962740928885006,1.3638862740579292,1.0333260200024355,1.0907066229078823,-0.20545170306848612,1.0503886821330373,0.9447368527245211,-1.0921844172647739,-0.4748574043391804,0.48158250570940736,-0.15752333713280076,1.1496699724275232,0.3856427000796223,-0.39626052766535075,-3.588592748924082e-05,0.33083026102500696,0.28371333317550784,-0.012444084240141666,-0.20044262234056112,1.8752376541320235,-0.8723124373701395,-1.0145800219442997,-0.3118308033387035,-0.2868715781532385,0.8195886692487346,-0.5761691492145123,0.9130136647866629,0.23737668905959847,0.7952455721990035,1.5851475909850774,-0.05022173896785526,0.5423471419904554,1.3594525704507507,1.5654454342340454,0.5028714381159953,-2.482547333925846,1.1799374335086863,-0.18410069959811573,0.13265646168646647,0.14056874951176104,-0.1316231315403834,-0.45813327330267084,-1.0327545584481983,-0.09184929865027391,0.9863631126172562,-0.15057351239305639],\"xaxis\":\"x4\",\"y\":[0.035022181398114326,-0.20699578689422937,0.6854331888468773,-0.017634584585994605,1.2326548344267971,0.34065432474775714,0.7773002295902933,-0.06997872593786636,-0.47636906657201195,-1.3766477215822774,0.819752827345072,-1.5452321937779605,0.08818589711433107,0.9108942662658028,1.338696296014096,1.4457195985132714,-0.9406486554716124,-1.1786445618785613,0.760819500366671,0.14363089189865821,0.36352131731403725,1.939490850177335,1.2827221379295641,0.2659705924395352,2.1022861676675078,0.3357327758747543,0.10982642446818502,-0.6601533538796417,-1.1788917371594856,-0.19866505024475622,-0.33989181419760983,-0.07920301792622243,0.26684262905887757,1.0321015850695954,1.9229774515090154,-0.5763569673797575,-0.26358893321716054,-0.25618266335802486,-2.2919708180752716,1.104097148796708,-0.02600364194132311,-1.095101046141559,-0.029118539313768906,1.9280070485549,-1.5432922562388673,-0.08321371943117364,1.5187272566145855,0.4798744518687685,0.3562930677714046,1.8141615813198444,-1.2673503123924812,0.1379162585324516,1.5135108640588242,0.874412100586506,0.8081922553650184,1.7796032668681032,-0.024209348076993324,1.2800191682325985,0.946016955044502,-0.8220045581906293,-1.3196011962233833,-0.09368876377110245,-0.797199476653399,0.90490703106049,0.5672187408026297,-2.1931844232264788,-0.08774270252501609,0.8082328201397463,-0.37927777264635365,1.0189126266479482,1.0251439851490376,-0.16844947310708883,0.8678054803706199,-0.2676319793512391,-0.13010469422392154,-1.5230520612624383,-2.2661210188178496,0.5318445742803599,-1.252028495567799,0.887648346819725,-0.3608778691561237,0.940889785325926,-0.16611565265285455,1.051049195530483,-1.3686490280995647,0.14930843710924366,-0.6816859849019006,-1.5728723119928214,-0.3552986595227806,1.433894952092094,-0.36093139332641583,-1.8644568904312535,-1.67807506257055,0.9957812718371379,0.7779266748932111,-2.964210772731523,-1.0242512013728293,-0.46273126934655584,-0.31229657089361146,1.0530824316296037],\"yaxis\":\"y4\",\"type\":\"scatter\"},{\"line\":{\"color\":\"rgba(128, 128, 128, 1.0)\",\"dash\":\"solid\",\"shape\":\"linear\",\"width\":1.3},\"marker\":{\"size\":2,\"symbol\":\"circle\"},\"mode\":\"markers\",\"name\":\"B\",\"text\":\"\",\"x\":[0.035022181398114326,-0.20699578689422937,0.6854331888468773,-0.017634584585994605,1.2326548344267971,0.34065432474775714,0.7773002295902933,-0.06997872593786636,-0.47636906657201195,-1.3766477215822774,0.819752827345072,-1.5452321937779605,0.08818589711433107,0.9108942662658028,1.338696296014096,1.4457195985132714,-0.9406486554716124,-1.1786445618785613,0.760819500366671,0.14363089189865821,0.36352131731403725,1.939490850177335,1.2827221379295641,0.2659705924395352,2.1022861676675078,0.3357327758747543,0.10982642446818502,-0.6601533538796417,-1.1788917371594856,-0.19866505024475622,-0.33989181419760983,-0.07920301792622243,0.26684262905887757,1.0321015850695954,1.9229774515090154,-0.5763569673797575,-0.26358893321716054,-0.25618266335802486,-2.2919708180752716,1.104097148796708,-0.02600364194132311,-1.095101046141559,-0.029118539313768906,1.9280070485549,-1.5432922562388673,-0.08321371943117364,1.5187272566145855,0.4798744518687685,0.3562930677714046,1.8141615813198444,-1.2673503123924812,0.1379162585324516,1.5135108640588242,0.874412100586506,0.8081922553650184,1.7796032668681032,-0.024209348076993324,1.2800191682325985,0.946016955044502,-0.8220045581906293,-1.3196011962233833,-0.09368876377110245,-0.797199476653399,0.90490703106049,0.5672187408026297,-2.1931844232264788,-0.08774270252501609,0.8082328201397463,-0.37927777264635365,1.0189126266479482,1.0251439851490376,-0.16844947310708883,0.8678054803706199,-0.2676319793512391,-0.13010469422392154,-1.5230520612624383,-2.2661210188178496,0.5318445742803599,-1.252028495567799,0.887648346819725,-0.3608778691561237,0.940889785325926,-0.16611565265285455,1.051049195530483,-1.3686490280995647,0.14930843710924366,-0.6816859849019006,-1.5728723119928214,-0.3552986595227806,1.433894952092094,-0.36093139332641583,-1.8644568904312535,-1.67807506257055,0.9957812718371379,0.7779266748932111,-2.964210772731523,-1.0242512013728293,-0.46273126934655584,-0.31229657089361146,1.0530824316296037],\"xaxis\":\"x5\",\"y\":[0.659720180163578,-0.48229899595694803,0.5373007059525975,-0.7373191864504871,-0.2713614321259175,-1.0148788854458133,-1.6506618535197757,-0.6017055467580952,-2.02601587123514,-1.3807102617749039,1.7399382317527918,-0.09874877348992062,-0.8792180646493626,1.2072080438550892,0.3159919111568729,-0.1015296721567684,0.4140762003008372,-0.6679384015837599,-0.025480348783363194,1.1216031104528963,1.7338834217736316,2.0686026898673036,1.829012230047314,-0.14480019582680498,-1.0819289156745375,0.4370574296560661,-1.184075056937153,0.9401983152312045,0.8786622501219662,0.6223109307311763,0.7961583442526416,1.18881108784417,1.524784553972861,-0.14870906176062323,1.1027756352574738,-0.49567095059648475,0.2145742478184529,0.15863895021588398,-0.04680656455633057,0.25593922654731066,1.0545293724285103,0.1297834275250637,-0.3591106342649614,-0.28269664103315273,-0.9250220431155934,0.026124160430505243,0.7059241472672645,-1.5048176230279364,-0.7811212335563891,0.6600351095260198,1.0034561121134895,-0.09210647222601136,-1.2459254518418386,2.530019222084229,-0.6538234465769,1.184039297184767,1.906305150020457,-1.2631028687188486,0.09305052314923473,0.6018184880401937,0.6697487197869597,0.7650827084196883,-0.7762011115441019,0.9028366593960605,0.09349415461588395,-1.1114686313755264,0.9460537444267767,1.3758654613623988,-0.9374840851237152,1.394740244115055,-0.01093652733112355,0.27858466678647564,-0.4110749068039371,0.5028160769673242,0.3397450960046779,-0.6425741877849417,-1.8408827842624031,-0.5824980898400304,-0.38541793441184724,-1.286637074652041,-0.05045795267498061,-0.586066314722846,-1.3701758166092917,-0.7895782892796999,0.27178130726156885,-1.136531698284585,0.45154585239758016,0.8716622522777244,-0.20945319517410885,-0.06376929242251737,0.43499390795135273,1.2977522751245083,-1.0981836076015816,-0.7763264270235338,1.140037465457631,-0.49249600266665744,-1.1225633257293033,0.7855823642974321,0.4449325396305709,1.338966475816106],\"yaxis\":\"y5\",\"type\":\"scatter\"},{\"histfunc\":\"count\",\"histnorm\":\"\",\"marker\":{\"color\":\"rgba(55, 128, 191, 1.0)\",\"line\":{\"color\":\"#4D5663\",\"width\":1.3}},\"name\":\"B\",\"nbinsx\":10,\"opacity\":0.8,\"orientation\":\"v\",\"x\":[0.659720180163578,-0.48229899595694803,0.5373007059525975,-0.7373191864504871,-0.2713614321259175,-1.0148788854458133,-1.6506618535197757,-0.6017055467580952,-2.02601587123514,-1.3807102617749039,1.7399382317527918,-0.09874877348992062,-0.8792180646493626,1.2072080438550892,0.3159919111568729,-0.1015296721567684,0.4140762003008372,-0.6679384015837599,-0.025480348783363194,1.1216031104528963,1.7338834217736316,2.0686026898673036,1.829012230047314,-0.14480019582680498,-1.0819289156745375,0.4370574296560661,-1.184075056937153,0.9401983152312045,0.8786622501219662,0.6223109307311763,0.7961583442526416,1.18881108784417,1.524784553972861,-0.14870906176062323,1.1027756352574738,-0.49567095059648475,0.2145742478184529,0.15863895021588398,-0.04680656455633057,0.25593922654731066,1.0545293724285103,0.1297834275250637,-0.3591106342649614,-0.28269664103315273,-0.9250220431155934,0.026124160430505243,0.7059241472672645,-1.5048176230279364,-0.7811212335563891,0.6600351095260198,1.0034561121134895,-0.09210647222601136,-1.2459254518418386,2.530019222084229,-0.6538234465769,1.184039297184767,1.906305150020457,-1.2631028687188486,0.09305052314923473,0.6018184880401937,0.6697487197869597,0.7650827084196883,-0.7762011115441019,0.9028366593960605,0.09349415461588395,-1.1114686313755264,0.9460537444267767,1.3758654613623988,-0.9374840851237152,1.394740244115055,-0.01093652733112355,0.27858466678647564,-0.4110749068039371,0.5028160769673242,0.3397450960046779,-0.6425741877849417,-1.8408827842624031,-0.5824980898400304,-0.38541793441184724,-1.286637074652041,-0.05045795267498061,-0.586066314722846,-1.3701758166092917,-0.7895782892796999,0.27178130726156885,-1.136531698284585,0.45154585239758016,0.8716622522777244,-0.20945319517410885,-0.06376929242251737,0.43499390795135273,1.2977522751245083,-1.0981836076015816,-0.7763264270235338,1.140037465457631,-0.49249600266665744,-1.1225633257293033,0.7855823642974321,0.4449325396305709,1.338966475816106],\"xaxis\":\"x6\",\"yaxis\":\"y6\",\"type\":\"histogram\"},{\"line\":{\"color\":\"rgba(128, 128, 128, 1.0)\",\"dash\":\"solid\",\"shape\":\"linear\",\"width\":1.3},\"marker\":{\"size\":2,\"symbol\":\"circle\"},\"mode\":\"markers\",\"name\":\"B\",\"text\":\"\",\"x\":[-0.48342482847419954,-0.28917137909810087,0.10472817839319638,-0.3117041719124086,0.5474986505420716,0.36040555464410134,-2.3941833929601106,-0.5920466628675929,0.7030199564649418,-0.27907376596335065,-0.40355295361878935,-1.5788948840363446,2.4773161397200583,0.436574519139334,0.32532809517603817,0.5635250230272021,0.8442814716824333,-0.6794166582502248,-0.7666025757091693,1.0072984701608787,-0.5501928147375748,0.6877773474069846,-0.6505757792280401,0.7379231933386672,-1.781948344245377,-1.256089937990564,-0.48474996255921626,1.2714481931284987,0.40064144579818367,-0.6304491582154946,1.7891619378979553,0.7843308506814917,-0.5139382969616856,0.9588190681916949,-0.05846925797888498,-1.1573433562365338,-2.1931431037655726,0.18472195654751794,0.6723347397736454,-0.3552960384282929,1.8505722081067433,0.2120629040052719,0.7353646399453968,-0.8841948964965184,-1.0914681312767118,0.9839252399187555,1.679714369615582,0.030315933386810812,-0.7116682832700304,0.5314662077704951,-0.8196753783769472,0.22710804888544445,-0.9688296726515074,1.1700779277889357,0.705361600598505,-1.383011201696221,-0.8484094360452913,-0.20475815261979963,1.815935538182838,-0.3086927022715515,-2.39535730486845,0.21006405816980087,-0.6759974560899125,0.6523377749104889,-1.1468348471581247,1.1989541511995008,-0.0033747646544850843,-0.5868219951635674,-1.221537985575564,0.9554348986002157,1.7344192214628262,-0.9445639487491292,-0.8848465814729276,-0.3160547948940683,-1.1015428967704668,-0.5926167603968916,0.6004763358338866,1.592089400159695,1.3932834146377278,1.1170691058410587,1.0131043636743011,-1.5614706230061903,-0.5570242602914186,-1.9886321013304038,0.513519282261964,-0.6549909017480732,-1.3603950533383276,0.22474702826582948,1.1040396618089656,0.5755613052091758,0.07479005522211514,0.0822834649530619,0.8863534288849454,1.250181751081411,-0.8480531875440711,-0.5199890221203346,-1.2443328418151858,0.23300977083142083,1.4323843251265294,-0.5572666813934601],\"xaxis\":\"x7\",\"y\":[0.659720180163578,-0.48229899595694803,0.5373007059525975,-0.7373191864504871,-0.2713614321259175,-1.0148788854458133,-1.6506618535197757,-0.6017055467580952,-2.02601587123514,-1.3807102617749039,1.7399382317527918,-0.09874877348992062,-0.8792180646493626,1.2072080438550892,0.3159919111568729,-0.1015296721567684,0.4140762003008372,-0.6679384015837599,-0.025480348783363194,1.1216031104528963,1.7338834217736316,2.0686026898673036,1.829012230047314,-0.14480019582680498,-1.0819289156745375,0.4370574296560661,-1.184075056937153,0.9401983152312045,0.8786622501219662,0.6223109307311763,0.7961583442526416,1.18881108784417,1.524784553972861,-0.14870906176062323,1.1027756352574738,-0.49567095059648475,0.2145742478184529,0.15863895021588398,-0.04680656455633057,0.25593922654731066,1.0545293724285103,0.1297834275250637,-0.3591106342649614,-0.28269664103315273,-0.9250220431155934,0.026124160430505243,0.7059241472672645,-1.5048176230279364,-0.7811212335563891,0.6600351095260198,1.0034561121134895,-0.09210647222601136,-1.2459254518418386,2.530019222084229,-0.6538234465769,1.184039297184767,1.906305150020457,-1.2631028687188486,0.09305052314923473,0.6018184880401937,0.6697487197869597,0.7650827084196883,-0.7762011115441019,0.9028366593960605,0.09349415461588395,-1.1114686313755264,0.9460537444267767,1.3758654613623988,-0.9374840851237152,1.394740244115055,-0.01093652733112355,0.27858466678647564,-0.4110749068039371,0.5028160769673242,0.3397450960046779,-0.6425741877849417,-1.8408827842624031,-0.5824980898400304,-0.38541793441184724,-1.286637074652041,-0.05045795267498061,-0.586066314722846,-1.3701758166092917,-0.7895782892796999,0.27178130726156885,-1.136531698284585,0.45154585239758016,0.8716622522777244,-0.20945319517410885,-0.06376929242251737,0.43499390795135273,1.2977522751245083,-1.0981836076015816,-0.7763264270235338,1.140037465457631,-0.49249600266665744,-1.1225633257293033,0.7855823642974321,0.4449325396305709,1.338966475816106],\"yaxis\":\"y7\",\"type\":\"scatter\"},{\"line\":{\"color\":\"rgba(128, 128, 128, 1.0)\",\"dash\":\"solid\",\"shape\":\"linear\",\"width\":1.3},\"marker\":{\"size\":2,\"symbol\":\"circle\"},\"mode\":\"markers\",\"name\":\"B\",\"text\":\"\",\"x\":[-1.5407101385873165,2.2350189816026877,-2.5296091387286146,-1.3406964354147048,0.7469359396070688,1.3204594331144752,0.7502229542329332,-0.8202597078777405,-1.124585586064663,-1.4189462849728556,-2.387182987455635,1.1639751805119178,-0.24915013621547472,-0.18598116239607645,1.0889099830652733,1.3105970403987126,0.1403319936872249,1.4057542022756464,-0.5603489188660344,1.3790739545637751,0.32799038986203666,-0.13731068069253702,0.3269549808631096,-0.27557383044476463,1.246132341717912,0.666583513866141,-0.7964542337965976,-0.01797760405488036,1.193777619869411,0.7875213141323713,0.8699406140382517,0.2552148575298687,0.6290599837360555,0.4896853885843202,0.4407983128765524,-0.02471269139903859,0.8476826198036227,1.118083553858438,0.7991197436806383,-0.48202834786195115,0.6426394676797172,1.0985779963823008,-0.4143744169064233,0.21384080939774647,0.10198382107133694,0.28820336875738867,0.3749150220519593,0.4559806297682848,0.6054664945717182,0.2081277443481054,-0.36821443223581374,1.5928874989105868,-0.35642450058245356,0.23867839838220622,-0.7962740928885006,1.3638862740579292,1.0333260200024355,1.0907066229078823,-0.20545170306848612,1.0503886821330373,0.9447368527245211,-1.0921844172647739,-0.4748574043391804,0.48158250570940736,-0.15752333713280076,1.1496699724275232,0.3856427000796223,-0.39626052766535075,-3.588592748924082e-05,0.33083026102500696,0.28371333317550784,-0.012444084240141666,-0.20044262234056112,1.8752376541320235,-0.8723124373701395,-1.0145800219442997,-0.3118308033387035,-0.2868715781532385,0.8195886692487346,-0.5761691492145123,0.9130136647866629,0.23737668905959847,0.7952455721990035,1.5851475909850774,-0.05022173896785526,0.5423471419904554,1.3594525704507507,1.5654454342340454,0.5028714381159953,-2.482547333925846,1.1799374335086863,-0.18410069959811573,0.13265646168646647,0.14056874951176104,-0.1316231315403834,-0.45813327330267084,-1.0327545584481983,-0.09184929865027391,0.9863631126172562,-0.15057351239305639],\"xaxis\":\"x8\",\"y\":[0.659720180163578,-0.48229899595694803,0.5373007059525975,-0.7373191864504871,-0.2713614321259175,-1.0148788854458133,-1.6506618535197757,-0.6017055467580952,-2.02601587123514,-1.3807102617749039,1.7399382317527918,-0.09874877348992062,-0.8792180646493626,1.2072080438550892,0.3159919111568729,-0.1015296721567684,0.4140762003008372,-0.6679384015837599,-0.025480348783363194,1.1216031104528963,1.7338834217736316,2.0686026898673036,1.829012230047314,-0.14480019582680498,-1.0819289156745375,0.4370574296560661,-1.184075056937153,0.9401983152312045,0.8786622501219662,0.6223109307311763,0.7961583442526416,1.18881108784417,1.524784553972861,-0.14870906176062323,1.1027756352574738,-0.49567095059648475,0.2145742478184529,0.15863895021588398,-0.04680656455633057,0.25593922654731066,1.0545293724285103,0.1297834275250637,-0.3591106342649614,-0.28269664103315273,-0.9250220431155934,0.026124160430505243,0.7059241472672645,-1.5048176230279364,-0.7811212335563891,0.6600351095260198,1.0034561121134895,-0.09210647222601136,-1.2459254518418386,2.530019222084229,-0.6538234465769,1.184039297184767,1.906305150020457,-1.2631028687188486,0.09305052314923473,0.6018184880401937,0.6697487197869597,0.7650827084196883,-0.7762011115441019,0.9028366593960605,0.09349415461588395,-1.1114686313755264,0.9460537444267767,1.3758654613623988,-0.9374840851237152,1.394740244115055,-0.01093652733112355,0.27858466678647564,-0.4110749068039371,0.5028160769673242,0.3397450960046779,-0.6425741877849417,-1.8408827842624031,-0.5824980898400304,-0.38541793441184724,-1.286637074652041,-0.05045795267498061,-0.586066314722846,-1.3701758166092917,-0.7895782892796999,0.27178130726156885,-1.136531698284585,0.45154585239758016,0.8716622522777244,-0.20945319517410885,-0.06376929242251737,0.43499390795135273,1.2977522751245083,-1.0981836076015816,-0.7763264270235338,1.140037465457631,-0.49249600266665744,-1.1225633257293033,0.7855823642974321,0.4449325396305709,1.338966475816106],\"yaxis\":\"y8\",\"type\":\"scatter\"},{\"line\":{\"color\":\"rgba(128, 128, 128, 1.0)\",\"dash\":\"solid\",\"shape\":\"linear\",\"width\":1.3},\"marker\":{\"size\":2,\"symbol\":\"circle\"},\"mode\":\"markers\",\"name\":\"C\",\"text\":\"\",\"x\":[0.035022181398114326,-0.20699578689422937,0.6854331888468773,-0.017634584585994605,1.2326548344267971,0.34065432474775714,0.7773002295902933,-0.06997872593786636,-0.47636906657201195,-1.3766477215822774,0.819752827345072,-1.5452321937779605,0.08818589711433107,0.9108942662658028,1.338696296014096,1.4457195985132714,-0.9406486554716124,-1.1786445618785613,0.760819500366671,0.14363089189865821,0.36352131731403725,1.939490850177335,1.2827221379295641,0.2659705924395352,2.1022861676675078,0.3357327758747543,0.10982642446818502,-0.6601533538796417,-1.1788917371594856,-0.19866505024475622,-0.33989181419760983,-0.07920301792622243,0.26684262905887757,1.0321015850695954,1.9229774515090154,-0.5763569673797575,-0.26358893321716054,-0.25618266335802486,-2.2919708180752716,1.104097148796708,-0.02600364194132311,-1.095101046141559,-0.029118539313768906,1.9280070485549,-1.5432922562388673,-0.08321371943117364,1.5187272566145855,0.4798744518687685,0.3562930677714046,1.8141615813198444,-1.2673503123924812,0.1379162585324516,1.5135108640588242,0.874412100586506,0.8081922553650184,1.7796032668681032,-0.024209348076993324,1.2800191682325985,0.946016955044502,-0.8220045581906293,-1.3196011962233833,-0.09368876377110245,-0.797199476653399,0.90490703106049,0.5672187408026297,-2.1931844232264788,-0.08774270252501609,0.8082328201397463,-0.37927777264635365,1.0189126266479482,1.0251439851490376,-0.16844947310708883,0.8678054803706199,-0.2676319793512391,-0.13010469422392154,-1.5230520612624383,-2.2661210188178496,0.5318445742803599,-1.252028495567799,0.887648346819725,-0.3608778691561237,0.940889785325926,-0.16611565265285455,1.051049195530483,-1.3686490280995647,0.14930843710924366,-0.6816859849019006,-1.5728723119928214,-0.3552986595227806,1.433894952092094,-0.36093139332641583,-1.8644568904312535,-1.67807506257055,0.9957812718371379,0.7779266748932111,-2.964210772731523,-1.0242512013728293,-0.46273126934655584,-0.31229657089361146,1.0530824316296037],\"xaxis\":\"x9\",\"y\":[-0.48342482847419954,-0.28917137909810087,0.10472817839319638,-0.3117041719124086,0.5474986505420716,0.36040555464410134,-2.3941833929601106,-0.5920466628675929,0.7030199564649418,-0.27907376596335065,-0.40355295361878935,-1.5788948840363446,2.4773161397200583,0.436574519139334,0.32532809517603817,0.5635250230272021,0.8442814716824333,-0.6794166582502248,-0.7666025757091693,1.0072984701608787,-0.5501928147375748,0.6877773474069846,-0.6505757792280401,0.7379231933386672,-1.781948344245377,-1.256089937990564,-0.48474996255921626,1.2714481931284987,0.40064144579818367,-0.6304491582154946,1.7891619378979553,0.7843308506814917,-0.5139382969616856,0.9588190681916949,-0.05846925797888498,-1.1573433562365338,-2.1931431037655726,0.18472195654751794,0.6723347397736454,-0.3552960384282929,1.8505722081067433,0.2120629040052719,0.7353646399453968,-0.8841948964965184,-1.0914681312767118,0.9839252399187555,1.679714369615582,0.030315933386810812,-0.7116682832700304,0.5314662077704951,-0.8196753783769472,0.22710804888544445,-0.9688296726515074,1.1700779277889357,0.705361600598505,-1.383011201696221,-0.8484094360452913,-0.20475815261979963,1.815935538182838,-0.3086927022715515,-2.39535730486845,0.21006405816980087,-0.6759974560899125,0.6523377749104889,-1.1468348471581247,1.1989541511995008,-0.0033747646544850843,-0.5868219951635674,-1.221537985575564,0.9554348986002157,1.7344192214628262,-0.9445639487491292,-0.8848465814729276,-0.3160547948940683,-1.1015428967704668,-0.5926167603968916,0.6004763358338866,1.592089400159695,1.3932834146377278,1.1170691058410587,1.0131043636743011,-1.5614706230061903,-0.5570242602914186,-1.9886321013304038,0.513519282261964,-0.6549909017480732,-1.3603950533383276,0.22474702826582948,1.1040396618089656,0.5755613052091758,0.07479005522211514,0.0822834649530619,0.8863534288849454,1.250181751081411,-0.8480531875440711,-0.5199890221203346,-1.2443328418151858,0.23300977083142083,1.4323843251265294,-0.5572666813934601],\"yaxis\":\"y9\",\"type\":\"scatter\"},{\"line\":{\"color\":\"rgba(128, 128, 128, 1.0)\",\"dash\":\"solid\",\"shape\":\"linear\",\"width\":1.3},\"marker\":{\"size\":2,\"symbol\":\"circle\"},\"mode\":\"markers\",\"name\":\"C\",\"text\":\"\",\"x\":[0.659720180163578,-0.48229899595694803,0.5373007059525975,-0.7373191864504871,-0.2713614321259175,-1.0148788854458133,-1.6506618535197757,-0.6017055467580952,-2.02601587123514,-1.3807102617749039,1.7399382317527918,-0.09874877348992062,-0.8792180646493626,1.2072080438550892,0.3159919111568729,-0.1015296721567684,0.4140762003008372,-0.6679384015837599,-0.025480348783363194,1.1216031104528963,1.7338834217736316,2.0686026898673036,1.829012230047314,-0.14480019582680498,-1.0819289156745375,0.4370574296560661,-1.184075056937153,0.9401983152312045,0.8786622501219662,0.6223109307311763,0.7961583442526416,1.18881108784417,1.524784553972861,-0.14870906176062323,1.1027756352574738,-0.49567095059648475,0.2145742478184529,0.15863895021588398,-0.04680656455633057,0.25593922654731066,1.0545293724285103,0.1297834275250637,-0.3591106342649614,-0.28269664103315273,-0.9250220431155934,0.026124160430505243,0.7059241472672645,-1.5048176230279364,-0.7811212335563891,0.6600351095260198,1.0034561121134895,-0.09210647222601136,-1.2459254518418386,2.530019222084229,-0.6538234465769,1.184039297184767,1.906305150020457,-1.2631028687188486,0.09305052314923473,0.6018184880401937,0.6697487197869597,0.7650827084196883,-0.7762011115441019,0.9028366593960605,0.09349415461588395,-1.1114686313755264,0.9460537444267767,1.3758654613623988,-0.9374840851237152,1.394740244115055,-0.01093652733112355,0.27858466678647564,-0.4110749068039371,0.5028160769673242,0.3397450960046779,-0.6425741877849417,-1.8408827842624031,-0.5824980898400304,-0.38541793441184724,-1.286637074652041,-0.05045795267498061,-0.586066314722846,-1.3701758166092917,-0.7895782892796999,0.27178130726156885,-1.136531698284585,0.45154585239758016,0.8716622522777244,-0.20945319517410885,-0.06376929242251737,0.43499390795135273,1.2977522751245083,-1.0981836076015816,-0.7763264270235338,1.140037465457631,-0.49249600266665744,-1.1225633257293033,0.7855823642974321,0.4449325396305709,1.338966475816106],\"xaxis\":\"x10\",\"y\":[-0.48342482847419954,-0.28917137909810087,0.10472817839319638,-0.3117041719124086,0.5474986505420716,0.36040555464410134,-2.3941833929601106,-0.5920466628675929,0.7030199564649418,-0.27907376596335065,-0.40355295361878935,-1.5788948840363446,2.4773161397200583,0.436574519139334,0.32532809517603817,0.5635250230272021,0.8442814716824333,-0.6794166582502248,-0.7666025757091693,1.0072984701608787,-0.5501928147375748,0.6877773474069846,-0.6505757792280401,0.7379231933386672,-1.781948344245377,-1.256089937990564,-0.48474996255921626,1.2714481931284987,0.40064144579818367,-0.6304491582154946,1.7891619378979553,0.7843308506814917,-0.5139382969616856,0.9588190681916949,-0.05846925797888498,-1.1573433562365338,-2.1931431037655726,0.18472195654751794,0.6723347397736454,-0.3552960384282929,1.8505722081067433,0.2120629040052719,0.7353646399453968,-0.8841948964965184,-1.0914681312767118,0.9839252399187555,1.679714369615582,0.030315933386810812,-0.7116682832700304,0.5314662077704951,-0.8196753783769472,0.22710804888544445,-0.9688296726515074,1.1700779277889357,0.705361600598505,-1.383011201696221,-0.8484094360452913,-0.20475815261979963,1.815935538182838,-0.3086927022715515,-2.39535730486845,0.21006405816980087,-0.6759974560899125,0.6523377749104889,-1.1468348471581247,1.1989541511995008,-0.0033747646544850843,-0.5868219951635674,-1.221537985575564,0.9554348986002157,1.7344192214628262,-0.9445639487491292,-0.8848465814729276,-0.3160547948940683,-1.1015428967704668,-0.5926167603968916,0.6004763358338866,1.592089400159695,1.3932834146377278,1.1170691058410587,1.0131043636743011,-1.5614706230061903,-0.5570242602914186,-1.9886321013304038,0.513519282261964,-0.6549909017480732,-1.3603950533383276,0.22474702826582948,1.1040396618089656,0.5755613052091758,0.07479005522211514,0.0822834649530619,0.8863534288849454,1.250181751081411,-0.8480531875440711,-0.5199890221203346,-1.2443328418151858,0.23300977083142083,1.4323843251265294,-0.5572666813934601],\"yaxis\":\"y10\",\"type\":\"scatter\"},{\"histfunc\":\"count\",\"histnorm\":\"\",\"marker\":{\"color\":\"rgba(50, 171, 96, 1.0)\",\"line\":{\"color\":\"#4D5663\",\"width\":1.3}},\"name\":\"C\",\"nbinsx\":10,\"opacity\":0.8,\"orientation\":\"v\",\"x\":[-0.48342482847419954,-0.28917137909810087,0.10472817839319638,-0.3117041719124086,0.5474986505420716,0.36040555464410134,-2.3941833929601106,-0.5920466628675929,0.7030199564649418,-0.27907376596335065,-0.40355295361878935,-1.5788948840363446,2.4773161397200583,0.436574519139334,0.32532809517603817,0.5635250230272021,0.8442814716824333,-0.6794166582502248,-0.7666025757091693,1.0072984701608787,-0.5501928147375748,0.6877773474069846,-0.6505757792280401,0.7379231933386672,-1.781948344245377,-1.256089937990564,-0.48474996255921626,1.2714481931284987,0.40064144579818367,-0.6304491582154946,1.7891619378979553,0.7843308506814917,-0.5139382969616856,0.9588190681916949,-0.05846925797888498,-1.1573433562365338,-2.1931431037655726,0.18472195654751794,0.6723347397736454,-0.3552960384282929,1.8505722081067433,0.2120629040052719,0.7353646399453968,-0.8841948964965184,-1.0914681312767118,0.9839252399187555,1.679714369615582,0.030315933386810812,-0.7116682832700304,0.5314662077704951,-0.8196753783769472,0.22710804888544445,-0.9688296726515074,1.1700779277889357,0.705361600598505,-1.383011201696221,-0.8484094360452913,-0.20475815261979963,1.815935538182838,-0.3086927022715515,-2.39535730486845,0.21006405816980087,-0.6759974560899125,0.6523377749104889,-1.1468348471581247,1.1989541511995008,-0.0033747646544850843,-0.5868219951635674,-1.221537985575564,0.9554348986002157,1.7344192214628262,-0.9445639487491292,-0.8848465814729276,-0.3160547948940683,-1.1015428967704668,-0.5926167603968916,0.6004763358338866,1.592089400159695,1.3932834146377278,1.1170691058410587,1.0131043636743011,-1.5614706230061903,-0.5570242602914186,-1.9886321013304038,0.513519282261964,-0.6549909017480732,-1.3603950533383276,0.22474702826582948,1.1040396618089656,0.5755613052091758,0.07479005522211514,0.0822834649530619,0.8863534288849454,1.250181751081411,-0.8480531875440711,-0.5199890221203346,-1.2443328418151858,0.23300977083142083,1.4323843251265294,-0.5572666813934601],\"xaxis\":\"x11\",\"yaxis\":\"y11\",\"type\":\"histogram\"},{\"line\":{\"color\":\"rgba(128, 128, 128, 1.0)\",\"dash\":\"solid\",\"shape\":\"linear\",\"width\":1.3},\"marker\":{\"size\":2,\"symbol\":\"circle\"},\"mode\":\"markers\",\"name\":\"C\",\"text\":\"\",\"x\":[-1.5407101385873165,2.2350189816026877,-2.5296091387286146,-1.3406964354147048,0.7469359396070688,1.3204594331144752,0.7502229542329332,-0.8202597078777405,-1.124585586064663,-1.4189462849728556,-2.387182987455635,1.1639751805119178,-0.24915013621547472,-0.18598116239607645,1.0889099830652733,1.3105970403987126,0.1403319936872249,1.4057542022756464,-0.5603489188660344,1.3790739545637751,0.32799038986203666,-0.13731068069253702,0.3269549808631096,-0.27557383044476463,1.246132341717912,0.666583513866141,-0.7964542337965976,-0.01797760405488036,1.193777619869411,0.7875213141323713,0.8699406140382517,0.2552148575298687,0.6290599837360555,0.4896853885843202,0.4407983128765524,-0.02471269139903859,0.8476826198036227,1.118083553858438,0.7991197436806383,-0.48202834786195115,0.6426394676797172,1.0985779963823008,-0.4143744169064233,0.21384080939774647,0.10198382107133694,0.28820336875738867,0.3749150220519593,0.4559806297682848,0.6054664945717182,0.2081277443481054,-0.36821443223581374,1.5928874989105868,-0.35642450058245356,0.23867839838220622,-0.7962740928885006,1.3638862740579292,1.0333260200024355,1.0907066229078823,-0.20545170306848612,1.0503886821330373,0.9447368527245211,-1.0921844172647739,-0.4748574043391804,0.48158250570940736,-0.15752333713280076,1.1496699724275232,0.3856427000796223,-0.39626052766535075,-3.588592748924082e-05,0.33083026102500696,0.28371333317550784,-0.012444084240141666,-0.20044262234056112,1.8752376541320235,-0.8723124373701395,-1.0145800219442997,-0.3118308033387035,-0.2868715781532385,0.8195886692487346,-0.5761691492145123,0.9130136647866629,0.23737668905959847,0.7952455721990035,1.5851475909850774,-0.05022173896785526,0.5423471419904554,1.3594525704507507,1.5654454342340454,0.5028714381159953,-2.482547333925846,1.1799374335086863,-0.18410069959811573,0.13265646168646647,0.14056874951176104,-0.1316231315403834,-0.45813327330267084,-1.0327545584481983,-0.09184929865027391,0.9863631126172562,-0.15057351239305639],\"xaxis\":\"x12\",\"y\":[-0.48342482847419954,-0.28917137909810087,0.10472817839319638,-0.3117041719124086,0.5474986505420716,0.36040555464410134,-2.3941833929601106,-0.5920466628675929,0.7030199564649418,-0.27907376596335065,-0.40355295361878935,-1.5788948840363446,2.4773161397200583,0.436574519139334,0.32532809517603817,0.5635250230272021,0.8442814716824333,-0.6794166582502248,-0.7666025757091693,1.0072984701608787,-0.5501928147375748,0.6877773474069846,-0.6505757792280401,0.7379231933386672,-1.781948344245377,-1.256089937990564,-0.48474996255921626,1.2714481931284987,0.40064144579818367,-0.6304491582154946,1.7891619378979553,0.7843308506814917,-0.5139382969616856,0.9588190681916949,-0.05846925797888498,-1.1573433562365338,-2.1931431037655726,0.18472195654751794,0.6723347397736454,-0.3552960384282929,1.8505722081067433,0.2120629040052719,0.7353646399453968,-0.8841948964965184,-1.0914681312767118,0.9839252399187555,1.679714369615582,0.030315933386810812,-0.7116682832700304,0.5314662077704951,-0.8196753783769472,0.22710804888544445,-0.9688296726515074,1.1700779277889357,0.705361600598505,-1.383011201696221,-0.8484094360452913,-0.20475815261979963,1.815935538182838,-0.3086927022715515,-2.39535730486845,0.21006405816980087,-0.6759974560899125,0.6523377749104889,-1.1468348471581247,1.1989541511995008,-0.0033747646544850843,-0.5868219951635674,-1.221537985575564,0.9554348986002157,1.7344192214628262,-0.9445639487491292,-0.8848465814729276,-0.3160547948940683,-1.1015428967704668,-0.5926167603968916,0.6004763358338866,1.592089400159695,1.3932834146377278,1.1170691058410587,1.0131043636743011,-1.5614706230061903,-0.5570242602914186,-1.9886321013304038,0.513519282261964,-0.6549909017480732,-1.3603950533383276,0.22474702826582948,1.1040396618089656,0.5755613052091758,0.07479005522211514,0.0822834649530619,0.8863534288849454,1.250181751081411,-0.8480531875440711,-0.5199890221203346,-1.2443328418151858,0.23300977083142083,1.4323843251265294,-0.5572666813934601],\"yaxis\":\"y12\",\"type\":\"scatter\"},{\"line\":{\"color\":\"rgba(128, 128, 128, 1.0)\",\"dash\":\"solid\",\"shape\":\"linear\",\"width\":1.3},\"marker\":{\"size\":2,\"symbol\":\"circle\"},\"mode\":\"markers\",\"name\":\"D\",\"text\":\"\",\"x\":[0.035022181398114326,-0.20699578689422937,0.6854331888468773,-0.017634584585994605,1.2326548344267971,0.34065432474775714,0.7773002295902933,-0.06997872593786636,-0.47636906657201195,-1.3766477215822774,0.819752827345072,-1.5452321937779605,0.08818589711433107,0.9108942662658028,1.338696296014096,1.4457195985132714,-0.9406486554716124,-1.1786445618785613,0.760819500366671,0.14363089189865821,0.36352131731403725,1.939490850177335,1.2827221379295641,0.2659705924395352,2.1022861676675078,0.3357327758747543,0.10982642446818502,-0.6601533538796417,-1.1788917371594856,-0.19866505024475622,-0.33989181419760983,-0.07920301792622243,0.26684262905887757,1.0321015850695954,1.9229774515090154,-0.5763569673797575,-0.26358893321716054,-0.25618266335802486,-2.2919708180752716,1.104097148796708,-0.02600364194132311,-1.095101046141559,-0.029118539313768906,1.9280070485549,-1.5432922562388673,-0.08321371943117364,1.5187272566145855,0.4798744518687685,0.3562930677714046,1.8141615813198444,-1.2673503123924812,0.1379162585324516,1.5135108640588242,0.874412100586506,0.8081922553650184,1.7796032668681032,-0.024209348076993324,1.2800191682325985,0.946016955044502,-0.8220045581906293,-1.3196011962233833,-0.09368876377110245,-0.797199476653399,0.90490703106049,0.5672187408026297,-2.1931844232264788,-0.08774270252501609,0.8082328201397463,-0.37927777264635365,1.0189126266479482,1.0251439851490376,-0.16844947310708883,0.8678054803706199,-0.2676319793512391,-0.13010469422392154,-1.5230520612624383,-2.2661210188178496,0.5318445742803599,-1.252028495567799,0.887648346819725,-0.3608778691561237,0.940889785325926,-0.16611565265285455,1.051049195530483,-1.3686490280995647,0.14930843710924366,-0.6816859849019006,-1.5728723119928214,-0.3552986595227806,1.433894952092094,-0.36093139332641583,-1.8644568904312535,-1.67807506257055,0.9957812718371379,0.7779266748932111,-2.964210772731523,-1.0242512013728293,-0.46273126934655584,-0.31229657089361146,1.0530824316296037],\"xaxis\":\"x13\",\"y\":[-1.5407101385873165,2.2350189816026877,-2.5296091387286146,-1.3406964354147048,0.7469359396070688,1.3204594331144752,0.7502229542329332,-0.8202597078777405,-1.124585586064663,-1.4189462849728556,-2.387182987455635,1.1639751805119178,-0.24915013621547472,-0.18598116239607645,1.0889099830652733,1.3105970403987126,0.1403319936872249,1.4057542022756464,-0.5603489188660344,1.3790739545637751,0.32799038986203666,-0.13731068069253702,0.3269549808631096,-0.27557383044476463,1.246132341717912,0.666583513866141,-0.7964542337965976,-0.01797760405488036,1.193777619869411,0.7875213141323713,0.8699406140382517,0.2552148575298687,0.6290599837360555,0.4896853885843202,0.4407983128765524,-0.02471269139903859,0.8476826198036227,1.118083553858438,0.7991197436806383,-0.48202834786195115,0.6426394676797172,1.0985779963823008,-0.4143744169064233,0.21384080939774647,0.10198382107133694,0.28820336875738867,0.3749150220519593,0.4559806297682848,0.6054664945717182,0.2081277443481054,-0.36821443223581374,1.5928874989105868,-0.35642450058245356,0.23867839838220622,-0.7962740928885006,1.3638862740579292,1.0333260200024355,1.0907066229078823,-0.20545170306848612,1.0503886821330373,0.9447368527245211,-1.0921844172647739,-0.4748574043391804,0.48158250570940736,-0.15752333713280076,1.1496699724275232,0.3856427000796223,-0.39626052766535075,-3.588592748924082e-05,0.33083026102500696,0.28371333317550784,-0.012444084240141666,-0.20044262234056112,1.8752376541320235,-0.8723124373701395,-1.0145800219442997,-0.3118308033387035,-0.2868715781532385,0.8195886692487346,-0.5761691492145123,0.9130136647866629,0.23737668905959847,0.7952455721990035,1.5851475909850774,-0.05022173896785526,0.5423471419904554,1.3594525704507507,1.5654454342340454,0.5028714381159953,-2.482547333925846,1.1799374335086863,-0.18410069959811573,0.13265646168646647,0.14056874951176104,-0.1316231315403834,-0.45813327330267084,-1.0327545584481983,-0.09184929865027391,0.9863631126172562,-0.15057351239305639],\"yaxis\":\"y13\",\"type\":\"scatter\"},{\"line\":{\"color\":\"rgba(128, 128, 128, 1.0)\",\"dash\":\"solid\",\"shape\":\"linear\",\"width\":1.3},\"marker\":{\"size\":2,\"symbol\":\"circle\"},\"mode\":\"markers\",\"name\":\"D\",\"text\":\"\",\"x\":[0.659720180163578,-0.48229899595694803,0.5373007059525975,-0.7373191864504871,-0.2713614321259175,-1.0148788854458133,-1.6506618535197757,-0.6017055467580952,-2.02601587123514,-1.3807102617749039,1.7399382317527918,-0.09874877348992062,-0.8792180646493626,1.2072080438550892,0.3159919111568729,-0.1015296721567684,0.4140762003008372,-0.6679384015837599,-0.025480348783363194,1.1216031104528963,1.7338834217736316,2.0686026898673036,1.829012230047314,-0.14480019582680498,-1.0819289156745375,0.4370574296560661,-1.184075056937153,0.9401983152312045,0.8786622501219662,0.6223109307311763,0.7961583442526416,1.18881108784417,1.524784553972861,-0.14870906176062323,1.1027756352574738,-0.49567095059648475,0.2145742478184529,0.15863895021588398,-0.04680656455633057,0.25593922654731066,1.0545293724285103,0.1297834275250637,-0.3591106342649614,-0.28269664103315273,-0.9250220431155934,0.026124160430505243,0.7059241472672645,-1.5048176230279364,-0.7811212335563891,0.6600351095260198,1.0034561121134895,-0.09210647222601136,-1.2459254518418386,2.530019222084229,-0.6538234465769,1.184039297184767,1.906305150020457,-1.2631028687188486,0.09305052314923473,0.6018184880401937,0.6697487197869597,0.7650827084196883,-0.7762011115441019,0.9028366593960605,0.09349415461588395,-1.1114686313755264,0.9460537444267767,1.3758654613623988,-0.9374840851237152,1.394740244115055,-0.01093652733112355,0.27858466678647564,-0.4110749068039371,0.5028160769673242,0.3397450960046779,-0.6425741877849417,-1.8408827842624031,-0.5824980898400304,-0.38541793441184724,-1.286637074652041,-0.05045795267498061,-0.586066314722846,-1.3701758166092917,-0.7895782892796999,0.27178130726156885,-1.136531698284585,0.45154585239758016,0.8716622522777244,-0.20945319517410885,-0.06376929242251737,0.43499390795135273,1.2977522751245083,-1.0981836076015816,-0.7763264270235338,1.140037465457631,-0.49249600266665744,-1.1225633257293033,0.7855823642974321,0.4449325396305709,1.338966475816106],\"xaxis\":\"x14\",\"y\":[-1.5407101385873165,2.2350189816026877,-2.5296091387286146,-1.3406964354147048,0.7469359396070688,1.3204594331144752,0.7502229542329332,-0.8202597078777405,-1.124585586064663,-1.4189462849728556,-2.387182987455635,1.1639751805119178,-0.24915013621547472,-0.18598116239607645,1.0889099830652733,1.3105970403987126,0.1403319936872249,1.4057542022756464,-0.5603489188660344,1.3790739545637751,0.32799038986203666,-0.13731068069253702,0.3269549808631096,-0.27557383044476463,1.246132341717912,0.666583513866141,-0.7964542337965976,-0.01797760405488036,1.193777619869411,0.7875213141323713,0.8699406140382517,0.2552148575298687,0.6290599837360555,0.4896853885843202,0.4407983128765524,-0.02471269139903859,0.8476826198036227,1.118083553858438,0.7991197436806383,-0.48202834786195115,0.6426394676797172,1.0985779963823008,-0.4143744169064233,0.21384080939774647,0.10198382107133694,0.28820336875738867,0.3749150220519593,0.4559806297682848,0.6054664945717182,0.2081277443481054,-0.36821443223581374,1.5928874989105868,-0.35642450058245356,0.23867839838220622,-0.7962740928885006,1.3638862740579292,1.0333260200024355,1.0907066229078823,-0.20545170306848612,1.0503886821330373,0.9447368527245211,-1.0921844172647739,-0.4748574043391804,0.48158250570940736,-0.15752333713280076,1.1496699724275232,0.3856427000796223,-0.39626052766535075,-3.588592748924082e-05,0.33083026102500696,0.28371333317550784,-0.012444084240141666,-0.20044262234056112,1.8752376541320235,-0.8723124373701395,-1.0145800219442997,-0.3118308033387035,-0.2868715781532385,0.8195886692487346,-0.5761691492145123,0.9130136647866629,0.23737668905959847,0.7952455721990035,1.5851475909850774,-0.05022173896785526,0.5423471419904554,1.3594525704507507,1.5654454342340454,0.5028714381159953,-2.482547333925846,1.1799374335086863,-0.18410069959811573,0.13265646168646647,0.14056874951176104,-0.1316231315403834,-0.45813327330267084,-1.0327545584481983,-0.09184929865027391,0.9863631126172562,-0.15057351239305639],\"yaxis\":\"y14\",\"type\":\"scatter\"},{\"line\":{\"color\":\"rgba(128, 128, 128, 1.0)\",\"dash\":\"solid\",\"shape\":\"linear\",\"width\":1.3},\"marker\":{\"size\":2,\"symbol\":\"circle\"},\"mode\":\"markers\",\"name\":\"D\",\"text\":\"\",\"x\":[-0.48342482847419954,-0.28917137909810087,0.10472817839319638,-0.3117041719124086,0.5474986505420716,0.36040555464410134,-2.3941833929601106,-0.5920466628675929,0.7030199564649418,-0.27907376596335065,-0.40355295361878935,-1.5788948840363446,2.4773161397200583,0.436574519139334,0.32532809517603817,0.5635250230272021,0.8442814716824333,-0.6794166582502248,-0.7666025757091693,1.0072984701608787,-0.5501928147375748,0.6877773474069846,-0.6505757792280401,0.7379231933386672,-1.781948344245377,-1.256089937990564,-0.48474996255921626,1.2714481931284987,0.40064144579818367,-0.6304491582154946,1.7891619378979553,0.7843308506814917,-0.5139382969616856,0.9588190681916949,-0.05846925797888498,-1.1573433562365338,-2.1931431037655726,0.18472195654751794,0.6723347397736454,-0.3552960384282929,1.8505722081067433,0.2120629040052719,0.7353646399453968,-0.8841948964965184,-1.0914681312767118,0.9839252399187555,1.679714369615582,0.030315933386810812,-0.7116682832700304,0.5314662077704951,-0.8196753783769472,0.22710804888544445,-0.9688296726515074,1.1700779277889357,0.705361600598505,-1.383011201696221,-0.8484094360452913,-0.20475815261979963,1.815935538182838,-0.3086927022715515,-2.39535730486845,0.21006405816980087,-0.6759974560899125,0.6523377749104889,-1.1468348471581247,1.1989541511995008,-0.0033747646544850843,-0.5868219951635674,-1.221537985575564,0.9554348986002157,1.7344192214628262,-0.9445639487491292,-0.8848465814729276,-0.3160547948940683,-1.1015428967704668,-0.5926167603968916,0.6004763358338866,1.592089400159695,1.3932834146377278,1.1170691058410587,1.0131043636743011,-1.5614706230061903,-0.5570242602914186,-1.9886321013304038,0.513519282261964,-0.6549909017480732,-1.3603950533383276,0.22474702826582948,1.1040396618089656,0.5755613052091758,0.07479005522211514,0.0822834649530619,0.8863534288849454,1.250181751081411,-0.8480531875440711,-0.5199890221203346,-1.2443328418151858,0.23300977083142083,1.4323843251265294,-0.5572666813934601],\"xaxis\":\"x15\",\"y\":[-1.5407101385873165,2.2350189816026877,-2.5296091387286146,-1.3406964354147048,0.7469359396070688,1.3204594331144752,0.7502229542329332,-0.8202597078777405,-1.124585586064663,-1.4189462849728556,-2.387182987455635,1.1639751805119178,-0.24915013621547472,-0.18598116239607645,1.0889099830652733,1.3105970403987126,0.1403319936872249,1.4057542022756464,-0.5603489188660344,1.3790739545637751,0.32799038986203666,-0.13731068069253702,0.3269549808631096,-0.27557383044476463,1.246132341717912,0.666583513866141,-0.7964542337965976,-0.01797760405488036,1.193777619869411,0.7875213141323713,0.8699406140382517,0.2552148575298687,0.6290599837360555,0.4896853885843202,0.4407983128765524,-0.02471269139903859,0.8476826198036227,1.118083553858438,0.7991197436806383,-0.48202834786195115,0.6426394676797172,1.0985779963823008,-0.4143744169064233,0.21384080939774647,0.10198382107133694,0.28820336875738867,0.3749150220519593,0.4559806297682848,0.6054664945717182,0.2081277443481054,-0.36821443223581374,1.5928874989105868,-0.35642450058245356,0.23867839838220622,-0.7962740928885006,1.3638862740579292,1.0333260200024355,1.0907066229078823,-0.20545170306848612,1.0503886821330373,0.9447368527245211,-1.0921844172647739,-0.4748574043391804,0.48158250570940736,-0.15752333713280076,1.1496699724275232,0.3856427000796223,-0.39626052766535075,-3.588592748924082e-05,0.33083026102500696,0.28371333317550784,-0.012444084240141666,-0.20044262234056112,1.8752376541320235,-0.8723124373701395,-1.0145800219442997,-0.3118308033387035,-0.2868715781532385,0.8195886692487346,-0.5761691492145123,0.9130136647866629,0.23737668905959847,0.7952455721990035,1.5851475909850774,-0.05022173896785526,0.5423471419904554,1.3594525704507507,1.5654454342340454,0.5028714381159953,-2.482547333925846,1.1799374335086863,-0.18410069959811573,0.13265646168646647,0.14056874951176104,-0.1316231315403834,-0.45813327330267084,-1.0327545584481983,-0.09184929865027391,0.9863631126172562,-0.15057351239305639],\"yaxis\":\"y15\",\"type\":\"scatter\"},{\"histfunc\":\"count\",\"histnorm\":\"\",\"marker\":{\"color\":\"rgba(128, 0, 128, 1.0)\",\"line\":{\"color\":\"#4D5663\",\"width\":1.3}},\"name\":\"D\",\"nbinsx\":10,\"opacity\":0.8,\"orientation\":\"v\",\"x\":[-1.5407101385873165,2.2350189816026877,-2.5296091387286146,-1.3406964354147048,0.7469359396070688,1.3204594331144752,0.7502229542329332,-0.8202597078777405,-1.124585586064663,-1.4189462849728556,-2.387182987455635,1.1639751805119178,-0.24915013621547472,-0.18598116239607645,1.0889099830652733,1.3105970403987126,0.1403319936872249,1.4057542022756464,-0.5603489188660344,1.3790739545637751,0.32799038986203666,-0.13731068069253702,0.3269549808631096,-0.27557383044476463,1.246132341717912,0.666583513866141,-0.7964542337965976,-0.01797760405488036,1.193777619869411,0.7875213141323713,0.8699406140382517,0.2552148575298687,0.6290599837360555,0.4896853885843202,0.4407983128765524,-0.02471269139903859,0.8476826198036227,1.118083553858438,0.7991197436806383,-0.48202834786195115,0.6426394676797172,1.0985779963823008,-0.4143744169064233,0.21384080939774647,0.10198382107133694,0.28820336875738867,0.3749150220519593,0.4559806297682848,0.6054664945717182,0.2081277443481054,-0.36821443223581374,1.5928874989105868,-0.35642450058245356,0.23867839838220622,-0.7962740928885006,1.3638862740579292,1.0333260200024355,1.0907066229078823,-0.20545170306848612,1.0503886821330373,0.9447368527245211,-1.0921844172647739,-0.4748574043391804,0.48158250570940736,-0.15752333713280076,1.1496699724275232,0.3856427000796223,-0.39626052766535075,-3.588592748924082e-05,0.33083026102500696,0.28371333317550784,-0.012444084240141666,-0.20044262234056112,1.8752376541320235,-0.8723124373701395,-1.0145800219442997,-0.3118308033387035,-0.2868715781532385,0.8195886692487346,-0.5761691492145123,0.9130136647866629,0.23737668905959847,0.7952455721990035,1.5851475909850774,-0.05022173896785526,0.5423471419904554,1.3594525704507507,1.5654454342340454,0.5028714381159953,-2.482547333925846,1.1799374335086863,-0.18410069959811573,0.13265646168646647,0.14056874951176104,-0.1316231315403834,-0.45813327330267084,-1.0327545584481983,-0.09184929865027391,0.9863631126172562,-0.15057351239305639],\"xaxis\":\"x16\",\"yaxis\":\"y16\",\"type\":\"histogram\"}],                        {\"bargap\":0.02,\"legend\":{\"bgcolor\":\"#F5F6F9\",\"font\":{\"color\":\"#4D5663\"}},\"paper_bgcolor\":\"#F5F6F9\",\"plot_bgcolor\":\"#F5F6F9\",\"showlegend\":false,\"template\":{\"data\":{\"barpolar\":[{\"marker\":{\"line\":{\"color\":\"#E5ECF6\",\"width\":0.5},\"pattern\":{\"fillmode\":\"overlay\",\"size\":10,\"solidity\":0.2}},\"type\":\"barpolar\"}],\"bar\":[{\"error_x\":{\"color\":\"#2a3f5f\"},\"error_y\":{\"color\":\"#2a3f5f\"},\"marker\":{\"line\":{\"color\":\"#E5ECF6\",\"width\":0.5},\"pattern\":{\"fillmode\":\"overlay\",\"size\":10,\"solidity\":0.2}},\"type\":\"bar\"}],\"carpet\":[{\"aaxis\":{\"endlinecolor\":\"#2a3f5f\",\"gridcolor\":\"white\",\"linecolor\":\"white\",\"minorgridcolor\":\"white\",\"startlinecolor\":\"#2a3f5f\"},\"baxis\":{\"endlinecolor\":\"#2a3f5f\",\"gridcolor\":\"white\",\"linecolor\":\"white\",\"minorgridcolor\":\"white\",\"startlinecolor\":\"#2a3f5f\"},\"type\":\"carpet\"}],\"choropleth\":[{\"colorbar\":{\"outlinewidth\":0,\"ticks\":\"\"},\"type\":\"choropleth\"}],\"contourcarpet\":[{\"colorbar\":{\"outlinewidth\":0,\"ticks\":\"\"},\"type\":\"contourcarpet\"}],\"contour\":[{\"colorbar\":{\"outlinewidth\":0,\"ticks\":\"\"},\"colorscale\":[[0.0,\"#0d0887\"],[0.1111111111111111,\"#46039f\"],[0.2222222222222222,\"#7201a8\"],[0.3333333333333333,\"#9c179e\"],[0.4444444444444444,\"#bd3786\"],[0.5555555555555556,\"#d8576b\"],[0.6666666666666666,\"#ed7953\"],[0.7777777777777778,\"#fb9f3a\"],[0.8888888888888888,\"#fdca26\"],[1.0,\"#f0f921\"]],\"type\":\"contour\"}],\"heatmapgl\":[{\"colorbar\":{\"outlinewidth\":0,\"ticks\":\"\"},\"colorscale\":[[0.0,\"#0d0887\"],[0.1111111111111111,\"#46039f\"],[0.2222222222222222,\"#7201a8\"],[0.3333333333333333,\"#9c179e\"],[0.4444444444444444,\"#bd3786\"],[0.5555555555555556,\"#d8576b\"],[0.6666666666666666,\"#ed7953\"],[0.7777777777777778,\"#fb9f3a\"],[0.8888888888888888,\"#fdca26\"],[1.0,\"#f0f921\"]],\"type\":\"heatmapgl\"}],\"heatmap\":[{\"colorbar\":{\"outlinewidth\":0,\"ticks\":\"\"},\"colorscale\":[[0.0,\"#0d0887\"],[0.1111111111111111,\"#46039f\"],[0.2222222222222222,\"#7201a8\"],[0.3333333333333333,\"#9c179e\"],[0.4444444444444444,\"#bd3786\"],[0.5555555555555556,\"#d8576b\"],[0.6666666666666666,\"#ed7953\"],[0.7777777777777778,\"#fb9f3a\"],[0.8888888888888888,\"#fdca26\"],[1.0,\"#f0f921\"]],\"type\":\"heatmap\"}],\"histogram2dcontour\":[{\"colorbar\":{\"outlinewidth\":0,\"ticks\":\"\"},\"colorscale\":[[0.0,\"#0d0887\"],[0.1111111111111111,\"#46039f\"],[0.2222222222222222,\"#7201a8\"],[0.3333333333333333,\"#9c179e\"],[0.4444444444444444,\"#bd3786\"],[0.5555555555555556,\"#d8576b\"],[0.6666666666666666,\"#ed7953\"],[0.7777777777777778,\"#fb9f3a\"],[0.8888888888888888,\"#fdca26\"],[1.0,\"#f0f921\"]],\"type\":\"histogram2dcontour\"}],\"histogram2d\":[{\"colorbar\":{\"outlinewidth\":0,\"ticks\":\"\"},\"colorscale\":[[0.0,\"#0d0887\"],[0.1111111111111111,\"#46039f\"],[0.2222222222222222,\"#7201a8\"],[0.3333333333333333,\"#9c179e\"],[0.4444444444444444,\"#bd3786\"],[0.5555555555555556,\"#d8576b\"],[0.6666666666666666,\"#ed7953\"],[0.7777777777777778,\"#fb9f3a\"],[0.8888888888888888,\"#fdca26\"],[1.0,\"#f0f921\"]],\"type\":\"histogram2d\"}],\"histogram\":[{\"marker\":{\"pattern\":{\"fillmode\":\"overlay\",\"size\":10,\"solidity\":0.2}},\"type\":\"histogram\"}],\"mesh3d\":[{\"colorbar\":{\"outlinewidth\":0,\"ticks\":\"\"},\"type\":\"mesh3d\"}],\"parcoords\":[{\"line\":{\"colorbar\":{\"outlinewidth\":0,\"ticks\":\"\"}},\"type\":\"parcoords\"}],\"pie\":[{\"automargin\":true,\"type\":\"pie\"}],\"scatter3d\":[{\"line\":{\"colorbar\":{\"outlinewidth\":0,\"ticks\":\"\"}},\"marker\":{\"colorbar\":{\"outlinewidth\":0,\"ticks\":\"\"}},\"type\":\"scatter3d\"}],\"scattercarpet\":[{\"marker\":{\"colorbar\":{\"outlinewidth\":0,\"ticks\":\"\"}},\"type\":\"scattercarpet\"}],\"scattergeo\":[{\"marker\":{\"colorbar\":{\"outlinewidth\":0,\"ticks\":\"\"}},\"type\":\"scattergeo\"}],\"scattergl\":[{\"marker\":{\"colorbar\":{\"outlinewidth\":0,\"ticks\":\"\"}},\"type\":\"scattergl\"}],\"scattermapbox\":[{\"marker\":{\"colorbar\":{\"outlinewidth\":0,\"ticks\":\"\"}},\"type\":\"scattermapbox\"}],\"scatterpolargl\":[{\"marker\":{\"colorbar\":{\"outlinewidth\":0,\"ticks\":\"\"}},\"type\":\"scatterpolargl\"}],\"scatterpolar\":[{\"marker\":{\"colorbar\":{\"outlinewidth\":0,\"ticks\":\"\"}},\"type\":\"scatterpolar\"}],\"scatter\":[{\"fillpattern\":{\"fillmode\":\"overlay\",\"size\":10,\"solidity\":0.2},\"type\":\"scatter\"}],\"scatterternary\":[{\"marker\":{\"colorbar\":{\"outlinewidth\":0,\"ticks\":\"\"}},\"type\":\"scatterternary\"}],\"surface\":[{\"colorbar\":{\"outlinewidth\":0,\"ticks\":\"\"},\"colorscale\":[[0.0,\"#0d0887\"],[0.1111111111111111,\"#46039f\"],[0.2222222222222222,\"#7201a8\"],[0.3333333333333333,\"#9c179e\"],[0.4444444444444444,\"#bd3786\"],[0.5555555555555556,\"#d8576b\"],[0.6666666666666666,\"#ed7953\"],[0.7777777777777778,\"#fb9f3a\"],[0.8888888888888888,\"#fdca26\"],[1.0,\"#f0f921\"]],\"type\":\"surface\"}],\"table\":[{\"cells\":{\"fill\":{\"color\":\"#EBF0F8\"},\"line\":{\"color\":\"white\"}},\"header\":{\"fill\":{\"color\":\"#C8D4E3\"},\"line\":{\"color\":\"white\"}},\"type\":\"table\"}]},\"layout\":{\"annotationdefaults\":{\"arrowcolor\":\"#2a3f5f\",\"arrowhead\":0,\"arrowwidth\":1},\"autotypenumbers\":\"strict\",\"coloraxis\":{\"colorbar\":{\"outlinewidth\":0,\"ticks\":\"\"}},\"colorscale\":{\"diverging\":[[0,\"#8e0152\"],[0.1,\"#c51b7d\"],[0.2,\"#de77ae\"],[0.3,\"#f1b6da\"],[0.4,\"#fde0ef\"],[0.5,\"#f7f7f7\"],[0.6,\"#e6f5d0\"],[0.7,\"#b8e186\"],[0.8,\"#7fbc41\"],[0.9,\"#4d9221\"],[1,\"#276419\"]],\"sequential\":[[0.0,\"#0d0887\"],[0.1111111111111111,\"#46039f\"],[0.2222222222222222,\"#7201a8\"],[0.3333333333333333,\"#9c179e\"],[0.4444444444444444,\"#bd3786\"],[0.5555555555555556,\"#d8576b\"],[0.6666666666666666,\"#ed7953\"],[0.7777777777777778,\"#fb9f3a\"],[0.8888888888888888,\"#fdca26\"],[1.0,\"#f0f921\"]],\"sequentialminus\":[[0.0,\"#0d0887\"],[0.1111111111111111,\"#46039f\"],[0.2222222222222222,\"#7201a8\"],[0.3333333333333333,\"#9c179e\"],[0.4444444444444444,\"#bd3786\"],[0.5555555555555556,\"#d8576b\"],[0.6666666666666666,\"#ed7953\"],[0.7777777777777778,\"#fb9f3a\"],[0.8888888888888888,\"#fdca26\"],[1.0,\"#f0f921\"]]},\"colorway\":[\"#636efa\",\"#EF553B\",\"#00cc96\",\"#ab63fa\",\"#FFA15A\",\"#19d3f3\",\"#FF6692\",\"#B6E880\",\"#FF97FF\",\"#FECB52\"],\"font\":{\"color\":\"#2a3f5f\"},\"geo\":{\"bgcolor\":\"white\",\"lakecolor\":\"white\",\"landcolor\":\"#E5ECF6\",\"showlakes\":true,\"showland\":true,\"subunitcolor\":\"white\"},\"hoverlabel\":{\"align\":\"left\"},\"hovermode\":\"closest\",\"mapbox\":{\"style\":\"light\"},\"paper_bgcolor\":\"white\",\"plot_bgcolor\":\"#E5ECF6\",\"polar\":{\"angularaxis\":{\"gridcolor\":\"white\",\"linecolor\":\"white\",\"ticks\":\"\"},\"bgcolor\":\"#E5ECF6\",\"radialaxis\":{\"gridcolor\":\"white\",\"linecolor\":\"white\",\"ticks\":\"\"}},\"scene\":{\"xaxis\":{\"backgroundcolor\":\"#E5ECF6\",\"gridcolor\":\"white\",\"gridwidth\":2,\"linecolor\":\"white\",\"showbackground\":true,\"ticks\":\"\",\"zerolinecolor\":\"white\"},\"yaxis\":{\"backgroundcolor\":\"#E5ECF6\",\"gridcolor\":\"white\",\"gridwidth\":2,\"linecolor\":\"white\",\"showbackground\":true,\"ticks\":\"\",\"zerolinecolor\":\"white\"},\"zaxis\":{\"backgroundcolor\":\"#E5ECF6\",\"gridcolor\":\"white\",\"gridwidth\":2,\"linecolor\":\"white\",\"showbackground\":true,\"ticks\":\"\",\"zerolinecolor\":\"white\"}},\"shapedefaults\":{\"line\":{\"color\":\"#2a3f5f\"}},\"ternary\":{\"aaxis\":{\"gridcolor\":\"white\",\"linecolor\":\"white\",\"ticks\":\"\"},\"baxis\":{\"gridcolor\":\"white\",\"linecolor\":\"white\",\"ticks\":\"\"},\"bgcolor\":\"#E5ECF6\",\"caxis\":{\"gridcolor\":\"white\",\"linecolor\":\"white\",\"ticks\":\"\"}},\"title\":{\"x\":0.05},\"xaxis\":{\"automargin\":true,\"gridcolor\":\"white\",\"linecolor\":\"white\",\"ticks\":\"\",\"title\":{\"standoff\":15},\"zerolinecolor\":\"white\",\"zerolinewidth\":2},\"yaxis\":{\"automargin\":true,\"gridcolor\":\"white\",\"linecolor\":\"white\",\"ticks\":\"\",\"title\":{\"standoff\":15},\"zerolinecolor\":\"white\",\"zerolinewidth\":2}}},\"title\":{\"font\":{\"color\":\"#4D5663\"}},\"xaxis\":{\"anchor\":\"y\",\"domain\":[0.0,0.2125],\"gridcolor\":\"#E1E5ED\",\"showgrid\":false,\"tickfont\":{\"color\":\"#4D5663\"},\"title\":{\"font\":{\"color\":\"#4D5663\"},\"text\":\"\"},\"zerolinecolor\":\"#E1E5ED\"},\"yaxis\":{\"anchor\":\"x\",\"domain\":[0.8025,1.0],\"gridcolor\":\"#E1E5ED\",\"showgrid\":false,\"tickfont\":{\"color\":\"#4D5663\"},\"title\":{\"font\":{\"color\":\"#4D5663\"},\"text\":\"\"},\"zerolinecolor\":\"#E1E5ED\"},\"xaxis2\":{\"anchor\":\"y2\",\"domain\":[0.2625,0.475],\"gridcolor\":\"#E1E5ED\",\"showgrid\":false,\"tickfont\":{\"color\":\"#4D5663\"},\"title\":{\"font\":{\"color\":\"#4D5663\"},\"text\":\"\"},\"zerolinecolor\":\"#E1E5ED\"},\"yaxis2\":{\"anchor\":\"x2\",\"domain\":[0.8025,1.0],\"gridcolor\":\"#E1E5ED\",\"showgrid\":false,\"tickfont\":{\"color\":\"#4D5663\"},\"title\":{\"font\":{\"color\":\"#4D5663\"},\"text\":\"\"},\"zerolinecolor\":\"#E1E5ED\"},\"xaxis3\":{\"anchor\":\"y3\",\"domain\":[0.525,0.7375],\"gridcolor\":\"#E1E5ED\",\"showgrid\":false,\"tickfont\":{\"color\":\"#4D5663\"},\"title\":{\"font\":{\"color\":\"#4D5663\"},\"text\":\"\"},\"zerolinecolor\":\"#E1E5ED\"},\"yaxis3\":{\"anchor\":\"x3\",\"domain\":[0.8025,1.0],\"gridcolor\":\"#E1E5ED\",\"showgrid\":false,\"tickfont\":{\"color\":\"#4D5663\"},\"title\":{\"font\":{\"color\":\"#4D5663\"},\"text\":\"\"},\"zerolinecolor\":\"#E1E5ED\"},\"xaxis4\":{\"anchor\":\"y4\",\"domain\":[0.7875,1.0],\"gridcolor\":\"#E1E5ED\",\"showgrid\":false,\"tickfont\":{\"color\":\"#4D5663\"},\"title\":{\"font\":{\"color\":\"#4D5663\"},\"text\":\"\"},\"zerolinecolor\":\"#E1E5ED\"},\"yaxis4\":{\"anchor\":\"x4\",\"domain\":[0.8025,1.0],\"gridcolor\":\"#E1E5ED\",\"showgrid\":false,\"tickfont\":{\"color\":\"#4D5663\"},\"title\":{\"font\":{\"color\":\"#4D5663\"},\"text\":\"\"},\"zerolinecolor\":\"#E1E5ED\"},\"xaxis5\":{\"anchor\":\"y5\",\"domain\":[0.0,0.2125],\"gridcolor\":\"#E1E5ED\",\"showgrid\":false,\"tickfont\":{\"color\":\"#4D5663\"},\"title\":{\"font\":{\"color\":\"#4D5663\"},\"text\":\"\"},\"zerolinecolor\":\"#E1E5ED\"},\"yaxis5\":{\"anchor\":\"x5\",\"domain\":[0.535,0.7325],\"gridcolor\":\"#E1E5ED\",\"showgrid\":false,\"tickfont\":{\"color\":\"#4D5663\"},\"title\":{\"font\":{\"color\":\"#4D5663\"},\"text\":\"\"},\"zerolinecolor\":\"#E1E5ED\"},\"xaxis6\":{\"anchor\":\"y6\",\"domain\":[0.2625,0.475],\"gridcolor\":\"#E1E5ED\",\"showgrid\":false,\"tickfont\":{\"color\":\"#4D5663\"},\"title\":{\"font\":{\"color\":\"#4D5663\"},\"text\":\"\"},\"zerolinecolor\":\"#E1E5ED\"},\"yaxis6\":{\"anchor\":\"x6\",\"domain\":[0.535,0.7325],\"gridcolor\":\"#E1E5ED\",\"showgrid\":false,\"tickfont\":{\"color\":\"#4D5663\"},\"title\":{\"font\":{\"color\":\"#4D5663\"},\"text\":\"\"},\"zerolinecolor\":\"#E1E5ED\"},\"xaxis7\":{\"anchor\":\"y7\",\"domain\":[0.525,0.7375],\"gridcolor\":\"#E1E5ED\",\"showgrid\":false,\"tickfont\":{\"color\":\"#4D5663\"},\"title\":{\"font\":{\"color\":\"#4D5663\"},\"text\":\"\"},\"zerolinecolor\":\"#E1E5ED\"},\"yaxis7\":{\"anchor\":\"x7\",\"domain\":[0.535,0.7325],\"gridcolor\":\"#E1E5ED\",\"showgrid\":false,\"tickfont\":{\"color\":\"#4D5663\"},\"title\":{\"font\":{\"color\":\"#4D5663\"},\"text\":\"\"},\"zerolinecolor\":\"#E1E5ED\"},\"xaxis8\":{\"anchor\":\"y8\",\"domain\":[0.7875,1.0],\"gridcolor\":\"#E1E5ED\",\"showgrid\":false,\"tickfont\":{\"color\":\"#4D5663\"},\"title\":{\"font\":{\"color\":\"#4D5663\"},\"text\":\"\"},\"zerolinecolor\":\"#E1E5ED\"},\"yaxis8\":{\"anchor\":\"x8\",\"domain\":[0.535,0.7325],\"gridcolor\":\"#E1E5ED\",\"showgrid\":false,\"tickfont\":{\"color\":\"#4D5663\"},\"title\":{\"font\":{\"color\":\"#4D5663\"},\"text\":\"\"},\"zerolinecolor\":\"#E1E5ED\"},\"xaxis9\":{\"anchor\":\"y9\",\"domain\":[0.0,0.2125],\"gridcolor\":\"#E1E5ED\",\"showgrid\":false,\"tickfont\":{\"color\":\"#4D5663\"},\"title\":{\"font\":{\"color\":\"#4D5663\"},\"text\":\"\"},\"zerolinecolor\":\"#E1E5ED\"},\"yaxis9\":{\"anchor\":\"x9\",\"domain\":[0.2675,0.465],\"gridcolor\":\"#E1E5ED\",\"showgrid\":false,\"tickfont\":{\"color\":\"#4D5663\"},\"title\":{\"font\":{\"color\":\"#4D5663\"},\"text\":\"\"},\"zerolinecolor\":\"#E1E5ED\"},\"xaxis10\":{\"anchor\":\"y10\",\"domain\":[0.2625,0.475],\"gridcolor\":\"#E1E5ED\",\"showgrid\":false,\"tickfont\":{\"color\":\"#4D5663\"},\"title\":{\"font\":{\"color\":\"#4D5663\"},\"text\":\"\"},\"zerolinecolor\":\"#E1E5ED\"},\"yaxis10\":{\"anchor\":\"x10\",\"domain\":[0.2675,0.465],\"gridcolor\":\"#E1E5ED\",\"showgrid\":false,\"tickfont\":{\"color\":\"#4D5663\"},\"title\":{\"font\":{\"color\":\"#4D5663\"},\"text\":\"\"},\"zerolinecolor\":\"#E1E5ED\"},\"xaxis11\":{\"anchor\":\"y11\",\"domain\":[0.525,0.7375],\"gridcolor\":\"#E1E5ED\",\"showgrid\":false,\"tickfont\":{\"color\":\"#4D5663\"},\"title\":{\"font\":{\"color\":\"#4D5663\"},\"text\":\"\"},\"zerolinecolor\":\"#E1E5ED\"},\"yaxis11\":{\"anchor\":\"x11\",\"domain\":[0.2675,0.465],\"gridcolor\":\"#E1E5ED\",\"showgrid\":false,\"tickfont\":{\"color\":\"#4D5663\"},\"title\":{\"font\":{\"color\":\"#4D5663\"},\"text\":\"\"},\"zerolinecolor\":\"#E1E5ED\"},\"xaxis12\":{\"anchor\":\"y12\",\"domain\":[0.7875,1.0],\"gridcolor\":\"#E1E5ED\",\"showgrid\":false,\"tickfont\":{\"color\":\"#4D5663\"},\"title\":{\"font\":{\"color\":\"#4D5663\"},\"text\":\"\"},\"zerolinecolor\":\"#E1E5ED\"},\"yaxis12\":{\"anchor\":\"x12\",\"domain\":[0.2675,0.465],\"gridcolor\":\"#E1E5ED\",\"showgrid\":false,\"tickfont\":{\"color\":\"#4D5663\"},\"title\":{\"font\":{\"color\":\"#4D5663\"},\"text\":\"\"},\"zerolinecolor\":\"#E1E5ED\"},\"xaxis13\":{\"anchor\":\"y13\",\"domain\":[0.0,0.2125],\"gridcolor\":\"#E1E5ED\",\"showgrid\":false,\"tickfont\":{\"color\":\"#4D5663\"},\"title\":{\"font\":{\"color\":\"#4D5663\"},\"text\":\"\"},\"zerolinecolor\":\"#E1E5ED\"},\"yaxis13\":{\"anchor\":\"x13\",\"domain\":[0.0,0.1975],\"gridcolor\":\"#E1E5ED\",\"showgrid\":false,\"tickfont\":{\"color\":\"#4D5663\"},\"title\":{\"font\":{\"color\":\"#4D5663\"},\"text\":\"\"},\"zerolinecolor\":\"#E1E5ED\"},\"xaxis14\":{\"anchor\":\"y14\",\"domain\":[0.2625,0.475],\"gridcolor\":\"#E1E5ED\",\"showgrid\":false,\"tickfont\":{\"color\":\"#4D5663\"},\"title\":{\"font\":{\"color\":\"#4D5663\"},\"text\":\"\"},\"zerolinecolor\":\"#E1E5ED\"},\"yaxis14\":{\"anchor\":\"x14\",\"domain\":[0.0,0.1975],\"gridcolor\":\"#E1E5ED\",\"showgrid\":false,\"tickfont\":{\"color\":\"#4D5663\"},\"title\":{\"font\":{\"color\":\"#4D5663\"},\"text\":\"\"},\"zerolinecolor\":\"#E1E5ED\"},\"xaxis15\":{\"anchor\":\"y15\",\"domain\":[0.525,0.7375],\"gridcolor\":\"#E1E5ED\",\"showgrid\":false,\"tickfont\":{\"color\":\"#4D5663\"},\"title\":{\"font\":{\"color\":\"#4D5663\"},\"text\":\"\"},\"zerolinecolor\":\"#E1E5ED\"},\"yaxis15\":{\"anchor\":\"x15\",\"domain\":[0.0,0.1975],\"gridcolor\":\"#E1E5ED\",\"showgrid\":false,\"tickfont\":{\"color\":\"#4D5663\"},\"title\":{\"font\":{\"color\":\"#4D5663\"},\"text\":\"\"},\"zerolinecolor\":\"#E1E5ED\"},\"xaxis16\":{\"anchor\":\"y16\",\"domain\":[0.7875,1.0],\"gridcolor\":\"#E1E5ED\",\"showgrid\":false,\"tickfont\":{\"color\":\"#4D5663\"},\"title\":{\"font\":{\"color\":\"#4D5663\"},\"text\":\"\"},\"zerolinecolor\":\"#E1E5ED\"},\"yaxis16\":{\"anchor\":\"x16\",\"domain\":[0.0,0.1975],\"gridcolor\":\"#E1E5ED\",\"showgrid\":false,\"tickfont\":{\"color\":\"#4D5663\"},\"title\":{\"font\":{\"color\":\"#4D5663\"},\"text\":\"\"},\"zerolinecolor\":\"#E1E5ED\"}},                        {\"showLink\": true, \"linkText\": \"Export to plot.ly\", \"plotlyServerURL\": \"https://plot.ly\", \"responsive\": true}                    ).then(function(){\n",
       "                            \n",
       "var gd = document.getElementById('7b99c650-d49d-40dd-b57f-02b941ded5af');\n",
       "var x = new MutationObserver(function (mutations, observer) {{\n",
       "        var display = window.getComputedStyle(gd).display;\n",
       "        if (!display || display === 'none') {{\n",
       "            console.log([gd, 'removed!']);\n",
       "            Plotly.purge(gd);\n",
       "            observer.disconnect();\n",
       "        }}\n",
       "}});\n",
       "\n",
       "// Listen for the removal of the full notebook cells\n",
       "var notebookContainer = gd.closest('#notebook-container');\n",
       "if (notebookContainer) {{\n",
       "    x.observe(notebookContainer, {childList: true});\n",
       "}}\n",
       "\n",
       "// Listen for the clearing of the current output cell\n",
       "var outputEl = gd.closest('.output');\n",
       "if (outputEl) {{\n",
       "    x.observe(outputEl, {childList: true});\n",
       "}}\n",
       "\n",
       "                        })                };                });            </script>        </div>"
      ]
     },
     "metadata": {},
     "output_type": "display_data"
    }
   ],
   "source": [
    "df.scatter_matrix()"
   ]
  },
  {
   "cell_type": "markdown",
   "metadata": {
    "collapsed": true,
    "jupyter": {
     "outputs_hidden": true
    }
   },
   "source": [
    "# Great Job!"
   ]
  }
 ],
 "metadata": {
  "kernelspec": {
   "display_name": "Python 3 (ipykernel)",
   "language": "python",
   "name": "python3"
  },
  "language_info": {
   "codemirror_mode": {
    "name": "ipython",
    "version": 3
   },
   "file_extension": ".py",
   "mimetype": "text/x-python",
   "name": "python",
   "nbconvert_exporter": "python",
   "pygments_lexer": "ipython3",
   "version": "3.11.7"
  }
 },
 "nbformat": 4,
 "nbformat_minor": 4
}
